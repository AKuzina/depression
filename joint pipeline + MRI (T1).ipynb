{
 "cells": [
  {
   "cell_type": "code",
   "execution_count": 1,
   "metadata": {},
   "outputs": [
    {
     "name": "stdout",
     "output_type": "stream",
     "text": [
      "Populating the interactive namespace from numpy and matplotlib\n"
     ]
    }
   ],
   "source": [
    "import numpy as np\n",
    "import pandas as pd\n",
    "from tqdm import tqdm\n",
    "import time\n",
    "%pylab inline"
   ]
  },
  {
   "cell_type": "code",
   "execution_count": 2,
   "metadata": {
    "collapsed": true
   },
   "outputs": [],
   "source": [
    "from sklearn.model_selection import RepeatedStratifiedKFold, StratifiedKFold, StratifiedShuffleSplit, cross_val_score, cross_val_predict, GridSearchCV\n",
    "from sklearn.feature_selection import SelectFromModel, VarianceThreshold, SelectKBest, f_classif, chi2\n",
    "from sklearn.ensemble import RandomForestClassifier, ExtraTreesClassifier\n",
    "from sklearn.linear_model import LogisticRegression\n",
    "from sklearn.svm import SVC\n",
    "from sklearn.neighbors import KNeighborsClassifier\n",
    "from sklearn.metrics import accuracy_score, precision_score, recall_score\n",
    "from sklearn.preprocessing import Imputer, StandardScaler\n",
    "from sklearn.decomposition import PCA\n",
    "from sklearn.manifold import LocallyLinearEmbedding\n",
    "from sklearn.pipeline import Pipeline\n",
    "from scipy import stats\n",
    "from sklearn.externals import joblib"
   ]
  },
  {
   "cell_type": "markdown",
   "metadata": {},
   "source": [
    "### Загрузка данных"
   ]
  },
  {
   "cell_type": "code",
   "execution_count": 3,
   "metadata": {
    "collapsed": true
   },
   "outputs": [],
   "source": [
    "mri_data = pd.read_csv(\"T1 morphometry merged 27.02.2018.csv\", index_col=0)\n",
    "\n",
    "labels = pd.read_csv(\"targets 27.02.2018.csv\", sep=\";\")\n",
    "\n",
    "idx_to_label = [\"C\", \"D\", \"E\", \"DE\", \"NE\", \"ND\", \"TLE\", \"Positive\", \"Negative\"]\n",
    "label_to_idx = {l : i for i, l in enumerate(idx_to_label)}\n",
    "\n",
    "for col in labels.columns[1:]:\n",
    "    labels[col] = labels[col].apply(lambda x: label_to_idx[x] if x in label_to_idx else np.nan)\n",
    "    \n",
    "EC_idx = labels[\"E/C\"].notnull()\n",
    "TLE_idx = labels[\"TLE/no E\"].notnull()\n",
    "TLEC_idx = labels[\"TLE/C\"].notnull()\n",
    "DC_idx = labels[\"D/C\"].notnull()\n",
    "DEE_idx = labels[\"DE/E\"].notnull()\n",
    "PN_idx = labels[\"MRI Positive vs Negative \"].notnull()"
   ]
  },
  {
   "cell_type": "code",
   "execution_count": 4,
   "metadata": {},
   "outputs": [
    {
     "data": {
      "text/html": [
       "<div>\n",
       "<style>\n",
       "    .dataframe thead tr:only-child th {\n",
       "        text-align: right;\n",
       "    }\n",
       "\n",
       "    .dataframe thead th {\n",
       "        text-align: left;\n",
       "    }\n",
       "\n",
       "    .dataframe tbody tr th {\n",
       "        vertical-align: top;\n",
       "    }\n",
       "</style>\n",
       "<table border=\"1\" class=\"dataframe\">\n",
       "  <thead>\n",
       "    <tr style=\"text-align: right;\">\n",
       "      <th></th>\n",
       "      <th>bankssts_NumVert_r</th>\n",
       "      <th>caudalanteriorcingulate_NumVert_r</th>\n",
       "      <th>caudalmiddlefrontal_NumVert_r</th>\n",
       "      <th>cuneus_NumVert_r</th>\n",
       "      <th>entorhinal_NumVert_r</th>\n",
       "      <th>fusiform_NumVert_r</th>\n",
       "      <th>inferiorparietal_NumVert_r</th>\n",
       "      <th>inferiortemporal_NumVert_r</th>\n",
       "      <th>isthmuscingulate_NumVert_r</th>\n",
       "      <th>lateraloccipital_NumVert_r</th>\n",
       "      <th>...</th>\n",
       "      <th>Right-vessel_normRange</th>\n",
       "      <th>Right-choroid-plexus_normRange</th>\n",
       "      <th>5th-Ventricle_normRange</th>\n",
       "      <th>WM-hypointensities_normRange</th>\n",
       "      <th>non-WM-hypointensities_normRange</th>\n",
       "      <th>Optic-Chiasm_normRange</th>\n",
       "      <th>CC_Posterior_normRange</th>\n",
       "      <th>CC_Mid_Posterior_normRange</th>\n",
       "      <th>CC_Central_normRange</th>\n",
       "      <th>CC_Mid_Anterior_normRange</th>\n",
       "    </tr>\n",
       "  </thead>\n",
       "  <tbody>\n",
       "    <tr>\n",
       "      <th>0</th>\n",
       "      <td>1247</td>\n",
       "      <td>986</td>\n",
       "      <td>3896</td>\n",
       "      <td>2867</td>\n",
       "      <td>828</td>\n",
       "      <td>4919</td>\n",
       "      <td>9874</td>\n",
       "      <td>5581</td>\n",
       "      <td>1394</td>\n",
       "      <td>9770</td>\n",
       "      <td>...</td>\n",
       "      <td>0.0</td>\n",
       "      <td>67.0</td>\n",
       "      <td>0.0</td>\n",
       "      <td>88.0</td>\n",
       "      <td>0.0</td>\n",
       "      <td>86.0</td>\n",
       "      <td>79.0</td>\n",
       "      <td>105.0</td>\n",
       "      <td>77.0</td>\n",
       "      <td>73.0</td>\n",
       "    </tr>\n",
       "    <tr>\n",
       "      <th>1</th>\n",
       "      <td>1387</td>\n",
       "      <td>1814</td>\n",
       "      <td>4320</td>\n",
       "      <td>2712</td>\n",
       "      <td>563</td>\n",
       "      <td>6257</td>\n",
       "      <td>11170</td>\n",
       "      <td>7654</td>\n",
       "      <td>1768</td>\n",
       "      <td>10924</td>\n",
       "      <td>...</td>\n",
       "      <td>30.0</td>\n",
       "      <td>63.0</td>\n",
       "      <td>0.0</td>\n",
       "      <td>82.0</td>\n",
       "      <td>0.0</td>\n",
       "      <td>94.0</td>\n",
       "      <td>78.0</td>\n",
       "      <td>108.0</td>\n",
       "      <td>97.0</td>\n",
       "      <td>90.0</td>\n",
       "    </tr>\n",
       "    <tr>\n",
       "      <th>2</th>\n",
       "      <td>1368</td>\n",
       "      <td>936</td>\n",
       "      <td>5289</td>\n",
       "      <td>2636</td>\n",
       "      <td>382</td>\n",
       "      <td>4608</td>\n",
       "      <td>7697</td>\n",
       "      <td>6417</td>\n",
       "      <td>1703</td>\n",
       "      <td>10003</td>\n",
       "      <td>...</td>\n",
       "      <td>36.0</td>\n",
       "      <td>68.0</td>\n",
       "      <td>0.0</td>\n",
       "      <td>120.0</td>\n",
       "      <td>0.0</td>\n",
       "      <td>83.0</td>\n",
       "      <td>94.0</td>\n",
       "      <td>95.0</td>\n",
       "      <td>97.0</td>\n",
       "      <td>81.0</td>\n",
       "    </tr>\n",
       "    <tr>\n",
       "      <th>3</th>\n",
       "      <td>1924</td>\n",
       "      <td>1149</td>\n",
       "      <td>2857</td>\n",
       "      <td>2739</td>\n",
       "      <td>655</td>\n",
       "      <td>4329</td>\n",
       "      <td>8762</td>\n",
       "      <td>5285</td>\n",
       "      <td>1535</td>\n",
       "      <td>9430</td>\n",
       "      <td>...</td>\n",
       "      <td>17.0</td>\n",
       "      <td>69.0</td>\n",
       "      <td>0.0</td>\n",
       "      <td>89.0</td>\n",
       "      <td>0.0</td>\n",
       "      <td>90.0</td>\n",
       "      <td>79.0</td>\n",
       "      <td>96.0</td>\n",
       "      <td>94.0</td>\n",
       "      <td>119.0</td>\n",
       "    </tr>\n",
       "    <tr>\n",
       "      <th>4</th>\n",
       "      <td>1148</td>\n",
       "      <td>976</td>\n",
       "      <td>3864</td>\n",
       "      <td>2823</td>\n",
       "      <td>509</td>\n",
       "      <td>4835</td>\n",
       "      <td>8748</td>\n",
       "      <td>5685</td>\n",
       "      <td>1462</td>\n",
       "      <td>8483</td>\n",
       "      <td>...</td>\n",
       "      <td>80.0</td>\n",
       "      <td>66.0</td>\n",
       "      <td>0.0</td>\n",
       "      <td>74.0</td>\n",
       "      <td>0.0</td>\n",
       "      <td>110.0</td>\n",
       "      <td>71.0</td>\n",
       "      <td>76.0</td>\n",
       "      <td>85.0</td>\n",
       "      <td>77.0</td>\n",
       "    </tr>\n",
       "  </tbody>\n",
       "</table>\n",
       "<p>5 rows × 897 columns</p>\n",
       "</div>"
      ],
      "text/plain": [
       "   bankssts_NumVert_r  caudalanteriorcingulate_NumVert_r  \\\n",
       "0                1247                                986   \n",
       "1                1387                               1814   \n",
       "2                1368                                936   \n",
       "3                1924                               1149   \n",
       "4                1148                                976   \n",
       "\n",
       "   caudalmiddlefrontal_NumVert_r  cuneus_NumVert_r  entorhinal_NumVert_r  \\\n",
       "0                           3896              2867                   828   \n",
       "1                           4320              2712                   563   \n",
       "2                           5289              2636                   382   \n",
       "3                           2857              2739                   655   \n",
       "4                           3864              2823                   509   \n",
       "\n",
       "   fusiform_NumVert_r  inferiorparietal_NumVert_r  inferiortemporal_NumVert_r  \\\n",
       "0                4919                        9874                        5581   \n",
       "1                6257                       11170                        7654   \n",
       "2                4608                        7697                        6417   \n",
       "3                4329                        8762                        5285   \n",
       "4                4835                        8748                        5685   \n",
       "\n",
       "   isthmuscingulate_NumVert_r  lateraloccipital_NumVert_r  \\\n",
       "0                        1394                        9770   \n",
       "1                        1768                       10924   \n",
       "2                        1703                       10003   \n",
       "3                        1535                        9430   \n",
       "4                        1462                        8483   \n",
       "\n",
       "             ...              Right-vessel_normRange  \\\n",
       "0            ...                                 0.0   \n",
       "1            ...                                30.0   \n",
       "2            ...                                36.0   \n",
       "3            ...                                17.0   \n",
       "4            ...                                80.0   \n",
       "\n",
       "   Right-choroid-plexus_normRange  5th-Ventricle_normRange  \\\n",
       "0                            67.0                      0.0   \n",
       "1                            63.0                      0.0   \n",
       "2                            68.0                      0.0   \n",
       "3                            69.0                      0.0   \n",
       "4                            66.0                      0.0   \n",
       "\n",
       "   WM-hypointensities_normRange  non-WM-hypointensities_normRange  \\\n",
       "0                          88.0                               0.0   \n",
       "1                          82.0                               0.0   \n",
       "2                         120.0                               0.0   \n",
       "3                          89.0                               0.0   \n",
       "4                          74.0                               0.0   \n",
       "\n",
       "   Optic-Chiasm_normRange  CC_Posterior_normRange  CC_Mid_Posterior_normRange  \\\n",
       "0                    86.0                    79.0                       105.0   \n",
       "1                    94.0                    78.0                       108.0   \n",
       "2                    83.0                    94.0                        95.0   \n",
       "3                    90.0                    79.0                        96.0   \n",
       "4                   110.0                    71.0                        76.0   \n",
       "\n",
       "   CC_Central_normRange  CC_Mid_Anterior_normRange  \n",
       "0                  77.0                       73.0  \n",
       "1                  97.0                       90.0  \n",
       "2                  97.0                       81.0  \n",
       "3                  94.0                      119.0  \n",
       "4                  85.0                       77.0  \n",
       "\n",
       "[5 rows x 897 columns]"
      ]
     },
     "execution_count": 4,
     "metadata": {},
     "output_type": "execute_result"
    }
   ],
   "source": [
    "mri_data.head()"
   ]
  },
  {
   "cell_type": "code",
   "execution_count": 5,
   "metadata": {},
   "outputs": [
    {
     "data": {
      "text/html": [
       "<div>\n",
       "<style>\n",
       "    .dataframe thead tr:only-child th {\n",
       "        text-align: right;\n",
       "    }\n",
       "\n",
       "    .dataframe thead th {\n",
       "        text-align: left;\n",
       "    }\n",
       "\n",
       "    .dataframe tbody tr th {\n",
       "        vertical-align: top;\n",
       "    }\n",
       "</style>\n",
       "<table border=\"1\" class=\"dataframe\">\n",
       "  <thead>\n",
       "    <tr style=\"text-align: right;\">\n",
       "      <th></th>\n",
       "      <th>patient_number</th>\n",
       "      <th>target</th>\n",
       "      <th>E/no E</th>\n",
       "      <th>D/no D</th>\n",
       "      <th>E/C</th>\n",
       "      <th>TLE/no E</th>\n",
       "      <th>TLE/C</th>\n",
       "      <th>D/C</th>\n",
       "      <th>DE/E</th>\n",
       "      <th>MRI Positive vs Negative</th>\n",
       "    </tr>\n",
       "  </thead>\n",
       "  <tbody>\n",
       "    <tr>\n",
       "      <th>0</th>\n",
       "      <td>P001</td>\n",
       "      <td>2</td>\n",
       "      <td>2</td>\n",
       "      <td>5</td>\n",
       "      <td>2.0</td>\n",
       "      <td>6.0</td>\n",
       "      <td>6.0</td>\n",
       "      <td>NaN</td>\n",
       "      <td>2.0</td>\n",
       "      <td>8.0</td>\n",
       "    </tr>\n",
       "    <tr>\n",
       "      <th>1</th>\n",
       "      <td>P002</td>\n",
       "      <td>3</td>\n",
       "      <td>2</td>\n",
       "      <td>1</td>\n",
       "      <td>NaN</td>\n",
       "      <td>NaN</td>\n",
       "      <td>NaN</td>\n",
       "      <td>NaN</td>\n",
       "      <td>3.0</td>\n",
       "      <td>8.0</td>\n",
       "    </tr>\n",
       "    <tr>\n",
       "      <th>2</th>\n",
       "      <td>P003</td>\n",
       "      <td>2</td>\n",
       "      <td>2</td>\n",
       "      <td>5</td>\n",
       "      <td>2.0</td>\n",
       "      <td>6.0</td>\n",
       "      <td>6.0</td>\n",
       "      <td>NaN</td>\n",
       "      <td>2.0</td>\n",
       "      <td>7.0</td>\n",
       "    </tr>\n",
       "    <tr>\n",
       "      <th>3</th>\n",
       "      <td>P004</td>\n",
       "      <td>1</td>\n",
       "      <td>4</td>\n",
       "      <td>1</td>\n",
       "      <td>NaN</td>\n",
       "      <td>4.0</td>\n",
       "      <td>NaN</td>\n",
       "      <td>1.0</td>\n",
       "      <td>NaN</td>\n",
       "      <td>8.0</td>\n",
       "    </tr>\n",
       "    <tr>\n",
       "      <th>4</th>\n",
       "      <td>P006</td>\n",
       "      <td>2</td>\n",
       "      <td>2</td>\n",
       "      <td>5</td>\n",
       "      <td>2.0</td>\n",
       "      <td>NaN</td>\n",
       "      <td>NaN</td>\n",
       "      <td>NaN</td>\n",
       "      <td>2.0</td>\n",
       "      <td>8.0</td>\n",
       "    </tr>\n",
       "  </tbody>\n",
       "</table>\n",
       "</div>"
      ],
      "text/plain": [
       "  patient_number  target  E/no E  D/no D  E/C  TLE/no E  TLE/C  D/C  DE/E  \\\n",
       "0           P001       2       2       5  2.0       6.0    6.0  NaN   2.0   \n",
       "1           P002       3       2       1  NaN       NaN    NaN  NaN   3.0   \n",
       "2           P003       2       2       5  2.0       6.0    6.0  NaN   2.0   \n",
       "3           P004       1       4       1  NaN       4.0    NaN  1.0   NaN   \n",
       "4           P006       2       2       5  2.0       NaN    NaN  NaN   2.0   \n",
       "\n",
       "   MRI Positive vs Negative   \n",
       "0                        8.0  \n",
       "1                        8.0  \n",
       "2                        7.0  \n",
       "3                        8.0  \n",
       "4                        8.0  "
      ]
     },
     "execution_count": 5,
     "metadata": {},
     "output_type": "execute_result"
    }
   ],
   "source": [
    "labels.head()"
   ]
  },
  {
   "cell_type": "code",
   "execution_count": null,
   "metadata": {
    "collapsed": true
   },
   "outputs": [],
   "source": []
  },
  {
   "cell_type": "code",
   "execution_count": 6,
   "metadata": {
    "collapsed": true
   },
   "outputs": [],
   "source": [
    "# отбор признаков на основе модели\n",
    "# аналогично SelectFromModel, но на основе количества признаков, а не порога\n",
    "\n",
    "from sklearn.base import BaseEstimator, MetaEstimatorMixin, clone\n",
    "from sklearn.feature_selection.base import SelectorMixin\n",
    "from sklearn.feature_selection.from_model import _get_feature_importances\n",
    "from sklearn.utils.metaestimators import if_delegate_has_method\n",
    "\n",
    "class SelectNFeaturesFromModel(BaseEstimator, SelectorMixin, MetaEstimatorMixin):\n",
    "    def __init__(self, estimator, n_selected, prefit=False):\n",
    "        self.estimator = estimator\n",
    "        self.n_selected = n_selected\n",
    "        self.prefit = prefit\n",
    "\n",
    "    def _get_support_mask(self):\n",
    "        if self.prefit:\n",
    "            estimator = self.estimator\n",
    "        elif hasattr(self, 'estimator_'):\n",
    "            estimator = self.estimator_\n",
    "        else:\n",
    "            raise ValueError(\n",
    "                'Either fit SelectFromModel before transform or set \"prefit='\n",
    "                'True\" and pass a fitted estimator to the constructor.')\n",
    "        scores = _get_feature_importances(estimator)\n",
    "        threshold = np.sort(scores)[-self.n_selected]\n",
    "        return scores >= threshold\n",
    "\n",
    "    def fit(self, X, y=None, **fit_params):\n",
    "        if self.prefit:\n",
    "            raise NotFittedError(\n",
    "                \"Since 'prefit=True', call transform directly\")\n",
    "        self.estimator_ = clone(self.estimator)\n",
    "        self.estimator_.fit(X, y, **fit_params)\n",
    "        return self\n",
    "\n",
    "    @property\n",
    "    def threshold_(self):\n",
    "        scores = _get_feature_importances(self.estimator_, self.norm_order)\n",
    "        return np.sort(scores)[-n_selected]\n",
    "    \n",
    "    @if_delegate_has_method('estimator')\n",
    "    def partial_fit(self, X, y=None, **fit_params):\n",
    "        if self.prefit:\n",
    "            raise NotFittedError(\n",
    "                \"Since 'prefit=True', call transform directly\")\n",
    "        if not hasattr(self, \"estimator_\"):\n",
    "            self.estimator_ = clone(self.estimator)\n",
    "        self.estimator_.partial_fit(X, y, **fit_params)\n",
    "        return self"
   ]
  },
  {
   "cell_type": "code",
   "execution_count": 7,
   "metadata": {
    "collapsed": true
   },
   "outputs": [],
   "source": [
    "def get_svc_grid(cv, dim_reduction_methods, random_state=None,\n",
    "                 svc_kernel_l=None, svc_c_l=None, svc_gamma_l=None):\n",
    "\n",
    "    pipe = Pipeline([\n",
    "        (\"Fill_NaN\", Imputer(strategy=\"median\")),\n",
    "        ('StdScaler', StandardScaler()),\n",
    "        (\"VarTh\", VarianceThreshold()),\n",
    "        ('dim_reduction', SelectKBest(stats.ttest_ind)),\n",
    "        ('classifier', SVC(random_state=random_state)),\n",
    "    ])\n",
    "\n",
    "    param_grid = {\n",
    "        'dim_reduction': dim_reduction_methods,\n",
    "    }\n",
    "    if svc_kernel_l is not None:\n",
    "        param_grid['classifier__kernel'] = svc_kernel_l\n",
    "    if svc_c_l is not None:\n",
    "        param_grid['classifier__C'] = svc_c_l\n",
    "    if svc_gamma_l is not None:\n",
    "        param_grid['classifier__gamma'] = svc_gamma_l\n",
    "    \n",
    "    return GridSearchCV(estimator=pipe, param_grid=param_grid, scoring=\"accuracy\", cv=cv)"
   ]
  },
  {
   "cell_type": "code",
   "execution_count": 8,
   "metadata": {
    "collapsed": true
   },
   "outputs": [],
   "source": [
    "def get_lr_grid(cv, dim_reduction_methods, random_state=None,\n",
    "                 lr_c_l=None):\n",
    "    \n",
    "    pipe = Pipeline([\n",
    "        (\"Fill_NaN\", Imputer(strategy=\"median\")),\n",
    "        ('StdScaler', StandardScaler()),\n",
    "        (\"VarTh\", VarianceThreshold()),\n",
    "        ('dim_reduction', SelectKBest(stats.ttest_ind)),\n",
    "        ('classifier', LogisticRegression(random_state=random_state)),\n",
    "    ])\n",
    "\n",
    "    param_grid = {\n",
    "        'dim_reduction': dim_reduction_methods,\n",
    "    }\n",
    "    if lr_c_l is not None:\n",
    "        param_grid['classifier__C'] = lr_c_l\n",
    "    \n",
    "    return GridSearchCV(estimator=pipe, param_grid=param_grid, scoring=\"accuracy\", cv=cv)"
   ]
  },
  {
   "cell_type": "code",
   "execution_count": 9,
   "metadata": {
    "collapsed": true
   },
   "outputs": [],
   "source": [
    "def get_rfc_grid(cv, dim_reduction_methods, random_state=None,\n",
    "                 rfc_n_estimators_l=None):\n",
    "    \n",
    "    pipe = Pipeline([\n",
    "        (\"Fill_NaN\", Imputer(strategy=\"median\")),\n",
    "        ('StdScaler', StandardScaler()),\n",
    "        (\"VarTh\", VarianceThreshold()),\n",
    "        ('dim_reduction', SelectKBest(stats.ttest_ind)),\n",
    "        ('classifier', RandomForestClassifier(random_state=random_state)),\n",
    "    ])\n",
    "\n",
    "    param_grid = {\n",
    "        'dim_reduction': dim_reduction_methods,\n",
    "    }\n",
    "    if rfc_n_estimators_l is not None:\n",
    "        param_grid['classifier__n_estimators'] = rfc_n_estimators_l\n",
    "    \n",
    "    return GridSearchCV(estimator=pipe, param_grid=param_grid, scoring=\"accuracy\", cv=cv)"
   ]
  },
  {
   "cell_type": "code",
   "execution_count": 10,
   "metadata": {
    "collapsed": true
   },
   "outputs": [],
   "source": [
    "def get_knn_grid(cv, dim_reduction_methods, random_state=None,\n",
    "                 knn_n_neighbors_l=None, knn_weights_l=None, knn_p_l=None):\n",
    "    \n",
    "    pipe = Pipeline([\n",
    "        (\"Fill_NaN\", Imputer(strategy=\"median\")),\n",
    "        ('StdScaler', StandardScaler()),\n",
    "        (\"VarTh\", VarianceThreshold()),\n",
    "        ('dim_reduction', SelectKBest(stats.ttest_ind)),\n",
    "        ('classifier', KNeighborsClassifier()),\n",
    "    ])\n",
    "\n",
    "    param_grid = {\n",
    "        'dim_reduction': dim_reduction_methods,\n",
    "    }\n",
    "    if knn_n_neighbors_l is not None:\n",
    "        param_grid['classifier__n_neighbors'] = knn_n_neighbors_l\n",
    "    if knn_weights_l is not None:\n",
    "        param_grid['classifier__weights'] = knn_weights_l\n",
    "    if knn_p_l is not None:\n",
    "        param_grid['classifier__p'] = knn_p_l\n",
    "    \n",
    "    return GridSearchCV(estimator=pipe, param_grid=param_grid, scoring=\"accuracy\", cv=cv)"
   ]
  },
  {
   "cell_type": "code",
   "execution_count": 11,
   "metadata": {
    "collapsed": true
   },
   "outputs": [],
   "source": [
    "# set printoptions\n",
    "pd.set_option('expand_frame_repr', True)\n",
    "pd.set_option('max_colwidth', 150)"
   ]
  },
  {
   "cell_type": "code",
   "execution_count": 12,
   "metadata": {
    "collapsed": true
   },
   "outputs": [],
   "source": [
    "def print_results(clf_grid_dict):\n",
    "    results = {\n",
    "            \"classifier\" : [], \n",
    "            \"best parameters\" : [],\n",
    "            \"best dim. reduction method\" : [],\n",
    "            \"mean\" : [],\n",
    "            \"std\" : []\n",
    "           }\n",
    "    \n",
    "    for clf, grid in clf_grid_dict.items():\n",
    "        results[\"classifier\"].append(clf)\n",
    "        results[\"best parameters\"].append(\", \".join(\n",
    "            [param + \" = \" + str(best_value) for param, best_value in grid.best_params_.items() if param != 'dim_reduction']))\n",
    "        results[\"best dim. reduction method\"].append(grid.best_params_['dim_reduction'])\n",
    "        idx = grid.best_index_\n",
    "        results[\"mean\"].append(grid.cv_results_['mean_test_score'][idx])\n",
    "        results[\"std\"].append(grid.cv_results_['std_test_score'][idx])\n",
    "        \n",
    "    results = pd.DataFrame(results, columns=[\"classifier\", \"best parameters\", \"best dim. reduction method\", \"mean\", \"std\"])\n",
    "    display(results.set_index(\"classifier\"))\n",
    "    \n",
    "    # draw graph\n",
    "    width = 0.9\n",
    "    for i in results.index:\n",
    "        plt.bar(i, results.loc[i, \"mean\"], width, yerr=results.loc[i, \"std\"], label=results.loc[i, \"classifier\"])\n",
    "    plt.xticks(range(results.shape[0]), results.loc[:, \"classifier\"])\n",
    "    plt.axis(ymin=0.0, ymax=1.0)\n",
    "    plt.show()\n",
    "    \n",
    "    print(\"Best model: \")\n",
    "    clf = results.loc[results[\"mean\"].argmax(), \"classifier\"]\n",
    "    print(clf)\n",
    "    print(\"\\n\".join(\n",
    "            [param + \" = \" + str(best_value) for param, best_value in clf_grid_dict[clf].best_params_.items()]))\n",
    "    print()\n",
    "    print(\"mean =\", results[\"mean\"].max())\n",
    "    print(\"std =\", results.loc[results[\"mean\"].argmax(), \"std\"])"
   ]
  },
  {
   "cell_type": "markdown",
   "metadata": {},
   "source": [
    "### Объединенный подсчет и сравнение всех классификаторов (SVC, LR, RFC, KNN)"
   ]
  },
  {
   "cell_type": "code",
   "execution_count": 13,
   "metadata": {
    "collapsed": true
   },
   "outputs": [],
   "source": [
    "def train_grid_cv(X, y, n_splits, n_repeats, random_state=None):\n",
    "    cv = RepeatedStratifiedKFold(n_splits=n_splits, n_repeats=n_repeats, random_state=random_state)\n",
    "    \n",
    "    n_features = [5, 10, 20, 50, 100]\n",
    "    n_components = [2, 3, 5, 10, 15, 20]\n",
    "    \n",
    "    # list of dimensionality reduction methods\n",
    "    dim_reduction_methods = []\n",
    "    dim_reduction_methods += [SelectKBest(stats.ttest_ind, n) for n in n_features]\n",
    "    dim_reduction_methods += [SelectKBest(f_classif, n) for n in n_features]\n",
    "    dim_reduction_methods += [SelectNFeaturesFromModel(RandomForestClassifier(n_estimators=100, random_state=random_state), n) for n in n_features]\n",
    "    dim_reduction_methods += [SelectNFeaturesFromModel(LogisticRegression(), n) for n in n_features]\n",
    "    dim_reduction_methods += [SelectNFeaturesFromModel(ExtraTreesClassifier(n_estimators=100, random_state=random_state), n) for n in n_features]\n",
    "    dim_reduction_methods += [PCA(n) for n in n_components]\n",
    "    dim_reduction_methods += [LocallyLinearEmbedding(n_components=n, random_state=random_state) for n in n_components]\n",
    "    \n",
    "    \n",
    "    print(\"Training SVC...\")\n",
    "    grid_cv_svc = get_svc_grid(cv, dim_reduction_methods, random_state=random_state,\n",
    "                               svc_kernel_l=[\"rbf\", \"linear\"],\n",
    "                               svc_c_l=[10 ** i for i in range(-6, 4, 2)],\n",
    "                               svc_gamma_l=[10 ** i for i in range(-6, 2, 2)])\n",
    "    start_time = time.time()\n",
    "    grid_cv_svc.fit(X, y)\n",
    "    print(\"(training took {}s)\\n\".format(time.time() - start_time))\n",
    "    \n",
    "    print(\"Training LR...\")\n",
    "    grid_cv_lr = get_lr_grid(cv, dim_reduction_methods, random_state=random_state,\n",
    "                             lr_c_l=[10 ** i for i in range(-6, 2, 2)])\n",
    "    start_time = time.time()\n",
    "    grid_cv_lr.fit(X, y)\n",
    "    print(\"(training took {}s)\\n\".format(time.time() - start_time))\n",
    "    \n",
    "    print(\"Training RFC...\")\n",
    "    grid_cv_rfc = get_rfc_grid(cv, dim_reduction_methods, random_state=random_state,\n",
    "                               rfc_n_estimators_l=[i for i in range(300, 950, 150)])\n",
    "    start_time = time.time()\n",
    "    grid_cv_rfc.fit(X, y)\n",
    "    print(\"(training took {}s)\\n\".format(time.time() - start_time))\n",
    "    \n",
    "    print(\"Training KNN...\")\n",
    "    class_size_tr = y.size // len(set(y)) - 5\n",
    "    grid_cv_knn = get_knn_grid(cv, dim_reduction_methods, random_state=random_state,\n",
    "                              knn_p_l=[1, 2],\n",
    "                              knn_weights_l=[\"uniform\", \"distance\"],\n",
    "                              knn_n_neighbors_l=[i for i in range(5, class_size_tr - 1, 2)])\n",
    "    start_time = time.time()\n",
    "    grid_cv_knn.fit(X, y)\n",
    "    print(\"(training took {}s)\\n\".format(time.time() - start_time))\n",
    "    \n",
    "    print_results({\n",
    "        \"SVC\" : grid_cv_svc,\n",
    "        \"LR\" : grid_cv_lr,\n",
    "        \"RFC\" : grid_cv_rfc,\n",
    "        \"KNN\" : grid_cv_knn\n",
    "                  })\n",
    "    \n",
    "    best_model = max([grid_cv_svc, grid_cv_lr, grid_cv_rfc, grid_cv_knn], key=lambda x: x.best_score_).best_estimator_\n",
    "    \n",
    "    return best_model, grid_cv_svc, grid_cv_lr, grid_cv_rfc, grid_cv_knn"
   ]
  },
  {
   "cell_type": "code",
   "execution_count": 14,
   "metadata": {
    "collapsed": true
   },
   "outputs": [],
   "source": [
    "def repeated_cross_val_predict(estimator, X, y, cv, file=None):\n",
    "    predictions = [[] for i in range(X.shape[0])]\n",
    "    for idx_tr, idx_te in tqdm(cv.split(X, y)):\n",
    "        estimator.fit(X.iloc[idx_tr, :], y[idx_tr])\n",
    "        pred_te = estimator.predict(X.iloc[idx_te])\n",
    "        for i, idx in enumerate(idx_te):\n",
    "            predictions[idx].append(idx_to_label[pred_te[i]])\n",
    "        \n",
    "    predictions = pd.DataFrame(predictions)\n",
    "    if file is not None:\n",
    "        predictions.to_csv(file)\n",
    "        \n",
    "    return predictions"
   ]
  },
  {
   "cell_type": "code",
   "execution_count": 15,
   "metadata": {
    "collapsed": true
   },
   "outputs": [],
   "source": [
    "def save_model(model, file):\n",
    "    joblib.dump(model, file)\n",
    "    \n",
    "def load_model(file):\n",
    "    model = joblib.load(file)\n",
    "    return model"
   ]
  },
  {
   "cell_type": "markdown",
   "metadata": {},
   "source": [
    "### Training"
   ]
  },
  {
   "cell_type": "code",
   "execution_count": 16,
   "metadata": {},
   "outputs": [
    {
     "data": {
      "text/html": [
       "<div>\n",
       "<style>\n",
       "    .dataframe thead tr:only-child th {\n",
       "        text-align: right;\n",
       "    }\n",
       "\n",
       "    .dataframe thead th {\n",
       "        text-align: left;\n",
       "    }\n",
       "\n",
       "    .dataframe tbody tr th {\n",
       "        vertical-align: top;\n",
       "    }\n",
       "</style>\n",
       "<table border=\"1\" class=\"dataframe\">\n",
       "  <thead>\n",
       "    <tr style=\"text-align: right;\">\n",
       "      <th></th>\n",
       "      <th>patient_number</th>\n",
       "      <th>target</th>\n",
       "      <th>E/no E</th>\n",
       "      <th>D/no D</th>\n",
       "      <th>E/C</th>\n",
       "      <th>TLE/no E</th>\n",
       "      <th>TLE/C</th>\n",
       "      <th>D/C</th>\n",
       "      <th>DE/E</th>\n",
       "      <th>MRI Positive vs Negative</th>\n",
       "    </tr>\n",
       "  </thead>\n",
       "  <tbody>\n",
       "    <tr>\n",
       "      <th>0</th>\n",
       "      <td>P001</td>\n",
       "      <td>2</td>\n",
       "      <td>2</td>\n",
       "      <td>5</td>\n",
       "      <td>2.0</td>\n",
       "      <td>6.0</td>\n",
       "      <td>6.0</td>\n",
       "      <td>NaN</td>\n",
       "      <td>2.0</td>\n",
       "      <td>8.0</td>\n",
       "    </tr>\n",
       "    <tr>\n",
       "      <th>1</th>\n",
       "      <td>P002</td>\n",
       "      <td>3</td>\n",
       "      <td>2</td>\n",
       "      <td>1</td>\n",
       "      <td>NaN</td>\n",
       "      <td>NaN</td>\n",
       "      <td>NaN</td>\n",
       "      <td>NaN</td>\n",
       "      <td>3.0</td>\n",
       "      <td>8.0</td>\n",
       "    </tr>\n",
       "    <tr>\n",
       "      <th>2</th>\n",
       "      <td>P003</td>\n",
       "      <td>2</td>\n",
       "      <td>2</td>\n",
       "      <td>5</td>\n",
       "      <td>2.0</td>\n",
       "      <td>6.0</td>\n",
       "      <td>6.0</td>\n",
       "      <td>NaN</td>\n",
       "      <td>2.0</td>\n",
       "      <td>7.0</td>\n",
       "    </tr>\n",
       "    <tr>\n",
       "      <th>3</th>\n",
       "      <td>P004</td>\n",
       "      <td>1</td>\n",
       "      <td>4</td>\n",
       "      <td>1</td>\n",
       "      <td>NaN</td>\n",
       "      <td>4.0</td>\n",
       "      <td>NaN</td>\n",
       "      <td>1.0</td>\n",
       "      <td>NaN</td>\n",
       "      <td>8.0</td>\n",
       "    </tr>\n",
       "    <tr>\n",
       "      <th>4</th>\n",
       "      <td>P006</td>\n",
       "      <td>2</td>\n",
       "      <td>2</td>\n",
       "      <td>5</td>\n",
       "      <td>2.0</td>\n",
       "      <td>NaN</td>\n",
       "      <td>NaN</td>\n",
       "      <td>NaN</td>\n",
       "      <td>2.0</td>\n",
       "      <td>8.0</td>\n",
       "    </tr>\n",
       "  </tbody>\n",
       "</table>\n",
       "</div>"
      ],
      "text/plain": [
       "  patient_number  target  E/no E  D/no D  E/C  TLE/no E  TLE/C  D/C  DE/E  \\\n",
       "0           P001       2       2       5  2.0       6.0    6.0  NaN   2.0   \n",
       "1           P002       3       2       1  NaN       NaN    NaN  NaN   3.0   \n",
       "2           P003       2       2       5  2.0       6.0    6.0  NaN   2.0   \n",
       "3           P004       1       4       1  NaN       4.0    NaN  1.0   NaN   \n",
       "4           P006       2       2       5  2.0       NaN    NaN  NaN   2.0   \n",
       "\n",
       "   MRI Positive vs Negative   \n",
       "0                        8.0  \n",
       "1                        8.0  \n",
       "2                        7.0  \n",
       "3                        8.0  \n",
       "4                        8.0  "
      ]
     },
     "execution_count": 16,
     "metadata": {},
     "output_type": "execute_result"
    }
   ],
   "source": [
    "labels.head()"
   ]
  },
  {
   "cell_type": "markdown",
   "metadata": {},
   "source": [
    "dataset: MRI T1\n",
    "* 4 classes\n",
    "* Epilepsy / no epilepsy\n",
    "* Depression / no depression\n",
    "* Epilepsy / control\n",
    "* Depression / control\n",
    "* Epilepsy with depression / only epilepsy\n",
    "* TLE / no epilepsy\n",
    "* TLE / control\n",
    "* MRI positive / MRI negative epilepsy"
   ]
  },
  {
   "cell_type": "markdown",
   "metadata": {},
   "source": [
    "### 4 classes"
   ]
  },
  {
   "cell_type": "code",
   "execution_count": 51,
   "metadata": {},
   "outputs": [
    {
     "name": "stdout",
     "output_type": "stream",
     "text": [
      "Training SVC...\n",
      "(training took 5402.644208192825s)\n",
      "\n",
      "Training LR...\n",
      "(training took 403.1392719745636s)\n",
      "\n",
      "Training RFC...\n",
      "(training took 4961.843548536301s)\n",
      "\n",
      "Training KNN...\n",
      "(training took 2757.3463599681854s)\n",
      "\n"
     ]
    },
    {
     "data": {
      "text/html": [
       "<div>\n",
       "<style>\n",
       "    .dataframe thead tr:only-child th {\n",
       "        text-align: right;\n",
       "    }\n",
       "\n",
       "    .dataframe thead th {\n",
       "        text-align: left;\n",
       "    }\n",
       "\n",
       "    .dataframe tbody tr th {\n",
       "        vertical-align: top;\n",
       "    }\n",
       "</style>\n",
       "<table border=\"1\" class=\"dataframe\">\n",
       "  <thead>\n",
       "    <tr style=\"text-align: right;\">\n",
       "      <th></th>\n",
       "      <th>best parameters</th>\n",
       "      <th>best dim. reduction method</th>\n",
       "      <th>mean</th>\n",
       "      <th>std</th>\n",
       "    </tr>\n",
       "    <tr>\n",
       "      <th>classifier</th>\n",
       "      <th></th>\n",
       "      <th></th>\n",
       "      <th></th>\n",
       "      <th></th>\n",
       "    </tr>\n",
       "  </thead>\n",
       "  <tbody>\n",
       "    <tr>\n",
       "      <th>KNN</th>\n",
       "      <td>classifier__p = 1, classifier__n_neighbors = 17, classifier__weights = uniform</td>\n",
       "      <td>SelectNFeaturesFromModel(estimator=ExtraTreesClassifier(bootstrap=False, class_weight=None, criterion='gini',\\n           max_depth=None, max_feat...</td>\n",
       "      <td>0.368</td>\n",
       "      <td>0.074673</td>\n",
       "    </tr>\n",
       "    <tr>\n",
       "      <th>LR</th>\n",
       "      <td>classifier__C = 1</td>\n",
       "      <td>LocallyLinearEmbedding(eigen_solver='auto', hessian_tol=0.0001, max_iter=100,\\n            method='standard', modified_tol=1e-12, n_components=20,...</td>\n",
       "      <td>0.364</td>\n",
       "      <td>0.099519</td>\n",
       "    </tr>\n",
       "    <tr>\n",
       "      <th>RFC</th>\n",
       "      <td>classifier__n_estimators = 750</td>\n",
       "      <td>SelectKBest(k=100, score_func=&lt;function ttest_ind at 0x7f9d94e077b8&gt;)</td>\n",
       "      <td>0.410</td>\n",
       "      <td>0.081240</td>\n",
       "    </tr>\n",
       "    <tr>\n",
       "      <th>SVC</th>\n",
       "      <td>classifier__kernel = rbf, classifier__C = 100, classifier__gamma = 0.0001</td>\n",
       "      <td>PCA(copy=True, iterated_power='auto', n_components=5, random_state=None,\\n  svd_solver='auto', tol=0.0, whiten=False)</td>\n",
       "      <td>0.412</td>\n",
       "      <td>0.090863</td>\n",
       "    </tr>\n",
       "  </tbody>\n",
       "</table>\n",
       "</div>"
      ],
      "text/plain": [
       "                                                                           best parameters  \\\n",
       "classifier                                                                                   \n",
       "KNN         classifier__p = 1, classifier__n_neighbors = 17, classifier__weights = uniform   \n",
       "LR                                                                       classifier__C = 1   \n",
       "RFC                                                         classifier__n_estimators = 750   \n",
       "SVC              classifier__kernel = rbf, classifier__C = 100, classifier__gamma = 0.0001   \n",
       "\n",
       "                                                                                                                                       best dim. reduction method  \\\n",
       "classifier                                                                                                                                                          \n",
       "KNN         SelectNFeaturesFromModel(estimator=ExtraTreesClassifier(bootstrap=False, class_weight=None, criterion='gini',\\n           max_depth=None, max_feat...   \n",
       "LR          LocallyLinearEmbedding(eigen_solver='auto', hessian_tol=0.0001, max_iter=100,\\n            method='standard', modified_tol=1e-12, n_components=20,...   \n",
       "RFC                                                                                         SelectKBest(k=100, score_func=<function ttest_ind at 0x7f9d94e077b8>)   \n",
       "SVC                                         PCA(copy=True, iterated_power='auto', n_components=5, random_state=None,\\n  svd_solver='auto', tol=0.0, whiten=False)   \n",
       "\n",
       "             mean       std  \n",
       "classifier                   \n",
       "KNN         0.368  0.074673  \n",
       "LR          0.364  0.099519  \n",
       "RFC         0.410  0.081240  \n",
       "SVC         0.412  0.090863  "
      ]
     },
     "metadata": {},
     "output_type": "display_data"
    },
    {
     "data": {
      "image/png": "[encoded data removed]",
      "text/plain": [
       "<matplotlib.figure.Figure at 0x7f9d8bc1ce80>"
      ]
     },
     "metadata": {},
     "output_type": "display_data"
    },
    {
     "name": "stderr",
     "output_type": "stream",
     "text": [
      "\r",
      "0it [00:00, ?it/s]"
     ]
    },
    {
     "name": "stdout",
     "output_type": "stream",
     "text": [
      "Best model: \n",
      "SVC\n",
      "dim_reduction = PCA(copy=True, iterated_power='auto', n_components=5, random_state=None,\n",
      "  svd_solver='auto', tol=0.0, whiten=False)\n",
      "classifier__kernel = rbf\n",
      "classifier__C = 100\n",
      "classifier__gamma = 0.0001\n",
      "\n",
      "mean = 0.412\n",
      "std = 0.0908625335328\n"
     ]
    },
    {
     "name": "stderr",
     "output_type": "stream",
     "text": [
      "50it [00:01, 26.95it/s]\n"
     ]
    }
   ],
   "source": [
    "n_splits = 5\n",
    "X, y = mri_data, labels.target\n",
    "\n",
    "best_model_mri_DE, grid_cv_svc_mri_DE, grid_cv_lr_mri_DE, grid_cv_rfc_mri_DE, grid_cv_knn_mri_DE = train_grid_cv(\n",
    "    X, y, n_splits=n_splits, n_repeats=5)\n",
    "\n",
    "cv = RepeatedStratifiedKFold(n_splits=n_splits, n_repeats=10, random_state=42)\n",
    "labels_mri_DE = repeated_cross_val_predict(best_model_mri_DE, X, y, cv, file=\"labels_mri_DE.csv\")\n",
    "\n",
    "save_model(best_model_mri_DE, \"best_model_mri_DE.pkl\")"
   ]
  },
  {
   "cell_type": "markdown",
   "metadata": {},
   "source": [
    "### Epilepsy / no epilepsy"
   ]
  },
  {
   "cell_type": "code",
   "execution_count": 52,
   "metadata": {
    "collapsed": true
   },
   "outputs": [
    {
     "name": "stdout",
     "output_type": "stream",
     "text": [
      "Training SVC...\n",
      "(training took 10575.506497383118s)\n",
      "\n",
      "Training LR...\n",
      "(training took 762.2717778682709s)\n",
      "\n",
      "Training RFC...\n"
     ]
    },
    {
     "ename": "KeyboardInterrupt",
     "evalue": "",
     "output_type": "error",
     "traceback": [
      "\u001b[0;31m---------------------------------------------------------------------------\u001b[0m",
      "\u001b[0;31mKeyboardInterrupt\u001b[0m                         Traceback (most recent call last)",
      "\u001b[0;32m<ipython-input-52-36777cd1b2e5>\u001b[0m in \u001b[0;36m<module>\u001b[0;34m()\u001b[0m\n\u001b[1;32m      3\u001b[0m \u001b[0;34m\u001b[0m\u001b[0m\n\u001b[1;32m      4\u001b[0m best_model_mri_E, grid_cv_svc_mri_E, grid_cv_lr_mri_E, grid_cv_rfc_mri_E, grid_cv_knn_mri_E = train_grid_cv(\n\u001b[0;32m----> 5\u001b[0;31m     X, y, n_splits=n_splits, n_repeats=5)\n\u001b[0m\u001b[1;32m      6\u001b[0m \u001b[0;34m\u001b[0m\u001b[0m\n\u001b[1;32m      7\u001b[0m \u001b[0mcv\u001b[0m \u001b[0;34m=\u001b[0m \u001b[0mRepeatedStratifiedKFold\u001b[0m\u001b[0;34m(\u001b[0m\u001b[0mn_splits\u001b[0m\u001b[0;34m=\u001b[0m\u001b[0mn_splits\u001b[0m\u001b[0;34m,\u001b[0m \u001b[0mn_repeats\u001b[0m\u001b[0;34m=\u001b[0m\u001b[0;36m10\u001b[0m\u001b[0;34m,\u001b[0m \u001b[0mrandom_state\u001b[0m\u001b[0;34m=\u001b[0m\u001b[0;36m42\u001b[0m\u001b[0;34m)\u001b[0m\u001b[0;34m\u001b[0m\u001b[0m\n",
      "\u001b[0;32m<ipython-input-48-d772f4b6f823>\u001b[0m in \u001b[0;36mtrain_grid_cv\u001b[0;34m(X, y, n_splits, n_repeats, random_state)\u001b[0m\n\u001b[1;32m     38\u001b[0m                                rfc_n_estimators_l=[i for i in range(300, 950, 150)])\n\u001b[1;32m     39\u001b[0m     \u001b[0mstart_time\u001b[0m \u001b[0;34m=\u001b[0m \u001b[0mtime\u001b[0m\u001b[0;34m.\u001b[0m\u001b[0mtime\u001b[0m\u001b[0;34m(\u001b[0m\u001b[0;34m)\u001b[0m\u001b[0;34m\u001b[0m\u001b[0m\n\u001b[0;32m---> 40\u001b[0;31m     \u001b[0mgrid_cv_rfc\u001b[0m\u001b[0;34m.\u001b[0m\u001b[0mfit\u001b[0m\u001b[0;34m(\u001b[0m\u001b[0mX\u001b[0m\u001b[0;34m,\u001b[0m \u001b[0my\u001b[0m\u001b[0;34m)\u001b[0m\u001b[0;34m\u001b[0m\u001b[0m\n\u001b[0m\u001b[1;32m     41\u001b[0m     \u001b[0mprint\u001b[0m\u001b[0;34m(\u001b[0m\u001b[0;34m\"(training took {}s)\\n\"\u001b[0m\u001b[0;34m.\u001b[0m\u001b[0mformat\u001b[0m\u001b[0;34m(\u001b[0m\u001b[0mtime\u001b[0m\u001b[0;34m.\u001b[0m\u001b[0mtime\u001b[0m\u001b[0;34m(\u001b[0m\u001b[0;34m)\u001b[0m \u001b[0;34m-\u001b[0m \u001b[0mstart_time\u001b[0m\u001b[0;34m)\u001b[0m\u001b[0;34m)\u001b[0m\u001b[0;34m\u001b[0m\u001b[0m\n\u001b[1;32m     42\u001b[0m \u001b[0;34m\u001b[0m\u001b[0m\n",
      "\u001b[0;32m~/anaconda3/envs/py35/lib/python3.5/site-packages/sklearn/model_selection/_search.py\u001b[0m in \u001b[0;36mfit\u001b[0;34m(self, X, y, groups, **fit_params)\u001b[0m\n\u001b[1;32m    637\u001b[0m                                   error_score=self.error_score)\n\u001b[1;32m    638\u001b[0m           for parameters, (train, test) in product(candidate_params,\n\u001b[0;32m--> 639\u001b[0;31m                                                    cv.split(X, y, groups)))\n\u001b[0m\u001b[1;32m    640\u001b[0m \u001b[0;34m\u001b[0m\u001b[0m\n\u001b[1;32m    641\u001b[0m         \u001b[0;31m# if one choose to see train score, \"out\" will contain train score info\u001b[0m\u001b[0;34m\u001b[0m\u001b[0;34m\u001b[0m\u001b[0m\n",
      "\u001b[0;32m~/anaconda3/envs/py35/lib/python3.5/site-packages/sklearn/externals/joblib/parallel.py\u001b[0m in \u001b[0;36m__call__\u001b[0;34m(self, iterable)\u001b[0m\n\u001b[1;32m    777\u001b[0m             \u001b[0;31m# was dispatched. In particular this covers the edge\u001b[0m\u001b[0;34m\u001b[0m\u001b[0;34m\u001b[0m\u001b[0m\n\u001b[1;32m    778\u001b[0m             \u001b[0;31m# case of Parallel used with an exhausted iterator.\u001b[0m\u001b[0;34m\u001b[0m\u001b[0;34m\u001b[0m\u001b[0m\n\u001b[0;32m--> 779\u001b[0;31m             \u001b[0;32mwhile\u001b[0m \u001b[0mself\u001b[0m\u001b[0;34m.\u001b[0m\u001b[0mdispatch_one_batch\u001b[0m\u001b[0;34m(\u001b[0m\u001b[0miterator\u001b[0m\u001b[0;34m)\u001b[0m\u001b[0;34m:\u001b[0m\u001b[0;34m\u001b[0m\u001b[0m\n\u001b[0m\u001b[1;32m    780\u001b[0m                 \u001b[0mself\u001b[0m\u001b[0;34m.\u001b[0m\u001b[0m_iterating\u001b[0m \u001b[0;34m=\u001b[0m \u001b[0;32mTrue\u001b[0m\u001b[0;34m\u001b[0m\u001b[0m\n\u001b[1;32m    781\u001b[0m             \u001b[0;32melse\u001b[0m\u001b[0;34m:\u001b[0m\u001b[0;34m\u001b[0m\u001b[0m\n",
      "\u001b[0;32m~/anaconda3/envs/py35/lib/python3.5/site-packages/sklearn/externals/joblib/parallel.py\u001b[0m in \u001b[0;36mdispatch_one_batch\u001b[0;34m(self, iterator)\u001b[0m\n\u001b[1;32m    623\u001b[0m                 \u001b[0;32mreturn\u001b[0m \u001b[0;32mFalse\u001b[0m\u001b[0;34m\u001b[0m\u001b[0m\n\u001b[1;32m    624\u001b[0m             \u001b[0;32melse\u001b[0m\u001b[0;34m:\u001b[0m\u001b[0;34m\u001b[0m\u001b[0m\n\u001b[0;32m--> 625\u001b[0;31m                 \u001b[0mself\u001b[0m\u001b[0;34m.\u001b[0m\u001b[0m_dispatch\u001b[0m\u001b[0;34m(\u001b[0m\u001b[0mtasks\u001b[0m\u001b[0;34m)\u001b[0m\u001b[0;34m\u001b[0m\u001b[0m\n\u001b[0m\u001b[1;32m    626\u001b[0m                 \u001b[0;32mreturn\u001b[0m \u001b[0;32mTrue\u001b[0m\u001b[0;34m\u001b[0m\u001b[0m\n\u001b[1;32m    627\u001b[0m \u001b[0;34m\u001b[0m\u001b[0m\n",
      "\u001b[0;32m~/anaconda3/envs/py35/lib/python3.5/site-packages/sklearn/externals/joblib/parallel.py\u001b[0m in \u001b[0;36m_dispatch\u001b[0;34m(self, batch)\u001b[0m\n\u001b[1;32m    586\u001b[0m         \u001b[0mdispatch_timestamp\u001b[0m \u001b[0;34m=\u001b[0m \u001b[0mtime\u001b[0m\u001b[0;34m.\u001b[0m\u001b[0mtime\u001b[0m\u001b[0;34m(\u001b[0m\u001b[0;34m)\u001b[0m\u001b[0;34m\u001b[0m\u001b[0m\n\u001b[1;32m    587\u001b[0m         \u001b[0mcb\u001b[0m \u001b[0;34m=\u001b[0m \u001b[0mBatchCompletionCallBack\u001b[0m\u001b[0;34m(\u001b[0m\u001b[0mdispatch_timestamp\u001b[0m\u001b[0;34m,\u001b[0m \u001b[0mlen\u001b[0m\u001b[0;34m(\u001b[0m\u001b[0mbatch\u001b[0m\u001b[0;34m)\u001b[0m\u001b[0;34m,\u001b[0m \u001b[0mself\u001b[0m\u001b[0;34m)\u001b[0m\u001b[0;34m\u001b[0m\u001b[0m\n\u001b[0;32m--> 588\u001b[0;31m         \u001b[0mjob\u001b[0m \u001b[0;34m=\u001b[0m \u001b[0mself\u001b[0m\u001b[0;34m.\u001b[0m\u001b[0m_backend\u001b[0m\u001b[0;34m.\u001b[0m\u001b[0mapply_async\u001b[0m\u001b[0;34m(\u001b[0m\u001b[0mbatch\u001b[0m\u001b[0;34m,\u001b[0m \u001b[0mcallback\u001b[0m\u001b[0;34m=\u001b[0m\u001b[0mcb\u001b[0m\u001b[0;34m)\u001b[0m\u001b[0;34m\u001b[0m\u001b[0m\n\u001b[0m\u001b[1;32m    589\u001b[0m         \u001b[0mself\u001b[0m\u001b[0;34m.\u001b[0m\u001b[0m_jobs\u001b[0m\u001b[0;34m.\u001b[0m\u001b[0mappend\u001b[0m\u001b[0;34m(\u001b[0m\u001b[0mjob\u001b[0m\u001b[0;34m)\u001b[0m\u001b[0;34m\u001b[0m\u001b[0m\n\u001b[1;32m    590\u001b[0m \u001b[0;34m\u001b[0m\u001b[0m\n",
      "\u001b[0;32m~/anaconda3/envs/py35/lib/python3.5/site-packages/sklearn/externals/joblib/_parallel_backends.py\u001b[0m in \u001b[0;36mapply_async\u001b[0;34m(self, func, callback)\u001b[0m\n\u001b[1;32m    109\u001b[0m     \u001b[0;32mdef\u001b[0m \u001b[0mapply_async\u001b[0m\u001b[0;34m(\u001b[0m\u001b[0mself\u001b[0m\u001b[0;34m,\u001b[0m \u001b[0mfunc\u001b[0m\u001b[0;34m,\u001b[0m \u001b[0mcallback\u001b[0m\u001b[0;34m=\u001b[0m\u001b[0;32mNone\u001b[0m\u001b[0;34m)\u001b[0m\u001b[0;34m:\u001b[0m\u001b[0;34m\u001b[0m\u001b[0m\n\u001b[1;32m    110\u001b[0m         \u001b[0;34m\"\"\"Schedule a func to be run\"\"\"\u001b[0m\u001b[0;34m\u001b[0m\u001b[0m\n\u001b[0;32m--> 111\u001b[0;31m         \u001b[0mresult\u001b[0m \u001b[0;34m=\u001b[0m \u001b[0mImmediateResult\u001b[0m\u001b[0;34m(\u001b[0m\u001b[0mfunc\u001b[0m\u001b[0;34m)\u001b[0m\u001b[0;34m\u001b[0m\u001b[0m\n\u001b[0m\u001b[1;32m    112\u001b[0m         \u001b[0;32mif\u001b[0m \u001b[0mcallback\u001b[0m\u001b[0;34m:\u001b[0m\u001b[0;34m\u001b[0m\u001b[0m\n\u001b[1;32m    113\u001b[0m             \u001b[0mcallback\u001b[0m\u001b[0;34m(\u001b[0m\u001b[0mresult\u001b[0m\u001b[0;34m)\u001b[0m\u001b[0;34m\u001b[0m\u001b[0m\n",
      "\u001b[0;32m~/anaconda3/envs/py35/lib/python3.5/site-packages/sklearn/externals/joblib/_parallel_backends.py\u001b[0m in \u001b[0;36m__init__\u001b[0;34m(self, batch)\u001b[0m\n\u001b[1;32m    330\u001b[0m         \u001b[0;31m# Don't delay the application, to avoid keeping the input\u001b[0m\u001b[0;34m\u001b[0m\u001b[0;34m\u001b[0m\u001b[0m\n\u001b[1;32m    331\u001b[0m         \u001b[0;31m# arguments in memory\u001b[0m\u001b[0;34m\u001b[0m\u001b[0;34m\u001b[0m\u001b[0m\n\u001b[0;32m--> 332\u001b[0;31m         \u001b[0mself\u001b[0m\u001b[0;34m.\u001b[0m\u001b[0mresults\u001b[0m \u001b[0;34m=\u001b[0m \u001b[0mbatch\u001b[0m\u001b[0;34m(\u001b[0m\u001b[0;34m)\u001b[0m\u001b[0;34m\u001b[0m\u001b[0m\n\u001b[0m\u001b[1;32m    333\u001b[0m \u001b[0;34m\u001b[0m\u001b[0m\n\u001b[1;32m    334\u001b[0m     \u001b[0;32mdef\u001b[0m \u001b[0mget\u001b[0m\u001b[0;34m(\u001b[0m\u001b[0mself\u001b[0m\u001b[0;34m)\u001b[0m\u001b[0;34m:\u001b[0m\u001b[0;34m\u001b[0m\u001b[0m\n",
      "\u001b[0;32m~/anaconda3/envs/py35/lib/python3.5/site-packages/sklearn/externals/joblib/parallel.py\u001b[0m in \u001b[0;36m__call__\u001b[0;34m(self)\u001b[0m\n\u001b[1;32m    129\u001b[0m \u001b[0;34m\u001b[0m\u001b[0m\n\u001b[1;32m    130\u001b[0m     \u001b[0;32mdef\u001b[0m \u001b[0m__call__\u001b[0m\u001b[0;34m(\u001b[0m\u001b[0mself\u001b[0m\u001b[0;34m)\u001b[0m\u001b[0;34m:\u001b[0m\u001b[0;34m\u001b[0m\u001b[0m\n\u001b[0;32m--> 131\u001b[0;31m         \u001b[0;32mreturn\u001b[0m \u001b[0;34m[\u001b[0m\u001b[0mfunc\u001b[0m\u001b[0;34m(\u001b[0m\u001b[0;34m*\u001b[0m\u001b[0margs\u001b[0m\u001b[0;34m,\u001b[0m \u001b[0;34m**\u001b[0m\u001b[0mkwargs\u001b[0m\u001b[0;34m)\u001b[0m \u001b[0;32mfor\u001b[0m \u001b[0mfunc\u001b[0m\u001b[0;34m,\u001b[0m \u001b[0margs\u001b[0m\u001b[0;34m,\u001b[0m \u001b[0mkwargs\u001b[0m \u001b[0;32min\u001b[0m \u001b[0mself\u001b[0m\u001b[0;34m.\u001b[0m\u001b[0mitems\u001b[0m\u001b[0;34m]\u001b[0m\u001b[0;34m\u001b[0m\u001b[0m\n\u001b[0m\u001b[1;32m    132\u001b[0m \u001b[0;34m\u001b[0m\u001b[0m\n\u001b[1;32m    133\u001b[0m     \u001b[0;32mdef\u001b[0m \u001b[0m__len__\u001b[0m\u001b[0;34m(\u001b[0m\u001b[0mself\u001b[0m\u001b[0;34m)\u001b[0m\u001b[0;34m:\u001b[0m\u001b[0;34m\u001b[0m\u001b[0m\n",
      "\u001b[0;32m~/anaconda3/envs/py35/lib/python3.5/site-packages/sklearn/externals/joblib/parallel.py\u001b[0m in \u001b[0;36m<listcomp>\u001b[0;34m(.0)\u001b[0m\n\u001b[1;32m    129\u001b[0m \u001b[0;34m\u001b[0m\u001b[0m\n\u001b[1;32m    130\u001b[0m     \u001b[0;32mdef\u001b[0m \u001b[0m__call__\u001b[0m\u001b[0;34m(\u001b[0m\u001b[0mself\u001b[0m\u001b[0;34m)\u001b[0m\u001b[0;34m:\u001b[0m\u001b[0;34m\u001b[0m\u001b[0m\n\u001b[0;32m--> 131\u001b[0;31m         \u001b[0;32mreturn\u001b[0m \u001b[0;34m[\u001b[0m\u001b[0mfunc\u001b[0m\u001b[0;34m(\u001b[0m\u001b[0;34m*\u001b[0m\u001b[0margs\u001b[0m\u001b[0;34m,\u001b[0m \u001b[0;34m**\u001b[0m\u001b[0mkwargs\u001b[0m\u001b[0;34m)\u001b[0m \u001b[0;32mfor\u001b[0m \u001b[0mfunc\u001b[0m\u001b[0;34m,\u001b[0m \u001b[0margs\u001b[0m\u001b[0;34m,\u001b[0m \u001b[0mkwargs\u001b[0m \u001b[0;32min\u001b[0m \u001b[0mself\u001b[0m\u001b[0;34m.\u001b[0m\u001b[0mitems\u001b[0m\u001b[0;34m]\u001b[0m\u001b[0;34m\u001b[0m\u001b[0m\n\u001b[0m\u001b[1;32m    132\u001b[0m \u001b[0;34m\u001b[0m\u001b[0m\n\u001b[1;32m    133\u001b[0m     \u001b[0;32mdef\u001b[0m \u001b[0m__len__\u001b[0m\u001b[0;34m(\u001b[0m\u001b[0mself\u001b[0m\u001b[0;34m)\u001b[0m\u001b[0;34m:\u001b[0m\u001b[0;34m\u001b[0m\u001b[0m\n",
      "\u001b[0;32m~/anaconda3/envs/py35/lib/python3.5/site-packages/sklearn/model_selection/_validation.py\u001b[0m in \u001b[0;36m_fit_and_score\u001b[0;34m(estimator, X, y, scorer, train, test, verbose, parameters, fit_params, return_train_score, return_parameters, return_n_test_samples, return_times, error_score)\u001b[0m\n\u001b[1;32m    456\u001b[0m             \u001b[0mestimator\u001b[0m\u001b[0;34m.\u001b[0m\u001b[0mfit\u001b[0m\u001b[0;34m(\u001b[0m\u001b[0mX_train\u001b[0m\u001b[0;34m,\u001b[0m \u001b[0;34m**\u001b[0m\u001b[0mfit_params\u001b[0m\u001b[0;34m)\u001b[0m\u001b[0;34m\u001b[0m\u001b[0m\n\u001b[1;32m    457\u001b[0m         \u001b[0;32melse\u001b[0m\u001b[0;34m:\u001b[0m\u001b[0;34m\u001b[0m\u001b[0m\n\u001b[0;32m--> 458\u001b[0;31m             \u001b[0mestimator\u001b[0m\u001b[0;34m.\u001b[0m\u001b[0mfit\u001b[0m\u001b[0;34m(\u001b[0m\u001b[0mX_train\u001b[0m\u001b[0;34m,\u001b[0m \u001b[0my_train\u001b[0m\u001b[0;34m,\u001b[0m \u001b[0;34m**\u001b[0m\u001b[0mfit_params\u001b[0m\u001b[0;34m)\u001b[0m\u001b[0;34m\u001b[0m\u001b[0m\n\u001b[0m\u001b[1;32m    459\u001b[0m \u001b[0;34m\u001b[0m\u001b[0m\n\u001b[1;32m    460\u001b[0m     \u001b[0;32mexcept\u001b[0m \u001b[0mException\u001b[0m \u001b[0;32mas\u001b[0m \u001b[0me\u001b[0m\u001b[0;34m:\u001b[0m\u001b[0;34m\u001b[0m\u001b[0m\n",
      "\u001b[0;32m~/anaconda3/envs/py35/lib/python3.5/site-packages/sklearn/pipeline.py\u001b[0m in \u001b[0;36mfit\u001b[0;34m(self, X, y, **fit_params)\u001b[0m\n\u001b[1;32m    248\u001b[0m         \u001b[0mXt\u001b[0m\u001b[0;34m,\u001b[0m \u001b[0mfit_params\u001b[0m \u001b[0;34m=\u001b[0m \u001b[0mself\u001b[0m\u001b[0;34m.\u001b[0m\u001b[0m_fit\u001b[0m\u001b[0;34m(\u001b[0m\u001b[0mX\u001b[0m\u001b[0;34m,\u001b[0m \u001b[0my\u001b[0m\u001b[0;34m,\u001b[0m \u001b[0;34m**\u001b[0m\u001b[0mfit_params\u001b[0m\u001b[0;34m)\u001b[0m\u001b[0;34m\u001b[0m\u001b[0m\n\u001b[1;32m    249\u001b[0m         \u001b[0;32mif\u001b[0m \u001b[0mself\u001b[0m\u001b[0;34m.\u001b[0m\u001b[0m_final_estimator\u001b[0m \u001b[0;32mis\u001b[0m \u001b[0;32mnot\u001b[0m \u001b[0;32mNone\u001b[0m\u001b[0;34m:\u001b[0m\u001b[0;34m\u001b[0m\u001b[0m\n\u001b[0;32m--> 250\u001b[0;31m             \u001b[0mself\u001b[0m\u001b[0;34m.\u001b[0m\u001b[0m_final_estimator\u001b[0m\u001b[0;34m.\u001b[0m\u001b[0mfit\u001b[0m\u001b[0;34m(\u001b[0m\u001b[0mXt\u001b[0m\u001b[0;34m,\u001b[0m \u001b[0my\u001b[0m\u001b[0;34m,\u001b[0m \u001b[0;34m**\u001b[0m\u001b[0mfit_params\u001b[0m\u001b[0;34m)\u001b[0m\u001b[0;34m\u001b[0m\u001b[0m\n\u001b[0m\u001b[1;32m    251\u001b[0m         \u001b[0;32mreturn\u001b[0m \u001b[0mself\u001b[0m\u001b[0;34m\u001b[0m\u001b[0m\n\u001b[1;32m    252\u001b[0m \u001b[0;34m\u001b[0m\u001b[0m\n",
      "\u001b[0;32m~/anaconda3/envs/py35/lib/python3.5/site-packages/sklearn/ensemble/forest.py\u001b[0m in \u001b[0;36mfit\u001b[0;34m(self, X, y, sample_weight)\u001b[0m\n\u001b[1;32m    326\u001b[0m                     \u001b[0mt\u001b[0m\u001b[0;34m,\u001b[0m \u001b[0mself\u001b[0m\u001b[0;34m,\u001b[0m \u001b[0mX\u001b[0m\u001b[0;34m,\u001b[0m \u001b[0my\u001b[0m\u001b[0;34m,\u001b[0m \u001b[0msample_weight\u001b[0m\u001b[0;34m,\u001b[0m \u001b[0mi\u001b[0m\u001b[0;34m,\u001b[0m \u001b[0mlen\u001b[0m\u001b[0;34m(\u001b[0m\u001b[0mtrees\u001b[0m\u001b[0;34m)\u001b[0m\u001b[0;34m,\u001b[0m\u001b[0;34m\u001b[0m\u001b[0m\n\u001b[1;32m    327\u001b[0m                     verbose=self.verbose, class_weight=self.class_weight)\n\u001b[0;32m--> 328\u001b[0;31m                 for i, t in enumerate(trees))\n\u001b[0m\u001b[1;32m    329\u001b[0m \u001b[0;34m\u001b[0m\u001b[0m\n\u001b[1;32m    330\u001b[0m             \u001b[0;31m# Collect newly grown trees\u001b[0m\u001b[0;34m\u001b[0m\u001b[0;34m\u001b[0m\u001b[0m\n",
      "\u001b[0;32m~/anaconda3/envs/py35/lib/python3.5/site-packages/sklearn/externals/joblib/parallel.py\u001b[0m in \u001b[0;36m__call__\u001b[0;34m(self, iterable)\u001b[0m\n\u001b[1;32m    777\u001b[0m             \u001b[0;31m# was dispatched. In particular this covers the edge\u001b[0m\u001b[0;34m\u001b[0m\u001b[0;34m\u001b[0m\u001b[0m\n\u001b[1;32m    778\u001b[0m             \u001b[0;31m# case of Parallel used with an exhausted iterator.\u001b[0m\u001b[0;34m\u001b[0m\u001b[0;34m\u001b[0m\u001b[0m\n\u001b[0;32m--> 779\u001b[0;31m             \u001b[0;32mwhile\u001b[0m \u001b[0mself\u001b[0m\u001b[0;34m.\u001b[0m\u001b[0mdispatch_one_batch\u001b[0m\u001b[0;34m(\u001b[0m\u001b[0miterator\u001b[0m\u001b[0;34m)\u001b[0m\u001b[0;34m:\u001b[0m\u001b[0;34m\u001b[0m\u001b[0m\n\u001b[0m\u001b[1;32m    780\u001b[0m                 \u001b[0mself\u001b[0m\u001b[0;34m.\u001b[0m\u001b[0m_iterating\u001b[0m \u001b[0;34m=\u001b[0m \u001b[0;32mTrue\u001b[0m\u001b[0;34m\u001b[0m\u001b[0m\n\u001b[1;32m    781\u001b[0m             \u001b[0;32melse\u001b[0m\u001b[0;34m:\u001b[0m\u001b[0;34m\u001b[0m\u001b[0m\n",
      "\u001b[0;32m~/anaconda3/envs/py35/lib/python3.5/site-packages/sklearn/externals/joblib/parallel.py\u001b[0m in \u001b[0;36mdispatch_one_batch\u001b[0;34m(self, iterator)\u001b[0m\n\u001b[1;32m    623\u001b[0m                 \u001b[0;32mreturn\u001b[0m \u001b[0;32mFalse\u001b[0m\u001b[0;34m\u001b[0m\u001b[0m\n\u001b[1;32m    624\u001b[0m             \u001b[0;32melse\u001b[0m\u001b[0;34m:\u001b[0m\u001b[0;34m\u001b[0m\u001b[0m\n\u001b[0;32m--> 625\u001b[0;31m                 \u001b[0mself\u001b[0m\u001b[0;34m.\u001b[0m\u001b[0m_dispatch\u001b[0m\u001b[0;34m(\u001b[0m\u001b[0mtasks\u001b[0m\u001b[0;34m)\u001b[0m\u001b[0;34m\u001b[0m\u001b[0m\n\u001b[0m\u001b[1;32m    626\u001b[0m                 \u001b[0;32mreturn\u001b[0m \u001b[0;32mTrue\u001b[0m\u001b[0;34m\u001b[0m\u001b[0m\n\u001b[1;32m    627\u001b[0m \u001b[0;34m\u001b[0m\u001b[0m\n",
      "\u001b[0;32m~/anaconda3/envs/py35/lib/python3.5/site-packages/sklearn/externals/joblib/parallel.py\u001b[0m in \u001b[0;36m_dispatch\u001b[0;34m(self, batch)\u001b[0m\n\u001b[1;32m    586\u001b[0m         \u001b[0mdispatch_timestamp\u001b[0m \u001b[0;34m=\u001b[0m \u001b[0mtime\u001b[0m\u001b[0;34m.\u001b[0m\u001b[0mtime\u001b[0m\u001b[0;34m(\u001b[0m\u001b[0;34m)\u001b[0m\u001b[0;34m\u001b[0m\u001b[0m\n\u001b[1;32m    587\u001b[0m         \u001b[0mcb\u001b[0m \u001b[0;34m=\u001b[0m \u001b[0mBatchCompletionCallBack\u001b[0m\u001b[0;34m(\u001b[0m\u001b[0mdispatch_timestamp\u001b[0m\u001b[0;34m,\u001b[0m \u001b[0mlen\u001b[0m\u001b[0;34m(\u001b[0m\u001b[0mbatch\u001b[0m\u001b[0;34m)\u001b[0m\u001b[0;34m,\u001b[0m \u001b[0mself\u001b[0m\u001b[0;34m)\u001b[0m\u001b[0;34m\u001b[0m\u001b[0m\n\u001b[0;32m--> 588\u001b[0;31m         \u001b[0mjob\u001b[0m \u001b[0;34m=\u001b[0m \u001b[0mself\u001b[0m\u001b[0;34m.\u001b[0m\u001b[0m_backend\u001b[0m\u001b[0;34m.\u001b[0m\u001b[0mapply_async\u001b[0m\u001b[0;34m(\u001b[0m\u001b[0mbatch\u001b[0m\u001b[0;34m,\u001b[0m \u001b[0mcallback\u001b[0m\u001b[0;34m=\u001b[0m\u001b[0mcb\u001b[0m\u001b[0;34m)\u001b[0m\u001b[0;34m\u001b[0m\u001b[0m\n\u001b[0m\u001b[1;32m    589\u001b[0m         \u001b[0mself\u001b[0m\u001b[0;34m.\u001b[0m\u001b[0m_jobs\u001b[0m\u001b[0;34m.\u001b[0m\u001b[0mappend\u001b[0m\u001b[0;34m(\u001b[0m\u001b[0mjob\u001b[0m\u001b[0;34m)\u001b[0m\u001b[0;34m\u001b[0m\u001b[0m\n\u001b[1;32m    590\u001b[0m \u001b[0;34m\u001b[0m\u001b[0m\n",
      "\u001b[0;32m~/anaconda3/envs/py35/lib/python3.5/site-packages/sklearn/externals/joblib/_parallel_backends.py\u001b[0m in \u001b[0;36mapply_async\u001b[0;34m(self, func, callback)\u001b[0m\n\u001b[1;32m    109\u001b[0m     \u001b[0;32mdef\u001b[0m \u001b[0mapply_async\u001b[0m\u001b[0;34m(\u001b[0m\u001b[0mself\u001b[0m\u001b[0;34m,\u001b[0m \u001b[0mfunc\u001b[0m\u001b[0;34m,\u001b[0m \u001b[0mcallback\u001b[0m\u001b[0;34m=\u001b[0m\u001b[0;32mNone\u001b[0m\u001b[0;34m)\u001b[0m\u001b[0;34m:\u001b[0m\u001b[0;34m\u001b[0m\u001b[0m\n\u001b[1;32m    110\u001b[0m         \u001b[0;34m\"\"\"Schedule a func to be run\"\"\"\u001b[0m\u001b[0;34m\u001b[0m\u001b[0m\n\u001b[0;32m--> 111\u001b[0;31m         \u001b[0mresult\u001b[0m \u001b[0;34m=\u001b[0m \u001b[0mImmediateResult\u001b[0m\u001b[0;34m(\u001b[0m\u001b[0mfunc\u001b[0m\u001b[0;34m)\u001b[0m\u001b[0;34m\u001b[0m\u001b[0m\n\u001b[0m\u001b[1;32m    112\u001b[0m         \u001b[0;32mif\u001b[0m \u001b[0mcallback\u001b[0m\u001b[0;34m:\u001b[0m\u001b[0;34m\u001b[0m\u001b[0m\n\u001b[1;32m    113\u001b[0m             \u001b[0mcallback\u001b[0m\u001b[0;34m(\u001b[0m\u001b[0mresult\u001b[0m\u001b[0;34m)\u001b[0m\u001b[0;34m\u001b[0m\u001b[0m\n",
      "\u001b[0;32m~/anaconda3/envs/py35/lib/python3.5/site-packages/sklearn/externals/joblib/_parallel_backends.py\u001b[0m in \u001b[0;36m__init__\u001b[0;34m(self, batch)\u001b[0m\n\u001b[1;32m    330\u001b[0m         \u001b[0;31m# Don't delay the application, to avoid keeping the input\u001b[0m\u001b[0;34m\u001b[0m\u001b[0;34m\u001b[0m\u001b[0m\n\u001b[1;32m    331\u001b[0m         \u001b[0;31m# arguments in memory\u001b[0m\u001b[0;34m\u001b[0m\u001b[0;34m\u001b[0m\u001b[0m\n\u001b[0;32m--> 332\u001b[0;31m         \u001b[0mself\u001b[0m\u001b[0;34m.\u001b[0m\u001b[0mresults\u001b[0m \u001b[0;34m=\u001b[0m \u001b[0mbatch\u001b[0m\u001b[0;34m(\u001b[0m\u001b[0;34m)\u001b[0m\u001b[0;34m\u001b[0m\u001b[0m\n\u001b[0m\u001b[1;32m    333\u001b[0m \u001b[0;34m\u001b[0m\u001b[0m\n\u001b[1;32m    334\u001b[0m     \u001b[0;32mdef\u001b[0m \u001b[0mget\u001b[0m\u001b[0;34m(\u001b[0m\u001b[0mself\u001b[0m\u001b[0;34m)\u001b[0m\u001b[0;34m:\u001b[0m\u001b[0;34m\u001b[0m\u001b[0m\n",
      "\u001b[0;32m~/anaconda3/envs/py35/lib/python3.5/site-packages/sklearn/externals/joblib/parallel.py\u001b[0m in \u001b[0;36m__call__\u001b[0;34m(self)\u001b[0m\n\u001b[1;32m    129\u001b[0m \u001b[0;34m\u001b[0m\u001b[0m\n\u001b[1;32m    130\u001b[0m     \u001b[0;32mdef\u001b[0m \u001b[0m__call__\u001b[0m\u001b[0;34m(\u001b[0m\u001b[0mself\u001b[0m\u001b[0;34m)\u001b[0m\u001b[0;34m:\u001b[0m\u001b[0;34m\u001b[0m\u001b[0m\n\u001b[0;32m--> 131\u001b[0;31m         \u001b[0;32mreturn\u001b[0m \u001b[0;34m[\u001b[0m\u001b[0mfunc\u001b[0m\u001b[0;34m(\u001b[0m\u001b[0;34m*\u001b[0m\u001b[0margs\u001b[0m\u001b[0;34m,\u001b[0m \u001b[0;34m**\u001b[0m\u001b[0mkwargs\u001b[0m\u001b[0;34m)\u001b[0m \u001b[0;32mfor\u001b[0m \u001b[0mfunc\u001b[0m\u001b[0;34m,\u001b[0m \u001b[0margs\u001b[0m\u001b[0;34m,\u001b[0m \u001b[0mkwargs\u001b[0m \u001b[0;32min\u001b[0m \u001b[0mself\u001b[0m\u001b[0;34m.\u001b[0m\u001b[0mitems\u001b[0m\u001b[0;34m]\u001b[0m\u001b[0;34m\u001b[0m\u001b[0m\n\u001b[0m\u001b[1;32m    132\u001b[0m \u001b[0;34m\u001b[0m\u001b[0m\n\u001b[1;32m    133\u001b[0m     \u001b[0;32mdef\u001b[0m \u001b[0m__len__\u001b[0m\u001b[0;34m(\u001b[0m\u001b[0mself\u001b[0m\u001b[0;34m)\u001b[0m\u001b[0;34m:\u001b[0m\u001b[0;34m\u001b[0m\u001b[0m\n",
      "\u001b[0;32m~/anaconda3/envs/py35/lib/python3.5/site-packages/sklearn/externals/joblib/parallel.py\u001b[0m in \u001b[0;36m<listcomp>\u001b[0;34m(.0)\u001b[0m\n\u001b[1;32m    129\u001b[0m \u001b[0;34m\u001b[0m\u001b[0m\n\u001b[1;32m    130\u001b[0m     \u001b[0;32mdef\u001b[0m \u001b[0m__call__\u001b[0m\u001b[0;34m(\u001b[0m\u001b[0mself\u001b[0m\u001b[0;34m)\u001b[0m\u001b[0;34m:\u001b[0m\u001b[0;34m\u001b[0m\u001b[0m\n\u001b[0;32m--> 131\u001b[0;31m         \u001b[0;32mreturn\u001b[0m \u001b[0;34m[\u001b[0m\u001b[0mfunc\u001b[0m\u001b[0;34m(\u001b[0m\u001b[0;34m*\u001b[0m\u001b[0margs\u001b[0m\u001b[0;34m,\u001b[0m \u001b[0;34m**\u001b[0m\u001b[0mkwargs\u001b[0m\u001b[0;34m)\u001b[0m \u001b[0;32mfor\u001b[0m \u001b[0mfunc\u001b[0m\u001b[0;34m,\u001b[0m \u001b[0margs\u001b[0m\u001b[0;34m,\u001b[0m \u001b[0mkwargs\u001b[0m \u001b[0;32min\u001b[0m \u001b[0mself\u001b[0m\u001b[0;34m.\u001b[0m\u001b[0mitems\u001b[0m\u001b[0;34m]\u001b[0m\u001b[0;34m\u001b[0m\u001b[0m\n\u001b[0m\u001b[1;32m    132\u001b[0m \u001b[0;34m\u001b[0m\u001b[0m\n\u001b[1;32m    133\u001b[0m     \u001b[0;32mdef\u001b[0m \u001b[0m__len__\u001b[0m\u001b[0;34m(\u001b[0m\u001b[0mself\u001b[0m\u001b[0;34m)\u001b[0m\u001b[0;34m:\u001b[0m\u001b[0;34m\u001b[0m\u001b[0m\n",
      "\u001b[0;32m~/anaconda3/envs/py35/lib/python3.5/site-packages/sklearn/ensemble/forest.py\u001b[0m in \u001b[0;36m_parallel_build_trees\u001b[0;34m(tree, forest, X, y, sample_weight, tree_idx, n_trees, verbose, class_weight)\u001b[0m\n\u001b[1;32m    119\u001b[0m             \u001b[0mcurr_sample_weight\u001b[0m \u001b[0;34m*=\u001b[0m \u001b[0mcompute_sample_weight\u001b[0m\u001b[0;34m(\u001b[0m\u001b[0;34m'balanced'\u001b[0m\u001b[0;34m,\u001b[0m \u001b[0my\u001b[0m\u001b[0;34m,\u001b[0m \u001b[0mindices\u001b[0m\u001b[0;34m)\u001b[0m\u001b[0;34m\u001b[0m\u001b[0m\n\u001b[1;32m    120\u001b[0m \u001b[0;34m\u001b[0m\u001b[0m\n\u001b[0;32m--> 121\u001b[0;31m         \u001b[0mtree\u001b[0m\u001b[0;34m.\u001b[0m\u001b[0mfit\u001b[0m\u001b[0;34m(\u001b[0m\u001b[0mX\u001b[0m\u001b[0;34m,\u001b[0m \u001b[0my\u001b[0m\u001b[0;34m,\u001b[0m \u001b[0msample_weight\u001b[0m\u001b[0;34m=\u001b[0m\u001b[0mcurr_sample_weight\u001b[0m\u001b[0;34m,\u001b[0m \u001b[0mcheck_input\u001b[0m\u001b[0;34m=\u001b[0m\u001b[0;32mFalse\u001b[0m\u001b[0;34m)\u001b[0m\u001b[0;34m\u001b[0m\u001b[0m\n\u001b[0m\u001b[1;32m    122\u001b[0m     \u001b[0;32melse\u001b[0m\u001b[0;34m:\u001b[0m\u001b[0;34m\u001b[0m\u001b[0m\n\u001b[1;32m    123\u001b[0m         \u001b[0mtree\u001b[0m\u001b[0;34m.\u001b[0m\u001b[0mfit\u001b[0m\u001b[0;34m(\u001b[0m\u001b[0mX\u001b[0m\u001b[0;34m,\u001b[0m \u001b[0my\u001b[0m\u001b[0;34m,\u001b[0m \u001b[0msample_weight\u001b[0m\u001b[0;34m=\u001b[0m\u001b[0msample_weight\u001b[0m\u001b[0;34m,\u001b[0m \u001b[0mcheck_input\u001b[0m\u001b[0;34m=\u001b[0m\u001b[0;32mFalse\u001b[0m\u001b[0;34m)\u001b[0m\u001b[0;34m\u001b[0m\u001b[0m\n",
      "\u001b[0;32m~/anaconda3/envs/py35/lib/python3.5/site-packages/sklearn/tree/tree.py\u001b[0m in \u001b[0;36mfit\u001b[0;34m(self, X, y, sample_weight, check_input, X_idx_sorted)\u001b[0m\n\u001b[1;32m    788\u001b[0m             \u001b[0msample_weight\u001b[0m\u001b[0;34m=\u001b[0m\u001b[0msample_weight\u001b[0m\u001b[0;34m,\u001b[0m\u001b[0;34m\u001b[0m\u001b[0m\n\u001b[1;32m    789\u001b[0m             \u001b[0mcheck_input\u001b[0m\u001b[0;34m=\u001b[0m\u001b[0mcheck_input\u001b[0m\u001b[0;34m,\u001b[0m\u001b[0;34m\u001b[0m\u001b[0m\n\u001b[0;32m--> 790\u001b[0;31m             X_idx_sorted=X_idx_sorted)\n\u001b[0m\u001b[1;32m    791\u001b[0m         \u001b[0;32mreturn\u001b[0m \u001b[0mself\u001b[0m\u001b[0;34m\u001b[0m\u001b[0m\n\u001b[1;32m    792\u001b[0m \u001b[0;34m\u001b[0m\u001b[0m\n",
      "\u001b[0;32m~/anaconda3/envs/py35/lib/python3.5/site-packages/sklearn/tree/tree.py\u001b[0m in \u001b[0;36mfit\u001b[0;34m(self, X, y, sample_weight, check_input, X_idx_sorted)\u001b[0m\n\u001b[1;32m    360\u001b[0m                                            min_impurity_split)\n\u001b[1;32m    361\u001b[0m \u001b[0;34m\u001b[0m\u001b[0m\n\u001b[0;32m--> 362\u001b[0;31m         \u001b[0mbuilder\u001b[0m\u001b[0;34m.\u001b[0m\u001b[0mbuild\u001b[0m\u001b[0;34m(\u001b[0m\u001b[0mself\u001b[0m\u001b[0;34m.\u001b[0m\u001b[0mtree_\u001b[0m\u001b[0;34m,\u001b[0m \u001b[0mX\u001b[0m\u001b[0;34m,\u001b[0m \u001b[0my\u001b[0m\u001b[0;34m,\u001b[0m \u001b[0msample_weight\u001b[0m\u001b[0;34m,\u001b[0m \u001b[0mX_idx_sorted\u001b[0m\u001b[0;34m)\u001b[0m\u001b[0;34m\u001b[0m\u001b[0m\n\u001b[0m\u001b[1;32m    363\u001b[0m \u001b[0;34m\u001b[0m\u001b[0m\n\u001b[1;32m    364\u001b[0m         \u001b[0;32mif\u001b[0m \u001b[0mself\u001b[0m\u001b[0;34m.\u001b[0m\u001b[0mn_outputs_\u001b[0m \u001b[0;34m==\u001b[0m \u001b[0;36m1\u001b[0m\u001b[0;34m:\u001b[0m\u001b[0;34m\u001b[0m\u001b[0m\n",
      "\u001b[0;31mKeyboardInterrupt\u001b[0m: "
     ]
    }
   ],
   "source": [
    "n_splits = 10\n",
    "X, y = mri_data, labels[\"E/no E\"]\n",
    "\n",
    "best_model_mri_E, grid_cv_svc_mri_E, grid_cv_lr_mri_E, grid_cv_rfc_mri_E, grid_cv_knn_mri_E = train_grid_cv(\n",
    "    X, y, n_splits=n_splits, n_repeats=5)\n",
    "\n",
    "cv = RepeatedStratifiedKFold(n_splits=n_splits, n_repeats=10, random_state=42)\n",
    "labels_mri_E = repeated_cross_val_predict(best_model_mri_E, X, y, cv, file=\"labels_mri_E.csv\")\n",
    "\n",
    "save_model(best_model_mri_E, \"best_model_mri_E.pkl\")"
   ]
  },
  {
   "cell_type": "markdown",
   "metadata": {},
   "source": [
    "### Depression / no depression"
   ]
  },
  {
   "cell_type": "code",
   "execution_count": 26,
   "metadata": {
    "collapsed": true
   },
   "outputs": [],
   "source": [
    "n_splits = 10\n",
    "X, y = mri_data, labels[\"D/no D\"]\n",
    "\n",
    "best_model_mri_D, grid_cv_svc_mri_D, grid_cv_lr_mri_D, grid_cv_rfc_mri_D, grid_cv_knn_mri_D = train_grid_cv(\n",
    "    X, y, n_splits=n_splits, n_repeats=5)\n",
    "\n",
    "cv = RepeatedStratifiedKFold(n_splits=n_splits, n_repeats=10, random_state=42)\n",
    "labels_mri_D = repeated_cross_val_predict(best_model_mri_D, X, y, cv, file=\"labels_mri_D.csv\")\n",
    "\n",
    "save_model(best_model_mri_D, \"best_model_mri_D.pkl\")"
   ]
  },
  {
   "cell_type": "markdown",
   "metadata": {},
   "source": [
    "### Epilepsy / control"
   ]
  },
  {
   "cell_type": "code",
   "execution_count": 32,
   "metadata": {},
   "outputs": [
    {
     "name": "stdout",
     "output_type": "stream",
     "text": [
      "Training SVC...\n",
      "(training took 303.95731234550476s)\n",
      "\n",
      "Training LR...\n",
      "(training took 10.24242377281189s)\n",
      "\n",
      "Training RFC...\n",
      "(training took 917.6724207401276s)\n",
      "\n",
      "Training KNN...\n",
      "(training took 134.008887052536s)\n",
      "\n"
     ]
    },
    {
     "data": {
      "text/html": [
       "<div>\n",
       "<style>\n",
       "    .dataframe thead tr:only-child th {\n",
       "        text-align: right;\n",
       "    }\n",
       "\n",
       "    .dataframe thead th {\n",
       "        text-align: left;\n",
       "    }\n",
       "\n",
       "    .dataframe tbody tr th {\n",
       "        vertical-align: top;\n",
       "    }\n",
       "</style>\n",
       "<table border=\"1\" class=\"dataframe\">\n",
       "  <thead>\n",
       "    <tr style=\"text-align: right;\">\n",
       "      <th></th>\n",
       "      <th>best parameters</th>\n",
       "      <th>best dim. reduction method</th>\n",
       "      <th>mean</th>\n",
       "      <th>std</th>\n",
       "    </tr>\n",
       "    <tr>\n",
       "      <th>classifier</th>\n",
       "      <th></th>\n",
       "      <th></th>\n",
       "      <th></th>\n",
       "      <th></th>\n",
       "    </tr>\n",
       "  </thead>\n",
       "  <tbody>\n",
       "    <tr>\n",
       "      <th>LR</th>\n",
       "      <td>classifier__C = 1e-06</td>\n",
       "      <td>SelectKBest(k=100, score_func=&lt;function ttest_ind at 0x7f6955ad1510&gt;)</td>\n",
       "      <td>0.67</td>\n",
       "      <td>0.167631</td>\n",
       "    </tr>\n",
       "    <tr>\n",
       "      <th>RFC</th>\n",
       "      <td>classifier__n_estimators = 300</td>\n",
       "      <td>SelectKBest(k=10, score_func=&lt;function ttest_ind at 0x7f6955ad1510&gt;)</td>\n",
       "      <td>0.71</td>\n",
       "      <td>0.137477</td>\n",
       "    </tr>\n",
       "    <tr>\n",
       "      <th>KNN</th>\n",
       "      <td>classifier__weights = distance, classifier__n_neighbors = 5, classifier__p = 1</td>\n",
       "      <td>SelectKBest(k=5, score_func=&lt;function ttest_ind at 0x7f6955ad1510&gt;)</td>\n",
       "      <td>0.68</td>\n",
       "      <td>0.107703</td>\n",
       "    </tr>\n",
       "    <tr>\n",
       "      <th>SVC</th>\n",
       "      <td>classifier__kernel = rbf, classifier__gamma = 1, classifier__C = 1e-06</td>\n",
       "      <td>SelectKBest(k=5, score_func=&lt;function ttest_ind at 0x7f6955ad1510&gt;)</td>\n",
       "      <td>0.68</td>\n",
       "      <td>0.188680</td>\n",
       "    </tr>\n",
       "  </tbody>\n",
       "</table>\n",
       "</div>"
      ],
      "text/plain": [
       "                                                                           best parameters  \\\n",
       "classifier                                                                                   \n",
       "LR                                                                   classifier__C = 1e-06   \n",
       "RFC                                                         classifier__n_estimators = 300   \n",
       "KNN         classifier__weights = distance, classifier__n_neighbors = 5, classifier__p = 1   \n",
       "SVC                 classifier__kernel = rbf, classifier__gamma = 1, classifier__C = 1e-06   \n",
       "\n",
       "                                                       best dim. reduction method  \\\n",
       "classifier                                                                          \n",
       "LR          SelectKBest(k=100, score_func=<function ttest_ind at 0x7f6955ad1510>)   \n",
       "RFC          SelectKBest(k=10, score_func=<function ttest_ind at 0x7f6955ad1510>)   \n",
       "KNN           SelectKBest(k=5, score_func=<function ttest_ind at 0x7f6955ad1510>)   \n",
       "SVC           SelectKBest(k=5, score_func=<function ttest_ind at 0x7f6955ad1510>)   \n",
       "\n",
       "            mean       std  \n",
       "classifier                  \n",
       "LR          0.67  0.167631  \n",
       "RFC         0.71  0.137477  \n",
       "KNN         0.68  0.107703  \n",
       "SVC         0.68  0.188680  "
      ]
     },
     "metadata": {},
     "output_type": "display_data"
    },
    {
     "data": {
      "image/png": "[encoded data removed]",
      "text/plain": [
       "<matplotlib.figure.Figure at 0x7f694e771f60>"
      ]
     },
     "metadata": {},
     "output_type": "display_data"
    },
    {
     "name": "stderr",
     "output_type": "stream",
     "text": [
      "\r",
      "0it [00:00, ?it/s]"
     ]
    },
    {
     "name": "stdout",
     "output_type": "stream",
     "text": [
      "Best model: \n",
      "RFC\n",
      "classifier__n_estimators = 300\n",
      "dim_reduction = SelectKBest(k=10, score_func=<function ttest_ind at 0x7f6955ad1510>)\n",
      "\n",
      "mean = 0.71\n",
      "std = 0.137477270849\n"
     ]
    },
    {
     "name": "stderr",
     "output_type": "stream",
     "text": [
      "50it [00:34,  1.45it/s]\n"
     ]
    }
   ],
   "source": [
    "n_splits = 5\n",
    "X, y = mri_data[EC_idx], labels[EC_idx][\"E/C\"]\n",
    "\n",
    "best_model_mri_EC, grid_cv_svc_mri_EC, grid_cv_lr_mri_EC, grid_cv_rfc_mri_EC, grid_cv_knn_mri_EC = train_grid_cv(\n",
    "    X, y, n_splits=n_splits, n_repeats=5)\n",
    "\n",
    "cv = RepeatedStratifiedKFold(n_splits=n_splits, n_repeats=10, random_state=42)\n",
    "labels_mri_EC = repeated_cross_val_predict(best_model_mri_EC, X, y, cv, file=\"labels_mri_EC.csv\")\n",
    "\n",
    "save_model(best_model_mri_EC, \"best_model_mri_EC.pkl\")"
   ]
  },
  {
   "cell_type": "markdown",
   "metadata": {},
   "source": [
    "### Depression / control"
   ]
  },
  {
   "cell_type": "code",
   "execution_count": null,
   "metadata": {
    "collapsed": true
   },
   "outputs": [],
   "source": [
    "n_splits = 5\n",
    "X, y = mri_data[DC_idx], labels[DC_idx][\"D/C\"]\n",
    "\n",
    "best_model_mri_DC, grid_cv_svc_mri_DC, grid_cv_lr_mri_DC, grid_cv_rfc_mri_DC, grid_cv_knn_mri_DC = train_grid_cv(\n",
    "    X, y, n_splits=n_splits, n_repeats=5)\n",
    "\n",
    "cv = RepeatedStratifiedKFold(n_splits=n_splits, n_repeats=10, random_state=42)\n",
    "labels_mri_DC = repeated_cross_val_predict(best_model_mri_DC, X, y, cv, file=\"labels_mri_DC.csv\")\n",
    "\n",
    "save_model(best_model_mri_DC, \"best_model_mri_DC.pkl\")"
   ]
  },
  {
   "cell_type": "markdown",
   "metadata": {},
   "source": [
    "### Epilepsy with depression / only epilepsy"
   ]
  },
  {
   "cell_type": "code",
   "execution_count": 19,
   "metadata": {},
   "outputs": [],
   "source": [
    "n_splits = 5\n",
    "X, y = mri_data[DEE_idx], labels[DEE_idx][\"DE/E\"]\n",
    "\n",
    "best_model_mri_DEE, grid_cv_svc_mri_DEE, grid_cv_lr_mri_DEE, grid_cv_rfc_mri_DEE, grid_cv_knn_mri_DEE = train_grid_cv(\n",
    "    X, y, n_splits=n_splits, n_repeats=5)\n",
    "\n",
    "cv = RepeatedStratifiedKFold(n_splits=n_splits, n_repeats=10, random_state=42)\n",
    "labels_mri_DEE = repeated_cross_val_predict(best_model_mri_DEE, X, y, cv, file=\"labels_mri_DEE.csv\")\n",
    "\n",
    "save_model(best_model_mri_DEE, \"best_model_mri_DEE.pkl\")"
   ]
  },
  {
   "cell_type": "markdown",
   "metadata": {},
   "source": [
    "### TLE / no epilepsy"
   ]
  },
  {
   "cell_type": "code",
   "execution_count": 18,
   "metadata": {},
   "outputs": [],
   "source": [
    "n_splits = 5 # ?\n",
    "X, y = mri_data[TLE_idx], labels[TLE_idx][\"TLE/no E\"]\n",
    "\n",
    "best_model_mri_TLE, grid_cv_svc_mri_TLE, grid_cv_lr_mri_TLE, grid_cv_rfc_mri_TLE, grid_cv_knn_mri_TLE = train_grid_cv(\n",
    "    X, y, n_splits=n_splits, n_repeats=5)\n",
    "\n",
    "cv = RepeatedStratifiedKFold(n_splits=n_splits, n_repeats=10, random_state=42)\n",
    "labels_mri_TLE = repeated_cross_val_predict(best_model_mri_TLE, X, y, cv, file=\"labels_mri_TLE.csv\")\n",
    "\n",
    "save_model(best_model_mri_TLE, \"best_model_mri_TLE.pkl\")"
   ]
  },
  {
   "cell_type": "code",
   "execution_count": 17,
   "metadata": {},
   "outputs": [
    {
     "data": {
      "text/plain": [
       "4.0    50\n",
       "6.0    30\n",
       "Name: TLE/no E, dtype: int64"
      ]
     },
     "execution_count": 17,
     "metadata": {},
     "output_type": "execute_result"
    }
   ],
   "source": [
    "labels[TLE_idx][\"TLE/no E\"].value_counts()"
   ]
  },
  {
   "cell_type": "markdown",
   "metadata": {},
   "source": [
    "### TLE / control"
   ]
  },
  {
   "cell_type": "code",
   "execution_count": null,
   "metadata": {},
   "outputs": [
    {
     "name": "stdout",
     "output_type": "stream",
     "text": [
      "Training SVC...\n"
     ]
    }
   ],
   "source": [
    "n_splits = 5 # ?\n",
    "X, y = mri_data[TLEC_idx], labels[TLEC_idx][\"TLE/C\"]\n",
    "\n",
    "best_model_mri_TLEC, grid_cv_svc_mri_TLEC, grid_cv_lr_mri_TLEC, grid_cv_rfc_mri_TLEC, grid_cv_knn_mri_TLEC = train_grid_cv(\n",
    "    X, y, n_splits=n_splits, n_repeats=1)\n",
    "\n",
    "cv = RepeatedStratifiedKFold(n_splits=n_splits, n_repeats=10, random_state=42)\n",
    "labels_mri_TLEC = repeated_cross_val_predict(best_model_mri_TLEC, X, y, cv, file=\"labels_mri_TLEC.csv\")\n",
    "\n",
    "save_model(best_model_mri_TLEC, \"best_model_mri_TLEC.pkl\")"
   ]
  },
  {
   "cell_type": "code",
   "execution_count": 21,
   "metadata": {},
   "outputs": [
    {
     "data": {
      "text/plain": [
       "6.0    30\n",
       "0.0    25\n",
       "Name: TLE/C, dtype: int64"
      ]
     },
     "execution_count": 21,
     "metadata": {},
     "output_type": "execute_result"
    }
   ],
   "source": [
    "labels[TLEC_idx][\"TLE/C\"].value_counts()"
   ]
  },
  {
   "cell_type": "markdown",
   "metadata": {},
   "source": [
    "### MRI positive / MRI negative epilepsy"
   ]
  },
  {
   "cell_type": "code",
   "execution_count": 25,
   "metadata": {},
   "outputs": [],
   "source": [
    "n_splits = 5 # ? \n",
    "X, y = mri_data[PN_idx], labels[PN_idx][\"MRI Positive vs Negative \"]\n",
    "\n",
    "best_model_mri_PN, grid_cv_svc_mri_PN, grid_cv_lr_mri_PN, grid_cv_rfc_mri_PN, grid_cv_knn_mri_PN = train_grid_cv(\n",
    "    X, y, n_splits=n_splits, n_repeats=5)\n",
    "\n",
    "cv = RepeatedStratifiedKFold(n_splits=n_splits, n_repeats=10, random_state=42)\n",
    "labels_mri_PN = repeated_cross_val_predict(best_model_mri_PN, X, y, cv, file=\"labels_mri_PN.csv\")\n",
    "\n",
    "save_model(best_model_mri_PN, \"best_model_mri_PN.pkl\")"
   ]
  },
  {
   "cell_type": "code",
   "execution_count": 23,
   "metadata": {},
   "outputs": [
    {
     "data": {
      "text/plain": [
       "8.0    72\n",
       "7.0    19\n",
       "Name: MRI Positive vs Negative , dtype: int64"
      ]
     },
     "execution_count": 23,
     "metadata": {},
     "output_type": "execute_result"
    }
   ],
   "source": [
    "labels[PN_idx][\"MRI Positive vs Negative \"].value_counts()"
   ]
  },
  {
   "cell_type": "code",
   "execution_count": null,
   "metadata": {
    "collapsed": true
   },
   "outputs": [],
   "source": []
  }
 ],
 "metadata": {
  "kernelspec": {
   "display_name": "Python 3",
   "language": "python",
   "name": "python3"
  },
  "language_info": {
   "codemirror_mode": {
    "name": "ipython",
    "version": 3
   },
   "file_extension": ".py",
   "mimetype": "text/x-python",
   "name": "python",
   "nbconvert_exporter": "python",
   "pygments_lexer": "ipython3",
   "version": "3.5.4"
  }
 },
 "nbformat": 4,
 "nbformat_minor": 2
}
