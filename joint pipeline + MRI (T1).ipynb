{
 "cells": [
  {
   "cell_type": "code",
   "execution_count": 34,
   "metadata": {},
   "outputs": [
    {
     "name": "stdout",
     "output_type": "stream",
     "text": [
      "Populating the interactive namespace from numpy and matplotlib\n"
     ]
    }
   ],
   "source": [
    "import numpy as np\n",
    "import pandas as pd\n",
    "from tqdm import tqdm\n",
    "import time\n",
    "%pylab inline"
   ]
  },
  {
   "cell_type": "code",
   "execution_count": 35,
   "metadata": {
    "collapsed": true
   },
   "outputs": [],
   "source": [
    "from sklearn.model_selection import RepeatedStratifiedKFold, StratifiedKFold, StratifiedShuffleSplit, cross_val_score, cross_val_predict, GridSearchCV\n",
    "from sklearn.feature_selection import SelectFromModel, VarianceThreshold, SelectKBest, f_classif, chi2\n",
    "from sklearn.ensemble import RandomForestClassifier, ExtraTreesClassifier\n",
    "from sklearn.linear_model import LogisticRegression\n",
    "from sklearn.svm import SVC\n",
    "from sklearn.neighbors import KNeighborsClassifier\n",
    "from sklearn.metrics import accuracy_score, precision_score, recall_score, f1_score\n",
    "from sklearn.preprocessing import Imputer, StandardScaler, LabelEncoder\n",
    "from sklearn.decomposition import PCA\n",
    "from sklearn.manifold import LocallyLinearEmbedding\n",
    "from sklearn.pipeline import Pipeline\n",
    "from scipy import stats\n",
    "from sklearn.externals import joblib"
   ]
  },
  {
   "cell_type": "code",
   "execution_count": 36,
   "metadata": {
    "collapsed": true
   },
   "outputs": [],
   "source": [
    "import warnings\n",
    "warnings.filterwarnings(\"ignore\")"
   ]
  },
  {
   "cell_type": "markdown",
   "metadata": {},
   "source": [
    "### Загрузка данных"
   ]
  },
  {
   "cell_type": "code",
   "execution_count": 37,
   "metadata": {
    "collapsed": true
   },
   "outputs": [],
   "source": [
    "mri_data = pd.read_csv(\"T1 morphometry merged 27.02.2018.csv\", index_col=0)\n",
    "\n",
    "labels = pd.read_csv(\"targets 28.02.2018.csv\", sep=\";\")\n",
    "\n",
    "idx_to_label = [\"C\", \"D\", \"E\", \"DE\", \"NE\", \"ND\", \"TLE\", \"Positive\", \"Negative\", \"TLEPositive\", \"TLENegative\", \"NoTLE\"]\n",
    "label_to_idx = {l : i for i, l in enumerate(idx_to_label)}\n",
    "\n",
    "for col in labels.columns[1:]:\n",
    "    labels[col] = labels[col].apply(lambda x: label_to_idx[x] if x in label_to_idx else np.nan)\n",
    "    \n",
    "E_C_idx = labels[\"E/C\"].notnull()\n",
    "TLE_noE_idx = labels[\"TLE/no E\"].notnull()\n",
    "TLE_C_idx = labels[\"TLE/C\"].notnull()\n",
    "D_C_idx = labels[\"D/C\"].notnull()\n",
    "DE_E_idx = labels[\"DE/E\"].notnull()\n",
    "Pos_Neg_idx = labels[\"MRIPositive/Negative \"].notnull()\n",
    "TLEPos_C_idx = labels[\"TLEPositive/C\"].notnull()\n",
    "TLENeg_C_idx = labels[\"TLENegative/C\"].notnull()\n",
    "NoTLE_C_idx = labels[\"NoTLE/C\"].notnull()"
   ]
  },
  {
   "cell_type": "code",
   "execution_count": 38,
   "metadata": {},
   "outputs": [
    {
     "data": {
      "text/html": [
       "<div>\n",
       "<style>\n",
       "    .dataframe thead tr:only-child th {\n",
       "        text-align: right;\n",
       "    }\n",
       "\n",
       "    .dataframe thead th {\n",
       "        text-align: left;\n",
       "    }\n",
       "\n",
       "    .dataframe tbody tr th {\n",
       "        vertical-align: top;\n",
       "    }\n",
       "</style>\n",
       "<table border=\"1\" class=\"dataframe\">\n",
       "  <thead>\n",
       "    <tr style=\"text-align: right;\">\n",
       "      <th></th>\n",
       "      <th>bankssts_NumVert_r</th>\n",
       "      <th>caudalanteriorcingulate_NumVert_r</th>\n",
       "      <th>caudalmiddlefrontal_NumVert_r</th>\n",
       "      <th>cuneus_NumVert_r</th>\n",
       "      <th>entorhinal_NumVert_r</th>\n",
       "      <th>fusiform_NumVert_r</th>\n",
       "      <th>inferiorparietal_NumVert_r</th>\n",
       "      <th>inferiortemporal_NumVert_r</th>\n",
       "      <th>isthmuscingulate_NumVert_r</th>\n",
       "      <th>lateraloccipital_NumVert_r</th>\n",
       "      <th>...</th>\n",
       "      <th>Right-vessel_normRange</th>\n",
       "      <th>Right-choroid-plexus_normRange</th>\n",
       "      <th>5th-Ventricle_normRange</th>\n",
       "      <th>WM-hypointensities_normRange</th>\n",
       "      <th>non-WM-hypointensities_normRange</th>\n",
       "      <th>Optic-Chiasm_normRange</th>\n",
       "      <th>CC_Posterior_normRange</th>\n",
       "      <th>CC_Mid_Posterior_normRange</th>\n",
       "      <th>CC_Central_normRange</th>\n",
       "      <th>CC_Mid_Anterior_normRange</th>\n",
       "    </tr>\n",
       "  </thead>\n",
       "  <tbody>\n",
       "    <tr>\n",
       "      <th>0</th>\n",
       "      <td>1247</td>\n",
       "      <td>986</td>\n",
       "      <td>3896</td>\n",
       "      <td>2867</td>\n",
       "      <td>828</td>\n",
       "      <td>4919</td>\n",
       "      <td>9874</td>\n",
       "      <td>5581</td>\n",
       "      <td>1394</td>\n",
       "      <td>9770</td>\n",
       "      <td>...</td>\n",
       "      <td>0.0</td>\n",
       "      <td>67.0</td>\n",
       "      <td>0.0</td>\n",
       "      <td>88.0</td>\n",
       "      <td>0.0</td>\n",
       "      <td>86.0</td>\n",
       "      <td>79.0</td>\n",
       "      <td>105.0</td>\n",
       "      <td>77.0</td>\n",
       "      <td>73.0</td>\n",
       "    </tr>\n",
       "    <tr>\n",
       "      <th>1</th>\n",
       "      <td>1387</td>\n",
       "      <td>1814</td>\n",
       "      <td>4320</td>\n",
       "      <td>2712</td>\n",
       "      <td>563</td>\n",
       "      <td>6257</td>\n",
       "      <td>11170</td>\n",
       "      <td>7654</td>\n",
       "      <td>1768</td>\n",
       "      <td>10924</td>\n",
       "      <td>...</td>\n",
       "      <td>30.0</td>\n",
       "      <td>63.0</td>\n",
       "      <td>0.0</td>\n",
       "      <td>82.0</td>\n",
       "      <td>0.0</td>\n",
       "      <td>94.0</td>\n",
       "      <td>78.0</td>\n",
       "      <td>108.0</td>\n",
       "      <td>97.0</td>\n",
       "      <td>90.0</td>\n",
       "    </tr>\n",
       "    <tr>\n",
       "      <th>2</th>\n",
       "      <td>1368</td>\n",
       "      <td>936</td>\n",
       "      <td>5289</td>\n",
       "      <td>2636</td>\n",
       "      <td>382</td>\n",
       "      <td>4608</td>\n",
       "      <td>7697</td>\n",
       "      <td>6417</td>\n",
       "      <td>1703</td>\n",
       "      <td>10003</td>\n",
       "      <td>...</td>\n",
       "      <td>36.0</td>\n",
       "      <td>68.0</td>\n",
       "      <td>0.0</td>\n",
       "      <td>120.0</td>\n",
       "      <td>0.0</td>\n",
       "      <td>83.0</td>\n",
       "      <td>94.0</td>\n",
       "      <td>95.0</td>\n",
       "      <td>97.0</td>\n",
       "      <td>81.0</td>\n",
       "    </tr>\n",
       "    <tr>\n",
       "      <th>3</th>\n",
       "      <td>1924</td>\n",
       "      <td>1149</td>\n",
       "      <td>2857</td>\n",
       "      <td>2739</td>\n",
       "      <td>655</td>\n",
       "      <td>4329</td>\n",
       "      <td>8762</td>\n",
       "      <td>5285</td>\n",
       "      <td>1535</td>\n",
       "      <td>9430</td>\n",
       "      <td>...</td>\n",
       "      <td>17.0</td>\n",
       "      <td>69.0</td>\n",
       "      <td>0.0</td>\n",
       "      <td>89.0</td>\n",
       "      <td>0.0</td>\n",
       "      <td>90.0</td>\n",
       "      <td>79.0</td>\n",
       "      <td>96.0</td>\n",
       "      <td>94.0</td>\n",
       "      <td>119.0</td>\n",
       "    </tr>\n",
       "    <tr>\n",
       "      <th>4</th>\n",
       "      <td>1148</td>\n",
       "      <td>976</td>\n",
       "      <td>3864</td>\n",
       "      <td>2823</td>\n",
       "      <td>509</td>\n",
       "      <td>4835</td>\n",
       "      <td>8748</td>\n",
       "      <td>5685</td>\n",
       "      <td>1462</td>\n",
       "      <td>8483</td>\n",
       "      <td>...</td>\n",
       "      <td>80.0</td>\n",
       "      <td>66.0</td>\n",
       "      <td>0.0</td>\n",
       "      <td>74.0</td>\n",
       "      <td>0.0</td>\n",
       "      <td>110.0</td>\n",
       "      <td>71.0</td>\n",
       "      <td>76.0</td>\n",
       "      <td>85.0</td>\n",
       "      <td>77.0</td>\n",
       "    </tr>\n",
       "  </tbody>\n",
       "</table>\n",
       "<p>5 rows × 897 columns</p>\n",
       "</div>"
      ],
      "text/plain": [
       "   bankssts_NumVert_r  caudalanteriorcingulate_NumVert_r  \\\n",
       "0                1247                                986   \n",
       "1                1387                               1814   \n",
       "2                1368                                936   \n",
       "3                1924                               1149   \n",
       "4                1148                                976   \n",
       "\n",
       "   caudalmiddlefrontal_NumVert_r  cuneus_NumVert_r  entorhinal_NumVert_r  \\\n",
       "0                           3896              2867                   828   \n",
       "1                           4320              2712                   563   \n",
       "2                           5289              2636                   382   \n",
       "3                           2857              2739                   655   \n",
       "4                           3864              2823                   509   \n",
       "\n",
       "   fusiform_NumVert_r  inferiorparietal_NumVert_r  inferiortemporal_NumVert_r  \\\n",
       "0                4919                        9874                        5581   \n",
       "1                6257                       11170                        7654   \n",
       "2                4608                        7697                        6417   \n",
       "3                4329                        8762                        5285   \n",
       "4                4835                        8748                        5685   \n",
       "\n",
       "   isthmuscingulate_NumVert_r  lateraloccipital_NumVert_r  \\\n",
       "0                        1394                        9770   \n",
       "1                        1768                       10924   \n",
       "2                        1703                       10003   \n",
       "3                        1535                        9430   \n",
       "4                        1462                        8483   \n",
       "\n",
       "             ...              Right-vessel_normRange  \\\n",
       "0            ...                                 0.0   \n",
       "1            ...                                30.0   \n",
       "2            ...                                36.0   \n",
       "3            ...                                17.0   \n",
       "4            ...                                80.0   \n",
       "\n",
       "   Right-choroid-plexus_normRange  5th-Ventricle_normRange  \\\n",
       "0                            67.0                      0.0   \n",
       "1                            63.0                      0.0   \n",
       "2                            68.0                      0.0   \n",
       "3                            69.0                      0.0   \n",
       "4                            66.0                      0.0   \n",
       "\n",
       "   WM-hypointensities_normRange  non-WM-hypointensities_normRange  \\\n",
       "0                          88.0                               0.0   \n",
       "1                          82.0                               0.0   \n",
       "2                         120.0                               0.0   \n",
       "3                          89.0                               0.0   \n",
       "4                          74.0                               0.0   \n",
       "\n",
       "   Optic-Chiasm_normRange  CC_Posterior_normRange  CC_Mid_Posterior_normRange  \\\n",
       "0                    86.0                    79.0                       105.0   \n",
       "1                    94.0                    78.0                       108.0   \n",
       "2                    83.0                    94.0                        95.0   \n",
       "3                    90.0                    79.0                        96.0   \n",
       "4                   110.0                    71.0                        76.0   \n",
       "\n",
       "   CC_Central_normRange  CC_Mid_Anterior_normRange  \n",
       "0                  77.0                       73.0  \n",
       "1                  97.0                       90.0  \n",
       "2                  97.0                       81.0  \n",
       "3                  94.0                      119.0  \n",
       "4                  85.0                       77.0  \n",
       "\n",
       "[5 rows x 897 columns]"
      ]
     },
     "execution_count": 38,
     "metadata": {},
     "output_type": "execute_result"
    }
   ],
   "source": [
    "mri_data.head()"
   ]
  },
  {
   "cell_type": "code",
   "execution_count": 39,
   "metadata": {},
   "outputs": [
    {
     "data": {
      "text/html": [
       "<div>\n",
       "<style>\n",
       "    .dataframe thead tr:only-child th {\n",
       "        text-align: right;\n",
       "    }\n",
       "\n",
       "    .dataframe thead th {\n",
       "        text-align: left;\n",
       "    }\n",
       "\n",
       "    .dataframe tbody tr th {\n",
       "        vertical-align: top;\n",
       "    }\n",
       "</style>\n",
       "<table border=\"1\" class=\"dataframe\">\n",
       "  <thead>\n",
       "    <tr style=\"text-align: right;\">\n",
       "      <th></th>\n",
       "      <th>patient_number</th>\n",
       "      <th>target</th>\n",
       "      <th>E/no E</th>\n",
       "      <th>D/no D</th>\n",
       "      <th>E/C</th>\n",
       "      <th>TLE/no E</th>\n",
       "      <th>TLE/C</th>\n",
       "      <th>D/C</th>\n",
       "      <th>DE/E</th>\n",
       "      <th>MRIPositive/Negative</th>\n",
       "      <th>TLEPositive/C</th>\n",
       "      <th>TLENegative/C</th>\n",
       "      <th>NoTLE/C</th>\n",
       "    </tr>\n",
       "  </thead>\n",
       "  <tbody>\n",
       "    <tr>\n",
       "      <th>0</th>\n",
       "      <td>P001</td>\n",
       "      <td>2</td>\n",
       "      <td>2</td>\n",
       "      <td>5</td>\n",
       "      <td>2.0</td>\n",
       "      <td>6.0</td>\n",
       "      <td>6.0</td>\n",
       "      <td>NaN</td>\n",
       "      <td>2.0</td>\n",
       "      <td>8</td>\n",
       "      <td>NaN</td>\n",
       "      <td>10.0</td>\n",
       "      <td>NaN</td>\n",
       "    </tr>\n",
       "    <tr>\n",
       "      <th>1</th>\n",
       "      <td>P002</td>\n",
       "      <td>3</td>\n",
       "      <td>2</td>\n",
       "      <td>1</td>\n",
       "      <td>NaN</td>\n",
       "      <td>NaN</td>\n",
       "      <td>NaN</td>\n",
       "      <td>NaN</td>\n",
       "      <td>3.0</td>\n",
       "      <td>8</td>\n",
       "      <td>NaN</td>\n",
       "      <td>NaN</td>\n",
       "      <td>11.0</td>\n",
       "    </tr>\n",
       "    <tr>\n",
       "      <th>2</th>\n",
       "      <td>P003</td>\n",
       "      <td>2</td>\n",
       "      <td>2</td>\n",
       "      <td>5</td>\n",
       "      <td>2.0</td>\n",
       "      <td>6.0</td>\n",
       "      <td>6.0</td>\n",
       "      <td>NaN</td>\n",
       "      <td>2.0</td>\n",
       "      <td>7</td>\n",
       "      <td>9.0</td>\n",
       "      <td>NaN</td>\n",
       "      <td>NaN</td>\n",
       "    </tr>\n",
       "    <tr>\n",
       "      <th>3</th>\n",
       "      <td>P004</td>\n",
       "      <td>1</td>\n",
       "      <td>4</td>\n",
       "      <td>1</td>\n",
       "      <td>NaN</td>\n",
       "      <td>4.0</td>\n",
       "      <td>NaN</td>\n",
       "      <td>1.0</td>\n",
       "      <td>NaN</td>\n",
       "      <td>8</td>\n",
       "      <td>NaN</td>\n",
       "      <td>NaN</td>\n",
       "      <td>NaN</td>\n",
       "    </tr>\n",
       "    <tr>\n",
       "      <th>4</th>\n",
       "      <td>P006</td>\n",
       "      <td>2</td>\n",
       "      <td>2</td>\n",
       "      <td>5</td>\n",
       "      <td>2.0</td>\n",
       "      <td>NaN</td>\n",
       "      <td>NaN</td>\n",
       "      <td>NaN</td>\n",
       "      <td>2.0</td>\n",
       "      <td>8</td>\n",
       "      <td>NaN</td>\n",
       "      <td>NaN</td>\n",
       "      <td>11.0</td>\n",
       "    </tr>\n",
       "  </tbody>\n",
       "</table>\n",
       "</div>"
      ],
      "text/plain": [
       "  patient_number  target  E/no E  D/no D  E/C  TLE/no E  TLE/C  D/C  DE/E  \\\n",
       "0           P001       2       2       5  2.0       6.0    6.0  NaN   2.0   \n",
       "1           P002       3       2       1  NaN       NaN    NaN  NaN   3.0   \n",
       "2           P003       2       2       5  2.0       6.0    6.0  NaN   2.0   \n",
       "3           P004       1       4       1  NaN       4.0    NaN  1.0   NaN   \n",
       "4           P006       2       2       5  2.0       NaN    NaN  NaN   2.0   \n",
       "\n",
       "   MRIPositive/Negative   TLEPositive/C  TLENegative/C  NoTLE/C  \n",
       "0                      8            NaN           10.0      NaN  \n",
       "1                      8            NaN            NaN     11.0  \n",
       "2                      7            9.0            NaN      NaN  \n",
       "3                      8            NaN            NaN      NaN  \n",
       "4                      8            NaN            NaN     11.0  "
      ]
     },
     "execution_count": 39,
     "metadata": {},
     "output_type": "execute_result"
    }
   ],
   "source": [
    "labels.head()"
   ]
  },
  {
   "cell_type": "code",
   "execution_count": null,
   "metadata": {
    "collapsed": true
   },
   "outputs": [],
   "source": []
  },
  {
   "cell_type": "code",
   "execution_count": 40,
   "metadata": {
    "collapsed": true
   },
   "outputs": [],
   "source": [
    "# отбор признаков на основе модели\n",
    "# аналогично SelectFromModel, но на основе количества признаков, а не порога\n",
    "\n",
    "from sklearn.base import BaseEstimator, MetaEstimatorMixin, clone\n",
    "from sklearn.feature_selection.base import SelectorMixin\n",
    "from sklearn.feature_selection.from_model import _get_feature_importances\n",
    "from sklearn.utils.metaestimators import if_delegate_has_method\n",
    "\n",
    "class SelectNFeaturesFromModel(BaseEstimator, SelectorMixin, MetaEstimatorMixin):\n",
    "    def __init__(self, estimator, n_selected, prefit=False):\n",
    "        self.estimator = estimator\n",
    "        self.n_selected = n_selected\n",
    "        self.prefit = prefit\n",
    "\n",
    "    def _get_support_mask(self):\n",
    "        if self.prefit:\n",
    "            estimator = self.estimator\n",
    "        elif hasattr(self, 'estimator_'):\n",
    "            estimator = self.estimator_\n",
    "        else:\n",
    "            raise ValueError(\n",
    "                'Either fit SelectFromModel before transform or set \"prefit='\n",
    "                'True\" and pass a fitted estimator to the constructor.')\n",
    "        scores = _get_feature_importances(estimator)\n",
    "        threshold = np.sort(scores)[-self.n_selected]\n",
    "        return scores >= threshold\n",
    "\n",
    "    def fit(self, X, y=None, **fit_params):\n",
    "        if self.prefit:\n",
    "            raise NotFittedError(\n",
    "                \"Since 'prefit=True', call transform directly\")\n",
    "        self.estimator_ = clone(self.estimator)\n",
    "        self.estimator_.fit(X, y, **fit_params)\n",
    "        return self\n",
    "\n",
    "    @property\n",
    "    def threshold_(self):\n",
    "        scores = _get_feature_importances(self.estimator_, self.norm_order)\n",
    "        return np.sort(scores)[-n_selected]\n",
    "    \n",
    "    @if_delegate_has_method('estimator')\n",
    "    def partial_fit(self, X, y=None, **fit_params):\n",
    "        if self.prefit:\n",
    "            raise NotFittedError(\n",
    "                \"Since 'prefit=True', call transform directly\")\n",
    "        if not hasattr(self, \"estimator_\"):\n",
    "            self.estimator_ = clone(self.estimator)\n",
    "        self.estimator_.partial_fit(X, y, **fit_params)\n",
    "        return self"
   ]
  },
  {
   "cell_type": "code",
   "execution_count": 41,
   "metadata": {
    "collapsed": true
   },
   "outputs": [],
   "source": [
    "def get_svc_grid(cv, dim_reduction_methods, scoring, random_state=None,\n",
    "                 svc_kernel_l=None, svc_c_l=None, svc_gamma_l=None):\n",
    "\n",
    "    pipe = Pipeline([\n",
    "        (\"Fill_NaN\", Imputer(strategy=\"median\")),\n",
    "        ('StdScaler', StandardScaler()),\n",
    "        (\"VarTh\", VarianceThreshold()),\n",
    "        ('dim_reduction', SelectKBest(stats.ttest_ind)),\n",
    "        ('classifier', SVC(random_state=random_state)),\n",
    "    ])\n",
    "\n",
    "    param_grid = {\n",
    "        'dim_reduction': dim_reduction_methods,\n",
    "    }\n",
    "    if svc_kernel_l is not None:\n",
    "        param_grid['classifier__kernel'] = svc_kernel_l\n",
    "    if svc_c_l is not None:\n",
    "        param_grid['classifier__C'] = svc_c_l\n",
    "    if svc_gamma_l is not None:\n",
    "        param_grid['classifier__gamma'] = svc_gamma_l\n",
    "    \n",
    "    return GridSearchCV(estimator=pipe, param_grid=param_grid, scoring=scoring, cv=cv)"
   ]
  },
  {
   "cell_type": "code",
   "execution_count": 42,
   "metadata": {
    "collapsed": true
   },
   "outputs": [],
   "source": [
    "def get_lr_grid(cv, dim_reduction_methods, scoring, random_state=None,\n",
    "                 lr_c_l=None):\n",
    "    \n",
    "    pipe = Pipeline([\n",
    "        (\"Fill_NaN\", Imputer(strategy=\"median\")),\n",
    "        ('StdScaler', StandardScaler()),\n",
    "        (\"VarTh\", VarianceThreshold()),\n",
    "        ('dim_reduction', SelectKBest(stats.ttest_ind)),\n",
    "        ('classifier', LogisticRegression(random_state=random_state)),\n",
    "    ])\n",
    "\n",
    "    param_grid = {\n",
    "        'dim_reduction': dim_reduction_methods,\n",
    "    }\n",
    "    if lr_c_l is not None:\n",
    "        param_grid['classifier__C'] = lr_c_l\n",
    "    \n",
    "    return GridSearchCV(estimator=pipe, param_grid=param_grid, scoring=scoring, cv=cv)"
   ]
  },
  {
   "cell_type": "code",
   "execution_count": 43,
   "metadata": {
    "collapsed": true
   },
   "outputs": [],
   "source": [
    "def get_rfc_grid(cv, dim_reduction_methods, scoring, random_state=None,\n",
    "                 rfc_n_estimators_l=None):\n",
    "    \n",
    "    pipe = Pipeline([\n",
    "        (\"Fill_NaN\", Imputer(strategy=\"median\")),\n",
    "        ('StdScaler', StandardScaler()),\n",
    "        (\"VarTh\", VarianceThreshold()),\n",
    "        ('dim_reduction', SelectKBest(stats.ttest_ind)),\n",
    "        ('classifier', RandomForestClassifier(random_state=random_state)),\n",
    "    ])\n",
    "\n",
    "    param_grid = {\n",
    "        'dim_reduction': dim_reduction_methods,\n",
    "    }\n",
    "    if rfc_n_estimators_l is not None:\n",
    "        param_grid['classifier__n_estimators'] = rfc_n_estimators_l\n",
    "    \n",
    "    return GridSearchCV(estimator=pipe, param_grid=param_grid, scoring=scoring, cv=cv)"
   ]
  },
  {
   "cell_type": "code",
   "execution_count": 44,
   "metadata": {
    "collapsed": true
   },
   "outputs": [],
   "source": [
    "def get_knn_grid(cv, dim_reduction_methods, scoring, random_state=None,\n",
    "                 knn_n_neighbors_l=None, knn_weights_l=None, knn_p_l=None):\n",
    "    \n",
    "    pipe = Pipeline([\n",
    "        (\"Fill_NaN\", Imputer(strategy=\"median\")),\n",
    "        ('StdScaler', StandardScaler()),\n",
    "        (\"VarTh\", VarianceThreshold()),\n",
    "        ('dim_reduction', SelectKBest(stats.ttest_ind)),\n",
    "        ('classifier', KNeighborsClassifier()),\n",
    "    ])\n",
    "\n",
    "    param_grid = {\n",
    "        'dim_reduction': dim_reduction_methods,\n",
    "    }\n",
    "    if knn_n_neighbors_l is not None:\n",
    "        param_grid['classifier__n_neighbors'] = knn_n_neighbors_l\n",
    "    if knn_weights_l is not None:\n",
    "        param_grid['classifier__weights'] = knn_weights_l\n",
    "    if knn_p_l is not None:\n",
    "        param_grid['classifier__p'] = knn_p_l\n",
    "    \n",
    "    return GridSearchCV(estimator=pipe, param_grid=param_grid, scoring=scoring, cv=cv)"
   ]
  },
  {
   "cell_type": "code",
   "execution_count": 45,
   "metadata": {
    "collapsed": true
   },
   "outputs": [],
   "source": [
    "# set printoptions\n",
    "pd.set_option('expand_frame_repr', True)\n",
    "pd.set_option('max_colwidth', 150)"
   ]
  },
  {
   "cell_type": "code",
   "execution_count": 46,
   "metadata": {
    "collapsed": true
   },
   "outputs": [],
   "source": [
    "def print_results(clf_grid_dict):\n",
    "    results = {\n",
    "            \"classifier\" : [], \n",
    "            \"best parameters\" : [],\n",
    "            \"best dim. reduction method\" : [],\n",
    "            \"mean\" : [],\n",
    "            \"std\" : []\n",
    "           }\n",
    "    \n",
    "    for clf, grid in clf_grid_dict.items():\n",
    "        results[\"classifier\"].append(clf)\n",
    "        results[\"best parameters\"].append(\", \".join(\n",
    "            [param + \" = \" + str(best_value) for param, best_value in grid.best_params_.items() if param != 'dim_reduction']))\n",
    "        results[\"best dim. reduction method\"].append(grid.best_params_['dim_reduction'])\n",
    "        idx = grid.best_index_\n",
    "        results[\"mean\"].append(grid.cv_results_['mean_test_score'][idx])\n",
    "        results[\"std\"].append(grid.cv_results_['std_test_score'][idx])\n",
    "        \n",
    "    results = pd.DataFrame(results, columns=[\"classifier\", \"best parameters\", \"best dim. reduction method\", \"mean\", \"std\"])\n",
    "    display(results.set_index(\"classifier\"))\n",
    "    \n",
    "    # draw graph\n",
    "    width = 0.9\n",
    "    for i in results.index:\n",
    "        plt.bar(i, results.loc[i, \"mean\"], width, yerr=results.loc[i, \"std\"], label=results.loc[i, \"classifier\"])\n",
    "    plt.xticks(range(results.shape[0]), results.loc[:, \"classifier\"])\n",
    "    plt.axis(ymin=0.0, ymax=1.0)\n",
    "    plt.show()\n",
    "    \n",
    "    print(\"Best model: \")\n",
    "    clf = results.loc[results[\"mean\"].argmax(), \"classifier\"]\n",
    "    print(clf)\n",
    "    print(\"\\n\".join(\n",
    "            [param + \" = \" + str(best_value) for param, best_value in clf_grid_dict[clf].best_params_.items()]))\n",
    "    print()\n",
    "    print(\"mean =\", results[\"mean\"].max())\n",
    "    print(\"std =\", results.loc[results[\"mean\"].argmax(), \"std\"])"
   ]
  },
  {
   "cell_type": "markdown",
   "metadata": {},
   "source": [
    "### Объединенный подсчет и сравнение всех классификаторов (SVC, LR, RFC, KNN)"
   ]
  },
  {
   "cell_type": "code",
   "execution_count": 47,
   "metadata": {
    "collapsed": true
   },
   "outputs": [],
   "source": [
    "def train_grid_cv(X, y, n_splits, n_repeats, scoring, random_state=None):\n",
    "    cv = RepeatedStratifiedKFold(n_splits=n_splits, n_repeats=n_repeats, random_state=random_state)\n",
    "    \n",
    "    n_features = [5, 10, 20, 50, 100]\n",
    "    n_components = [2, 3, 5, 10, 15, 20]\n",
    "    \n",
    "    # list of dimensionality reduction methods\n",
    "    dim_reduction_methods = []\n",
    "    dim_reduction_methods += [SelectKBest(stats.ttest_ind, n) for n in n_features]\n",
    "    dim_reduction_methods += [SelectKBest(f_classif, n) for n in n_features]\n",
    "    dim_reduction_methods += [SelectNFeaturesFromModel(RandomForestClassifier(n_estimators=100, random_state=random_state), n) for n in n_features]\n",
    "    dim_reduction_methods += [SelectNFeaturesFromModel(LogisticRegression(random_state=random_state), n) for n in n_features]\n",
    "    dim_reduction_methods += [SelectNFeaturesFromModel(ExtraTreesClassifier(n_estimators=100, random_state=random_state), n) for n in n_features]\n",
    "    dim_reduction_methods += [PCA(n, random_state=random_state) for n in n_components]\n",
    "    dim_reduction_methods += [LocallyLinearEmbedding(n_components=n, random_state=random_state) for n in n_components]\n",
    "    \n",
    "    \n",
    "    print(\"Target distribution: \")\n",
    "    print(y.value_counts(), \"\\n\")\n",
    "    y_enc = pd.Series(LabelEncoder().fit_transform(y), index=y.index)\n",
    "    \n",
    "    print(\"Training SVC...\")\n",
    "    grid_cv_svc = get_svc_grid(cv, dim_reduction_methods, scoring, random_state=random_state,\n",
    "                               svc_kernel_l=[\"rbf\", \"linear\"],\n",
    "                               svc_c_l=[10 ** i for i in range(-6, 4, 2)],\n",
    "                               svc_gamma_l=[10 ** i for i in range(-6, 2, 2)])\n",
    "    start_time = time.time()\n",
    "    grid_cv_svc.fit(X, y_enc)\n",
    "    print(\"(training took {}s)\\n\".format(time.time() - start_time))\n",
    "    \n",
    "    print(\"Training LR...\")\n",
    "    grid_cv_lr = get_lr_grid(cv, dim_reduction_methods, scoring, random_state=random_state,\n",
    "                             lr_c_l=[10 ** i for i in range(-6, 2, 2)])\n",
    "    start_time = time.time()\n",
    "    grid_cv_lr.fit(X, y_enc)\n",
    "    print(\"(training took {}s)\\n\".format(time.time() - start_time))\n",
    "    \n",
    "    print(\"Training RFC...\")\n",
    "    grid_cv_rfc = get_rfc_grid(cv, dim_reduction_methods, scoring, random_state=random_state,\n",
    "                               rfc_n_estimators_l=[i for i in range(300, 950, 150)])\n",
    "    start_time = time.time()\n",
    "    grid_cv_rfc.fit(X, y_enc)\n",
    "    print(\"(training took {}s)\\n\".format(time.time() - start_time))\n",
    "    \n",
    "    print(\"Training KNN...\")\n",
    "    class_size_tr = min(y.value_counts())\n",
    "    grid_cv_knn = get_knn_grid(cv, dim_reduction_methods, scoring, random_state=random_state,\n",
    "                              knn_p_l=[1, 2],\n",
    "                              knn_weights_l=[\"uniform\", \"distance\"],\n",
    "                              knn_n_neighbors_l=[i for i in range(5, class_size_tr - 1, 2)])\n",
    "    start_time = time.time()\n",
    "    grid_cv_knn.fit(X, y_enc)\n",
    "    print(\"(training took {}s)\\n\".format(time.time() - start_time))\n",
    "    \n",
    "    print(\"Scoring:\", scoring)\n",
    "    print_results({\n",
    "        \"SVC\" : grid_cv_svc,\n",
    "        \"LR\" : grid_cv_lr,\n",
    "        \"RFC\" : grid_cv_rfc,\n",
    "        \"KNN\" : grid_cv_knn\n",
    "                  })\n",
    "    \n",
    "    best_model = max([grid_cv_svc, grid_cv_lr, grid_cv_rfc, grid_cv_knn], key=lambda x: x.best_score_).best_estimator_\n",
    "    \n",
    "    return best_model, grid_cv_svc, grid_cv_lr, grid_cv_rfc, grid_cv_knn"
   ]
  },
  {
   "cell_type": "code",
   "execution_count": 48,
   "metadata": {
    "collapsed": true
   },
   "outputs": [],
   "source": [
    "n_objects = mri_data.shape[0]\n",
    "\n",
    "def repeated_cross_val_predict(estimator, X, y, cv, file=None):\n",
    "    predictions = [[] for i in range(n_objects)]\n",
    "    for idx_tr, idx_te in tqdm(cv.split(X, y)):\n",
    "        estimator.fit(X.iloc[idx_tr], y.iloc[idx_tr])\n",
    "        pred_te = np.array(estimator.predict(X.iloc[idx_te]), dtype=int)\n",
    "        for i, idx in enumerate(idx_te):\n",
    "            predictions[X.index[idx]].append(idx_to_label[pred_te[i]])\n",
    "        \n",
    "    predictions = pd.DataFrame(predictions)\n",
    "    if file is not None:\n",
    "        predictions.to_csv(file)\n",
    "        \n",
    "    return predictions"
   ]
  },
  {
   "cell_type": "code",
   "execution_count": 49,
   "metadata": {
    "collapsed": true
   },
   "outputs": [],
   "source": [
    "def save_model(model, file):\n",
    "    joblib.dump(model, file)\n",
    "    \n",
    "def load_model(file):\n",
    "    model = joblib.load(file)\n",
    "    return model"
   ]
  },
  {
   "cell_type": "markdown",
   "metadata": {},
   "source": [
    "### Training"
   ]
  },
  {
   "cell_type": "code",
   "execution_count": 50,
   "metadata": {},
   "outputs": [
    {
     "data": {
      "text/html": [
       "<div>\n",
       "<style>\n",
       "    .dataframe thead tr:only-child th {\n",
       "        text-align: right;\n",
       "    }\n",
       "\n",
       "    .dataframe thead th {\n",
       "        text-align: left;\n",
       "    }\n",
       "\n",
       "    .dataframe tbody tr th {\n",
       "        vertical-align: top;\n",
       "    }\n",
       "</style>\n",
       "<table border=\"1\" class=\"dataframe\">\n",
       "  <thead>\n",
       "    <tr style=\"text-align: right;\">\n",
       "      <th></th>\n",
       "      <th>patient_number</th>\n",
       "      <th>target</th>\n",
       "      <th>E/no E</th>\n",
       "      <th>D/no D</th>\n",
       "      <th>E/C</th>\n",
       "      <th>TLE/no E</th>\n",
       "      <th>TLE/C</th>\n",
       "      <th>D/C</th>\n",
       "      <th>DE/E</th>\n",
       "      <th>MRIPositive/Negative</th>\n",
       "      <th>TLEPositive/C</th>\n",
       "      <th>TLENegative/C</th>\n",
       "      <th>NoTLE/C</th>\n",
       "    </tr>\n",
       "  </thead>\n",
       "  <tbody>\n",
       "    <tr>\n",
       "      <th>0</th>\n",
       "      <td>P001</td>\n",
       "      <td>2</td>\n",
       "      <td>2</td>\n",
       "      <td>5</td>\n",
       "      <td>2.0</td>\n",
       "      <td>6.0</td>\n",
       "      <td>6.0</td>\n",
       "      <td>NaN</td>\n",
       "      <td>2.0</td>\n",
       "      <td>8</td>\n",
       "      <td>NaN</td>\n",
       "      <td>10.0</td>\n",
       "      <td>NaN</td>\n",
       "    </tr>\n",
       "    <tr>\n",
       "      <th>1</th>\n",
       "      <td>P002</td>\n",
       "      <td>3</td>\n",
       "      <td>2</td>\n",
       "      <td>1</td>\n",
       "      <td>NaN</td>\n",
       "      <td>NaN</td>\n",
       "      <td>NaN</td>\n",
       "      <td>NaN</td>\n",
       "      <td>3.0</td>\n",
       "      <td>8</td>\n",
       "      <td>NaN</td>\n",
       "      <td>NaN</td>\n",
       "      <td>11.0</td>\n",
       "    </tr>\n",
       "    <tr>\n",
       "      <th>2</th>\n",
       "      <td>P003</td>\n",
       "      <td>2</td>\n",
       "      <td>2</td>\n",
       "      <td>5</td>\n",
       "      <td>2.0</td>\n",
       "      <td>6.0</td>\n",
       "      <td>6.0</td>\n",
       "      <td>NaN</td>\n",
       "      <td>2.0</td>\n",
       "      <td>7</td>\n",
       "      <td>9.0</td>\n",
       "      <td>NaN</td>\n",
       "      <td>NaN</td>\n",
       "    </tr>\n",
       "    <tr>\n",
       "      <th>3</th>\n",
       "      <td>P004</td>\n",
       "      <td>1</td>\n",
       "      <td>4</td>\n",
       "      <td>1</td>\n",
       "      <td>NaN</td>\n",
       "      <td>4.0</td>\n",
       "      <td>NaN</td>\n",
       "      <td>1.0</td>\n",
       "      <td>NaN</td>\n",
       "      <td>8</td>\n",
       "      <td>NaN</td>\n",
       "      <td>NaN</td>\n",
       "      <td>NaN</td>\n",
       "    </tr>\n",
       "    <tr>\n",
       "      <th>4</th>\n",
       "      <td>P006</td>\n",
       "      <td>2</td>\n",
       "      <td>2</td>\n",
       "      <td>5</td>\n",
       "      <td>2.0</td>\n",
       "      <td>NaN</td>\n",
       "      <td>NaN</td>\n",
       "      <td>NaN</td>\n",
       "      <td>2.0</td>\n",
       "      <td>8</td>\n",
       "      <td>NaN</td>\n",
       "      <td>NaN</td>\n",
       "      <td>11.0</td>\n",
       "    </tr>\n",
       "  </tbody>\n",
       "</table>\n",
       "</div>"
      ],
      "text/plain": [
       "  patient_number  target  E/no E  D/no D  E/C  TLE/no E  TLE/C  D/C  DE/E  \\\n",
       "0           P001       2       2       5  2.0       6.0    6.0  NaN   2.0   \n",
       "1           P002       3       2       1  NaN       NaN    NaN  NaN   3.0   \n",
       "2           P003       2       2       5  2.0       6.0    6.0  NaN   2.0   \n",
       "3           P004       1       4       1  NaN       4.0    NaN  1.0   NaN   \n",
       "4           P006       2       2       5  2.0       NaN    NaN  NaN   2.0   \n",
       "\n",
       "   MRIPositive/Negative   TLEPositive/C  TLENegative/C  NoTLE/C  \n",
       "0                      8            NaN           10.0      NaN  \n",
       "1                      8            NaN            NaN     11.0  \n",
       "2                      7            9.0            NaN      NaN  \n",
       "3                      8            NaN            NaN      NaN  \n",
       "4                      8            NaN            NaN     11.0  "
      ]
     },
     "execution_count": 50,
     "metadata": {},
     "output_type": "execute_result"
    }
   ],
   "source": [
    "labels.head()"
   ]
  },
  {
   "cell_type": "markdown",
   "metadata": {},
   "source": [
    "dataset: MRI T1\n",
    "1. 4 classes\n",
    "2. Epilepsy / no epilepsy\n",
    "3. Depression / no depression\n",
    "4. Epilepsy / control\n",
    "5. Depression / control\n",
    "6. Epilepsy with depression / only epilepsy\n",
    "7. TLE / no epilepsy\n",
    "8. TLE / control\n",
    "9. MRI positive / MRI negative epilepsy\n",
    "10. TLE positive / control\n",
    "11. TLE negative / control\n",
    "12. Not TLE epilepsy / control"
   ]
  },
  {
   "cell_type": "code",
   "execution_count": 51,
   "metadata": {
    "collapsed": true
   },
   "outputs": [],
   "source": [
    "# some metrics (e.g. f1_score) can not be used for multiclass classification and require micro/macro averaging\n",
    "scoring, scoring_multiclass = \"f1\", \"f1_micro\"\n",
    "\n",
    "# other variants\n",
    "# scoring, scoring_multiclass = \"accuracy\", \"accuracy\""
   ]
  },
  {
   "cell_type": "markdown",
   "metadata": {},
   "source": [
    "### 1. 4 classes"
   ]
  },
  {
   "cell_type": "code",
   "execution_count": null,
   "metadata": {
    "collapsed": true
   },
   "outputs": [],
   "source": [
    "n_splits = 5\n",
    "X, y = mri_data, labels.target\n",
    "\n",
    "best_model_mri_DE, grid_cv_svc_mri_DE, grid_cv_lr_mri_DE, grid_cv_rfc_mri_DE, grid_cv_knn_mri_DE = train_grid_cv(\n",
    "    X, y, n_splits=n_splits, n_repeats=5, scoring=scoring_multiclass, random_state=42)\n",
    "\n",
    "cv = RepeatedStratifiedKFold(n_splits=n_splits, n_repeats=10, random_state=42)\n",
    "labels_mri_DE = repeated_cross_val_predict(best_model_mri_DE, X, y, cv, file=\"labels_mri_4_classes.csv\")\n",
    "\n",
    "save_model(best_model_mri_DE, \"best_model_mri_4_classes.pkl\")"
   ]
  },
  {
   "cell_type": "markdown",
   "metadata": {},
   "source": [
    "### 2. Epilepsy / no epilepsy"
   ]
  },
  {
   "cell_type": "code",
   "execution_count": null,
   "metadata": {
    "collapsed": true
   },
   "outputs": [],
   "source": [
    "n_splits = 10\n",
    "X, y = mri_data, labels[\"E/no E\"]\n",
    "\n",
    "best_model_mri_E, grid_cv_svc_mri_E, grid_cv_lr_mri_E, grid_cv_rfc_mri_E, grid_cv_knn_mri_E = train_grid_cv(\n",
    "    X, y, n_splits=n_splits, n_repeats=5, scoring=scoring, random_state=42)\n",
    "\n",
    "cv = RepeatedStratifiedKFold(n_splits=n_splits, n_repeats=10, random_state=42)\n",
    "labels_mri_E = repeated_cross_val_predict(best_model_mri_E, X, y, cv, file=\"labels_mri_E_noE.csv\")\n",
    "\n",
    "save_model(best_model_mri_E, \"best_model_mri_E_noE.pkl\")"
   ]
  },
  {
   "cell_type": "markdown",
   "metadata": {},
   "source": [
    "### 3. Depression / no depression"
   ]
  },
  {
   "cell_type": "code",
   "execution_count": null,
   "metadata": {
    "collapsed": true
   },
   "outputs": [],
   "source": [
    "n_splits = 10\n",
    "X, y = mri_data, labels[\"D/no D\"]\n",
    "\n",
    "best_model_mri_D, grid_cv_svc_mri_D, grid_cv_lr_mri_D, grid_cv_rfc_mri_D, grid_cv_knn_mri_D = train_grid_cv(\n",
    "    X, y, n_splits=n_splits, n_repeats=5, scoring=scoring, random_state=42)\n",
    "\n",
    "cv = RepeatedStratifiedKFold(n_splits=n_splits, n_repeats=10, random_state=42)\n",
    "labels_mri_D = repeated_cross_val_predict(best_model_mri_D, X, y, cv, file=\"labels_mri_D_noD.csv\")\n",
    "\n",
    "save_model(best_model_mri_D, \"best_model_mri_D_noD.pkl\")"
   ]
  },
  {
   "cell_type": "markdown",
   "metadata": {},
   "source": [
    "### 4. Epilepsy / control"
   ]
  },
  {
   "cell_type": "code",
   "execution_count": null,
   "metadata": {
    "collapsed": true
   },
   "outputs": [],
   "source": [
    "n_splits = 5\n",
    "X, y = mri_data[E_C_idx], labels[E_C_idx][\"E/C\"]\n",
    "\n",
    "best_model_mri_E_C, grid_cv_svc_mri_E_C, grid_cv_lr_mri_E_C, grid_cv_rfc_mri_E_C, grid_cv_knn_mri_E_C = train_grid_cv(\n",
    "    X, y, n_splits=n_splits, n_repeats=5, scoring=scoring, random_state=42)\n",
    "\n",
    "cv = RepeatedStratifiedKFold(n_splits=n_splits, n_repeats=10, random_state=42)\n",
    "labels_mri_E_C = repeated_cross_val_predict(best_model_mri_E_C, X, y, cv, file=\"labels_mri_E_C.csv\")\n",
    "\n",
    "save_model(best_model_mri_E_C, \"best_model_mri_E_C.pkl\")"
   ]
  },
  {
   "cell_type": "markdown",
   "metadata": {},
   "source": [
    "### 5. Depression / control"
   ]
  },
  {
   "cell_type": "code",
   "execution_count": null,
   "metadata": {
    "collapsed": true
   },
   "outputs": [],
   "source": [
    "n_splits = 5\n",
    "X, y = mri_data[D_C_idx], labels[D_C_idx][\"D/C\"]\n",
    "\n",
    "best_model_mri_D_C, grid_cv_svc_mri_D_C, grid_cv_lr_mri_D_C, grid_cv_rfc_mri_D_C, grid_cv_knn_mri_D_C = train_grid_cv(\n",
    "    X, y, n_splits=n_splits, n_repeats=5, scoring=scoring, random_state=42)\n",
    "\n",
    "cv = RepeatedStratifiedKFold(n_splits=n_splits, n_repeats=10, random_state=42)\n",
    "labels_mri_D_C = repeated_cross_val_predict(best_model_mri_D_C, X, y, cv, file=\"labels_mri_D_C.csv\")\n",
    "\n",
    "save_model(best_model_mri_D_C, \"best_model_mri_D_C.pkl\")"
   ]
  },
  {
   "cell_type": "markdown",
   "metadata": {},
   "source": [
    "### 6. Epilepsy with depression / only epilepsy"
   ]
  },
  {
   "cell_type": "code",
   "execution_count": null,
   "metadata": {
    "collapsed": true
   },
   "outputs": [],
   "source": [
    "n_splits = 5\n",
    "X, y = mri_data[DE_E_idx], labels[DE_E_idx][\"DE/E\"]\n",
    "\n",
    "best_model_mri_DE_E, grid_cv_svc_mri_DE_E, grid_cv_lr_mri_DE_E, grid_cv_rfc_mri_DE_E, grid_cv_knn_mri_DE_E = train_grid_cv(\n",
    "    X, y, n_splits=n_splits, n_repeats=5, scoring=scoring, random_state=42)\n",
    "\n",
    "cv = RepeatedStratifiedKFold(n_splits=n_splits, n_repeats=10, random_state=42)\n",
    "labels_mri_DE_E = repeated_cross_val_predict(best_model_mri_DE_E, X, y, cv, file=\"labels_mri_DE_E.csv\")\n",
    "\n",
    "save_model(best_model_mri_DE_E, \"best_model_mri_DE_E.pkl\")"
   ]
  },
  {
   "cell_type": "markdown",
   "metadata": {},
   "source": [
    "### 7. TLE / no epilepsy"
   ]
  },
  {
   "cell_type": "code",
   "execution_count": null,
   "metadata": {
    "collapsed": true
   },
   "outputs": [],
   "source": [
    "n_splits = 5 # ?\n",
    "X, y = mri_data[TLE_noE_idx], labels[TLE_noE_idx][\"TLE/no E\"]\n",
    "\n",
    "best_model_mri_TLE_noE, grid_cv_svc_mri_TLE_noE, grid_cv_lr_mri_TLE_noE, grid_cv_rfc_mri_TLE_noE, grid_cv_knn_mri_TLE = train_grid_cv(\n",
    "    X, y, n_splits=n_splits, n_repeats=5, scoring=scoring, random_state=42)\n",
    "\n",
    "cv = RepeatedStratifiedKFold(n_splits=n_splits, n_repeats=10, random_state=42)\n",
    "labels_mri_TLE_noE = repeated_cross_val_predict(best_model_mri_TLE_noE, X, y, cv, file=\"labels_mri_TLE_noE.csv\")\n",
    "\n",
    "save_model(best_model_mri_TLE_noE, \"best_model_mri_TLE_noE.pkl\")"
   ]
  },
  {
   "cell_type": "markdown",
   "metadata": {},
   "source": [
    "### 8. TLE / control"
   ]
  },
  {
   "cell_type": "code",
   "execution_count": null,
   "metadata": {
    "collapsed": true
   },
   "outputs": [],
   "source": [
    "n_splits = 5 # ?\n",
    "X, y = mri_data[TLE_C_idx], labels[TLE_C_idx][\"TLE/C\"]\n",
    "\n",
    "best_model_mri_TLE_C, grid_cv_svc_mri_TLE_C, grid_cv_lr_mri_TLE_C, grid_cv_rfc_mri_TLE_C, grid_cv_knn_mri_TLE_C = train_grid_cv(\n",
    "    X, y, n_splits=n_splits, n_repeats=5, scoring=scoring, random_state=42)\n",
    "\n",
    "cv = RepeatedStratifiedKFold(n_splits=n_splits, n_repeats=10, random_state=42)\n",
    "labels_mri_TLE_C = repeated_cross_val_predict(best_model_mri_TLE_C, X, y, cv, file=\"labels_mri_TLE_C.csv\")\n",
    "\n",
    "save_model(best_model_mri_TLE_C, \"best_model_mri_TLE_C.pkl\")"
   ]
  },
  {
   "cell_type": "markdown",
   "metadata": {},
   "source": [
    "### 9. MRI positive / MRI negative"
   ]
  },
  {
   "cell_type": "code",
   "execution_count": null,
   "metadata": {
    "collapsed": true,
    "scrolled": false
   },
   "outputs": [],
   "source": [
    "n_splits = 5 # ? \n",
    "X, y = mri_data[Pos_Neg_idx], labels[Pos_Neg_idx][\"MRIPositive/Negative \"]\n",
    "\n",
    "best_model_mri_Pos_Neg, grid_cv_svc_mri_Pos_Neg, grid_cv_lr_mri_Pos_Neg, grid_cv_rfc_mri_Pos_Neg, grid_cv_knn_mri_Pos_Neg = train_grid_cv(\n",
    "    X, y, n_splits=n_splits, n_repeats=5, scoring=scoring, random_state=42)\n",
    "\n",
    "cv = RepeatedStratifiedKFold(n_splits=n_splits, n_repeats=10, random_state=42)\n",
    "labels_mri_Pos_Neg = repeated_cross_val_predict(best_model_mri_Pos_Neg, X, y, cv, file=\"labels_mri_Pos_Neg.csv\")\n",
    "\n",
    "save_model(best_model_mri_Pos_Neg, \"best_model_mri_Pos_Neg.pkl\")"
   ]
  },
  {
   "cell_type": "markdown",
   "metadata": {
    "collapsed": true
   },
   "source": [
    "### 10. TLE positive / control"
   ]
  },
  {
   "cell_type": "code",
   "execution_count": null,
   "metadata": {},
   "outputs": [],
   "source": [
    "n_splits = 5 # ?\n",
    "X, y = mri_data[TLEPos_C_idx], labels[TLEPos_C_idx][\"TLEPositive/C\"]\n",
    "\n",
    "best_model_mri_TLEPos_C, grid_cv_svc_mri_TLEPos_C, grid_cv_lr_mri_TLEPos_C, grid_cv_rfc_mri_TLEPos_C, grid_cv_knn_mri_TLEPos_C = train_grid_cv(\n",
    "    X, y, n_splits=n_splits, n_repeats=5, scoring=scoring, random_state=42)\n",
    "\n",
    "cv = RepeatedStratifiedKFold(n_splits=n_splits, n_repeats=10, random_state=42)\n",
    "labels_mri_TLEPos_C = repeated_cross_val_predict(best_model_mri_TLEPos_C, X, y, cv, file=\"labels_mri_TLEPos_C.csv\")\n",
    "\n",
    "save_model(best_model_mri_TLEPos_C, \"best_model_mri_TLEPos_C.pkl\")"
   ]
  },
  {
   "cell_type": "markdown",
   "metadata": {},
   "source": [
    "### 11. TLE negative / control"
   ]
  },
  {
   "cell_type": "code",
   "execution_count": null,
   "metadata": {},
   "outputs": [],
   "source": [
    "n_splits = 3 # ?\n",
    "X, y = mri_data[TLENeg_C_idx], labels[TLENeg_C_idx][\"TLENegative/C\"]\n",
    "\n",
    "best_model_mri_TLENeg_C, grid_cv_svc_mri_TLENeg_C, grid_cv_lr_mri_TLENeg_C, grid_cv_rfc_mri_TLENeg_C, grid_cv_knn_mri_TLENeg_C = train_grid_cv(\n",
    "    X, y, n_splits=n_splits, n_repeats=5, scoring=scoring, random_state=42)\n",
    "\n",
    "cv = RepeatedStratifiedKFold(n_splits=n_splits, n_repeats=10, random_state=42)\n",
    "labels_mri_TLENeg_C = repeated_cross_val_predict(best_model_mri_TLENeg_C, X, y, cv, file=\"labels_mri_TLENeg_C.csv\")\n",
    "\n",
    "save_model(best_model_mri_TLENeg_C, \"best_model_mri_TLENeg_C.pkl\")"
   ]
  },
  {
   "cell_type": "markdown",
   "metadata": {},
   "source": [
    "### 12. Not TLE epilepsy / control"
   ]
  },
  {
   "cell_type": "code",
   "execution_count": null,
   "metadata": {
    "collapsed": true
   },
   "outputs": [],
   "source": [
    "n_splits = 5 # ?\n",
    "X, y = mri_data[NoTLE_C_idx], labels[NoTLE_C_idx][\"NoTLE/C\"]\n",
    "\n",
    "best_model_mri_NoTLE_C, grid_cv_svc_mri_NoTLE_C, grid_cv_lr_mri_NoTLE_C, grid_cv_rfc_mri_NoTLE_C, grid_cv_knn_mri_NoTLE_C = train_grid_cv(\n",
    "    X, y, n_splits=n_splits, n_repeats=5, scoring=scoring, random_state=42)\n",
    "\n",
    "cv = RepeatedStratifiedKFold(n_splits=n_splits, n_repeats=10, random_state=42)\n",
    "labels_mri_NoTLE_C = repeated_cross_val_predict(best_model_mri_NoTLE_C, X, y, cv, file=\"labels_mri_NoTLE_C.csv\")\n",
    "\n",
    "save_model(best_model_mri_NoTLE_C, \"best_model_mri_NoTLE_C.pkl\")"
   ]
  }
 ],
 "metadata": {
  "kernelspec": {
   "display_name": "Python 3",
   "language": "python",
   "name": "python3"
  },
  "language_info": {
   "codemirror_mode": {
    "name": "ipython",
    "version": 3
   },
   "file_extension": ".py",
   "mimetype": "text/x-python",
   "name": "python",
   "nbconvert_exporter": "python",
   "pygments_lexer": "ipython3",
   "version": "3.5.4"
  }
 },
 "nbformat": 4,
 "nbformat_minor": 2
}
