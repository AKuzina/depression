{
 "cells": [
  {
   "cell_type": "code",
   "execution_count": 1,
   "metadata": {},
   "outputs": [
    {
     "name": "stdout",
     "output_type": "stream",
     "text": [
      "Populating the interactive namespace from numpy and matplotlib\n"
     ]
    }
   ],
   "source": [
    "import numpy as np\n",
    "import pandas as pd\n",
    "from tqdm import tqdm\n",
    "import time\n",
    "%pylab inline"
   ]
  },
  {
   "cell_type": "code",
   "execution_count": 2,
   "metadata": {
    "collapsed": true
   },
   "outputs": [],
   "source": [
    "from sklearn.model_selection import RepeatedStratifiedKFold, StratifiedShuffleSplit, cross_val_score, GridSearchCV\n",
    "from sklearn.feature_selection import SelectFromModel, VarianceThreshold, SelectKBest, f_classif, chi2\n",
    "from sklearn.ensemble import RandomForestClassifier, GradientBoostingClassifier\n",
    "from sklearn.linear_model import LogisticRegression\n",
    "from sklearn.svm import SVC\n",
    "from sklearn.neighbors import KNeighborsClassifier\n",
    "from sklearn.metrics import accuracy_score, precision_score, recall_score\n",
    "from sklearn.preprocessing import Imputer, StandardScaler\n",
    "from sklearn.decomposition import PCA\n",
    "from sklearn.pipeline import Pipeline\n",
    "from scipy import stats\n",
    "from sklearn.externals import joblib"
   ]
  },
  {
   "cell_type": "code",
   "execution_count": 3,
   "metadata": {
    "collapsed": true
   },
   "outputs": [],
   "source": [
    "from reskit.core import Pipeliner"
   ]
  },
  {
   "cell_type": "code",
   "execution_count": 4,
   "metadata": {
    "collapsed": true
   },
   "outputs": [],
   "source": [
    "conn = pd.read_csv(\"RESULTS_C_D_E_DE_KONDRATEVA_10.12.csv\")\n",
    "thickness_lh = pd.read_csv(\"mri_features/th_lh_last.csv\", index_col=0)\n",
    "thickness_rh = pd.read_csv(\"mri_features/th_rh_last.csv\", index_col=0)\n",
    "thickness = thickness_lh.join(thickness_rh, lsuffix=\"_lh\", rsuffix=\"_rh\")\n",
    "volumes = pd.read_csv(\"mri_features/vol_last.csv\", index_col=0)\n",
    "info = pd.read_csv(\"таблица_10102017.csv\", index_col=0, header=1)\n",
    "\n",
    "target = conn.target\n",
    "D_target = np.int8(np.logical_or(target == \"D\", target == \"DE\"))\n",
    "E_target = np.int8(np.logical_or(target == \"E\", target == \"DE\"))\n",
    "# 4 classes (С(0), D(1), E(2), DE(3))\n",
    "DE_target = D_target + E_target * 2\n",
    "\n",
    "idx = np.argsort(thickness.index)\n",
    "thickness = thickness.iloc[idx].drop([\"target_lh\", \"target_rh\"], axis=1).reset_index(drop=True)\n",
    "volumes = volumes.iloc[idx].reset_index(drop=True)\n",
    "\n",
    "mri_data = thickness.join(volumes)\n",
    "# conn.drop([\"index\", \"target\"], axis=1, inplace=True)\n",
    "# info.reset_index(drop=True, inplace=True)\n",
    "# info[\"пол (1-мужской, 2- женский)\"] -= 1\n",
    "# all_data = thickness.join(volumes).join(conn)\n",
    "# all_data_nan = pd.DataFrame(all_data.loc[:, all_data.isnull().any(axis=0)].isnull(), dtype=int)\n",
    "# all_data = all_data.join(all_data_nan, rsuffix=\"_nan\")"
   ]
  },
  {
   "cell_type": "code",
   "execution_count": 5,
   "metadata": {},
   "outputs": [
    {
     "data": {
      "text/html": [
       "<div>\n",
       "<style>\n",
       "    .dataframe thead tr:only-child th {\n",
       "        text-align: right;\n",
       "    }\n",
       "\n",
       "    .dataframe thead th {\n",
       "        text-align: left;\n",
       "    }\n",
       "\n",
       "    .dataframe tbody tr th {\n",
       "        vertical-align: top;\n",
       "    }\n",
       "</style>\n",
       "<table border=\"1\" class=\"dataframe\">\n",
       "  <thead>\n",
       "    <tr style=\"text-align: right;\">\n",
       "      <th></th>\n",
       "      <th>bankssts_NumVert_lh</th>\n",
       "      <th>caudalanteriorcingulate_NumVert_lh</th>\n",
       "      <th>caudalmiddlefrontal_NumVert_lh</th>\n",
       "      <th>cuneus_NumVert_lh</th>\n",
       "      <th>entorhinal_NumVert_lh</th>\n",
       "      <th>fusiform_NumVert_lh</th>\n",
       "      <th>inferiorparietal_NumVert_lh</th>\n",
       "      <th>inferiortemporal_NumVert_lh</th>\n",
       "      <th>isthmuscingulate_NumVert_lh</th>\n",
       "      <th>lateraloccipital_NumVert_lh</th>\n",
       "      <th>...</th>\n",
       "      <th>Right-WM-hypointensities_normRange</th>\n",
       "      <th>non-WM-hypointensities_normRange</th>\n",
       "      <th>Left-non-WM-hypointensities_normRange</th>\n",
       "      <th>Right-non-WM-hypointensities_normRange</th>\n",
       "      <th>Optic-Chiasm_normRange</th>\n",
       "      <th>CC_Posterior_normRange</th>\n",
       "      <th>CC_Mid_Posterior_normRange</th>\n",
       "      <th>CC_Central_normRange</th>\n",
       "      <th>CC_Mid_Anterior_normRange</th>\n",
       "      <th>CC_Anterior_normRange</th>\n",
       "    </tr>\n",
       "  </thead>\n",
       "  <tbody>\n",
       "    <tr>\n",
       "      <th>0</th>\n",
       "      <td>1794</td>\n",
       "      <td>1030</td>\n",
       "      <td>3395</td>\n",
       "      <td>2525</td>\n",
       "      <td>660</td>\n",
       "      <td>6353</td>\n",
       "      <td>7740</td>\n",
       "      <td>5702</td>\n",
       "      <td>1631</td>\n",
       "      <td>9444</td>\n",
       "      <td>...</td>\n",
       "      <td>0.0</td>\n",
       "      <td>0.0</td>\n",
       "      <td>0.0</td>\n",
       "      <td>0.0</td>\n",
       "      <td>86.0</td>\n",
       "      <td>79.0</td>\n",
       "      <td>105.0</td>\n",
       "      <td>77.0</td>\n",
       "      <td>73.0</td>\n",
       "      <td>84.0</td>\n",
       "    </tr>\n",
       "    <tr>\n",
       "      <th>1</th>\n",
       "      <td>1893</td>\n",
       "      <td>1117</td>\n",
       "      <td>4504</td>\n",
       "      <td>2560</td>\n",
       "      <td>845</td>\n",
       "      <td>5522</td>\n",
       "      <td>10129</td>\n",
       "      <td>7056</td>\n",
       "      <td>1707</td>\n",
       "      <td>9203</td>\n",
       "      <td>...</td>\n",
       "      <td>0.0</td>\n",
       "      <td>0.0</td>\n",
       "      <td>0.0</td>\n",
       "      <td>0.0</td>\n",
       "      <td>94.0</td>\n",
       "      <td>78.0</td>\n",
       "      <td>108.0</td>\n",
       "      <td>97.0</td>\n",
       "      <td>90.0</td>\n",
       "      <td>92.0</td>\n",
       "    </tr>\n",
       "    <tr>\n",
       "      <th>2</th>\n",
       "      <td>1089</td>\n",
       "      <td>900</td>\n",
       "      <td>2295</td>\n",
       "      <td>2624</td>\n",
       "      <td>666</td>\n",
       "      <td>4210</td>\n",
       "      <td>6247</td>\n",
       "      <td>5159</td>\n",
       "      <td>1575</td>\n",
       "      <td>7472</td>\n",
       "      <td>...</td>\n",
       "      <td>0.0</td>\n",
       "      <td>0.0</td>\n",
       "      <td>0.0</td>\n",
       "      <td>0.0</td>\n",
       "      <td>83.0</td>\n",
       "      <td>94.0</td>\n",
       "      <td>95.0</td>\n",
       "      <td>97.0</td>\n",
       "      <td>81.0</td>\n",
       "      <td>129.0</td>\n",
       "    </tr>\n",
       "    <tr>\n",
       "      <th>3</th>\n",
       "      <td>1624</td>\n",
       "      <td>1755</td>\n",
       "      <td>3126</td>\n",
       "      <td>2859</td>\n",
       "      <td>614</td>\n",
       "      <td>4284</td>\n",
       "      <td>6865</td>\n",
       "      <td>4909</td>\n",
       "      <td>1688</td>\n",
       "      <td>9196</td>\n",
       "      <td>...</td>\n",
       "      <td>0.0</td>\n",
       "      <td>0.0</td>\n",
       "      <td>0.0</td>\n",
       "      <td>0.0</td>\n",
       "      <td>90.0</td>\n",
       "      <td>79.0</td>\n",
       "      <td>96.0</td>\n",
       "      <td>94.0</td>\n",
       "      <td>119.0</td>\n",
       "      <td>117.0</td>\n",
       "    </tr>\n",
       "    <tr>\n",
       "      <th>4</th>\n",
       "      <td>1377</td>\n",
       "      <td>1186</td>\n",
       "      <td>4497</td>\n",
       "      <td>3258</td>\n",
       "      <td>503</td>\n",
       "      <td>5292</td>\n",
       "      <td>7041</td>\n",
       "      <td>6269</td>\n",
       "      <td>1647</td>\n",
       "      <td>9720</td>\n",
       "      <td>...</td>\n",
       "      <td>0.0</td>\n",
       "      <td>0.0</td>\n",
       "      <td>0.0</td>\n",
       "      <td>0.0</td>\n",
       "      <td>110.0</td>\n",
       "      <td>71.0</td>\n",
       "      <td>76.0</td>\n",
       "      <td>85.0</td>\n",
       "      <td>77.0</td>\n",
       "      <td>111.0</td>\n",
       "    </tr>\n",
       "  </tbody>\n",
       "</table>\n",
       "<p>5 rows × 927 columns</p>\n",
       "</div>"
      ],
      "text/plain": [
       "   bankssts_NumVert_lh  caudalanteriorcingulate_NumVert_lh  \\\n",
       "0                 1794                                1030   \n",
       "1                 1893                                1117   \n",
       "2                 1089                                 900   \n",
       "3                 1624                                1755   \n",
       "4                 1377                                1186   \n",
       "\n",
       "   caudalmiddlefrontal_NumVert_lh  cuneus_NumVert_lh  entorhinal_NumVert_lh  \\\n",
       "0                            3395               2525                    660   \n",
       "1                            4504               2560                    845   \n",
       "2                            2295               2624                    666   \n",
       "3                            3126               2859                    614   \n",
       "4                            4497               3258                    503   \n",
       "\n",
       "   fusiform_NumVert_lh  inferiorparietal_NumVert_lh  \\\n",
       "0                 6353                         7740   \n",
       "1                 5522                        10129   \n",
       "2                 4210                         6247   \n",
       "3                 4284                         6865   \n",
       "4                 5292                         7041   \n",
       "\n",
       "   inferiortemporal_NumVert_lh  isthmuscingulate_NumVert_lh  \\\n",
       "0                         5702                         1631   \n",
       "1                         7056                         1707   \n",
       "2                         5159                         1575   \n",
       "3                         4909                         1688   \n",
       "4                         6269                         1647   \n",
       "\n",
       "   lateraloccipital_NumVert_lh          ...            \\\n",
       "0                         9444          ...             \n",
       "1                         9203          ...             \n",
       "2                         7472          ...             \n",
       "3                         9196          ...             \n",
       "4                         9720          ...             \n",
       "\n",
       "   Right-WM-hypointensities_normRange  non-WM-hypointensities_normRange  \\\n",
       "0                                 0.0                               0.0   \n",
       "1                                 0.0                               0.0   \n",
       "2                                 0.0                               0.0   \n",
       "3                                 0.0                               0.0   \n",
       "4                                 0.0                               0.0   \n",
       "\n",
       "   Left-non-WM-hypointensities_normRange  \\\n",
       "0                                    0.0   \n",
       "1                                    0.0   \n",
       "2                                    0.0   \n",
       "3                                    0.0   \n",
       "4                                    0.0   \n",
       "\n",
       "   Right-non-WM-hypointensities_normRange  Optic-Chiasm_normRange  \\\n",
       "0                                     0.0                    86.0   \n",
       "1                                     0.0                    94.0   \n",
       "2                                     0.0                    83.0   \n",
       "3                                     0.0                    90.0   \n",
       "4                                     0.0                   110.0   \n",
       "\n",
       "   CC_Posterior_normRange  CC_Mid_Posterior_normRange  CC_Central_normRange  \\\n",
       "0                    79.0                       105.0                  77.0   \n",
       "1                    78.0                       108.0                  97.0   \n",
       "2                    94.0                        95.0                  97.0   \n",
       "3                    79.0                        96.0                  94.0   \n",
       "4                    71.0                        76.0                  85.0   \n",
       "\n",
       "   CC_Mid_Anterior_normRange  CC_Anterior_normRange  \n",
       "0                       73.0                   84.0  \n",
       "1                       90.0                   92.0  \n",
       "2                       81.0                  129.0  \n",
       "3                      119.0                  117.0  \n",
       "4                       77.0                  111.0  \n",
       "\n",
       "[5 rows x 927 columns]"
      ]
     },
     "execution_count": 5,
     "metadata": {},
     "output_type": "execute_result"
    }
   ],
   "source": [
    "mri_data.head()"
   ]
  },
  {
   "cell_type": "code",
   "execution_count": null,
   "metadata": {
    "collapsed": true
   },
   "outputs": [],
   "source": []
  },
  {
   "cell_type": "code",
   "execution_count": 6,
   "metadata": {
    "collapsed": true
   },
   "outputs": [],
   "source": [
    "# отбор признаков на основе модели\n",
    "# аналогично SelectFromModel, но на основе количества признаков, а не порога\n",
    "\n",
    "from sklearn.base import BaseEstimator, MetaEstimatorMixin, clone\n",
    "from sklearn.feature_selection.base import SelectorMixin\n",
    "from sklearn.feature_selection.from_model import _get_feature_importances\n",
    "from sklearn.utils.metaestimators import if_delegate_has_method\n",
    "\n",
    "class SelectNFeaturesFromModel(BaseEstimator, SelectorMixin, MetaEstimatorMixin):\n",
    "    def __init__(self, estimator, n_selected, prefit=False):\n",
    "        self.estimator = estimator\n",
    "        self.n_selected = n_selected\n",
    "        self.prefit = prefit\n",
    "\n",
    "    def _get_support_mask(self):\n",
    "        if self.prefit:\n",
    "            estimator = self.estimator\n",
    "        elif hasattr(self, 'estimator_'):\n",
    "            estimator = self.estimator_\n",
    "        else:\n",
    "            raise ValueError(\n",
    "                'Either fit SelectFromModel before transform or set \"prefit='\n",
    "                'True\" and pass a fitted estimator to the constructor.')\n",
    "        scores = _get_feature_importances(estimator)\n",
    "        threshold = np.sort(scores)[-self.n_selected]\n",
    "        return scores >= threshold\n",
    "\n",
    "    def fit(self, X, y=None, **fit_params):\n",
    "        if self.prefit:\n",
    "            raise NotFittedError(\n",
    "                \"Since 'prefit=True', call transform directly\")\n",
    "        self.estimator_ = clone(self.estimator)\n",
    "        self.estimator_.fit(X, y, **fit_params)\n",
    "        return self\n",
    "\n",
    "    @property\n",
    "    def threshold_(self):\n",
    "        scores = _get_feature_importances(self.estimator_, self.norm_order)\n",
    "        return np.sort(scores)[-n_selected]\n",
    "    \n",
    "    @if_delegate_has_method('estimator')\n",
    "    def partial_fit(self, X, y=None, **fit_params):\n",
    "        if self.prefit:\n",
    "            raise NotFittedError(\n",
    "                \"Since 'prefit=True', call transform directly\")\n",
    "        if not hasattr(self, \"estimator_\"):\n",
    "            self.estimator_ = clone(self.estimator)\n",
    "        self.estimator_.partial_fit(X, y, **fit_params)\n",
    "        return self"
   ]
  },
  {
   "cell_type": "code",
   "execution_count": 7,
   "metadata": {},
   "outputs": [],
   "source": [
    "n_features = [10 * 2 ** i for i in range(5)]\n",
    "n_components = [2 ** i for i in range(5)]\n",
    "dim_reduction_methods = []\n",
    "dim_reduction_methods += [SelectKBest(stats.ttest_ind, n) for n in n_features]\n",
    "dim_reduction_methods += [SelectKBest(f_classif, n) for n in n_features]\n",
    "dim_reduction_methods += [SelectNFeaturesFromModel(RandomForestClassifier(n_estimators=100, random_state=42), n) for n in n_features]\n",
    "# dim_reduction_methods += [SelectNFeaturesFromModel(LogisticRegression(), n) for n in n_features]\n",
    "# dim_reduction_methods += [PCA(n) for n in n_components]\n",
    "# dim_reduction_methods += [LocallyLinearEmbedding(n_components=n, random_state=42) for n in n_components]"
   ]
  },
  {
   "cell_type": "code",
   "execution_count": 8,
   "metadata": {
    "collapsed": true
   },
   "outputs": [],
   "source": [
    "def get_svc_grid(cv, dim_reduction_methods,\n",
    "                 svc_kernel_l=None, svc_c_l=None, svc_gamma_l=None):\n",
    "\n",
    "    pipe = Pipeline([\n",
    "        (\"Fill_Median\", Imputer(strategy=\"median\")),\n",
    "        ('StdScaler', StandardScaler()),\n",
    "        (\"VarTh\", VarianceThreshold()),\n",
    "        ('dim_reduction', SelectKBest(stats.ttest_ind)),\n",
    "        ('classifier', SVC(random_state=42)),\n",
    "    ])\n",
    "\n",
    "    param_grid = {\n",
    "        'dim_reduction': dim_reduction_methods,\n",
    "    }\n",
    "    if svc_kernel_l is not None:\n",
    "        param_grid['classifier__kernel'] = svc_kernel_l\n",
    "    if svc_c_l is not None:\n",
    "        param_grid['classifier__C'] = svc_c_l\n",
    "    if svc_gamma_l is not None:\n",
    "        param_grid['classifier__gamma'] = svc_gamma_l\n",
    "    \n",
    "    return GridSearchCV(estimator=pipe, param_grid=param_grid, scoring=\"accuracy\", cv=cv)"
   ]
  },
  {
   "cell_type": "code",
   "execution_count": 9,
   "metadata": {
    "collapsed": true
   },
   "outputs": [],
   "source": [
    "def get_lr_grid(cv, dim_reduction_methods,\n",
    "                 lr_c_l=None):\n",
    "    \n",
    "    pipe = Pipeline([\n",
    "        (\"Fill_Median\", Imputer(strategy=\"median\")),\n",
    "        ('StdScaler', StandardScaler()),\n",
    "        (\"VarTh\", VarianceThreshold()),\n",
    "        ('dim_reduction', SelectKBest(stats.ttest_ind)),\n",
    "        ('classifier', LogisticRegression(random_state=42)),\n",
    "    ])\n",
    "\n",
    "    param_grid = {\n",
    "        'dim_reduction': dim_reduction_methods,\n",
    "    }\n",
    "    if lr_c_l is not None:\n",
    "        param_grid['classifier__C'] = lr_c_l\n",
    "    \n",
    "    return GridSearchCV(estimator=pipe, param_grid=param_grid, scoring=\"accuracy\", cv=cv)"
   ]
  },
  {
   "cell_type": "code",
   "execution_count": 10,
   "metadata": {
    "collapsed": true
   },
   "outputs": [],
   "source": [
    "def get_rfc_grid(cv, dim_reduction_methods,\n",
    "                 rfc_n_estimators_l=None):\n",
    "    \n",
    "    pipe = Pipeline([\n",
    "        (\"Fill_Median\", Imputer(strategy=\"median\")),\n",
    "        ('StdScaler', StandardScaler()),\n",
    "        (\"VarTh\", VarianceThreshold()),\n",
    "        ('dim_reduction', SelectKBest(stats.ttest_ind)),\n",
    "        ('classifier', RandomForestClassifier(random_state=42)),\n",
    "    ])\n",
    "\n",
    "    param_grid = {\n",
    "        'dim_reduction': dim_reduction_methods,\n",
    "    }\n",
    "    if rfc_n_estimators_l is not None:\n",
    "        param_grid['classifier__n_estimators'] = rfc_n_estimators_l\n",
    "    \n",
    "    return GridSearchCV(estimator=pipe, param_grid=param_grid, scoring=\"accuracy\", cv=cv)"
   ]
  },
  {
   "cell_type": "code",
   "execution_count": 11,
   "metadata": {
    "collapsed": true
   },
   "outputs": [],
   "source": [
    "def get_knn_grid(cv, dim_reduction_methods,\n",
    "                 knn_n_neighbors_l=None, knn_weights_l=None, knn_p_l=None):\n",
    "    \n",
    "    pipe = Pipeline([\n",
    "        (\"Fill_Median\", Imputer(strategy=\"median\")),\n",
    "        ('StdScaler', StandardScaler()),\n",
    "        (\"VarTh\", VarianceThreshold()),\n",
    "        ('dim_reduction', SelectKBest(stats.ttest_ind)),\n",
    "        ('classifier', KNeighborsClassifier()),\n",
    "    ])\n",
    "\n",
    "    param_grid = {\n",
    "        'dim_reduction': dim_reduction_methods,\n",
    "    }\n",
    "    if knn_n_neighbors_l is not None:\n",
    "        param_grid['classifier__n_neighbors'] = knn_n_neighbors_l\n",
    "    if knn_weights_l is not None:\n",
    "        param_grid['classifier__weights'] = knn_weights_l\n",
    "    if knn_p_l is not None:\n",
    "        param_grid['classifier__p'] = knn_p_l\n",
    "    \n",
    "    return GridSearchCV(estimator=pipe, param_grid=param_grid, scoring=\"accuracy\", cv=cv)"
   ]
  },
  {
   "cell_type": "code",
   "execution_count": 47,
   "metadata": {
    "collapsed": true
   },
   "outputs": [],
   "source": [
    "# set printoptions\n",
    "pd.set_option('expand_frame_repr', True)\n",
    "pd.set_option('max_colwidth', 150)"
   ]
  },
  {
   "cell_type": "code",
   "execution_count": 48,
   "metadata": {
    "collapsed": true
   },
   "outputs": [],
   "source": [
    "def print_results(clf_grid_dict):\n",
    "    results = {\n",
    "            \"classifier\" : [], \n",
    "            \"best parameters\" : [],\n",
    "            \"best dim. reduction method\" : [],\n",
    "            \"mean\" : [],\n",
    "            \"std\" : []\n",
    "           }\n",
    "    \n",
    "    for clf, grid in clf_grid_dict.items():\n",
    "        results[\"classifier\"].append(clf)\n",
    "        results[\"best parameters\"].append(\", \".join(\n",
    "            [param + \" = \" + str(best_value) for param, best_value in grid.best_params_.items() if param != 'dim_reduction']))\n",
    "        results[\"best dim. reduction method\"].append(grid.best_params_['dim_reduction'])\n",
    "        idx = grid.best_index_\n",
    "        results[\"mean\"].append(grid.cv_results_['mean_test_score'][idx])\n",
    "        results[\"std\"].append(grid.cv_results_['std_test_score'][idx])\n",
    "        \n",
    "    results = pd.DataFrame(results, columns=[\"classifier\", \"best parameters\", \"best dim. reduction method\", \"mean\", \"std\"])\n",
    "    display(results.set_index(\"classifier\"))\n",
    "    \n",
    "    # draw graph\n",
    "    width = 0.9\n",
    "    for i in results.index:\n",
    "        plt.bar(i, results.loc[i, \"mean\"], width, yerr=results.loc[i, \"std\"], label=results.loc[i, \"classifier\"])\n",
    "    plt.xticks(range(results.shape[0]), results.loc[:, \"classifier\"])\n",
    "    plt.axis(ymin=0.0, ymax=1.0)\n",
    "    plt.show()\n",
    "    \n",
    "    print(\"Best model: \")\n",
    "    clf = results.loc[results[\"mean\"].argmax(), \"classifier\"]\n",
    "    print(clf)\n",
    "    print(\"\\n\".join(\n",
    "            [param + \" = \" + str(best_value) for param, best_value in clf_grid_dict[clf].best_params_.items()]))\n",
    "    print()\n",
    "    print(\"mean =\", results[\"mean\"].max())\n",
    "    print(\"std =\", results.loc[results[\"mean\"].argmax(), \"std\"])"
   ]
  },
  {
   "cell_type": "code",
   "execution_count": 49,
   "metadata": {},
   "outputs": [
    {
     "data": {
      "text/html": [
       "<div>\n",
       "<style>\n",
       "    .dataframe thead tr:only-child th {\n",
       "        text-align: right;\n",
       "    }\n",
       "\n",
       "    .dataframe thead th {\n",
       "        text-align: left;\n",
       "    }\n",
       "\n",
       "    .dataframe tbody tr th {\n",
       "        vertical-align: top;\n",
       "    }\n",
       "</style>\n",
       "<table border=\"1\" class=\"dataframe\">\n",
       "  <thead>\n",
       "    <tr style=\"text-align: right;\">\n",
       "      <th></th>\n",
       "      <th>best parameters</th>\n",
       "      <th>best dim. reduction method</th>\n",
       "      <th>mean</th>\n",
       "      <th>std</th>\n",
       "    </tr>\n",
       "    <tr>\n",
       "      <th>classifier</th>\n",
       "      <th></th>\n",
       "      <th></th>\n",
       "      <th></th>\n",
       "      <th></th>\n",
       "    </tr>\n",
       "  </thead>\n",
       "  <tbody>\n",
       "    <tr>\n",
       "      <th>SVC</th>\n",
       "      <td>classifier__kernel = rbf, classifier__gamma = 0.0001, classifier__C = 100</td>\n",
       "      <td>PCA(copy=True, iterated_power='auto', n_components=5, random_state=None,\\n  svd_solver='auto', tol=0.0, whiten=False)</td>\n",
       "      <td>0.393333</td>\n",
       "      <td>0.089194</td>\n",
       "    </tr>\n",
       "    <tr>\n",
       "      <th>LR</th>\n",
       "      <td>classifier__C = 1e-06</td>\n",
       "      <td>SelectKBest(k=100, score_func=&lt;function ttest_ind at 0x7fcb0a39b7b8&gt;)</td>\n",
       "      <td>0.358333</td>\n",
       "      <td>0.089520</td>\n",
       "    </tr>\n",
       "    <tr>\n",
       "      <th>KNN</th>\n",
       "      <td>classifier__n_neighbors = 15, classifier__weights = distance, classifier__p = 1</td>\n",
       "      <td>SelectKBest(k=100, score_func=&lt;function ttest_ind at 0x7fcb0a39b7b8&gt;)</td>\n",
       "      <td>0.358333</td>\n",
       "      <td>0.101721</td>\n",
       "    </tr>\n",
       "    <tr>\n",
       "      <th>RFC</th>\n",
       "      <td>classifier__n_estimators = 900</td>\n",
       "      <td>SelectKBest(k=100, score_func=&lt;function ttest_ind at 0x7fcb0a39b7b8&gt;)</td>\n",
       "      <td>0.410000</td>\n",
       "      <td>0.077889</td>\n",
       "    </tr>\n",
       "  </tbody>\n",
       "</table>\n",
       "</div>"
      ],
      "text/plain": [
       "                                                                            best parameters  \\\n",
       "classifier                                                                                    \n",
       "SVC               classifier__kernel = rbf, classifier__gamma = 0.0001, classifier__C = 100   \n",
       "LR                                                                    classifier__C = 1e-06   \n",
       "KNN         classifier__n_neighbors = 15, classifier__weights = distance, classifier__p = 1   \n",
       "RFC                                                          classifier__n_estimators = 900   \n",
       "\n",
       "                                                                                                       best dim. reduction method  \\\n",
       "classifier                                                                                                                          \n",
       "SVC         PCA(copy=True, iterated_power='auto', n_components=5, random_state=None,\\n  svd_solver='auto', tol=0.0, whiten=False)   \n",
       "LR                                                          SelectKBest(k=100, score_func=<function ttest_ind at 0x7fcb0a39b7b8>)   \n",
       "KNN                                                         SelectKBest(k=100, score_func=<function ttest_ind at 0x7fcb0a39b7b8>)   \n",
       "RFC                                                         SelectKBest(k=100, score_func=<function ttest_ind at 0x7fcb0a39b7b8>)   \n",
       "\n",
       "                mean       std  \n",
       "classifier                      \n",
       "SVC         0.393333  0.089194  \n",
       "LR          0.358333  0.089520  \n",
       "KNN         0.358333  0.101721  \n",
       "RFC         0.410000  0.077889  "
      ]
     },
     "metadata": {},
     "output_type": "display_data"
    },
    {
     "data": {
      "image/png": "[encoded data removed]",
      "text/plain": [
       "<matplotlib.figure.Figure at 0x7fcafdfd7160>"
      ]
     },
     "metadata": {},
     "output_type": "display_data"
    },
    {
     "name": "stdout",
     "output_type": "stream",
     "text": [
      "Best model: \n",
      "RFC\n",
      "classifier__n_estimators = 900\n",
      "dim_reduction = SelectKBest(k=100, score_func=<function ttest_ind at 0x7fcb0a39b7b8>)\n",
      "\n",
      "mean = 0.41\n",
      "std = 0.077888809637\n"
     ]
    }
   ],
   "source": [
    "print_results({\n",
    "    \"SVC\" : grid_cv_svc,\n",
    "    \"LR\" : grid_cv_lr,\n",
    "    \"RFC\" : grid_cv_rfc,\n",
    "    \"KNN\" : grid_cv_knn\n",
    "              })  "
   ]
  },
  {
   "cell_type": "code",
   "execution_count": 50,
   "metadata": {},
   "outputs": [],
   "source": [
    "def train_grid_cv(X, y, n_splits):\n",
    "    cv = RepeatedStratifiedKFold(n_splits=n_splits, n_repeats=30 // n_splits, random_state=42)\n",
    "    \n",
    "    n_features = [5, 10, 20, 50, 100]\n",
    "#     n_features = [5 * 2 ** i for i in range(5)]\n",
    "    n_components = [1, 2, 3, 5, 10, 15, 20]\n",
    "#     n_components = [2 ** i for i in range(5)]\n",
    "    \n",
    "    # list of dimensionality reduction methods\n",
    "    dim_reduction_methods = []\n",
    "    dim_reduction_methods += [SelectKBest(stats.ttest_ind, n) for n in n_features]\n",
    "    dim_reduction_methods += [SelectKBest(f_classif, n) for n in n_features]\n",
    "    dim_reduction_methods += [SelectNFeaturesFromModel(RandomForestClassifier(n_estimators=100, random_state=42), n) for n in n_features]\n",
    "#     dim_reduction_methods += [SelectNFeaturesFromModel(LogisticRegression(), n) for n in n_features]\n",
    "    dim_reduction_methods += [PCA(n) for n in n_components]\n",
    "#     dim_reduction_methods += [LocallyLinearEmbedding(n_components=n, random_state=42) for n in n_components]\n",
    "    \n",
    "    print(\"Training SVC...\")\n",
    "    grid_cv_svc = get_svc_grid(cv, dim_reduction_methods, \n",
    "                               svc_kernel_l=[\"rbf\", \"linear\"],\n",
    "                               svc_c_l=[10 ** i for i in range(-6, 4, 2)],\n",
    "                               svc_gamma_l=[10 ** i for i in range(-6, 2, 2)])\n",
    "    start_time = time.time()\n",
    "    grid_cv_svc.fit(X, y)\n",
    "    print(\"(training took {}s)\\n\".format(time.time() - start_time))\n",
    "    \n",
    "    print(\"Training LR...\")\n",
    "    grid_cv_lr = get_lr_grid(cv, dim_reduction_methods, \n",
    "                             lr_c_l=[10 ** i for i in range(-6, 2, 2)])\n",
    "    start_time = time.time()\n",
    "    grid_cv_lr.fit(X, y)\n",
    "    print(\"(training took {}s)\\n\".format(time.time() - start_time))\n",
    "    \n",
    "    print(\"Training RFC...\")\n",
    "    grid_cv_rfc = get_rfc_grid(cv, dim_reduction_methods, \n",
    "                               rfc_n_estimators_l=[i for i in range(300, 950, 150)])\n",
    "    start_time = time.time()\n",
    "    grid_cv_rfc.fit(X, y)\n",
    "    print(\"(training took {}s)\\n\".format(time.time() - start_time))\n",
    "    \n",
    "    print(\"Training KNN...\")\n",
    "    class_size_tr = sum([y == 0]) - 5\n",
    "    grid_cv_knn = get_knn_grid(cv, dim_reduction_methods, \n",
    "                              knn_p_l=[1, 2],\n",
    "                              knn_weights_l=[\"uniform\", \"distance\"],\n",
    "                              knn_n_neighbors_l=[i for i in range(5, class_size_tr - 1, 2)])\n",
    "    start_time = time.time()\n",
    "    grid_cv_knn.fit(X, y)\n",
    "    print(\"(training took {}s)\\n\".format(time.time() - start_time))\n",
    "    \n",
    "    print_results({\n",
    "        \"SVC\" : grid_cv_svc,\n",
    "        \"LR\" : grid_cv_lr,\n",
    "        \"RFC\" : grid_cv_rfc,\n",
    "        \"KNN\" : grid_cv_knn\n",
    "                  })        \n",
    "    \n",
    "    return grid_cv_svc, grid_cv_lr, grid_cv_rfc, grid_cv_knn"
   ]
  },
  {
   "cell_type": "markdown",
   "metadata": {},
   "source": [
    "### Подбор интервалов для значений гиперпараметров\n",
    "Классификаторы с различными значениями гиперпараметров обучаются по всей выборке, но не для того, чтобы выбрать оптимальное значение, а для того, чтобы определить общую тендецию изменения качества при варьировании этого параметра и приблизительный интервал, по которому имеет смысл выполнять GridSearch.\n",
    "\n",
    "Классификаторы обучаются на небольшом количестве признаков (50), т.к. перед обучением модели в GridSearch также выполняется снижение размерности. "
   ]
  },
  {
   "cell_type": "markdown",
   "metadata": {},
   "source": [
    "* #### ориентировочная зависимость accuracy SVC(\"rbf\") от gamma"
   ]
  },
  {
   "cell_type": "code",
   "execution_count": 19,
   "metadata": {},
   "outputs": [
    {
     "name": "stderr",
     "output_type": "stream",
     "text": [
      "100%|██████████| 40/40 [02:05<00:00,  3.14s/it]\n"
     ]
    },
    {
     "data": {
      "text/plain": [
       "[<matplotlib.lines.Line2D at 0x7fc0a9991cc0>]"
      ]
     },
     "execution_count": 19,
     "metadata": {},
     "output_type": "execute_result"
    },
    {
     "data": {
      "image/png": "[encoded data removed]",
      "text/plain": [
       "<matplotlib.figure.Figure at 0x7fc0a99e9b70>"
      ]
     },
     "metadata": {},
     "output_type": "display_data"
    }
   ],
   "source": [
    "X, y = mri_data, DE_target\n",
    "range_l = np.arange(-20, 20)\n",
    "gamma_l = [10. ** i for i in range_l]\n",
    "scores = []\n",
    "for gamma in tqdm(gamma_l):\n",
    "    pipe = Pipeline([\n",
    "    ('FillMedian', Imputer(strategy=\"median\")),\n",
    "    ('StdScaler', StandardScaler()),\n",
    "    (\"VarTh\", VarianceThreshold()),\n",
    "    ('dim_reduction', SelectKBest(stats.ttest_ind, k=50)),\n",
    "    ('SVC', SVC(gamma=gamma, kernel=\"rbf\"))\n",
    "                     ])\n",
    "    scores.append(np.mean(cross_val_score(pipe, X, y, scoring=\"accuracy\", cv=RepeatedStratifiedKFold(n_repeats=40, n_splits=5))))\n",
    "plt.plot(range_l, scores)"
   ]
  },
  {
   "cell_type": "markdown",
   "metadata": {},
   "source": [
    "* #### ориентировочная зависимость accuracy SVC(\"rbf\", gamma=1e-5) от C"
   ]
  },
  {
   "cell_type": "code",
   "execution_count": 20,
   "metadata": {},
   "outputs": [
    {
     "name": "stderr",
     "output_type": "stream",
     "text": [
      "100%|██████████| 40/40 [02:10<00:00,  3.26s/it]\n"
     ]
    },
    {
     "data": {
      "text/plain": [
       "[<matplotlib.lines.Line2D at 0x7fc0a9942048>]"
      ]
     },
     "execution_count": 20,
     "metadata": {},
     "output_type": "execute_result"
    },
    {
     "data": {
      "image/png": "[encoded data removed]",
      "text/plain": [
       "<matplotlib.figure.Figure at 0x7fc0a997ccf8>"
      ]
     },
     "metadata": {},
     "output_type": "display_data"
    }
   ],
   "source": [
    "X, y = mri_data, DE_target\n",
    "range_l = np.arange(-20, 20)\n",
    "C_l = [10. ** i for i in range_l]\n",
    "scores = []\n",
    "for C in tqdm(C_l):\n",
    "    pipe = Pipeline([\n",
    "    ('FillMedian', Imputer(strategy=\"median\")),\n",
    "    ('StdScaler', StandardScaler()),\n",
    "    (\"VarTh\", VarianceThreshold()),\n",
    "    ('dim_reduction', SelectKBest(stats.ttest_ind, k=50)),\n",
    "    ('SVC', SVC(C=C, gamma=1e-5, kernel=\"rbf\"))\n",
    "                     ])\n",
    "    scores.append(np.mean(cross_val_score(pipe, X, y, scoring=\"accuracy\", cv=RepeatedStratifiedKFold(n_repeats=40, n_splits=5))))\n",
    "plt.plot(range_l, scores)"
   ]
  },
  {
   "cell_type": "markdown",
   "metadata": {},
   "source": [
    "* #### ориентировочная зависимость accuracy SVC(\"linear\", gamma=1e-5) от C"
   ]
  },
  {
   "cell_type": "code",
   "execution_count": 30,
   "metadata": {},
   "outputs": [
    {
     "name": "stderr",
     "output_type": "stream",
     "text": [
      "100%|██████████| 40/40 [02:11<00:00,  3.28s/it]\n"
     ]
    },
    {
     "data": {
      "text/plain": [
       "[<matplotlib.lines.Line2D at 0x7fcb05b0cc18>]"
      ]
     },
     "execution_count": 30,
     "metadata": {},
     "output_type": "execute_result"
    },
    {
     "data": {
      "image/png": "[encoded data removed]",
      "text/plain": [
       "<matplotlib.figure.Figure at 0x7fcb05c34518>"
      ]
     },
     "metadata": {},
     "output_type": "display_data"
    }
   ],
   "source": [
    "X, y = mri_data, DE_target\n",
    "range_l = np.arange(-20, 20)\n",
    "C_l = [10. ** i for i in range_l]\n",
    "scores = []\n",
    "for C in tqdm(C_l):\n",
    "    pipe = Pipeline([\n",
    "    ('FillMedian', Imputer(strategy=\"median\")),\n",
    "    ('StdScaler', StandardScaler()),\n",
    "    (\"VarTh\", VarianceThreshold()),\n",
    "    ('dim_reduction', SelectKBest(stats.ttest_ind, k=50)),\n",
    "    ('SVC', SVC(C=C, kernel=\"linear\"))\n",
    "                     ])\n",
    "    scores.append(np.mean(cross_val_score(pipe, X, y, scoring=\"accuracy\", cv=RepeatedStratifiedKFold(n_repeats=40, n_splits=5))))\n",
    "plt.plot(range_l, scores)"
   ]
  },
  {
   "cell_type": "markdown",
   "metadata": {},
   "source": [
    "* #### ориентировочная зависимость accuracy LR от C"
   ]
  },
  {
   "cell_type": "code",
   "execution_count": 14,
   "metadata": {},
   "outputs": [
    {
     "name": "stderr",
     "output_type": "stream",
     "text": [
      "100%|██████████| 40/40 [02:42<00:00,  4.06s/it]\n"
     ]
    },
    {
     "data": {
      "text/plain": [
       "[<matplotlib.lines.Line2D at 0x7f3bade3a0b8>]"
      ]
     },
     "execution_count": 14,
     "metadata": {},
     "output_type": "execute_result"
    },
    {
     "data": {
      "image/png": "[encoded data removed]",
      "text/plain": [
       "<matplotlib.figure.Figure at 0x7f3bade60048>"
      ]
     },
     "metadata": {},
     "output_type": "display_data"
    }
   ],
   "source": [
    "X, y = mri_data, DE_target\n",
    "range_l = np.arange(-20, 20)\n",
    "C_l = [10. ** i for i in range_l]\n",
    "scores = []\n",
    "for C in tqdm(C_l):\n",
    "    pipe = Pipeline([\n",
    "    ('FillMedian', Imputer(strategy=\"median\")),\n",
    "    ('StdScaler', StandardScaler()),\n",
    "    (\"VarTh\", VarianceThreshold()),\n",
    "    ('dim_reduction', SelectKBest(stats.ttest_ind, k=50)),\n",
    "    ('LR', LogisticRegression(C=C))\n",
    "                     ])\n",
    "    scores.append(np.mean(cross_val_score(pipe, X, y, scoring=\"accuracy\", cv=RepeatedStratifiedKFold(n_repeats=40, n_splits=5))))\n",
    "plt.plot(range_l, scores)"
   ]
  },
  {
   "cell_type": "markdown",
   "metadata": {},
   "source": [
    "* #### ориентировочная зависимость accuracy RFC от n_estimators"
   ]
  },
  {
   "cell_type": "code",
   "execution_count": 14,
   "metadata": {},
   "outputs": [
    {
     "name": "stderr",
     "output_type": "stream",
     "text": [
      "100%|██████████| 20/20 [54:10<00:00, 162.52s/it]\n"
     ]
    },
    {
     "data": {
      "text/plain": [
       "[<matplotlib.lines.Line2D at 0x7fcb059f5a58>]"
      ]
     },
     "execution_count": 14,
     "metadata": {},
     "output_type": "execute_result"
    },
    {
     "data": {
      "image/png": "[encoded data removed]",
      "text/plain": [
       "<matplotlib.figure.Figure at 0x7fcb05f0ddd8>"
      ]
     },
     "metadata": {},
     "output_type": "display_data"
    }
   ],
   "source": [
    "X, y = mri_data, DE_target\n",
    "range_l = np.arange(50, 1050, 50)\n",
    "n_estimators_l = [i for i in range_l]\n",
    "scores = []\n",
    "for n_estimators in tqdm(n_estimators_l):\n",
    "    pipe = Pipeline([\n",
    "    ('FillMedian', Imputer(strategy=\"median\")),\n",
    "    ('StdScaler', StandardScaler()),\n",
    "    (\"VarTh\", VarianceThreshold()),\n",
    "    ('dim_reduction', SelectKBest(stats.ttest_ind, k=50)),\n",
    "    ('RFC', RandomForestClassifier(n_estimators=n_estimators))\n",
    "                     ])\n",
    "    scores.append(np.mean(cross_val_score(pipe, X, y, scoring=\"accuracy\", cv=RepeatedStratifiedKFold(n_repeats=40, n_splits=5))))\n",
    "plt.plot(range_l, scores)"
   ]
  },
  {
   "cell_type": "markdown",
   "metadata": {},
   "source": [
    "* #### ориентировочная зависимость accuracy KNN(weights=\"distance\", p=2) от n_neighbors"
   ]
  },
  {
   "cell_type": "code",
   "execution_count": 29,
   "metadata": {},
   "outputs": [
    {
     "name": "stderr",
     "output_type": "stream",
     "text": [
      "100%|██████████| 20/20 [01:07<00:00,  3.40s/it]\n"
     ]
    },
    {
     "data": {
      "text/plain": [
       "[<matplotlib.lines.Line2D at 0x7fcb05b3d860>]"
      ]
     },
     "execution_count": 29,
     "metadata": {},
     "output_type": "execute_result"
    },
    {
     "data": {
      "image/png": "[encoded data removed]",
      "text/plain": [
       "<matplotlib.figure.Figure at 0x7fcb05cc5b70>"
      ]
     },
     "metadata": {},
     "output_type": "display_data"
    }
   ],
   "source": [
    "X, y = mri_data, DE_target\n",
    "range_l = np.arange(1, 21)\n",
    "n_neighbors_l = [i for i in range_l]\n",
    "scores = []\n",
    "for n_neighbors in tqdm(n_neighbors_l):\n",
    "    pipe = Pipeline([\n",
    "    ('FillMedian', Imputer(strategy=\"median\")),\n",
    "    ('StdScaler', StandardScaler()),\n",
    "    (\"VarTh\", VarianceThreshold()),\n",
    "    ('dim_reduction', SelectKBest(stats.ttest_ind, k=50)),\n",
    "    ('KNN', KNeighborsClassifier(n_neighbors=n_neighbors, weights=\"distance\"))\n",
    "                     ])\n",
    "    scores.append(np.mean(cross_val_score(pipe, X, y, scoring=\"accuracy\", cv=RepeatedStratifiedKFold(n_repeats=40, n_splits=5))))\n",
    "plt.plot(range_l, scores)"
   ]
  },
  {
   "cell_type": "markdown",
   "metadata": {},
   "source": [
    "* #### ориентировочная зависимость accuracy KNN(weights=\"distance\", p=1) от n_neighbors"
   ]
  },
  {
   "cell_type": "code",
   "execution_count": 28,
   "metadata": {},
   "outputs": [
    {
     "name": "stderr",
     "output_type": "stream",
     "text": [
      "100%|██████████| 20/20 [01:09<00:00,  3.48s/it]\n"
     ]
    },
    {
     "data": {
      "text/plain": [
       "[<matplotlib.lines.Line2D at 0x7fcb05c4e438>]"
      ]
     },
     "execution_count": 28,
     "metadata": {},
     "output_type": "execute_result"
    },
    {
     "data": {
      "image/png": "[encoded data removed]",
      "text/plain": [
       "<matplotlib.figure.Figure at 0x7fcb05d9b860>"
      ]
     },
     "metadata": {},
     "output_type": "display_data"
    }
   ],
   "source": [
    "X, y = mri_data, DE_target\n",
    "range_l = np.arange(1, 21)\n",
    "n_neighbors_l = [i for i in range_l]\n",
    "scores = []\n",
    "for n_neighbors in tqdm(n_neighbors_l):\n",
    "    pipe = Pipeline([\n",
    "    ('FillMedian', Imputer(strategy=\"median\")),\n",
    "    ('StdScaler', StandardScaler()),\n",
    "    (\"VarTh\", VarianceThreshold()),\n",
    "    ('dim_reduction', SelectKBest(stats.ttest_ind, k=50)),\n",
    "    ('KNN', KNeighborsClassifier(n_neighbors=n_neighbors, weights=\"distance\", p=1))\n",
    "                     ])\n",
    "    scores.append(np.mean(cross_val_score(pipe, X, y, scoring=\"accuracy\", cv=RepeatedStratifiedKFold(n_repeats=40, n_splits=5))))\n",
    "plt.plot(range_l, scores)"
   ]
  },
  {
   "cell_type": "code",
   "execution_count": null,
   "metadata": {
    "collapsed": true
   },
   "outputs": [],
   "source": []
  },
  {
   "cell_type": "markdown",
   "metadata": {},
   "source": [
    "### Training"
   ]
  },
  {
   "cell_type": "code",
   "execution_count": 51,
   "metadata": {},
   "outputs": [
    {
     "name": "stdout",
     "output_type": "stream",
     "text": [
      "Training SVC...\n",
      "(training took 4257.199155092239s)\n",
      "\n",
      "Training LR...\n",
      "(training took 211.05649518966675s)\n",
      "\n",
      "Training RFC...\n",
      "(training took 3929.5113706588745s)\n",
      "\n",
      "Training KNN...\n",
      "(training took 1653.4171245098114s)\n",
      "\n"
     ]
    },
    {
     "data": {
      "text/html": [
       "<div>\n",
       "<style>\n",
       "    .dataframe thead tr:only-child th {\n",
       "        text-align: right;\n",
       "    }\n",
       "\n",
       "    .dataframe thead th {\n",
       "        text-align: left;\n",
       "    }\n",
       "\n",
       "    .dataframe tbody tr th {\n",
       "        vertical-align: top;\n",
       "    }\n",
       "</style>\n",
       "<table border=\"1\" class=\"dataframe\">\n",
       "  <thead>\n",
       "    <tr style=\"text-align: right;\">\n",
       "      <th></th>\n",
       "      <th>best parameters</th>\n",
       "      <th>best dim. reduction method</th>\n",
       "      <th>mean</th>\n",
       "      <th>std</th>\n",
       "    </tr>\n",
       "    <tr>\n",
       "      <th>classifier</th>\n",
       "      <th></th>\n",
       "      <th></th>\n",
       "      <th></th>\n",
       "      <th></th>\n",
       "    </tr>\n",
       "  </thead>\n",
       "  <tbody>\n",
       "    <tr>\n",
       "      <th>SVC</th>\n",
       "      <td>classifier__kernel = rbf, classifier__gamma = 0.01, classifier__C = 1</td>\n",
       "      <td>SelectKBest(k=50, score_func=&lt;function ttest_ind at 0x7fcb0a39b7b8&gt;)</td>\n",
       "      <td>0.391667</td>\n",
       "      <td>0.090446</td>\n",
       "    </tr>\n",
       "    <tr>\n",
       "      <th>LR</th>\n",
       "      <td>classifier__C = 1e-06</td>\n",
       "      <td>SelectKBest(k=100, score_func=&lt;function ttest_ind at 0x7fcb0a39b7b8&gt;)</td>\n",
       "      <td>0.358333</td>\n",
       "      <td>0.089520</td>\n",
       "    </tr>\n",
       "    <tr>\n",
       "      <th>KNN</th>\n",
       "      <td>classifier__n_neighbors = 15, classifier__weights = distance, classifier__p = 1</td>\n",
       "      <td>SelectKBest(k=100, score_func=&lt;function ttest_ind at 0x7fcb0a39b7b8&gt;)</td>\n",
       "      <td>0.358333</td>\n",
       "      <td>0.101721</td>\n",
       "    </tr>\n",
       "    <tr>\n",
       "      <th>RFC</th>\n",
       "      <td>classifier__n_estimators = 900</td>\n",
       "      <td>SelectKBest(k=100, score_func=&lt;function ttest_ind at 0x7fcb0a39b7b8&gt;)</td>\n",
       "      <td>0.410000</td>\n",
       "      <td>0.077889</td>\n",
       "    </tr>\n",
       "  </tbody>\n",
       "</table>\n",
       "</div>"
      ],
      "text/plain": [
       "                                                                            best parameters  \\\n",
       "classifier                                                                                    \n",
       "SVC                   classifier__kernel = rbf, classifier__gamma = 0.01, classifier__C = 1   \n",
       "LR                                                                    classifier__C = 1e-06   \n",
       "KNN         classifier__n_neighbors = 15, classifier__weights = distance, classifier__p = 1   \n",
       "RFC                                                          classifier__n_estimators = 900   \n",
       "\n",
       "                                                       best dim. reduction method  \\\n",
       "classifier                                                                          \n",
       "SVC          SelectKBest(k=50, score_func=<function ttest_ind at 0x7fcb0a39b7b8>)   \n",
       "LR          SelectKBest(k=100, score_func=<function ttest_ind at 0x7fcb0a39b7b8>)   \n",
       "KNN         SelectKBest(k=100, score_func=<function ttest_ind at 0x7fcb0a39b7b8>)   \n",
       "RFC         SelectKBest(k=100, score_func=<function ttest_ind at 0x7fcb0a39b7b8>)   \n",
       "\n",
       "                mean       std  \n",
       "classifier                      \n",
       "SVC         0.391667  0.090446  \n",
       "LR          0.358333  0.089520  \n",
       "KNN         0.358333  0.101721  \n",
       "RFC         0.410000  0.077889  "
      ]
     },
     "metadata": {},
     "output_type": "display_data"
    },
    {
     "data": {
      "image/png": "[encoded data removed]",
      "text/plain": [
       "<matplotlib.figure.Figure at 0x7fcafdc56198>"
      ]
     },
     "metadata": {},
     "output_type": "display_data"
    },
    {
     "name": "stdout",
     "output_type": "stream",
     "text": [
      "Best model: \n",
      "RFC\n",
      "classifier__n_estimators = 900\n",
      "dim_reduction = SelectKBest(k=100, score_func=<function ttest_ind at 0x7fcb0a39b7b8>)\n",
      "\n",
      "mean = 0.41\n",
      "std = 0.077888809637\n"
     ]
    }
   ],
   "source": [
    "X, y = mri_data, DE_target\n",
    "grid_cv_svc, grid_cv_lr, grid_cv_rfc, grid_cv_knn = train_grid_cv(X, y, n_splits=5)"
   ]
  },
  {
   "cell_type": "code",
   "execution_count": 52,
   "metadata": {},
   "outputs": [
    {
     "data": {
      "text/plain": [
       "['knn_mri_data_DE.pkl']"
      ]
     },
     "execution_count": 52,
     "metadata": {},
     "output_type": "execute_result"
    }
   ],
   "source": [
    "# save\n",
    "joblib.dump(grid_cv_svc, 'svc_mri_data_DE.pkl')\n",
    "joblib.dump(grid_cv_lr, 'lr_mri_data_DE.pkl')\n",
    "joblib.dump(grid_cv_rfc, 'rfc_mri_data_DE.pkl')\n",
    "joblib.dump(grid_cv_knn, 'knn_mri_data_DE.pkl')\n",
    "# load\n",
    "# grid_cv_svc_DE = joblib.load('svc_mri_data_DE.pkl')\n",
    "# grid_cv_lr_DE = joblib.load('lr_mri_data_DE.pkl')\n",
    "# grid_cv_rfc_DE = joblib.load('rfc_mri_data_DE.pkl')\n",
    "# grid_cv_knn_DE = joblib.load('knn_mri_data_DE.pkl')"
   ]
  },
  {
   "cell_type": "code",
   "execution_count": null,
   "metadata": {
    "collapsed": true
   },
   "outputs": [],
   "source": []
  }
 ],
 "metadata": {
  "kernelspec": {
   "display_name": "Python 3",
   "language": "python",
   "name": "python3"
  },
  "language_info": {
   "codemirror_mode": {
    "name": "ipython",
    "version": 3
   },
   "file_extension": ".py",
   "mimetype": "text/x-python",
   "name": "python",
   "nbconvert_exporter": "python",
   "pygments_lexer": "ipython3",
   "version": "3.5.4"
  }
 },
 "nbformat": 4,
 "nbformat_minor": 2
}
