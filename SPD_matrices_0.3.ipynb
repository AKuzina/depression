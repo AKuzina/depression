{
 "cells": [
  {
   "cell_type": "code",
   "execution_count": 1,
   "metadata": {},
   "outputs": [
    {
     "name": "stdout",
     "output_type": "stream",
     "text": [
      "Populating the interactive namespace from numpy and matplotlib\n"
     ]
    }
   ],
   "source": [
    "import numpy as np\n",
    "import pandas as pd\n",
    "import scipy.io\n",
    "import pyriemann as pr\n",
    "import networkx as nx\n",
    "import os\n",
    "\n",
    "from sklearn.svm import SVC\n",
    "from sklearn.model_selection import train_test_split, GridSearchCV, RepeatedStratifiedKFold\n",
    "from sklearn.linear_model import LogisticRegression\n",
    "from sklearn.metrics import roc_auc_score, make_scorer, roc_curve\n",
    "from tqdm import tqdm, tqdm_notebook\n",
    "import matplotlib.pyplot as plt\n",
    "%run Pipeline_for_SPD.ipynb"
   ]
  },
  {
   "cell_type": "code",
   "execution_count": null,
   "metadata": {},
   "outputs": [],
   "source": []
  },
  {
   "cell_type": "code",
   "execution_count": 2,
   "metadata": {},
   "outputs": [],
   "source": [
    "\n",
    "labels = pd.read_csv(\"data/targets 28.02.2018.csv\", sep=\";\").reset_index(drop=True)\n",
    "# labels = labels[labels[\"patient_number\"].isin(mri_data[\"index_r\"])]\n",
    "\n",
    "idx_to_label = [\"C\", \"D\", \"E\", \"DE\", \"NE\", \"ND\", \"TLE\", \"NoTLE\"]\n",
    "label_to_idx = {l : i for i, l in enumerate(idx_to_label)}\n",
    "\n",
    "for col in labels.columns[1:]:\n",
    "    labels[col] = labels[col].apply(lambda x: label_to_idx[x] if x in label_to_idx else np.nan)\n",
    "    \n",
    "DE_idx = labels[\"target\"].notnull()\n",
    "E_idx = labels[\"E/no E\"].notnull()\n",
    "D_idx = labels[\"D/no D\"].notnull()\n",
    "E_C_idx = labels[\"E/C\"].notnull()\n",
    "D_C_idx = labels[\"D/C\"].notnull()\n",
    "TLE_noE_idx = labels[\"TLE/no E\"].notnull()\n",
    "TLE_C_idx = labels[\"TLE/C\"].notnull()\n",
    "DE_E_idx = labels[\"DE/E\"].notnull()\n",
    "\n",
    "DE_D_idx = E_C_idx == False"
   ]
  },
  {
   "cell_type": "code",
   "execution_count": null,
   "metadata": {},
   "outputs": [],
   "source": []
  },
  {
   "cell_type": "code",
   "execution_count": 3,
   "metadata": {},
   "outputs": [
    {
     "data": {
      "text/html": [
       "<div>\n",
       "<style scoped>\n",
       "    .dataframe tbody tr th:only-of-type {\n",
       "        vertical-align: middle;\n",
       "    }\n",
       "\n",
       "    .dataframe tbody tr th {\n",
       "        vertical-align: top;\n",
       "    }\n",
       "\n",
       "    .dataframe thead th {\n",
       "        text-align: right;\n",
       "    }\n",
       "</style>\n",
       "<table border=\"1\" class=\"dataframe\">\n",
       "  <thead>\n",
       "    <tr style=\"text-align: right;\">\n",
       "      <th></th>\n",
       "      <th>patient_number</th>\n",
       "      <th>target</th>\n",
       "      <th>E/no E</th>\n",
       "      <th>D/no D</th>\n",
       "      <th>E/C</th>\n",
       "      <th>TLE/no E</th>\n",
       "      <th>TLE/C</th>\n",
       "      <th>D/C</th>\n",
       "      <th>DE/E</th>\n",
       "      <th>MRIPositive/Negative</th>\n",
       "      <th>TLEPositive/C</th>\n",
       "      <th>TLENegative/C</th>\n",
       "      <th>NoTLE/C</th>\n",
       "    </tr>\n",
       "  </thead>\n",
       "  <tbody>\n",
       "    <tr>\n",
       "      <th>0</th>\n",
       "      <td>P001</td>\n",
       "      <td>2</td>\n",
       "      <td>2</td>\n",
       "      <td>5</td>\n",
       "      <td>2.0</td>\n",
       "      <td>6.0</td>\n",
       "      <td>6.0</td>\n",
       "      <td>NaN</td>\n",
       "      <td>2.0</td>\n",
       "      <td>NaN</td>\n",
       "      <td>NaN</td>\n",
       "      <td>NaN</td>\n",
       "      <td>NaN</td>\n",
       "    </tr>\n",
       "    <tr>\n",
       "      <th>1</th>\n",
       "      <td>P002</td>\n",
       "      <td>3</td>\n",
       "      <td>2</td>\n",
       "      <td>1</td>\n",
       "      <td>NaN</td>\n",
       "      <td>NaN</td>\n",
       "      <td>NaN</td>\n",
       "      <td>NaN</td>\n",
       "      <td>3.0</td>\n",
       "      <td>NaN</td>\n",
       "      <td>NaN</td>\n",
       "      <td>NaN</td>\n",
       "      <td>7.0</td>\n",
       "    </tr>\n",
       "    <tr>\n",
       "      <th>2</th>\n",
       "      <td>P003</td>\n",
       "      <td>2</td>\n",
       "      <td>2</td>\n",
       "      <td>5</td>\n",
       "      <td>2.0</td>\n",
       "      <td>6.0</td>\n",
       "      <td>6.0</td>\n",
       "      <td>NaN</td>\n",
       "      <td>2.0</td>\n",
       "      <td>NaN</td>\n",
       "      <td>NaN</td>\n",
       "      <td>NaN</td>\n",
       "      <td>NaN</td>\n",
       "    </tr>\n",
       "    <tr>\n",
       "      <th>3</th>\n",
       "      <td>P004</td>\n",
       "      <td>1</td>\n",
       "      <td>4</td>\n",
       "      <td>1</td>\n",
       "      <td>NaN</td>\n",
       "      <td>4.0</td>\n",
       "      <td>NaN</td>\n",
       "      <td>1.0</td>\n",
       "      <td>NaN</td>\n",
       "      <td>NaN</td>\n",
       "      <td>NaN</td>\n",
       "      <td>NaN</td>\n",
       "      <td>NaN</td>\n",
       "    </tr>\n",
       "    <tr>\n",
       "      <th>4</th>\n",
       "      <td>P006</td>\n",
       "      <td>2</td>\n",
       "      <td>2</td>\n",
       "      <td>5</td>\n",
       "      <td>2.0</td>\n",
       "      <td>NaN</td>\n",
       "      <td>NaN</td>\n",
       "      <td>NaN</td>\n",
       "      <td>2.0</td>\n",
       "      <td>NaN</td>\n",
       "      <td>NaN</td>\n",
       "      <td>NaN</td>\n",
       "      <td>7.0</td>\n",
       "    </tr>\n",
       "  </tbody>\n",
       "</table>\n",
       "</div>"
      ],
      "text/plain": [
       "  patient_number  target  E/no E  D/no D  E/C  TLE/no E  TLE/C  D/C  DE/E  \\\n",
       "0           P001       2       2       5  2.0       6.0    6.0  NaN   2.0   \n",
       "1           P002       3       2       1  NaN       NaN    NaN  NaN   3.0   \n",
       "2           P003       2       2       5  2.0       6.0    6.0  NaN   2.0   \n",
       "3           P004       1       4       1  NaN       4.0    NaN  1.0   NaN   \n",
       "4           P006       2       2       5  2.0       NaN    NaN  NaN   2.0   \n",
       "\n",
       "   MRIPositive/Negative   TLEPositive/C  TLENegative/C  NoTLE/C  \n",
       "0                    NaN            NaN            NaN      NaN  \n",
       "1                    NaN            NaN            NaN      7.0  \n",
       "2                    NaN            NaN            NaN      NaN  \n",
       "3                    NaN            NaN            NaN      NaN  \n",
       "4                    NaN            NaN            NaN      7.0  "
      ]
     },
     "execution_count": 3,
     "metadata": {},
     "output_type": "execute_result"
    }
   ],
   "source": [
    "labels.head()"
   ]
  },
  {
   "cell_type": "code",
   "execution_count": 4,
   "metadata": {},
   "outputs": [],
   "source": [
    "patients = labels['patient_number']"
   ]
  },
  {
   "cell_type": "code",
   "execution_count": 5,
   "metadata": {},
   "outputs": [],
   "source": [
    "data = []\n",
    "for l in patients:\n",
    "    X_new = pd.read_csv('./data/clean_last/{}.csv'.format(l), index_col=0)\n",
    "    data.append(np.array(X_new))"
   ]
  },
  {
   "cell_type": "markdown",
   "metadata": {},
   "source": [
    "1. Epilepsy / no epilepsy\n",
    "2. Depression / no depression\n",
    "3. Epilepsy / control\n",
    "4. Depression / control\n",
    "5. TLE / no epilepsy\n",
    "6. TLE / control\n",
    "7. Epilepsy with depression / only epilepsy\n",
    "8. Epilepsy with depression / only depression"
   ]
  },
  {
   "cell_type": "code",
   "execution_count": null,
   "metadata": {},
   "outputs": [],
   "source": []
  },
  {
   "cell_type": "markdown",
   "metadata": {},
   "source": [
    "## Threshold = 0.3"
   ]
  },
  {
   "cell_type": "code",
   "execution_count": 6,
   "metadata": {},
   "outputs": [],
   "source": [
    "tr = 0.3\n",
    "scoring = 'roc_auc'"
   ]
  },
  {
   "cell_type": "markdown",
   "metadata": {},
   "source": [
    "### Epilepsy  / No Epilepsy"
   ]
  },
  {
   "cell_type": "code",
   "execution_count": 7,
   "metadata": {
    "scrolled": false
   },
   "outputs": [
    {
     "name": "stdout",
     "output_type": "stream",
     "text": [
      "Target distribution: \n",
      "4    50\n",
      "2    50\n",
      "Name: E/no E, dtype: int64 \n",
      "\n",
      "loading fitted SVC...\n",
      "\n",
      "loading fitted LR...\n",
      "\n",
      "Training KNN...\n",
      "Fitting 50 folds for each of 27 candidates, totalling 1350 fits\n"
     ]
    },
    {
     "name": "stderr",
     "output_type": "stream",
     "text": [
      "[Parallel(n_jobs=-1)]: Done  42 tasks      | elapsed:  2.5min\n",
      "[Parallel(n_jobs=-1)]: Done 192 tasks      | elapsed: 11.9min\n",
      "[Parallel(n_jobs=-1)]: Done 442 tasks      | elapsed: 27.0min\n",
      "[Parallel(n_jobs=-1)]: Done 792 tasks      | elapsed: 47.2min\n",
      "[Parallel(n_jobs=-1)]: Done 1242 tasks      | elapsed: 72.5min\n",
      "[Parallel(n_jobs=-1)]: Done 1350 out of 1350 | elapsed: 78.5min finished\n"
     ]
    },
    {
     "name": "stdout",
     "output_type": "stream",
     "text": [
      "(training took 4709.430715799332s)\n",
      "\n",
      "Training MDM...\n",
      "Fitting 50 folds for each of 3 candidates, totalling 150 fits\n"
     ]
    },
    {
     "name": "stderr",
     "output_type": "stream",
     "text": [
      "[Parallel(n_jobs=-1)]: Done  42 tasks      | elapsed:   45.2s\n",
      "[Parallel(n_jobs=-1)]: Done 150 out of 150 | elapsed:  2.5min finished\n"
     ]
    },
    {
     "name": "stdout",
     "output_type": "stream",
     "text": [
      "(training took 152.92335391044617s)\n",
      "\n",
      "Scoring: roc_auc\n"
     ]
    },
    {
     "data": {
      "text/html": [
       "<div>\n",
       "<style scoped>\n",
       "    .dataframe tbody tr th:only-of-type {\n",
       "        vertical-align: middle;\n",
       "    }\n",
       "\n",
       "    .dataframe tbody tr th {\n",
       "        vertical-align: top;\n",
       "    }\n",
       "\n",
       "    .dataframe thead th {\n",
       "        text-align: right;\n",
       "    }\n",
       "</style>\n",
       "<table border=\"1\" class=\"dataframe\">\n",
       "  <thead>\n",
       "    <tr style=\"text-align: right;\">\n",
       "      <th></th>\n",
       "      <th>best parameters</th>\n",
       "      <th>mean</th>\n",
       "      <th>std</th>\n",
       "    </tr>\n",
       "    <tr>\n",
       "      <th>classifier</th>\n",
       "      <th></th>\n",
       "      <th></th>\n",
       "      <th></th>\n",
       "    </tr>\n",
       "  </thead>\n",
       "  <tbody>\n",
       "    <tr>\n",
       "      <th>SVC</th>\n",
       "      <td>clf__C = 0.0001, clf__gamma = 1, clf__kernel =...</td>\n",
       "      <td>0.5000</td>\n",
       "      <td>0.000000</td>\n",
       "    </tr>\n",
       "    <tr>\n",
       "      <th>LR</th>\n",
       "      <td>clf__C = 0.0001, metric = riemann</td>\n",
       "      <td>0.5552</td>\n",
       "      <td>0.164854</td>\n",
       "    </tr>\n",
       "    <tr>\n",
       "      <th>KNN</th>\n",
       "      <td>metric = riemann, n_neighbors = 5</td>\n",
       "      <td>0.5840</td>\n",
       "      <td>0.176182</td>\n",
       "    </tr>\n",
       "    <tr>\n",
       "      <th>MDM</th>\n",
       "      <td>metric = riemann</td>\n",
       "      <td>0.5464</td>\n",
       "      <td>0.175200</td>\n",
       "    </tr>\n",
       "  </tbody>\n",
       "</table>\n",
       "</div>"
      ],
      "text/plain": [
       "                                              best parameters    mean  \\\n",
       "classifier                                                              \n",
       "SVC         clf__C = 0.0001, clf__gamma = 1, clf__kernel =...  0.5000   \n",
       "LR                          clf__C = 0.0001, metric = riemann  0.5552   \n",
       "KNN                         metric = riemann, n_neighbors = 5  0.5840   \n",
       "MDM                                          metric = riemann  0.5464   \n",
       "\n",
       "                 std  \n",
       "classifier            \n",
       "SVC         0.000000  \n",
       "LR          0.164854  \n",
       "KNN         0.176182  \n",
       "MDM         0.175200  "
      ]
     },
     "metadata": {},
     "output_type": "display_data"
    },
    {
     "data": {
      "image/png": "[encoded data removed]",
      "text/plain": [
       "<matplotlib.figure.Figure at 0x117544588>"
      ]
     },
     "metadata": {},
     "output_type": "display_data"
    },
    {
     "name": "stdout",
     "output_type": "stream",
     "text": [
      "Best model: \n",
      "KNN\n",
      "metric = riemann\n",
      "n_neighbors = 5\n",
      "mean = 0.40320000000000006\n",
      "std = 0.18844033538497007\n"
     ]
    },
    {
     "data": {
      "application/vnd.jupyter.widget-view+json": {
       "model_id": "4a354b2e7b3d492b8ebe7d458f0544b5",
       "version_major": 2,
       "version_minor": 0
      },
      "text/html": [
       "<p>Failed to display Jupyter Widget of type <code>HBox</code>.</p>\n",
       "<p>\n",
       "  If you're reading this message in the Jupyter Notebook or JupyterLab Notebook, it may mean\n",
       "  that the widgets JavaScript is still loading. If this message persists, it\n",
       "  likely means that the widgets JavaScript library is either not installed or\n",
       "  not enabled. See the <a href=\"https://ipywidgets.readthedocs.io/en/stable/user_install.html\">Jupyter\n",
       "  Widgets Documentation</a> for setup instructions.\n",
       "</p>\n",
       "<p>\n",
       "  If you're reading this message in another frontend (for example, a static\n",
       "  rendering on GitHub or <a href=\"https://nbviewer.jupyter.org/\">NBViewer</a>),\n",
       "  it may mean that your frontend doesn't currently support widgets.\n",
       "</p>\n"
      ],
      "text/plain": [
       "HBox(children=(IntProgress(value=1, bar_style='info', max=1), HTML(value='')))"
      ]
     },
     "metadata": {},
     "output_type": "display_data"
    },
    {
     "name": "stdout",
     "output_type": "stream",
     "text": [
      "\n"
     ]
    },
    {
     "data": {
      "image/png": "[encoded data removed]",
      "text/plain": [
       "<matplotlib.figure.Figure at 0x1174a4080>"
      ]
     },
     "metadata": {},
     "output_type": "display_data"
    },
    {
     "name": "stdout",
     "output_type": "stream",
     "text": [
      "auc = 0.4084\n"
     ]
    },
    {
     "data": {
      "text/html": [
       "<div>\n",
       "<style scoped>\n",
       "    .dataframe tbody tr th:only-of-type {\n",
       "        vertical-align: middle;\n",
       "    }\n",
       "\n",
       "    .dataframe tbody tr th {\n",
       "        vertical-align: top;\n",
       "    }\n",
       "\n",
       "    .dataframe thead th {\n",
       "        text-align: right;\n",
       "    }\n",
       "</style>\n",
       "<table border=\"1\" class=\"dataframe\">\n",
       "  <thead>\n",
       "    <tr style=\"text-align: right;\">\n",
       "      <th></th>\n",
       "      <th>False Positive rate (fixed)</th>\n",
       "      <th>False Negative rate</th>\n",
       "    </tr>\n",
       "  </thead>\n",
       "  <tbody>\n",
       "    <tr>\n",
       "      <th>0</th>\n",
       "      <td>0.10</td>\n",
       "      <td>0.94</td>\n",
       "    </tr>\n",
       "    <tr>\n",
       "      <th>1</th>\n",
       "      <td>0.15</td>\n",
       "      <td>0.92</td>\n",
       "    </tr>\n",
       "    <tr>\n",
       "      <th>2</th>\n",
       "      <td>0.20</td>\n",
       "      <td>0.90</td>\n",
       "    </tr>\n",
       "    <tr>\n",
       "      <th>3</th>\n",
       "      <td>0.30</td>\n",
       "      <td>0.74</td>\n",
       "    </tr>\n",
       "  </tbody>\n",
       "</table>\n",
       "</div>"
      ],
      "text/plain": [
       "   False Positive rate (fixed)  False Negative rate\n",
       "0                         0.10                 0.94\n",
       "1                         0.15                 0.92\n",
       "2                         0.20                 0.90\n",
       "3                         0.30                 0.74"
      ]
     },
     "metadata": {},
     "output_type": "display_data"
    },
    {
     "data": {
      "image/png": "[encoded data removed]",
      "text/plain": [
       "<matplotlib.figure.Figure at 0x116fd4b00>"
      ]
     },
     "metadata": {},
     "output_type": "display_data"
    },
    {
     "name": "stdout",
     "output_type": "stream",
     "text": [
      "auc = 0.40615999999999997\n"
     ]
    },
    {
     "data": {
      "text/html": [
       "<div>\n",
       "<style scoped>\n",
       "    .dataframe tbody tr th:only-of-type {\n",
       "        vertical-align: middle;\n",
       "    }\n",
       "\n",
       "    .dataframe tbody tr th {\n",
       "        vertical-align: top;\n",
       "    }\n",
       "\n",
       "    .dataframe thead th {\n",
       "        text-align: right;\n",
       "    }\n",
       "</style>\n",
       "<table border=\"1\" class=\"dataframe\">\n",
       "  <thead>\n",
       "    <tr style=\"text-align: right;\">\n",
       "      <th></th>\n",
       "      <th>False Positive rate (fixed)</th>\n",
       "      <th>False Negative rate</th>\n",
       "    </tr>\n",
       "  </thead>\n",
       "  <tbody>\n",
       "    <tr>\n",
       "      <th>0</th>\n",
       "      <td>0.10</td>\n",
       "      <td>0.934</td>\n",
       "    </tr>\n",
       "    <tr>\n",
       "      <th>1</th>\n",
       "      <td>0.15</td>\n",
       "      <td>0.926</td>\n",
       "    </tr>\n",
       "    <tr>\n",
       "      <th>2</th>\n",
       "      <td>0.20</td>\n",
       "      <td>0.890</td>\n",
       "    </tr>\n",
       "    <tr>\n",
       "      <th>3</th>\n",
       "      <td>0.30</td>\n",
       "      <td>0.774</td>\n",
       "    </tr>\n",
       "  </tbody>\n",
       "</table>\n",
       "</div>"
      ],
      "text/plain": [
       "   False Positive rate (fixed)  False Negative rate\n",
       "0                         0.10                0.934\n",
       "1                         0.15                0.926\n",
       "2                         0.20                0.890\n",
       "3                         0.30                0.774"
      ]
     },
     "metadata": {},
     "output_type": "display_data"
    }
   ],
   "source": [
    "# n_splits = 2\n",
    "n_splits = 10\n",
    "y = labels[\"E/no E\"]\n",
    "pos_label = label_to_idx[\"E\"]\n",
    "pipe = SPD_pipeline(tr, 0.1)\n",
    "\n",
    "### Pipeline training\n",
    "best_model_E, grid_cv_svc_E, grid_cv_lr_E, grid_cv_mdm_E, grid_cv_knn_E = pipe.train_grid_cv(\n",
    "    data, y = y, n_splits=n_splits, n_repeats=5, scoring=scoring, random_state=42, n_jobs=-1, save_models_to = 'models/temp_model')\n",
    "\n",
    "### Validation\n",
    "cv = RepeatedStratifiedKFold(n_splits=10, n_repeats=10, random_state=42)\n",
    "X = pipe.get_spd_dataset(data)\n",
    "scores_E = cross_val_score(best_model_E, X, np.array(y == pos_label).astype(int), cv=cv, scoring=scoring, n_jobs=-1)\n",
    "  \n",
    "print(\"mean =\", scores_E.mean())\n",
    "print(\"std =\", scores_E.std())\n",
    "\n",
    "### Save model and predictions\n",
    "pipe.save_model(best_model_E, \"models/fmri_rim_E.pkl\")\n",
    "probas_E = pipe.repeated_cross_val_predict_proba(best_model_E, data, y, cv=cv, pos_label=pos_label, file = 'models/rim_E_prediction.csv')\n",
    "\n",
    "### ROC-AUC\n",
    "# average probabilities between repetitions\n",
    "fpr, tpr, t = pipe.plot_roc_curve(y, probas_E, pos_label, E_idx, average_repeats=True)\n",
    "pipe.get_fpr_fnr(fpr, tpr)\n",
    "\n",
    "# without averaging\n",
    "fpr, tpr, t = pipe.plot_roc_curve(y, probas_E, pos_label, E_idx)\n",
    "pipe.get_fpr_fnr(fpr, tpr)\n",
    "\n",
    "## Delete temp models\n",
    "os.remove('models/temp_model_svc.pkl')\n",
    "os.remove('models/temp_model_lr.pkl')\n",
    "os.remove('models/temp_model_knn.pkl')\n",
    "os.remove('models/temp_model_mdm.pkl')"
   ]
  },
  {
   "cell_type": "markdown",
   "metadata": {},
   "source": [
    "### Depression  / No depression"
   ]
  },
  {
   "cell_type": "code",
   "execution_count": null,
   "metadata": {},
   "outputs": [
    {
     "name": "stdout",
     "output_type": "stream",
     "text": [
      "Target distribution: \n",
      "5    50\n",
      "1    50\n",
      "Name: D/no D, dtype: int64 \n",
      "\n",
      "loading fitted SVC...\n",
      "\n",
      "loading fitted LR...\n",
      "\n",
      "Training KNN...\n",
      "Fitting 50 folds for each of 27 candidates, totalling 1350 fits\n"
     ]
    },
    {
     "name": "stderr",
     "output_type": "stream",
     "text": [
      "[Parallel(n_jobs=-1)]: Done  42 tasks      | elapsed:  2.4min\n",
      "[Parallel(n_jobs=-1)]: Done 192 tasks      | elapsed: 10.5min\n",
      "[Parallel(n_jobs=-1)]: Done 442 tasks      | elapsed: 23.9min\n",
      "[Parallel(n_jobs=-1)]: Done 792 tasks      | elapsed: 42.5min\n",
      "[Parallel(n_jobs=-1)]: Done 1242 tasks      | elapsed: 66.2min\n",
      "[Parallel(n_jobs=-1)]: Done 1350 out of 1350 | elapsed: 71.9min finished\n"
     ]
    },
    {
     "name": "stdout",
     "output_type": "stream",
     "text": [
      "(training took 4314.300523042679s)\n",
      "\n",
      "Training MDM...\n",
      "Fitting 50 folds for each of 3 candidates, totalling 150 fits\n"
     ]
    },
    {
     "name": "stderr",
     "output_type": "stream",
     "text": [
      "[Parallel(n_jobs=-1)]: Done  42 tasks      | elapsed:   40.7s\n",
      "[Parallel(n_jobs=-1)]: Done 150 out of 150 | elapsed:  2.2min finished\n"
     ]
    },
    {
     "name": "stdout",
     "output_type": "stream",
     "text": [
      "(training took 135.42394590377808s)\n",
      "\n",
      "Scoring: roc_auc\n"
     ]
    },
    {
     "data": {
      "text/html": [
       "<div>\n",
       "<style scoped>\n",
       "    .dataframe tbody tr th:only-of-type {\n",
       "        vertical-align: middle;\n",
       "    }\n",
       "\n",
       "    .dataframe tbody tr th {\n",
       "        vertical-align: top;\n",
       "    }\n",
       "\n",
       "    .dataframe thead th {\n",
       "        text-align: right;\n",
       "    }\n",
       "</style>\n",
       "<table border=\"1\" class=\"dataframe\">\n",
       "  <thead>\n",
       "    <tr style=\"text-align: right;\">\n",
       "      <th></th>\n",
       "      <th>best parameters</th>\n",
       "      <th>mean</th>\n",
       "      <th>std</th>\n",
       "    </tr>\n",
       "    <tr>\n",
       "      <th>classifier</th>\n",
       "      <th></th>\n",
       "      <th></th>\n",
       "      <th></th>\n",
       "    </tr>\n",
       "  </thead>\n",
       "  <tbody>\n",
       "    <tr>\n",
       "      <th>SVC</th>\n",
       "      <td>clf__C = 0.0001, clf__gamma = 0.0001, clf__ker...</td>\n",
       "      <td>0.6432</td>\n",
       "      <td>0.170052</td>\n",
       "    </tr>\n",
       "    <tr>\n",
       "      <th>LR</th>\n",
       "      <td>clf__C = 1, metric = euclid</td>\n",
       "      <td>0.4184</td>\n",
       "      <td>0.185939</td>\n",
       "    </tr>\n",
       "    <tr>\n",
       "      <th>KNN</th>\n",
       "      <td>metric = riemann, n_neighbors = 5</td>\n",
       "      <td>0.5024</td>\n",
       "      <td>0.186618</td>\n",
       "    </tr>\n",
       "    <tr>\n",
       "      <th>MDM</th>\n",
       "      <td>metric = riemann</td>\n",
       "      <td>0.3544</td>\n",
       "      <td>0.170835</td>\n",
       "    </tr>\n",
       "  </tbody>\n",
       "</table>\n",
       "</div>"
      ],
      "text/plain": [
       "                                              best parameters    mean  \\\n",
       "classifier                                                              \n",
       "SVC         clf__C = 0.0001, clf__gamma = 0.0001, clf__ker...  0.6432   \n",
       "LR                                clf__C = 1, metric = euclid  0.4184   \n",
       "KNN                         metric = riemann, n_neighbors = 5  0.5024   \n",
       "MDM                                          metric = riemann  0.3544   \n",
       "\n",
       "                 std  \n",
       "classifier            \n",
       "SVC         0.170052  \n",
       "LR          0.185939  \n",
       "KNN         0.186618  \n",
       "MDM         0.170835  "
      ]
     },
     "metadata": {},
     "output_type": "display_data"
    },
    {
     "data": {
      "image/png": "[encoded data removed]",
      "text/plain": [
       "<matplotlib.figure.Figure at 0x10fc9cba8>"
      ]
     },
     "metadata": {},
     "output_type": "display_data"
    },
    {
     "name": "stdout",
     "output_type": "stream",
     "text": [
      "Best model: \n",
      "SVC\n",
      "clf__C = 0.0001\n",
      "clf__gamma = 0.0001\n",
      "clf__kernel = rbf\n",
      "metric = riemann\n",
      "mean = 0.6084\n",
      "std = 0.17493267276298044\n"
     ]
    },
    {
     "data": {
      "application/vnd.jupyter.widget-view+json": {
       "model_id": "f81f1f42fb1940839045887cc9181bcc",
       "version_major": 2,
       "version_minor": 0
      },
      "text/html": [
       "<p>Failed to display Jupyter Widget of type <code>HBox</code>.</p>\n",
       "<p>\n",
       "  If you're reading this message in the Jupyter Notebook or JupyterLab Notebook, it may mean\n",
       "  that the widgets JavaScript is still loading. If this message persists, it\n",
       "  likely means that the widgets JavaScript library is either not installed or\n",
       "  not enabled. See the <a href=\"https://ipywidgets.readthedocs.io/en/stable/user_install.html\">Jupyter\n",
       "  Widgets Documentation</a> for setup instructions.\n",
       "</p>\n",
       "<p>\n",
       "  If you're reading this message in another frontend (for example, a static\n",
       "  rendering on GitHub or <a href=\"https://nbviewer.jupyter.org/\">NBViewer</a>),\n",
       "  it may mean that your frontend doesn't currently support widgets.\n",
       "</p>\n"
      ],
      "text/plain": [
       "HBox(children=(IntProgress(value=1, bar_style='info', max=1), HTML(value='')))"
      ]
     },
     "metadata": {},
     "output_type": "display_data"
    },
    {
     "name": "stdout",
     "output_type": "stream",
     "text": [
      "\n"
     ]
    },
    {
     "data": {
      "image/png": "[encoded data removed]",
      "text/plain": [
       "<matplotlib.figure.Figure at 0x10fca4f60>"
      ]
     },
     "metadata": {},
     "output_type": "display_data"
    },
    {
     "name": "stdout",
     "output_type": "stream",
     "text": [
      "auc = 0.63\n"
     ]
    },
    {
     "data": {
      "text/html": [
       "<div>\n",
       "<style scoped>\n",
       "    .dataframe tbody tr th:only-of-type {\n",
       "        vertical-align: middle;\n",
       "    }\n",
       "\n",
       "    .dataframe tbody tr th {\n",
       "        vertical-align: top;\n",
       "    }\n",
       "\n",
       "    .dataframe thead th {\n",
       "        text-align: right;\n",
       "    }\n",
       "</style>\n",
       "<table border=\"1\" class=\"dataframe\">\n",
       "  <thead>\n",
       "    <tr style=\"text-align: right;\">\n",
       "      <th></th>\n",
       "      <th>False Positive rate (fixed)</th>\n",
       "      <th>False Negative rate</th>\n",
       "    </tr>\n",
       "  </thead>\n",
       "  <tbody>\n",
       "    <tr>\n",
       "      <th>0</th>\n",
       "      <td>0.10</td>\n",
       "      <td>0.78</td>\n",
       "    </tr>\n",
       "    <tr>\n",
       "      <th>1</th>\n",
       "      <td>0.15</td>\n",
       "      <td>0.74</td>\n",
       "    </tr>\n",
       "    <tr>\n",
       "      <th>2</th>\n",
       "      <td>0.20</td>\n",
       "      <td>0.68</td>\n",
       "    </tr>\n",
       "    <tr>\n",
       "      <th>3</th>\n",
       "      <td>0.30</td>\n",
       "      <td>0.56</td>\n",
       "    </tr>\n",
       "  </tbody>\n",
       "</table>\n",
       "</div>"
      ],
      "text/plain": [
       "   False Positive rate (fixed)  False Negative rate\n",
       "0                         0.10                 0.78\n",
       "1                         0.15                 0.74\n",
       "2                         0.20                 0.68\n",
       "3                         0.30                 0.56"
      ]
     },
     "metadata": {},
     "output_type": "display_data"
    },
    {
     "data": {
      "image/png": "[encoded data removed]",
      "text/plain": [
       "<matplotlib.figure.Figure at 0x10fca4748>"
      ]
     },
     "metadata": {},
     "output_type": "display_data"
    },
    {
     "name": "stdout",
     "output_type": "stream",
     "text": [
      "auc = 0.607532\n"
     ]
    },
    {
     "data": {
      "text/html": [
       "<div>\n",
       "<style scoped>\n",
       "    .dataframe tbody tr th:only-of-type {\n",
       "        vertical-align: middle;\n",
       "    }\n",
       "\n",
       "    .dataframe tbody tr th {\n",
       "        vertical-align: top;\n",
       "    }\n",
       "\n",
       "    .dataframe thead th {\n",
       "        text-align: right;\n",
       "    }\n",
       "</style>\n",
       "<table border=\"1\" class=\"dataframe\">\n",
       "  <thead>\n",
       "    <tr style=\"text-align: right;\">\n",
       "      <th></th>\n",
       "      <th>False Positive rate (fixed)</th>\n",
       "      <th>False Negative rate</th>\n",
       "    </tr>\n",
       "  </thead>\n",
       "  <tbody>\n",
       "    <tr>\n",
       "      <th>0</th>\n",
       "      <td>0.10</td>\n",
       "      <td>0.820</td>\n",
       "    </tr>\n",
       "    <tr>\n",
       "      <th>1</th>\n",
       "      <td>0.15</td>\n",
       "      <td>0.760</td>\n",
       "    </tr>\n",
       "    <tr>\n",
       "      <th>2</th>\n",
       "      <td>0.20</td>\n",
       "      <td>0.708</td>\n",
       "    </tr>\n",
       "    <tr>\n",
       "      <th>3</th>\n",
       "      <td>0.30</td>\n",
       "      <td>0.598</td>\n",
       "    </tr>\n",
       "  </tbody>\n",
       "</table>\n",
       "</div>"
      ],
      "text/plain": [
       "   False Positive rate (fixed)  False Negative rate\n",
       "0                         0.10                0.820\n",
       "1                         0.15                0.760\n",
       "2                         0.20                0.708\n",
       "3                         0.30                0.598"
      ]
     },
     "metadata": {},
     "output_type": "display_data"
    }
   ],
   "source": [
    "n_splits = 10\n",
    "y = labels[\"D/no D\"]\n",
    "pos_label = label_to_idx[\"D\"]\n",
    "pipe = SPD_pipeline(tr, 0.1)\n",
    "\n",
    "# Pipeline training\n",
    "best_model_D, grid_cv_svc_D, grid_cv_lr_D, grid_cv_mdm_D, grid_cv_knn_D = pipe.train_grid_cv(\n",
    "    data, y = y, n_splits=n_splits, n_repeats=5, scoring=scoring, random_state=42, n_jobs=-1, save_models_to = 'models/temp_model')\n",
    "\n",
    "\n",
    "cv = RepeatedStratifiedKFold(n_splits=n_splits, n_repeats=10, random_state=42)\n",
    "X = pipe.get_spd_dataset(data)\n",
    "scores_D = cross_val_score(best_model_D, X, np.array(y == pos_label).astype(int), cv=cv, scoring=scoring, n_jobs = -1)\n",
    "  \n",
    "print(\"mean =\", scores_D.mean())\n",
    "print(\"std =\", scores_D.std())\n",
    "\n",
    "\n",
    "pipe.save_model(best_model_D, \"models/fmri_rim_D.pkl\")\n",
    "probas_D = pipe.repeated_cross_val_predict_proba(best_model_D, data, y, cv=cv, pos_label=pos_label, file = 'models/rim_D_prediction.csv')\n",
    "\n",
    "# average probabilities between repetitions\n",
    "fpr, tpr, t = pipe.plot_roc_curve(y, probas_D, pos_label, D_idx, average_repeats=True)\n",
    "pipe.get_fpr_fnr(fpr, tpr)\n",
    "\n",
    "# without averaging\n",
    "fpr, tpr, t = pipe.plot_roc_curve(y, probas_D, pos_label, D_idx)\n",
    "pipe.get_fpr_fnr(fpr, tpr)\n",
    "\n",
    "## Delete temp models\n",
    "os.remove('models/temp_model_svc.pkl')\n",
    "os.remove('models/temp_model_lr.pkl')\n",
    "os.remove('models/temp_model_knn.pkl')\n",
    "os.remove('models/temp_model_mdm.pkl')"
   ]
  },
  {
   "cell_type": "markdown",
   "metadata": {},
   "source": [
    "### Epilepsy / Control"
   ]
  },
  {
   "cell_type": "code",
   "execution_count": 7,
   "metadata": {
    "scrolled": false
   },
   "outputs": [
    {
     "name": "stdout",
     "output_type": "stream",
     "text": [
      "Target distribution: \n",
      "0.0    25\n",
      "2.0    25\n",
      "Name: E/C, dtype: int64 \n",
      "\n",
      "loading fitted SVC...\n",
      "\n",
      "loading fitted LR...\n",
      "\n",
      "loading fitted KNN...\n",
      "\n",
      "loading fitted MDM...\n",
      "\n",
      "Scoring: roc_auc\n"
     ]
    },
    {
     "data": {
      "text/html": [
       "<div>\n",
       "<style scoped>\n",
       "    .dataframe tbody tr th:only-of-type {\n",
       "        vertical-align: middle;\n",
       "    }\n",
       "\n",
       "    .dataframe tbody tr th {\n",
       "        vertical-align: top;\n",
       "    }\n",
       "\n",
       "    .dataframe thead th {\n",
       "        text-align: right;\n",
       "    }\n",
       "</style>\n",
       "<table border=\"1\" class=\"dataframe\">\n",
       "  <thead>\n",
       "    <tr style=\"text-align: right;\">\n",
       "      <th></th>\n",
       "      <th>best parameters</th>\n",
       "      <th>mean</th>\n",
       "      <th>std</th>\n",
       "    </tr>\n",
       "    <tr>\n",
       "      <th>classifier</th>\n",
       "      <th></th>\n",
       "      <th></th>\n",
       "      <th></th>\n",
       "    </tr>\n",
       "  </thead>\n",
       "  <tbody>\n",
       "    <tr>\n",
       "      <th>SVC</th>\n",
       "      <td>clf__C = 1, clf__gamma = 0.0001, clf__kernel =...</td>\n",
       "      <td>0.5440</td>\n",
       "      <td>0.098306</td>\n",
       "    </tr>\n",
       "    <tr>\n",
       "      <th>LR</th>\n",
       "      <td>clf__C = 0.01, metric = euclid</td>\n",
       "      <td>0.5936</td>\n",
       "      <td>0.169585</td>\n",
       "    </tr>\n",
       "    <tr>\n",
       "      <th>KNN</th>\n",
       "      <td>metric = riemann, n_neighbors = 5</td>\n",
       "      <td>0.5040</td>\n",
       "      <td>0.250184</td>\n",
       "    </tr>\n",
       "    <tr>\n",
       "      <th>MDM</th>\n",
       "      <td>metric = riemann</td>\n",
       "      <td>0.4896</td>\n",
       "      <td>0.115533</td>\n",
       "    </tr>\n",
       "  </tbody>\n",
       "</table>\n",
       "</div>"
      ],
      "text/plain": [
       "                                              best parameters    mean  \\\n",
       "classifier                                                              \n",
       "SVC         clf__C = 1, clf__gamma = 0.0001, clf__kernel =...  0.5440   \n",
       "LR                             clf__C = 0.01, metric = euclid  0.5936   \n",
       "KNN                         metric = riemann, n_neighbors = 5  0.5040   \n",
       "MDM                                          metric = riemann  0.4896   \n",
       "\n",
       "                 std  \n",
       "classifier            \n",
       "SVC         0.098306  \n",
       "LR          0.169585  \n",
       "KNN         0.250184  \n",
       "MDM         0.115533  "
      ]
     },
     "metadata": {},
     "output_type": "display_data"
    },
    {
     "data": {
      "image/png": "[encoded data removed]",
      "text/plain": [
       "<matplotlib.figure.Figure at 0x10ea9e9b0>"
      ]
     },
     "metadata": {},
     "output_type": "display_data"
    },
    {
     "name": "stdout",
     "output_type": "stream",
     "text": [
      "Best model: \n",
      "LR\n",
      "clf__C = 0.01\n",
      "metric = euclid\n",
      "mean = 0.5912\n",
      "std = 0.16145141684110426\n"
     ]
    },
    {
     "data": {
      "application/vnd.jupyter.widget-view+json": {
       "model_id": "8028e4090b3e41b48edc5a3fda3bc247",
       "version_major": 2,
       "version_minor": 0
      },
      "text/html": [
       "<p>Failed to display Jupyter Widget of type <code>HBox</code>.</p>\n",
       "<p>\n",
       "  If you're reading this message in the Jupyter Notebook or JupyterLab Notebook, it may mean\n",
       "  that the widgets JavaScript is still loading. If this message persists, it\n",
       "  likely means that the widgets JavaScript library is either not installed or\n",
       "  not enabled. See the <a href=\"https://ipywidgets.readthedocs.io/en/stable/user_install.html\">Jupyter\n",
       "  Widgets Documentation</a> for setup instructions.\n",
       "</p>\n",
       "<p>\n",
       "  If you're reading this message in another frontend (for example, a static\n",
       "  rendering on GitHub or <a href=\"https://nbviewer.jupyter.org/\">NBViewer</a>),\n",
       "  it may mean that your frontend doesn't currently support widgets.\n",
       "</p>\n"
      ],
      "text/plain": [
       "HBox(children=(IntProgress(value=1, bar_style='info', max=1), HTML(value='')))"
      ]
     },
     "metadata": {},
     "output_type": "display_data"
    },
    {
     "name": "stdout",
     "output_type": "stream",
     "text": [
      "\n"
     ]
    },
    {
     "data": {
      "image/png": "[encoded data removed]",
      "text/plain": [
       "<matplotlib.figure.Figure at 0x10f77aef0>"
      ]
     },
     "metadata": {},
     "output_type": "display_data"
    },
    {
     "name": "stdout",
     "output_type": "stream",
     "text": [
      "auc = 0.5983999999999999\n"
     ]
    },
    {
     "data": {
      "text/html": [
       "<div>\n",
       "<style scoped>\n",
       "    .dataframe tbody tr th:only-of-type {\n",
       "        vertical-align: middle;\n",
       "    }\n",
       "\n",
       "    .dataframe tbody tr th {\n",
       "        vertical-align: top;\n",
       "    }\n",
       "\n",
       "    .dataframe thead th {\n",
       "        text-align: right;\n",
       "    }\n",
       "</style>\n",
       "<table border=\"1\" class=\"dataframe\">\n",
       "  <thead>\n",
       "    <tr style=\"text-align: right;\">\n",
       "      <th></th>\n",
       "      <th>False Positive rate (fixed)</th>\n",
       "      <th>False Negative rate</th>\n",
       "    </tr>\n",
       "  </thead>\n",
       "  <tbody>\n",
       "    <tr>\n",
       "      <th>0</th>\n",
       "      <td>0.10</td>\n",
       "      <td>0.76</td>\n",
       "    </tr>\n",
       "    <tr>\n",
       "      <th>1</th>\n",
       "      <td>0.15</td>\n",
       "      <td>0.68</td>\n",
       "    </tr>\n",
       "    <tr>\n",
       "      <th>2</th>\n",
       "      <td>0.20</td>\n",
       "      <td>0.56</td>\n",
       "    </tr>\n",
       "    <tr>\n",
       "      <th>3</th>\n",
       "      <td>0.30</td>\n",
       "      <td>0.40</td>\n",
       "    </tr>\n",
       "  </tbody>\n",
       "</table>\n",
       "</div>"
      ],
      "text/plain": [
       "   False Positive rate (fixed)  False Negative rate\n",
       "0                         0.10                 0.76\n",
       "1                         0.15                 0.68\n",
       "2                         0.20                 0.56\n",
       "3                         0.30                 0.40"
      ]
     },
     "metadata": {},
     "output_type": "display_data"
    },
    {
     "data": {
      "image/png": "[encoded data removed]",
      "text/plain": [
       "<matplotlib.figure.Figure at 0x10fd0e198>"
      ]
     },
     "metadata": {},
     "output_type": "display_data"
    },
    {
     "name": "stdout",
     "output_type": "stream",
     "text": [
      "auc = 0.569808\n"
     ]
    },
    {
     "data": {
      "text/html": [
       "<div>\n",
       "<style scoped>\n",
       "    .dataframe tbody tr th:only-of-type {\n",
       "        vertical-align: middle;\n",
       "    }\n",
       "\n",
       "    .dataframe tbody tr th {\n",
       "        vertical-align: top;\n",
       "    }\n",
       "\n",
       "    .dataframe thead th {\n",
       "        text-align: right;\n",
       "    }\n",
       "</style>\n",
       "<table border=\"1\" class=\"dataframe\">\n",
       "  <thead>\n",
       "    <tr style=\"text-align: right;\">\n",
       "      <th></th>\n",
       "      <th>False Positive rate (fixed)</th>\n",
       "      <th>False Negative rate</th>\n",
       "    </tr>\n",
       "  </thead>\n",
       "  <tbody>\n",
       "    <tr>\n",
       "      <th>0</th>\n",
       "      <td>0.10</td>\n",
       "      <td>0.792</td>\n",
       "    </tr>\n",
       "    <tr>\n",
       "      <th>1</th>\n",
       "      <td>0.15</td>\n",
       "      <td>0.732</td>\n",
       "    </tr>\n",
       "    <tr>\n",
       "      <th>2</th>\n",
       "      <td>0.20</td>\n",
       "      <td>0.692</td>\n",
       "    </tr>\n",
       "    <tr>\n",
       "      <th>3</th>\n",
       "      <td>0.30</td>\n",
       "      <td>0.576</td>\n",
       "    </tr>\n",
       "  </tbody>\n",
       "</table>\n",
       "</div>"
      ],
      "text/plain": [
       "   False Positive rate (fixed)  False Negative rate\n",
       "0                         0.10                0.792\n",
       "1                         0.15                0.732\n",
       "2                         0.20                0.692\n",
       "3                         0.30                0.576"
      ]
     },
     "metadata": {},
     "output_type": "display_data"
    }
   ],
   "source": [
    "n_splits = 5\n",
    "\n",
    "y = labels[E_C_idx][\"E/C\"]\n",
    "data_EC = [data[i] for i in np.where(E_C_idx == True)[0]]\n",
    "pos_label = label_to_idx[\"E\"]\n",
    "pipe = SPD_pipeline(tr, 0.1)\n",
    "\n",
    "\n",
    "best_model_EC, grid_cv_svc_EC, grid_cv_lr_EC, grid_cv_mdm_EC, grid_cv_knn_EC = pipe.train_grid_cv(\n",
    "    data_EC, y = y, n_splits=n_splits, n_repeats=5, scoring=scoring, random_state=42, n_jobs=-1, save_models_to = 'models/temp_model')\n",
    "\n",
    "cv = RepeatedStratifiedKFold(n_splits=n_splits, n_repeats=10, random_state=42)\n",
    "X = pipe.get_spd_dataset(data_EC)\n",
    "scores_EC = cross_val_score(best_model_EC, X, np.array(y == pos_label).astype(int), cv=cv, scoring=scoring, n_jobs = -1)\n",
    "print(\"mean =\", scores_EC.mean())\n",
    "print(\"std =\", scores_EC.std())\n",
    "\n",
    "\n",
    "pipe.save_model(best_model_EC, \"models/fmri_rim_EC.pkl\")\n",
    "probas_EC = pipe.repeated_cross_val_predict_proba(best_model_EC, data_EC, y, cv=cv, pos_label=pos_label, file = 'models/rim_EC_prediction.csv')\n",
    "\n",
    "# # average probabilities between repetitions\n",
    "fpr, tpr, t = pipe.plot_roc_curve(y, probas_EC, pos_label, E_C_idx, average_repeats=True)\n",
    "pipe.get_fpr_fnr(fpr, tpr)\n",
    "\n",
    "# # without averaging\n",
    "fpr, tpr, t = pipe.plot_roc_curve(y, probas_EC, pos_label, E_C_idx)\n",
    "pipe.get_fpr_fnr(fpr, tpr)\n",
    "\n",
    "## Delete temp models\n",
    "os.remove('models/temp_model_svc.pkl')\n",
    "os.remove('models/temp_model_lr.pkl')\n",
    "os.remove('models/temp_model_knn.pkl')\n",
    "os.remove('models/temp_model_mdm.pkl')"
   ]
  },
  {
   "cell_type": "markdown",
   "metadata": {},
   "source": [
    "### Depression / Control"
   ]
  },
  {
   "cell_type": "code",
   "execution_count": 7,
   "metadata": {
    "scrolled": false
   },
   "outputs": [
    {
     "name": "stdout",
     "output_type": "stream",
     "text": [
      "Target distribution: \n",
      "0.0    25\n",
      "1.0    25\n",
      "Name: D/C, dtype: int64 \n",
      "\n",
      "loading fitted SVC...\n",
      "\n",
      "loading fitted LR...\n",
      "\n",
      "Training KNN...\n",
      "Fitting 25 folds for each of 12 candidates, totalling 300 fits\n"
     ]
    },
    {
     "name": "stderr",
     "output_type": "stream",
     "text": [
      "[Parallel(n_jobs=-1)]: Done  42 tasks      | elapsed:   37.1s\n",
      "[Parallel(n_jobs=-1)]: Done 192 tasks      | elapsed:  2.6min\n",
      "[Parallel(n_jobs=-1)]: Done 300 out of 300 | elapsed:  4.0min finished\n"
     ]
    },
    {
     "name": "stdout",
     "output_type": "stream",
     "text": [
      "(training took 240.001953125s)\n",
      "\n",
      "Training MDM...\n",
      "Fitting 25 folds for each of 3 candidates, totalling 75 fits\n"
     ]
    },
    {
     "name": "stderr",
     "output_type": "stream",
     "text": [
      "[Parallel(n_jobs=-1)]: Done  42 tasks      | elapsed:   20.1s\n",
      "[Parallel(n_jobs=-1)]: Done  75 out of  75 | elapsed:   35.3s finished\n"
     ]
    },
    {
     "name": "stdout",
     "output_type": "stream",
     "text": [
      "(training took 36.44649600982666s)\n",
      "\n",
      "Scoring: roc_auc\n"
     ]
    },
    {
     "data": {
      "text/html": [
       "<div>\n",
       "<style scoped>\n",
       "    .dataframe tbody tr th:only-of-type {\n",
       "        vertical-align: middle;\n",
       "    }\n",
       "\n",
       "    .dataframe tbody tr th {\n",
       "        vertical-align: top;\n",
       "    }\n",
       "\n",
       "    .dataframe thead th {\n",
       "        text-align: right;\n",
       "    }\n",
       "</style>\n",
       "<table border=\"1\" class=\"dataframe\">\n",
       "  <thead>\n",
       "    <tr style=\"text-align: right;\">\n",
       "      <th></th>\n",
       "      <th>best parameters</th>\n",
       "      <th>mean</th>\n",
       "      <th>std</th>\n",
       "    </tr>\n",
       "    <tr>\n",
       "      <th>classifier</th>\n",
       "      <th></th>\n",
       "      <th></th>\n",
       "      <th></th>\n",
       "    </tr>\n",
       "  </thead>\n",
       "  <tbody>\n",
       "    <tr>\n",
       "      <th>SVC</th>\n",
       "      <td>clf__C = 1, clf__gamma = 0.0001, clf__kernel =...</td>\n",
       "      <td>0.5952</td>\n",
       "      <td>0.242010</td>\n",
       "    </tr>\n",
       "    <tr>\n",
       "      <th>LR</th>\n",
       "      <td>clf__C = 1, metric = riemann</td>\n",
       "      <td>0.6736</td>\n",
       "      <td>0.227313</td>\n",
       "    </tr>\n",
       "    <tr>\n",
       "      <th>KNN</th>\n",
       "      <td>metric = riemann, n_neighbors = 5</td>\n",
       "      <td>0.5248</td>\n",
       "      <td>0.173185</td>\n",
       "    </tr>\n",
       "    <tr>\n",
       "      <th>MDM</th>\n",
       "      <td>metric = riemann</td>\n",
       "      <td>0.6192</td>\n",
       "      <td>0.216479</td>\n",
       "    </tr>\n",
       "  </tbody>\n",
       "</table>\n",
       "</div>"
      ],
      "text/plain": [
       "                                              best parameters    mean  \\\n",
       "classifier                                                              \n",
       "SVC         clf__C = 1, clf__gamma = 0.0001, clf__kernel =...  0.5952   \n",
       "LR                               clf__C = 1, metric = riemann  0.6736   \n",
       "KNN                         metric = riemann, n_neighbors = 5  0.5248   \n",
       "MDM                                          metric = riemann  0.6192   \n",
       "\n",
       "                 std  \n",
       "classifier            \n",
       "SVC         0.242010  \n",
       "LR          0.227313  \n",
       "KNN         0.173185  \n",
       "MDM         0.216479  "
      ]
     },
     "metadata": {},
     "output_type": "display_data"
    },
    {
     "data": {
      "image/png": "[encoded data removed]",
      "text/plain": [
       "<matplotlib.figure.Figure at 0x10dde6f98>"
      ]
     },
     "metadata": {},
     "output_type": "display_data"
    },
    {
     "name": "stdout",
     "output_type": "stream",
     "text": [
      "Best model: \n",
      "LR\n",
      "clf__C = 1\n",
      "metric = riemann\n",
      "mean = 0.6936\n",
      "std = 0.20358546117048731\n"
     ]
    },
    {
     "data": {
      "application/vnd.jupyter.widget-view+json": {
       "model_id": "0b4f03a3c36248a4a462983d7278acdb",
       "version_major": 2,
       "version_minor": 0
      },
      "text/html": [
       "<p>Failed to display Jupyter Widget of type <code>HBox</code>.</p>\n",
       "<p>\n",
       "  If you're reading this message in the Jupyter Notebook or JupyterLab Notebook, it may mean\n",
       "  that the widgets JavaScript is still loading. If this message persists, it\n",
       "  likely means that the widgets JavaScript library is either not installed or\n",
       "  not enabled. See the <a href=\"https://ipywidgets.readthedocs.io/en/stable/user_install.html\">Jupyter\n",
       "  Widgets Documentation</a> for setup instructions.\n",
       "</p>\n",
       "<p>\n",
       "  If you're reading this message in another frontend (for example, a static\n",
       "  rendering on GitHub or <a href=\"https://nbviewer.jupyter.org/\">NBViewer</a>),\n",
       "  it may mean that your frontend doesn't currently support widgets.\n",
       "</p>\n"
      ],
      "text/plain": [
       "HBox(children=(IntProgress(value=1, bar_style='info', max=1), HTML(value='')))"
      ]
     },
     "metadata": {},
     "output_type": "display_data"
    },
    {
     "name": "stdout",
     "output_type": "stream",
     "text": [
      "\n"
     ]
    },
    {
     "data": {
      "image/png": "[encoded data removed]",
      "text/plain": [
       "<matplotlib.figure.Figure at 0x10dcfea20>"
      ]
     },
     "metadata": {},
     "output_type": "display_data"
    },
    {
     "name": "stdout",
     "output_type": "stream",
     "text": [
      "auc = 0.7023999999999999\n"
     ]
    },
    {
     "data": {
      "text/html": [
       "<div>\n",
       "<style scoped>\n",
       "    .dataframe tbody tr th:only-of-type {\n",
       "        vertical-align: middle;\n",
       "    }\n",
       "\n",
       "    .dataframe tbody tr th {\n",
       "        vertical-align: top;\n",
       "    }\n",
       "\n",
       "    .dataframe thead th {\n",
       "        text-align: right;\n",
       "    }\n",
       "</style>\n",
       "<table border=\"1\" class=\"dataframe\">\n",
       "  <thead>\n",
       "    <tr style=\"text-align: right;\">\n",
       "      <th></th>\n",
       "      <th>False Positive rate (fixed)</th>\n",
       "      <th>False Negative rate</th>\n",
       "    </tr>\n",
       "  </thead>\n",
       "  <tbody>\n",
       "    <tr>\n",
       "      <th>0</th>\n",
       "      <td>0.10</td>\n",
       "      <td>0.88</td>\n",
       "    </tr>\n",
       "    <tr>\n",
       "      <th>1</th>\n",
       "      <td>0.15</td>\n",
       "      <td>0.80</td>\n",
       "    </tr>\n",
       "    <tr>\n",
       "      <th>2</th>\n",
       "      <td>0.20</td>\n",
       "      <td>0.56</td>\n",
       "    </tr>\n",
       "    <tr>\n",
       "      <th>3</th>\n",
       "      <td>0.30</td>\n",
       "      <td>0.36</td>\n",
       "    </tr>\n",
       "  </tbody>\n",
       "</table>\n",
       "</div>"
      ],
      "text/plain": [
       "   False Positive rate (fixed)  False Negative rate\n",
       "0                         0.10                 0.88\n",
       "1                         0.15                 0.80\n",
       "2                         0.20                 0.56\n",
       "3                         0.30                 0.36"
      ]
     },
     "metadata": {},
     "output_type": "display_data"
    },
    {
     "data": {
      "image/png": "[encoded data removed]",
      "text/plain": [
       "<matplotlib.figure.Figure at 0x105cab198>"
      ]
     },
     "metadata": {},
     "output_type": "display_data"
    },
    {
     "name": "stdout",
     "output_type": "stream",
     "text": [
      "auc = 0.6879679999999999\n"
     ]
    },
    {
     "data": {
      "text/html": [
       "<div>\n",
       "<style scoped>\n",
       "    .dataframe tbody tr th:only-of-type {\n",
       "        vertical-align: middle;\n",
       "    }\n",
       "\n",
       "    .dataframe tbody tr th {\n",
       "        vertical-align: top;\n",
       "    }\n",
       "\n",
       "    .dataframe thead th {\n",
       "        text-align: right;\n",
       "    }\n",
       "</style>\n",
       "<table border=\"1\" class=\"dataframe\">\n",
       "  <thead>\n",
       "    <tr style=\"text-align: right;\">\n",
       "      <th></th>\n",
       "      <th>False Positive rate (fixed)</th>\n",
       "      <th>False Negative rate</th>\n",
       "    </tr>\n",
       "  </thead>\n",
       "  <tbody>\n",
       "    <tr>\n",
       "      <th>0</th>\n",
       "      <td>0.10</td>\n",
       "      <td>0.764</td>\n",
       "    </tr>\n",
       "    <tr>\n",
       "      <th>1</th>\n",
       "      <td>0.15</td>\n",
       "      <td>0.720</td>\n",
       "    </tr>\n",
       "    <tr>\n",
       "      <th>2</th>\n",
       "      <td>0.20</td>\n",
       "      <td>0.616</td>\n",
       "    </tr>\n",
       "    <tr>\n",
       "      <th>3</th>\n",
       "      <td>0.30</td>\n",
       "      <td>0.480</td>\n",
       "    </tr>\n",
       "  </tbody>\n",
       "</table>\n",
       "</div>"
      ],
      "text/plain": [
       "   False Positive rate (fixed)  False Negative rate\n",
       "0                         0.10                0.764\n",
       "1                         0.15                0.720\n",
       "2                         0.20                0.616\n",
       "3                         0.30                0.480"
      ]
     },
     "metadata": {},
     "output_type": "display_data"
    }
   ],
   "source": [
    "# 0.57\n",
    "n_splits = 5\n",
    "\n",
    "y = labels[D_C_idx][\"D/C\"]\n",
    "data_DC = [data[i] for i in np.where(D_C_idx == True)[0]]\n",
    "pos_label = label_to_idx[\"D\"]\n",
    "pipe = SPD_pipeline(tr, 0.1)\n",
    "\n",
    "\n",
    "best_model_DC, grid_cv_svc_DC, grid_cv_lr_DC, grid_cv_mdm_DC, grid_cv_knn_DC = pipe.train_grid_cv(\n",
    "    data_DC, y = y, n_splits=n_splits, n_repeats=5, scoring=scoring, random_state=42, n_jobs=-1, save_models_to = 'models/temp_model')\n",
    "\n",
    "\n",
    "cv = RepeatedStratifiedKFold(n_splits=n_splits, n_repeats=10, random_state=42)\n",
    "X = pipe.get_spd_dataset(data_DC)\n",
    "scores_DC = cross_val_score(best_model_DC, X, np.array(y == pos_label).astype(int), cv=cv, scoring=scoring, n_jobs = -1)\n",
    "print(\"mean =\", scores_DC.mean())\n",
    "print(\"std =\", scores_DC.std())\n",
    "\n",
    "\n",
    "pipe.save_model(best_model_DC, \"models/fmri_rim_DC.pkl\")\n",
    "probas_DC = pipe.repeated_cross_val_predict_proba(best_model_DC, data_DC, y, cv=cv, pos_label=pos_label, file = 'models/rim_DC_prediction.csv')\n",
    "\n",
    "# # average probabilities between repetitions\n",
    "fpr, tpr, t = pipe.plot_roc_curve(y, probas_DC, pos_label, D_C_idx, average_repeats=True)\n",
    "pipe.get_fpr_fnr(fpr, tpr)\n",
    "\n",
    "# # without averaging\n",
    "fpr, tpr, t = pipe.plot_roc_curve(y, probas_DC, pos_label, D_C_idx)\n",
    "pipe.get_fpr_fnr(fpr, tpr)\n",
    "                           \n",
    "## Delete temp models\n",
    "os.remove('models/temp_model_svc.pkl')\n",
    "os.remove('models/temp_model_lr.pkl')\n",
    "os.remove('models/temp_model_knn.pkl')\n",
    "os.remove('models/temp_model_mdm.pkl')"
   ]
  },
  {
   "cell_type": "markdown",
   "metadata": {},
   "source": [
    "### TLE / no Epilepsy"
   ]
  },
  {
   "cell_type": "code",
   "execution_count": 7,
   "metadata": {},
   "outputs": [
    {
     "name": "stdout",
     "output_type": "stream",
     "text": [
      "Target distribution: \n",
      "4.0    50\n",
      "6.0    30\n",
      "Name: TLE/no E, dtype: int64 \n",
      "\n",
      "loading fitted SVC...\n",
      "\n",
      "loading fitted LR...\n",
      "\n",
      "Training KNN...\n",
      "Fitting 25 folds for each of 15 candidates, totalling 375 fits\n"
     ]
    },
    {
     "name": "stderr",
     "output_type": "stream",
     "text": [
      "[Parallel(n_jobs=-1)]: Done  42 tasks      | elapsed:  1.4min\n",
      "[Parallel(n_jobs=-1)]: Done 192 tasks      | elapsed:  5.8min\n"
     ]
    },
    {
     "name": "stdout",
     "output_type": "stream",
     "text": [
      "(training took 685.6053841114044s)\n",
      "\n",
      "Training MDM...\n",
      "Fitting 25 folds for each of 3 candidates, totalling 75 fits\n"
     ]
    },
    {
     "name": "stderr",
     "output_type": "stream",
     "text": [
      "[Parallel(n_jobs=-1)]: Done 375 out of 375 | elapsed: 11.4min finished\n",
      "[Parallel(n_jobs=-1)]: Done  42 tasks      | elapsed:   30.4s\n",
      "[Parallel(n_jobs=-1)]: Done  75 out of  75 | elapsed:   52.0s finished\n"
     ]
    },
    {
     "name": "stdout",
     "output_type": "stream",
     "text": [
      "(training took 53.6678409576416s)\n",
      "\n",
      "Scoring: roc_auc\n"
     ]
    },
    {
     "data": {
      "text/html": [
       "<div>\n",
       "<style scoped>\n",
       "    .dataframe tbody tr th:only-of-type {\n",
       "        vertical-align: middle;\n",
       "    }\n",
       "\n",
       "    .dataframe tbody tr th {\n",
       "        vertical-align: top;\n",
       "    }\n",
       "\n",
       "    .dataframe thead th {\n",
       "        text-align: right;\n",
       "    }\n",
       "</style>\n",
       "<table border=\"1\" class=\"dataframe\">\n",
       "  <thead>\n",
       "    <tr style=\"text-align: right;\">\n",
       "      <th></th>\n",
       "      <th>best parameters</th>\n",
       "      <th>mean</th>\n",
       "      <th>std</th>\n",
       "    </tr>\n",
       "    <tr>\n",
       "      <th>classifier</th>\n",
       "      <th></th>\n",
       "      <th></th>\n",
       "      <th></th>\n",
       "    </tr>\n",
       "  </thead>\n",
       "  <tbody>\n",
       "    <tr>\n",
       "      <th>SVC</th>\n",
       "      <td>clf__C = 0.0001, clf__gamma = 0.0001, clf__ker...</td>\n",
       "      <td>0.516667</td>\n",
       "      <td>0.142829</td>\n",
       "    </tr>\n",
       "    <tr>\n",
       "      <th>LR</th>\n",
       "      <td>clf__C = 0.0001, metric = euclid</td>\n",
       "      <td>0.617333</td>\n",
       "      <td>0.165024</td>\n",
       "    </tr>\n",
       "    <tr>\n",
       "      <th>KNN</th>\n",
       "      <td>metric = riemann, n_neighbors = 5</td>\n",
       "      <td>0.516667</td>\n",
       "      <td>0.161795</td>\n",
       "    </tr>\n",
       "    <tr>\n",
       "      <th>MDM</th>\n",
       "      <td>metric = riemann</td>\n",
       "      <td>0.563333</td>\n",
       "      <td>0.134907</td>\n",
       "    </tr>\n",
       "  </tbody>\n",
       "</table>\n",
       "</div>"
      ],
      "text/plain": [
       "                                              best parameters      mean  \\\n",
       "classifier                                                                \n",
       "SVC         clf__C = 0.0001, clf__gamma = 0.0001, clf__ker...  0.516667   \n",
       "LR                           clf__C = 0.0001, metric = euclid  0.617333   \n",
       "KNN                         metric = riemann, n_neighbors = 5  0.516667   \n",
       "MDM                                          metric = riemann  0.563333   \n",
       "\n",
       "                 std  \n",
       "classifier            \n",
       "SVC         0.142829  \n",
       "LR          0.165024  \n",
       "KNN         0.161795  \n",
       "MDM         0.134907  "
      ]
     },
     "metadata": {},
     "output_type": "display_data"
    },
    {
     "data": {
      "image/png": "[encoded data removed]",
      "text/plain": [
       "<matplotlib.figure.Figure at 0x118cd0da0>"
      ]
     },
     "metadata": {},
     "output_type": "display_data"
    },
    {
     "name": "stdout",
     "output_type": "stream",
     "text": [
      "Best model: \n",
      "LR\n",
      "clf__C = 0.0001\n",
      "metric = euclid\n",
      "mean = 0.6153333333333334\n",
      "std = 0.15433873280691549\n"
     ]
    },
    {
     "data": {
      "application/vnd.jupyter.widget-view+json": {
       "model_id": "43660e12997f4822b1b15bd510586f04",
       "version_major": 2,
       "version_minor": 0
      },
      "text/html": [
       "<p>Failed to display Jupyter Widget of type <code>HBox</code>.</p>\n",
       "<p>\n",
       "  If you're reading this message in the Jupyter Notebook or JupyterLab Notebook, it may mean\n",
       "  that the widgets JavaScript is still loading. If this message persists, it\n",
       "  likely means that the widgets JavaScript library is either not installed or\n",
       "  not enabled. See the <a href=\"https://ipywidgets.readthedocs.io/en/stable/user_install.html\">Jupyter\n",
       "  Widgets Documentation</a> for setup instructions.\n",
       "</p>\n",
       "<p>\n",
       "  If you're reading this message in another frontend (for example, a static\n",
       "  rendering on GitHub or <a href=\"https://nbviewer.jupyter.org/\">NBViewer</a>),\n",
       "  it may mean that your frontend doesn't currently support widgets.\n",
       "</p>\n"
      ],
      "text/plain": [
       "HBox(children=(IntProgress(value=1, bar_style='info', max=1), HTML(value='')))"
      ]
     },
     "metadata": {},
     "output_type": "display_data"
    },
    {
     "name": "stdout",
     "output_type": "stream",
     "text": [
      "\n"
     ]
    },
    {
     "data": {
      "image/png": "[encoded data removed]",
      "text/plain": [
       "<matplotlib.figure.Figure at 0x118c07e48>"
      ]
     },
     "metadata": {},
     "output_type": "display_data"
    },
    {
     "name": "stdout",
     "output_type": "stream",
     "text": [
      "auc = 0.5946666666666666\n"
     ]
    },
    {
     "data": {
      "text/html": [
       "<div>\n",
       "<style scoped>\n",
       "    .dataframe tbody tr th:only-of-type {\n",
       "        vertical-align: middle;\n",
       "    }\n",
       "\n",
       "    .dataframe tbody tr th {\n",
       "        vertical-align: top;\n",
       "    }\n",
       "\n",
       "    .dataframe thead th {\n",
       "        text-align: right;\n",
       "    }\n",
       "</style>\n",
       "<table border=\"1\" class=\"dataframe\">\n",
       "  <thead>\n",
       "    <tr style=\"text-align: right;\">\n",
       "      <th></th>\n",
       "      <th>False Positive rate (fixed)</th>\n",
       "      <th>False Negative rate</th>\n",
       "    </tr>\n",
       "  </thead>\n",
       "  <tbody>\n",
       "    <tr>\n",
       "      <th>0</th>\n",
       "      <td>0.10</td>\n",
       "      <td>0.866667</td>\n",
       "    </tr>\n",
       "    <tr>\n",
       "      <th>1</th>\n",
       "      <td>0.15</td>\n",
       "      <td>0.700000</td>\n",
       "    </tr>\n",
       "    <tr>\n",
       "      <th>2</th>\n",
       "      <td>0.20</td>\n",
       "      <td>0.600000</td>\n",
       "    </tr>\n",
       "    <tr>\n",
       "      <th>3</th>\n",
       "      <td>0.30</td>\n",
       "      <td>0.400000</td>\n",
       "    </tr>\n",
       "  </tbody>\n",
       "</table>\n",
       "</div>"
      ],
      "text/plain": [
       "   False Positive rate (fixed)  False Negative rate\n",
       "0                         0.10             0.866667\n",
       "1                         0.15             0.700000\n",
       "2                         0.20             0.600000\n",
       "3                         0.30             0.400000"
      ]
     },
     "metadata": {},
     "output_type": "display_data"
    },
    {
     "data": {
      "image/png": "[encoded data removed]",
      "text/plain": [
       "<matplotlib.figure.Figure at 0x118cf6cc0>"
      ]
     },
     "metadata": {},
     "output_type": "display_data"
    },
    {
     "name": "stdout",
     "output_type": "stream",
     "text": [
      "auc = 0.5933266666666667\n"
     ]
    },
    {
     "data": {
      "text/html": [
       "<div>\n",
       "<style scoped>\n",
       "    .dataframe tbody tr th:only-of-type {\n",
       "        vertical-align: middle;\n",
       "    }\n",
       "\n",
       "    .dataframe tbody tr th {\n",
       "        vertical-align: top;\n",
       "    }\n",
       "\n",
       "    .dataframe thead th {\n",
       "        text-align: right;\n",
       "    }\n",
       "</style>\n",
       "<table border=\"1\" class=\"dataframe\">\n",
       "  <thead>\n",
       "    <tr style=\"text-align: right;\">\n",
       "      <th></th>\n",
       "      <th>False Positive rate (fixed)</th>\n",
       "      <th>False Negative rate</th>\n",
       "    </tr>\n",
       "  </thead>\n",
       "  <tbody>\n",
       "    <tr>\n",
       "      <th>0</th>\n",
       "      <td>0.10</td>\n",
       "      <td>0.910000</td>\n",
       "    </tr>\n",
       "    <tr>\n",
       "      <th>1</th>\n",
       "      <td>0.15</td>\n",
       "      <td>0.723333</td>\n",
       "    </tr>\n",
       "    <tr>\n",
       "      <th>2</th>\n",
       "      <td>0.20</td>\n",
       "      <td>0.643333</td>\n",
       "    </tr>\n",
       "    <tr>\n",
       "      <th>3</th>\n",
       "      <td>0.30</td>\n",
       "      <td>0.446667</td>\n",
       "    </tr>\n",
       "  </tbody>\n",
       "</table>\n",
       "</div>"
      ],
      "text/plain": [
       "   False Positive rate (fixed)  False Negative rate\n",
       "0                         0.10             0.910000\n",
       "1                         0.15             0.723333\n",
       "2                         0.20             0.643333\n",
       "3                         0.30             0.446667"
      ]
     },
     "metadata": {},
     "output_type": "display_data"
    }
   ],
   "source": [
    "n_splits = 5\n",
    "\n",
    "y = labels[TLE_noE_idx][\"TLE/no E\"]\n",
    "data_TLE_noE = [data[i] for i in np.where(TLE_noE_idx == True)[0]]\n",
    "pos_label = label_to_idx[\"TLE\"]\n",
    "pipe = SPD_pipeline(tr, 0.1)\n",
    "\n",
    "\n",
    "best_model_TLE_noE, grid_cv_svc_TLE_noE, grid_cv_lr_TLE_noE, grid_cv_mdm_TLE_noE, grid_cv_knn_TLE_noE = pipe.train_grid_cv(\n",
    "    data_TLE_noE, y = y, n_splits=n_splits, n_repeats=5, scoring=scoring, random_state=42, n_jobs=-1, save_models_to = 'models/temp_model')\n",
    "\n",
    "\n",
    "cv = RepeatedStratifiedKFold(n_splits=n_splits, n_repeats=10, random_state=42)\n",
    "X = pipe.get_spd_dataset(data_TLE_noE)\n",
    "scores_TLE_noE = cross_val_score(best_model_TLE_noE, X, np.array(y == pos_label).astype(int), cv=cv, scoring=scoring, n_jobs = -1)\n",
    "print(\"mean =\", scores_TLE_noE.mean())\n",
    "print(\"std =\", scores_TLE_noE.std())\n",
    "\n",
    "\n",
    "pipe.save_model(best_model_TLE_noE, \"models/fmri_rim_TLE_noE.pkl\")\n",
    "probas_TLE_noE = pipe.repeated_cross_val_predict_proba(best_model_TLE_noE, data_TLE_noE, y, cv=cv, pos_label=pos_label, file = 'models/rim_TLE_noE_prediction.csv')\n",
    "\n",
    "# # average probabilities between repetitions\n",
    "fpr, tpr, t = pipe.plot_roc_curve(y, probas_TLE_noE, pos_label, TLE_noE_idx, average_repeats=True)\n",
    "pipe.get_fpr_fnr(fpr, tpr)\n",
    "\n",
    "# # without averaging\n",
    "fpr, tpr, t = pipe.plot_roc_curve(y, probas_TLE_noE, pos_label, TLE_noE_idx)\n",
    "pipe.get_fpr_fnr(fpr, tpr)\n",
    "                           \n",
    "## Delete temp models\n",
    "os.remove('models/temp_model_svc.pkl')\n",
    "os.remove('models/temp_model_lr.pkl')\n",
    "os.remove('models/temp_model_knn.pkl')\n",
    "os.remove('models/temp_model_mdm.pkl')"
   ]
  },
  {
   "cell_type": "markdown",
   "metadata": {},
   "source": [
    "### TLE / Control"
   ]
  },
  {
   "cell_type": "code",
   "execution_count": 7,
   "metadata": {},
   "outputs": [
    {
     "name": "stdout",
     "output_type": "stream",
     "text": [
      "Target distribution: \n",
      "6.0    30\n",
      "0.0    25\n",
      "Name: TLE/C, dtype: int64 \n",
      "\n",
      "loading fitted SVC...\n",
      "\n",
      "loading fitted LR...\n",
      "\n",
      "Training KNN...\n",
      "Fitting 25 folds for each of 12 candidates, totalling 300 fits\n"
     ]
    },
    {
     "name": "stderr",
     "output_type": "stream",
     "text": [
      "[Parallel(n_jobs=-1)]: Done  42 tasks      | elapsed:   37.5s\n",
      "[Parallel(n_jobs=-1)]: Done 192 tasks      | elapsed:  2.7min\n"
     ]
    },
    {
     "name": "stdout",
     "output_type": "stream",
     "text": [
      "(training took 255.26970195770264s)\n",
      "\n",
      "Training MDM...\n",
      "Fitting 25 folds for each of 3 candidates, totalling 75 fits\n"
     ]
    },
    {
     "name": "stderr",
     "output_type": "stream",
     "text": [
      "[Parallel(n_jobs=-1)]: Done 300 out of 300 | elapsed:  4.3min finished\n",
      "[Parallel(n_jobs=-1)]: Done  42 tasks      | elapsed:   21.5s\n",
      "[Parallel(n_jobs=-1)]: Done  75 out of  75 | elapsed:   35.9s finished\n"
     ]
    },
    {
     "name": "stdout",
     "output_type": "stream",
     "text": [
      "(training took 37.00668501853943s)\n",
      "\n",
      "Scoring: roc_auc\n"
     ]
    },
    {
     "data": {
      "text/html": [
       "<div>\n",
       "<style scoped>\n",
       "    .dataframe tbody tr th:only-of-type {\n",
       "        vertical-align: middle;\n",
       "    }\n",
       "\n",
       "    .dataframe tbody tr th {\n",
       "        vertical-align: top;\n",
       "    }\n",
       "\n",
       "    .dataframe thead th {\n",
       "        text-align: right;\n",
       "    }\n",
       "</style>\n",
       "<table border=\"1\" class=\"dataframe\">\n",
       "  <thead>\n",
       "    <tr style=\"text-align: right;\">\n",
       "      <th></th>\n",
       "      <th>best parameters</th>\n",
       "      <th>mean</th>\n",
       "      <th>std</th>\n",
       "    </tr>\n",
       "    <tr>\n",
       "      <th>classifier</th>\n",
       "      <th></th>\n",
       "      <th></th>\n",
       "      <th></th>\n",
       "    </tr>\n",
       "  </thead>\n",
       "  <tbody>\n",
       "    <tr>\n",
       "      <th>SVC</th>\n",
       "      <td>clf__C = 0.0001, clf__gamma = 1, clf__kernel =...</td>\n",
       "      <td>0.500000</td>\n",
       "      <td>0.000000</td>\n",
       "    </tr>\n",
       "    <tr>\n",
       "      <th>LR</th>\n",
       "      <td>clf__C = 0.01, metric = euclid</td>\n",
       "      <td>0.613333</td>\n",
       "      <td>0.161933</td>\n",
       "    </tr>\n",
       "    <tr>\n",
       "      <th>KNN</th>\n",
       "      <td>metric = riemann, n_neighbors = 5</td>\n",
       "      <td>0.536000</td>\n",
       "      <td>0.165977</td>\n",
       "    </tr>\n",
       "    <tr>\n",
       "      <th>MDM</th>\n",
       "      <td>metric = riemann</td>\n",
       "      <td>0.549333</td>\n",
       "      <td>0.181137</td>\n",
       "    </tr>\n",
       "  </tbody>\n",
       "</table>\n",
       "</div>"
      ],
      "text/plain": [
       "                                              best parameters      mean  \\\n",
       "classifier                                                                \n",
       "SVC         clf__C = 0.0001, clf__gamma = 1, clf__kernel =...  0.500000   \n",
       "LR                             clf__C = 0.01, metric = euclid  0.613333   \n",
       "KNN                         metric = riemann, n_neighbors = 5  0.536000   \n",
       "MDM                                          metric = riemann  0.549333   \n",
       "\n",
       "                 std  \n",
       "classifier            \n",
       "SVC         0.000000  \n",
       "LR          0.161933  \n",
       "KNN         0.165977  \n",
       "MDM         0.181137  "
      ]
     },
     "metadata": {},
     "output_type": "display_data"
    },
    {
     "data": {
      "image/png": "[encoded data removed]",
      "text/plain": [
       "<matplotlib.figure.Figure at 0x10ba52978>"
      ]
     },
     "metadata": {},
     "output_type": "display_data"
    },
    {
     "name": "stdout",
     "output_type": "stream",
     "text": [
      "Best model: \n",
      "LR\n",
      "clf__C = 0.01\n",
      "metric = euclid\n",
      "mean = 0.6186666666666667\n",
      "std = 0.15862744613296487\n"
     ]
    },
    {
     "data": {
      "application/vnd.jupyter.widget-view+json": {
       "model_id": "e26b67df64944e0eaeda9fd02a5bd056",
       "version_major": 2,
       "version_minor": 0
      },
      "text/html": [
       "<p>Failed to display Jupyter Widget of type <code>HBox</code>.</p>\n",
       "<p>\n",
       "  If you're reading this message in the Jupyter Notebook or JupyterLab Notebook, it may mean\n",
       "  that the widgets JavaScript is still loading. If this message persists, it\n",
       "  likely means that the widgets JavaScript library is either not installed or\n",
       "  not enabled. See the <a href=\"https://ipywidgets.readthedocs.io/en/stable/user_install.html\">Jupyter\n",
       "  Widgets Documentation</a> for setup instructions.\n",
       "</p>\n",
       "<p>\n",
       "  If you're reading this message in another frontend (for example, a static\n",
       "  rendering on GitHub or <a href=\"https://nbviewer.jupyter.org/\">NBViewer</a>),\n",
       "  it may mean that your frontend doesn't currently support widgets.\n",
       "</p>\n"
      ],
      "text/plain": [
       "HBox(children=(IntProgress(value=1, bar_style='info', max=1), HTML(value='')))"
      ]
     },
     "metadata": {},
     "output_type": "display_data"
    },
    {
     "name": "stdout",
     "output_type": "stream",
     "text": [
      "\n"
     ]
    },
    {
     "data": {
      "image/png": "[encoded data removed]",
      "text/plain": [
       "<matplotlib.figure.Figure at 0x10c0992e8>"
      ]
     },
     "metadata": {},
     "output_type": "display_data"
    },
    {
     "name": "stdout",
     "output_type": "stream",
     "text": [
      "auc = 0.628\n"
     ]
    },
    {
     "data": {
      "text/html": [
       "<div>\n",
       "<style scoped>\n",
       "    .dataframe tbody tr th:only-of-type {\n",
       "        vertical-align: middle;\n",
       "    }\n",
       "\n",
       "    .dataframe tbody tr th {\n",
       "        vertical-align: top;\n",
       "    }\n",
       "\n",
       "    .dataframe thead th {\n",
       "        text-align: right;\n",
       "    }\n",
       "</style>\n",
       "<table border=\"1\" class=\"dataframe\">\n",
       "  <thead>\n",
       "    <tr style=\"text-align: right;\">\n",
       "      <th></th>\n",
       "      <th>False Positive rate (fixed)</th>\n",
       "      <th>False Negative rate</th>\n",
       "    </tr>\n",
       "  </thead>\n",
       "  <tbody>\n",
       "    <tr>\n",
       "      <th>0</th>\n",
       "      <td>0.10</td>\n",
       "      <td>0.700000</td>\n",
       "    </tr>\n",
       "    <tr>\n",
       "      <th>1</th>\n",
       "      <td>0.15</td>\n",
       "      <td>0.700000</td>\n",
       "    </tr>\n",
       "    <tr>\n",
       "      <th>2</th>\n",
       "      <td>0.20</td>\n",
       "      <td>0.600000</td>\n",
       "    </tr>\n",
       "    <tr>\n",
       "      <th>3</th>\n",
       "      <td>0.30</td>\n",
       "      <td>0.533333</td>\n",
       "    </tr>\n",
       "  </tbody>\n",
       "</table>\n",
       "</div>"
      ],
      "text/plain": [
       "   False Positive rate (fixed)  False Negative rate\n",
       "0                         0.10             0.700000\n",
       "1                         0.15             0.700000\n",
       "2                         0.20             0.600000\n",
       "3                         0.30             0.533333"
      ]
     },
     "metadata": {},
     "output_type": "display_data"
    },
    {
     "data": {
      "image/png": "[encoded data removed]",
      "text/plain": [
       "<matplotlib.figure.Figure at 0x10bf8c160>"
      ]
     },
     "metadata": {},
     "output_type": "display_data"
    },
    {
     "name": "stdout",
     "output_type": "stream",
     "text": [
      "auc = 0.60168\n"
     ]
    },
    {
     "data": {
      "text/html": [
       "<div>\n",
       "<style scoped>\n",
       "    .dataframe tbody tr th:only-of-type {\n",
       "        vertical-align: middle;\n",
       "    }\n",
       "\n",
       "    .dataframe tbody tr th {\n",
       "        vertical-align: top;\n",
       "    }\n",
       "\n",
       "    .dataframe thead th {\n",
       "        text-align: right;\n",
       "    }\n",
       "</style>\n",
       "<table border=\"1\" class=\"dataframe\">\n",
       "  <thead>\n",
       "    <tr style=\"text-align: right;\">\n",
       "      <th></th>\n",
       "      <th>False Positive rate (fixed)</th>\n",
       "      <th>False Negative rate</th>\n",
       "    </tr>\n",
       "  </thead>\n",
       "  <tbody>\n",
       "    <tr>\n",
       "      <th>0</th>\n",
       "      <td>0.10</td>\n",
       "      <td>0.833333</td>\n",
       "    </tr>\n",
       "    <tr>\n",
       "      <th>1</th>\n",
       "      <td>0.15</td>\n",
       "      <td>0.766667</td>\n",
       "    </tr>\n",
       "    <tr>\n",
       "      <th>2</th>\n",
       "      <td>0.20</td>\n",
       "      <td>0.680000</td>\n",
       "    </tr>\n",
       "    <tr>\n",
       "      <th>3</th>\n",
       "      <td>0.30</td>\n",
       "      <td>0.510000</td>\n",
       "    </tr>\n",
       "  </tbody>\n",
       "</table>\n",
       "</div>"
      ],
      "text/plain": [
       "   False Positive rate (fixed)  False Negative rate\n",
       "0                         0.10             0.833333\n",
       "1                         0.15             0.766667\n",
       "2                         0.20             0.680000\n",
       "3                         0.30             0.510000"
      ]
     },
     "metadata": {},
     "output_type": "display_data"
    }
   ],
   "source": [
    "n_splits = 5\n",
    "\n",
    "y = labels[TLE_C_idx][\"TLE/C\"]\n",
    "data_TLE_C = [data[i] for i in np.where(TLE_C_idx == True)[0]]\n",
    "pos_label = label_to_idx[\"TLE\"]\n",
    "pipe = SPD_pipeline(tr, 0.1)\n",
    "\n",
    "\n",
    "best_model_TLE_C, grid_cv_svc_TLE_C, grid_cv_lr_TLE_C, grid_cv_mdm_TLE_C, grid_cv_knn_TLE_C = pipe.train_grid_cv(\n",
    "    data_TLE_C, y = y, n_splits=n_splits, n_repeats=5, scoring=scoring, random_state=42, n_jobs=-1, save_models_to = 'models/temp_model')\n",
    "\n",
    "\n",
    "cv = RepeatedStratifiedKFold(n_splits=n_splits, n_repeats=10, random_state=42)\n",
    "X = pipe.get_spd_dataset(data_TLE_C)\n",
    "scores_TLE_C = cross_val_score(best_model_TLE_C, X, np.array(y == pos_label).astype(int), cv=cv, scoring=scoring, n_jobs = -1)\n",
    "print(\"mean =\", scores_TLE_C.mean())\n",
    "print(\"std =\", scores_TLE_C.std())\n",
    "\n",
    "\n",
    "pipe.save_model(best_model_TLE_C, \"models/fmri_rim_TLE_C.pkl\")\n",
    "probas_TLE_C = pipe.repeated_cross_val_predict_proba(best_model_TLE_C, data_TLE_C, y, cv=cv, pos_label=pos_label, file = 'models/rim_TLE_C_prediction.csv')\n",
    "\n",
    "# # average probabilities between repetitions\n",
    "fpr, tpr, t = pipe.plot_roc_curve(y, probas_TLE_C, pos_label, TLE_C_idx, average_repeats=True)\n",
    "pipe.get_fpr_fnr(fpr, tpr)\n",
    "\n",
    "# # without averaging\n",
    "fpr, tpr, t = pipe.plot_roc_curve(y, probas_TLE_C, pos_label, TLE_C_idx)\n",
    "pipe.get_fpr_fnr(fpr, tpr)\n",
    "                           \n",
    "## Delete temp models\n",
    "os.remove('models/temp_model_svc.pkl')\n",
    "os.remove('models/temp_model_lr.pkl')\n",
    "os.remove('models/temp_model_knn.pkl')\n",
    "os.remove('models/temp_model_mdm.pkl')"
   ]
  },
  {
   "cell_type": "markdown",
   "metadata": {},
   "source": [
    "### Depression with epilepsy / Epilepsy"
   ]
  },
  {
   "cell_type": "code",
   "execution_count": 7,
   "metadata": {},
   "outputs": [
    {
     "name": "stdout",
     "output_type": "stream",
     "text": [
      "Target distribution: \n",
      "3.0    25\n",
      "2.0    25\n",
      "Name: DE/E, dtype: int64 \n",
      "\n",
      "loading fitted SVC...\n",
      "\n",
      "loading fitted LR...\n",
      "\n",
      "Training KNN...\n",
      "Fitting 25 folds for each of 12 candidates, totalling 300 fits\n"
     ]
    },
    {
     "name": "stderr",
     "output_type": "stream",
     "text": [
      "[Parallel(n_jobs=-1)]: Done  42 tasks      | elapsed:   30.3s\n",
      "[Parallel(n_jobs=-1)]: Done 192 tasks      | elapsed:  2.2min\n"
     ]
    },
    {
     "name": "stdout",
     "output_type": "stream",
     "text": [
      "(training took 208.55883193016052s)\n",
      "\n",
      "Training MDM...\n",
      "Fitting 25 folds for each of 3 candidates, totalling 75 fits\n"
     ]
    },
    {
     "name": "stderr",
     "output_type": "stream",
     "text": [
      "[Parallel(n_jobs=-1)]: Done 300 out of 300 | elapsed:  3.5min finished\n",
      "[Parallel(n_jobs=-1)]: Done  42 tasks      | elapsed:   18.9s\n",
      "[Parallel(n_jobs=-1)]: Done  75 out of  75 | elapsed:   32.4s finished\n"
     ]
    },
    {
     "name": "stdout",
     "output_type": "stream",
     "text": [
      "(training took 33.38788890838623s)\n",
      "\n",
      "Scoring: roc_auc\n"
     ]
    },
    {
     "data": {
      "text/html": [
       "<div>\n",
       "<style scoped>\n",
       "    .dataframe tbody tr th:only-of-type {\n",
       "        vertical-align: middle;\n",
       "    }\n",
       "\n",
       "    .dataframe tbody tr th {\n",
       "        vertical-align: top;\n",
       "    }\n",
       "\n",
       "    .dataframe thead th {\n",
       "        text-align: right;\n",
       "    }\n",
       "</style>\n",
       "<table border=\"1\" class=\"dataframe\">\n",
       "  <thead>\n",
       "    <tr style=\"text-align: right;\">\n",
       "      <th></th>\n",
       "      <th>best parameters</th>\n",
       "      <th>mean</th>\n",
       "      <th>std</th>\n",
       "    </tr>\n",
       "    <tr>\n",
       "      <th>classifier</th>\n",
       "      <th></th>\n",
       "      <th></th>\n",
       "      <th></th>\n",
       "    </tr>\n",
       "  </thead>\n",
       "  <tbody>\n",
       "    <tr>\n",
       "      <th>SVC</th>\n",
       "      <td>clf__C = 1, clf__gamma = 0.01, clf__kernel = r...</td>\n",
       "      <td>0.5920</td>\n",
       "      <td>0.170458</td>\n",
       "    </tr>\n",
       "    <tr>\n",
       "      <th>LR</th>\n",
       "      <td>clf__C = 0.0001, metric = riemann</td>\n",
       "      <td>0.4768</td>\n",
       "      <td>0.114218</td>\n",
       "    </tr>\n",
       "    <tr>\n",
       "      <th>KNN</th>\n",
       "      <td>metric = riemann, n_neighbors = 5</td>\n",
       "      <td>0.4256</td>\n",
       "      <td>0.175956</td>\n",
       "    </tr>\n",
       "    <tr>\n",
       "      <th>MDM</th>\n",
       "      <td>metric = riemann</td>\n",
       "      <td>0.4416</td>\n",
       "      <td>0.127238</td>\n",
       "    </tr>\n",
       "  </tbody>\n",
       "</table>\n",
       "</div>"
      ],
      "text/plain": [
       "                                              best parameters    mean  \\\n",
       "classifier                                                              \n",
       "SVC         clf__C = 1, clf__gamma = 0.01, clf__kernel = r...  0.5920   \n",
       "LR                          clf__C = 0.0001, metric = riemann  0.4768   \n",
       "KNN                         metric = riemann, n_neighbors = 5  0.4256   \n",
       "MDM                                          metric = riemann  0.4416   \n",
       "\n",
       "                 std  \n",
       "classifier            \n",
       "SVC         0.170458  \n",
       "LR          0.114218  \n",
       "KNN         0.175956  \n",
       "MDM         0.127238  "
      ]
     },
     "metadata": {},
     "output_type": "display_data"
    },
    {
     "data": {
      "image/png": "[encoded data removed]",
      "text/plain": [
       "<matplotlib.figure.Figure at 0x110a2c7b8>"
      ]
     },
     "metadata": {},
     "output_type": "display_data"
    },
    {
     "name": "stdout",
     "output_type": "stream",
     "text": [
      "Best model: \n",
      "SVC\n",
      "clf__C = 1\n",
      "clf__gamma = 0.01\n",
      "clf__kernel = rbf\n",
      "metric = riemann\n",
      "mean = 0.6376000000000001\n",
      "std = 0.17552845923097485\n"
     ]
    },
    {
     "data": {
      "application/vnd.jupyter.widget-view+json": {
       "model_id": "410d04a29259499bb87665ae4d65eb3e",
       "version_major": 2,
       "version_minor": 0
      },
      "text/html": [
       "<p>Failed to display Jupyter Widget of type <code>HBox</code>.</p>\n",
       "<p>\n",
       "  If you're reading this message in the Jupyter Notebook or JupyterLab Notebook, it may mean\n",
       "  that the widgets JavaScript is still loading. If this message persists, it\n",
       "  likely means that the widgets JavaScript library is either not installed or\n",
       "  not enabled. See the <a href=\"https://ipywidgets.readthedocs.io/en/stable/user_install.html\">Jupyter\n",
       "  Widgets Documentation</a> for setup instructions.\n",
       "</p>\n",
       "<p>\n",
       "  If you're reading this message in another frontend (for example, a static\n",
       "  rendering on GitHub or <a href=\"https://nbviewer.jupyter.org/\">NBViewer</a>),\n",
       "  it may mean that your frontend doesn't currently support widgets.\n",
       "</p>\n"
      ],
      "text/plain": [
       "HBox(children=(IntProgress(value=1, bar_style='info', max=1), HTML(value='')))"
      ]
     },
     "metadata": {},
     "output_type": "display_data"
    },
    {
     "name": "stdout",
     "output_type": "stream",
     "text": [
      "\n"
     ]
    },
    {
     "data": {
      "image/png": "[encoded data removed]",
      "text/plain": [
       "<matplotlib.figure.Figure at 0x110a19e48>"
      ]
     },
     "metadata": {},
     "output_type": "display_data"
    },
    {
     "name": "stdout",
     "output_type": "stream",
     "text": [
      "auc = 0.6592\n"
     ]
    },
    {
     "data": {
      "text/html": [
       "<div>\n",
       "<style scoped>\n",
       "    .dataframe tbody tr th:only-of-type {\n",
       "        vertical-align: middle;\n",
       "    }\n",
       "\n",
       "    .dataframe tbody tr th {\n",
       "        vertical-align: top;\n",
       "    }\n",
       "\n",
       "    .dataframe thead th {\n",
       "        text-align: right;\n",
       "    }\n",
       "</style>\n",
       "<table border=\"1\" class=\"dataframe\">\n",
       "  <thead>\n",
       "    <tr style=\"text-align: right;\">\n",
       "      <th></th>\n",
       "      <th>False Positive rate (fixed)</th>\n",
       "      <th>False Negative rate</th>\n",
       "    </tr>\n",
       "  </thead>\n",
       "  <tbody>\n",
       "    <tr>\n",
       "      <th>0</th>\n",
       "      <td>0.10</td>\n",
       "      <td>0.84</td>\n",
       "    </tr>\n",
       "    <tr>\n",
       "      <th>1</th>\n",
       "      <td>0.15</td>\n",
       "      <td>0.80</td>\n",
       "    </tr>\n",
       "    <tr>\n",
       "      <th>2</th>\n",
       "      <td>0.20</td>\n",
       "      <td>0.48</td>\n",
       "    </tr>\n",
       "    <tr>\n",
       "      <th>3</th>\n",
       "      <td>0.30</td>\n",
       "      <td>0.36</td>\n",
       "    </tr>\n",
       "  </tbody>\n",
       "</table>\n",
       "</div>"
      ],
      "text/plain": [
       "   False Positive rate (fixed)  False Negative rate\n",
       "0                         0.10                 0.84\n",
       "1                         0.15                 0.80\n",
       "2                         0.20                 0.48\n",
       "3                         0.30                 0.36"
      ]
     },
     "metadata": {},
     "output_type": "display_data"
    },
    {
     "data": {
      "image/png": "[encoded data removed]",
      "text/plain": [
       "<matplotlib.figure.Figure at 0x10e220a58>"
      ]
     },
     "metadata": {},
     "output_type": "display_data"
    },
    {
     "name": "stdout",
     "output_type": "stream",
     "text": [
      "auc = 0.627584\n"
     ]
    },
    {
     "data": {
      "text/html": [
       "<div>\n",
       "<style scoped>\n",
       "    .dataframe tbody tr th:only-of-type {\n",
       "        vertical-align: middle;\n",
       "    }\n",
       "\n",
       "    .dataframe tbody tr th {\n",
       "        vertical-align: top;\n",
       "    }\n",
       "\n",
       "    .dataframe thead th {\n",
       "        text-align: right;\n",
       "    }\n",
       "</style>\n",
       "<table border=\"1\" class=\"dataframe\">\n",
       "  <thead>\n",
       "    <tr style=\"text-align: right;\">\n",
       "      <th></th>\n",
       "      <th>False Positive rate (fixed)</th>\n",
       "      <th>False Negative rate</th>\n",
       "    </tr>\n",
       "  </thead>\n",
       "  <tbody>\n",
       "    <tr>\n",
       "      <th>0</th>\n",
       "      <td>0.10</td>\n",
       "      <td>0.788</td>\n",
       "    </tr>\n",
       "    <tr>\n",
       "      <th>1</th>\n",
       "      <td>0.15</td>\n",
       "      <td>0.712</td>\n",
       "    </tr>\n",
       "    <tr>\n",
       "      <th>2</th>\n",
       "      <td>0.20</td>\n",
       "      <td>0.656</td>\n",
       "    </tr>\n",
       "    <tr>\n",
       "      <th>3</th>\n",
       "      <td>0.30</td>\n",
       "      <td>0.544</td>\n",
       "    </tr>\n",
       "  </tbody>\n",
       "</table>\n",
       "</div>"
      ],
      "text/plain": [
       "   False Positive rate (fixed)  False Negative rate\n",
       "0                         0.10                0.788\n",
       "1                         0.15                0.712\n",
       "2                         0.20                0.656\n",
       "3                         0.30                0.544"
      ]
     },
     "metadata": {},
     "output_type": "display_data"
    }
   ],
   "source": [
    "n_splits = 5\n",
    "\n",
    "y = labels[DE_E_idx][\"DE/E\"]\n",
    "data_DE_E = [data[i] for i in np.where(DE_E_idx == True)[0]]\n",
    "pos_label = label_to_idx[\"DE\"]\n",
    "pipe = SPD_pipeline(tr, 0.1)\n",
    "\n",
    "\n",
    "best_model_DE_E, grid_cv_svc_DE_E, grid_cv_lr_DE_E, grid_cv_mdm_DE_E, grid_cv_knn_DE_E = pipe.train_grid_cv(\n",
    "    data_DE_E, y = y, n_splits=n_splits, n_repeats=5, scoring=scoring, random_state=42, n_jobs=-1, save_models_to = 'models/temp_model')\n",
    "\n",
    "\n",
    "cv = RepeatedStratifiedKFold(n_splits=n_splits, n_repeats=10, random_state=42)\n",
    "X = pipe.get_spd_dataset(data_DE_E)\n",
    "scores_DE_E = cross_val_score(best_model_DE_E, X, np.array(y == pos_label).astype(int), cv=cv, scoring=scoring, n_jobs = -1)\n",
    "print(\"mean =\", scores_DE_E.mean())\n",
    "print(\"std =\", scores_DE_E.std())\n",
    "\n",
    "\n",
    "pipe.save_model(best_model_DE_E, \"models/fmri_rim_DE_E.pkl\")\n",
    "probas_DE_E = pipe.repeated_cross_val_predict_proba(best_model_DE_E, data_DE_E, y, cv=cv, pos_label=pos_label, file = 'models/rim_DE_E_prediction.csv')\n",
    "\n",
    "# # average probabilities between repetitions\n",
    "fpr, tpr, t = pipe.plot_roc_curve(y, probas_DE_E, pos_label, DE_E_idx, average_repeats=True)\n",
    "pipe.get_fpr_fnr(fpr, tpr)\n",
    "\n",
    "# # without averaging\n",
    "fpr, tpr, t = pipe.plot_roc_curve(y, probas_DE_E, pos_label, DE_E_idx)\n",
    "pipe.get_fpr_fnr(fpr, tpr)\n",
    "\n",
    "                      \n",
    "## Delete temp models\n",
    "os.remove('models/temp_model_svc.pkl')\n",
    "os.remove('models/temp_model_lr.pkl')\n",
    "os.remove('models/temp_model_knn.pkl')\n",
    "os.remove('models/temp_model_mdm.pkl')"
   ]
  },
  {
   "cell_type": "markdown",
   "metadata": {},
   "source": [
    "### Depression with epilepsy / Depression"
   ]
  },
  {
   "cell_type": "code",
   "execution_count": 7,
   "metadata": {},
   "outputs": [
    {
     "name": "stdout",
     "output_type": "stream",
     "text": [
      "Target distribution: \n",
      "3    25\n",
      "1    25\n",
      "Name: target, dtype: int64 \n",
      "\n",
      "loading fitted SVC...\n",
      "\n",
      "loading fitted LR...\n",
      "\n",
      "Training KNN...\n",
      "Fitting 25 folds for each of 12 candidates, totalling 300 fits\n"
     ]
    },
    {
     "name": "stderr",
     "output_type": "stream",
     "text": [
      "[Parallel(n_jobs=-1)]: Done  42 tasks      | elapsed:   31.8s\n",
      "[Parallel(n_jobs=-1)]: Done 192 tasks      | elapsed:  2.3min\n"
     ]
    },
    {
     "name": "stdout",
     "output_type": "stream",
     "text": [
      "(training took 218.9471378326416s)\n",
      "\n",
      "Training MDM...\n",
      "Fitting 25 folds for each of 3 candidates, totalling 75 fits\n"
     ]
    },
    {
     "name": "stderr",
     "output_type": "stream",
     "text": [
      "[Parallel(n_jobs=-1)]: Done 300 out of 300 | elapsed:  3.6min finished\n",
      "[Parallel(n_jobs=-1)]: Done  42 tasks      | elapsed:   18.9s\n",
      "[Parallel(n_jobs=-1)]: Done  75 out of  75 | elapsed:   32.0s finished\n"
     ]
    },
    {
     "name": "stdout",
     "output_type": "stream",
     "text": [
      "(training took 33.10208988189697s)\n",
      "\n",
      "Scoring: roc_auc\n"
     ]
    },
    {
     "data": {
      "text/html": [
       "<div>\n",
       "<style scoped>\n",
       "    .dataframe tbody tr th:only-of-type {\n",
       "        vertical-align: middle;\n",
       "    }\n",
       "\n",
       "    .dataframe tbody tr th {\n",
       "        vertical-align: top;\n",
       "    }\n",
       "\n",
       "    .dataframe thead th {\n",
       "        text-align: right;\n",
       "    }\n",
       "</style>\n",
       "<table border=\"1\" class=\"dataframe\">\n",
       "  <thead>\n",
       "    <tr style=\"text-align: right;\">\n",
       "      <th></th>\n",
       "      <th>best parameters</th>\n",
       "      <th>mean</th>\n",
       "      <th>std</th>\n",
       "    </tr>\n",
       "    <tr>\n",
       "      <th>classifier</th>\n",
       "      <th></th>\n",
       "      <th></th>\n",
       "      <th></th>\n",
       "    </tr>\n",
       "  </thead>\n",
       "  <tbody>\n",
       "    <tr>\n",
       "      <th>SVC</th>\n",
       "      <td>clf__C = 100, clf__gamma = 0.01, clf__kernel =...</td>\n",
       "      <td>0.7328</td>\n",
       "      <td>0.172592</td>\n",
       "    </tr>\n",
       "    <tr>\n",
       "      <th>LR</th>\n",
       "      <td>clf__C = 0.01, metric = riemann</td>\n",
       "      <td>0.6976</td>\n",
       "      <td>0.168221</td>\n",
       "    </tr>\n",
       "    <tr>\n",
       "      <th>KNN</th>\n",
       "      <td>metric = riemann, n_neighbors = 5</td>\n",
       "      <td>0.3488</td>\n",
       "      <td>0.150740</td>\n",
       "    </tr>\n",
       "    <tr>\n",
       "      <th>MDM</th>\n",
       "      <td>metric = riemann</td>\n",
       "      <td>0.6560</td>\n",
       "      <td>0.177809</td>\n",
       "    </tr>\n",
       "  </tbody>\n",
       "</table>\n",
       "</div>"
      ],
      "text/plain": [
       "                                              best parameters    mean  \\\n",
       "classifier                                                              \n",
       "SVC         clf__C = 100, clf__gamma = 0.01, clf__kernel =...  0.7328   \n",
       "LR                            clf__C = 0.01, metric = riemann  0.6976   \n",
       "KNN                         metric = riemann, n_neighbors = 5  0.3488   \n",
       "MDM                                          metric = riemann  0.6560   \n",
       "\n",
       "                 std  \n",
       "classifier            \n",
       "SVC         0.172592  \n",
       "LR          0.168221  \n",
       "KNN         0.150740  \n",
       "MDM         0.177809  "
      ]
     },
     "metadata": {},
     "output_type": "display_data"
    },
    {
     "data": {
      "image/png": "[encoded data removed]",
      "text/plain": [
       "<matplotlib.figure.Figure at 0x11090a908>"
      ]
     },
     "metadata": {},
     "output_type": "display_data"
    },
    {
     "name": "stdout",
     "output_type": "stream",
     "text": [
      "Best model: \n",
      "SVC\n",
      "clf__C = 100\n",
      "clf__gamma = 0.01\n",
      "clf__kernel = rbf\n",
      "metric = riemann\n",
      "mean = 0.7040000000000001\n",
      "std = 0.19303885619221844\n"
     ]
    },
    {
     "data": {
      "application/vnd.jupyter.widget-view+json": {
       "model_id": "120c08312c9844bc837c68e7f30384bb",
       "version_major": 2,
       "version_minor": 0
      },
      "text/html": [
       "<p>Failed to display Jupyter Widget of type <code>HBox</code>.</p>\n",
       "<p>\n",
       "  If you're reading this message in the Jupyter Notebook or JupyterLab Notebook, it may mean\n",
       "  that the widgets JavaScript is still loading. If this message persists, it\n",
       "  likely means that the widgets JavaScript library is either not installed or\n",
       "  not enabled. See the <a href=\"https://ipywidgets.readthedocs.io/en/stable/user_install.html\">Jupyter\n",
       "  Widgets Documentation</a> for setup instructions.\n",
       "</p>\n",
       "<p>\n",
       "  If you're reading this message in another frontend (for example, a static\n",
       "  rendering on GitHub or <a href=\"https://nbviewer.jupyter.org/\">NBViewer</a>),\n",
       "  it may mean that your frontend doesn't currently support widgets.\n",
       "</p>\n"
      ],
      "text/plain": [
       "HBox(children=(IntProgress(value=1, bar_style='info', max=1), HTML(value='')))"
      ]
     },
     "metadata": {},
     "output_type": "display_data"
    },
    {
     "name": "stdout",
     "output_type": "stream",
     "text": [
      "\n"
     ]
    },
    {
     "data": {
      "image/png": "[encoded data removed]",
      "text/plain": [
       "<matplotlib.figure.Figure at 0x110355b70>"
      ]
     },
     "metadata": {},
     "output_type": "display_data"
    },
    {
     "name": "stdout",
     "output_type": "stream",
     "text": [
      "auc = 0.6960000000000001\n"
     ]
    },
    {
     "data": {
      "text/html": [
       "<div>\n",
       "<style scoped>\n",
       "    .dataframe tbody tr th:only-of-type {\n",
       "        vertical-align: middle;\n",
       "    }\n",
       "\n",
       "    .dataframe tbody tr th {\n",
       "        vertical-align: top;\n",
       "    }\n",
       "\n",
       "    .dataframe thead th {\n",
       "        text-align: right;\n",
       "    }\n",
       "</style>\n",
       "<table border=\"1\" class=\"dataframe\">\n",
       "  <thead>\n",
       "    <tr style=\"text-align: right;\">\n",
       "      <th></th>\n",
       "      <th>False Positive rate (fixed)</th>\n",
       "      <th>False Negative rate</th>\n",
       "    </tr>\n",
       "  </thead>\n",
       "  <tbody>\n",
       "    <tr>\n",
       "      <th>0</th>\n",
       "      <td>0.10</td>\n",
       "      <td>0.72</td>\n",
       "    </tr>\n",
       "    <tr>\n",
       "      <th>1</th>\n",
       "      <td>0.15</td>\n",
       "      <td>0.48</td>\n",
       "    </tr>\n",
       "    <tr>\n",
       "      <th>2</th>\n",
       "      <td>0.20</td>\n",
       "      <td>0.40</td>\n",
       "    </tr>\n",
       "    <tr>\n",
       "      <th>3</th>\n",
       "      <td>0.30</td>\n",
       "      <td>0.40</td>\n",
       "    </tr>\n",
       "  </tbody>\n",
       "</table>\n",
       "</div>"
      ],
      "text/plain": [
       "   False Positive rate (fixed)  False Negative rate\n",
       "0                         0.10                 0.72\n",
       "1                         0.15                 0.48\n",
       "2                         0.20                 0.40\n",
       "3                         0.30                 0.40"
      ]
     },
     "metadata": {},
     "output_type": "display_data"
    },
    {
     "data": {
      "image/png": "[encoded data removed]",
      "text/plain": [
       "<matplotlib.figure.Figure at 0x114621e48>"
      ]
     },
     "metadata": {},
     "output_type": "display_data"
    },
    {
     "name": "stdout",
     "output_type": "stream",
     "text": [
      "auc = 0.6729919999999999\n"
     ]
    }
   ],
   "source": [
    "n_splits = 5\n",
    "\n",
    "y = labels[DE_D_idx][\"target\"]\n",
    "data_DE_D = [data[i] for i in np.where(DE_D_idx == True)[0]]\n",
    "pos_label = label_to_idx[\"DE\"]\n",
    "pipe = SPD_pipeline(tr, 0.1)\n",
    "\n",
    "\n",
    "best_model_DE_D, grid_cv_svc_DE_D, grid_cv_lr_DE_D, grid_cv_mdm_DE_D, grid_cv_knn_DE_D = pipe.train_grid_cv(\n",
    "    data_DE_D, y = y, n_splits=n_splits, n_repeats=5, scoring=scoring, random_state=42, n_jobs=-1, save_models_to = 'models/temp_model')\n",
    "\n",
    "\n",
    "cv = RepeatedStratifiedKFold(n_splits=n_splits, n_repeats=10, random_state=42)\n",
    "X = pipe.get_spd_dataset(data_DE_D)\n",
    "scores_DE_D = cross_val_score(best_model_DE_D, X, np.array(y == pos_label).astype(int), cv=cv, scoring=scoring, n_jobs = -1)\n",
    "print(\"mean =\", scores_DE_D.mean())\n",
    "print(\"std =\", scores_DE_D.std())\n",
    "\n",
    "\n",
    "pipe.save_model(best_model_DE_D, \"models/fmri_rim_DE_D.pkl\")\n",
    "probas_DE_D = pipe.repeated_cross_val_predict_proba(best_model_DE_D, data_DE_D, y, cv=cv, pos_label=pos_label, file = 'models/rim_DE_D_prediction.csv')\n",
    "\n",
    "# # average probabilities between repetitions\n",
    "fpr, tpr, t = pipe.plot_roc_curve(y, probas_DE_D, pos_label, DE_D_idx, average_repeats=True)\n",
    "pipe.get_fpr_fnr(fpr, tpr)\n",
    "\n",
    "# # without averaging\n",
    "fpr, tpr, t = pipe.plot_roc_curve(y, probas_DE_D, pos_label, DE_D_idx)\n",
    "pipe.get_fpr_fnr(fpr, tpr)\n",
    "                      \n",
    "## Delete temp models\n",
    "os.remove('models/temp_model_svc.pkl')\n",
    "os.remove('models/temp_model_lr.pkl')\n",
    "os.remove('models/temp_model_knn.pkl')\n",
    "os.remove('models/temp_model_mdm.pkl')"
   ]
  },
  {
   "cell_type": "code",
   "execution_count": null,
   "metadata": {},
   "outputs": [],
   "source": []
  }
 ],
 "metadata": {
  "kernelspec": {
   "display_name": "Python 3",
   "language": "python",
   "name": "python3"
  },
  "language_info": {
   "codemirror_mode": {
    "name": "ipython",
    "version": 3
   },
   "file_extension": ".py",
   "mimetype": "text/x-python",
   "name": "python",
   "nbconvert_exporter": "python",
   "pygments_lexer": "ipython3",
   "version": "3.6.4"
  }
 },
 "nbformat": 4,
 "nbformat_minor": 2
}
