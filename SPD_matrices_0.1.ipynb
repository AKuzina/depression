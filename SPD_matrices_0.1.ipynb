{
 "cells": [
  {
   "cell_type": "code",
   "execution_count": 1,
   "metadata": {},
   "outputs": [
    {
     "name": "stdout",
     "output_type": "stream",
     "text": [
      "Populating the interactive namespace from numpy and matplotlib\n"
     ]
    }
   ],
   "source": [
    "import numpy as np\n",
    "import pandas as pd\n",
    "import scipy.io\n",
    "import pyriemann as pr\n",
    "import networkx as nx\n",
    "import os\n",
    "\n",
    "from sklearn.svm import SVC\n",
    "from sklearn.model_selection import train_test_split, GridSearchCV, RepeatedStratifiedKFold\n",
    "from sklearn.linear_model import LogisticRegression\n",
    "from sklearn.metrics import roc_auc_score, make_scorer, roc_curve\n",
    "from tqdm import tqdm, tqdm_notebook\n",
    "import matplotlib.pyplot as plt\n",
    "%run Pipeline_for_SPD.ipynb"
   ]
  },
  {
   "cell_type": "code",
   "execution_count": null,
   "metadata": {},
   "outputs": [],
   "source": []
  },
  {
   "cell_type": "code",
   "execution_count": 2,
   "metadata": {},
   "outputs": [],
   "source": [
    "\n",
    "labels = pd.read_csv(\"data/targets 28.02.2018.csv\", sep=\";\").reset_index(drop=True)\n",
    "# labels = labels[labels[\"patient_number\"].isin(mri_data[\"index_r\"])]\n",
    "\n",
    "idx_to_label = [\"C\", \"D\", \"E\", \"DE\", \"NE\", \"ND\", \"TLE\", \"NoTLE\"]\n",
    "label_to_idx = {l : i for i, l in enumerate(idx_to_label)}\n",
    "\n",
    "for col in labels.columns[1:]:\n",
    "    labels[col] = labels[col].apply(lambda x: label_to_idx[x] if x in label_to_idx else np.nan)\n",
    "    \n",
    "DE_idx = labels[\"target\"].notnull()\n",
    "E_idx = labels[\"E/no E\"].notnull()\n",
    "D_idx = labels[\"D/no D\"].notnull()\n",
    "E_C_idx = labels[\"E/C\"].notnull()\n",
    "D_C_idx = labels[\"D/C\"].notnull()\n",
    "TLE_noE_idx = labels[\"TLE/no E\"].notnull()\n",
    "TLE_C_idx = labels[\"TLE/C\"].notnull()\n",
    "DE_E_idx = labels[\"DE/E\"].notnull()\n",
    "\n",
    "DE_D_idx = E_C_idx == False"
   ]
  },
  {
   "cell_type": "code",
   "execution_count": null,
   "metadata": {},
   "outputs": [],
   "source": []
  },
  {
   "cell_type": "code",
   "execution_count": 3,
   "metadata": {},
   "outputs": [
    {
     "data": {
      "text/html": [
       "<div>\n",
       "<style scoped>\n",
       "    .dataframe tbody tr th:only-of-type {\n",
       "        vertical-align: middle;\n",
       "    }\n",
       "\n",
       "    .dataframe tbody tr th {\n",
       "        vertical-align: top;\n",
       "    }\n",
       "\n",
       "    .dataframe thead th {\n",
       "        text-align: right;\n",
       "    }\n",
       "</style>\n",
       "<table border=\"1\" class=\"dataframe\">\n",
       "  <thead>\n",
       "    <tr style=\"text-align: right;\">\n",
       "      <th></th>\n",
       "      <th>patient_number</th>\n",
       "      <th>target</th>\n",
       "      <th>E/no E</th>\n",
       "      <th>D/no D</th>\n",
       "      <th>E/C</th>\n",
       "      <th>TLE/no E</th>\n",
       "      <th>TLE/C</th>\n",
       "      <th>D/C</th>\n",
       "      <th>DE/E</th>\n",
       "      <th>MRIPositive/Negative</th>\n",
       "      <th>TLEPositive/C</th>\n",
       "      <th>TLENegative/C</th>\n",
       "      <th>NoTLE/C</th>\n",
       "    </tr>\n",
       "  </thead>\n",
       "  <tbody>\n",
       "    <tr>\n",
       "      <th>0</th>\n",
       "      <td>P001</td>\n",
       "      <td>2</td>\n",
       "      <td>2</td>\n",
       "      <td>5</td>\n",
       "      <td>2.0</td>\n",
       "      <td>6.0</td>\n",
       "      <td>6.0</td>\n",
       "      <td>NaN</td>\n",
       "      <td>2.0</td>\n",
       "      <td>NaN</td>\n",
       "      <td>NaN</td>\n",
       "      <td>NaN</td>\n",
       "      <td>NaN</td>\n",
       "    </tr>\n",
       "    <tr>\n",
       "      <th>1</th>\n",
       "      <td>P002</td>\n",
       "      <td>3</td>\n",
       "      <td>2</td>\n",
       "      <td>1</td>\n",
       "      <td>NaN</td>\n",
       "      <td>NaN</td>\n",
       "      <td>NaN</td>\n",
       "      <td>NaN</td>\n",
       "      <td>3.0</td>\n",
       "      <td>NaN</td>\n",
       "      <td>NaN</td>\n",
       "      <td>NaN</td>\n",
       "      <td>7.0</td>\n",
       "    </tr>\n",
       "    <tr>\n",
       "      <th>2</th>\n",
       "      <td>P003</td>\n",
       "      <td>2</td>\n",
       "      <td>2</td>\n",
       "      <td>5</td>\n",
       "      <td>2.0</td>\n",
       "      <td>6.0</td>\n",
       "      <td>6.0</td>\n",
       "      <td>NaN</td>\n",
       "      <td>2.0</td>\n",
       "      <td>NaN</td>\n",
       "      <td>NaN</td>\n",
       "      <td>NaN</td>\n",
       "      <td>NaN</td>\n",
       "    </tr>\n",
       "    <tr>\n",
       "      <th>3</th>\n",
       "      <td>P004</td>\n",
       "      <td>1</td>\n",
       "      <td>4</td>\n",
       "      <td>1</td>\n",
       "      <td>NaN</td>\n",
       "      <td>4.0</td>\n",
       "      <td>NaN</td>\n",
       "      <td>1.0</td>\n",
       "      <td>NaN</td>\n",
       "      <td>NaN</td>\n",
       "      <td>NaN</td>\n",
       "      <td>NaN</td>\n",
       "      <td>NaN</td>\n",
       "    </tr>\n",
       "    <tr>\n",
       "      <th>4</th>\n",
       "      <td>P006</td>\n",
       "      <td>2</td>\n",
       "      <td>2</td>\n",
       "      <td>5</td>\n",
       "      <td>2.0</td>\n",
       "      <td>NaN</td>\n",
       "      <td>NaN</td>\n",
       "      <td>NaN</td>\n",
       "      <td>2.0</td>\n",
       "      <td>NaN</td>\n",
       "      <td>NaN</td>\n",
       "      <td>NaN</td>\n",
       "      <td>7.0</td>\n",
       "    </tr>\n",
       "  </tbody>\n",
       "</table>\n",
       "</div>"
      ],
      "text/plain": [
       "  patient_number  target  E/no E  D/no D  E/C  TLE/no E  TLE/C  D/C  DE/E  \\\n",
       "0           P001       2       2       5  2.0       6.0    6.0  NaN   2.0   \n",
       "1           P002       3       2       1  NaN       NaN    NaN  NaN   3.0   \n",
       "2           P003       2       2       5  2.0       6.0    6.0  NaN   2.0   \n",
       "3           P004       1       4       1  NaN       4.0    NaN  1.0   NaN   \n",
       "4           P006       2       2       5  2.0       NaN    NaN  NaN   2.0   \n",
       "\n",
       "   MRIPositive/Negative   TLEPositive/C  TLENegative/C  NoTLE/C  \n",
       "0                    NaN            NaN            NaN      NaN  \n",
       "1                    NaN            NaN            NaN      7.0  \n",
       "2                    NaN            NaN            NaN      NaN  \n",
       "3                    NaN            NaN            NaN      NaN  \n",
       "4                    NaN            NaN            NaN      7.0  "
      ]
     },
     "execution_count": 3,
     "metadata": {},
     "output_type": "execute_result"
    }
   ],
   "source": [
    "labels.head()"
   ]
  },
  {
   "cell_type": "code",
   "execution_count": 4,
   "metadata": {},
   "outputs": [],
   "source": [
    "patients = labels['patient_number']"
   ]
  },
  {
   "cell_type": "code",
   "execution_count": 5,
   "metadata": {},
   "outputs": [],
   "source": [
    "data = []\n",
    "for l in patients:\n",
    "    X_new = pd.read_csv('./data/clean_last/{}.csv'.format(l), index_col=0)\n",
    "    data.append(np.array(X_new))"
   ]
  },
  {
   "cell_type": "markdown",
   "metadata": {},
   "source": [
    "1. Epilepsy / no epilepsy\n",
    "2. Depression / no depression\n",
    "3. Epilepsy / control\n",
    "4. Depression / control\n",
    "5. TLE / no epilepsy\n",
    "6. TLE / control\n",
    "7. Epilepsy with depression / only epilepsy\n",
    "8. Epilepsy with depression / only depression"
   ]
  },
  {
   "cell_type": "code",
   "execution_count": null,
   "metadata": {},
   "outputs": [],
   "source": []
  },
  {
   "cell_type": "markdown",
   "metadata": {},
   "source": [
    "## Threshold = 0.1"
   ]
  },
  {
   "cell_type": "code",
   "execution_count": 6,
   "metadata": {},
   "outputs": [],
   "source": [
    "tr = 0.1\n",
    "scoring = 'roc_auc'"
   ]
  },
  {
   "cell_type": "markdown",
   "metadata": {},
   "source": [
    "### Epilepsy  / No Epilepsy"
   ]
  },
  {
   "cell_type": "code",
   "execution_count": 33,
   "metadata": {
    "scrolled": false
   },
   "outputs": [
    {
     "name": "stdout",
     "output_type": "stream",
     "text": [
      "Target distribution: \n",
      "4    50\n",
      "2    50\n",
      "Name: E/no E, dtype: int64 \n",
      "\n",
      "Training SVC...\n",
      "(training took 9759.089143037796s)\n",
      "\n",
      "Training LR...\n",
      "(training took 501.45729780197144s)\n",
      "\n",
      "Training KNN...\n",
      "(training took 18950.053512096405s)\n",
      "\n",
      "Training MDM...\n",
      "(training took 281.81503415107727s)\n",
      "\n",
      "Scoring: roc_auc\n"
     ]
    },
    {
     "data": {
      "text/html": [
       "<div>\n",
       "<style scoped>\n",
       "    .dataframe tbody tr th:only-of-type {\n",
       "        vertical-align: middle;\n",
       "    }\n",
       "\n",
       "    .dataframe tbody tr th {\n",
       "        vertical-align: top;\n",
       "    }\n",
       "\n",
       "    .dataframe thead th {\n",
       "        text-align: right;\n",
       "    }\n",
       "</style>\n",
       "<table border=\"1\" class=\"dataframe\">\n",
       "  <thead>\n",
       "    <tr style=\"text-align: right;\">\n",
       "      <th></th>\n",
       "      <th>best parameters</th>\n",
       "      <th>mean</th>\n",
       "      <th>std</th>\n",
       "    </tr>\n",
       "    <tr>\n",
       "      <th>classifier</th>\n",
       "      <th></th>\n",
       "      <th></th>\n",
       "      <th></th>\n",
       "    </tr>\n",
       "  </thead>\n",
       "  <tbody>\n",
       "    <tr>\n",
       "      <th>SVC</th>\n",
       "      <td>clf__C = 0.0001, clf__gamma = 0.0001, clf__ker...</td>\n",
       "      <td>0.5440</td>\n",
       "      <td>0.187275</td>\n",
       "    </tr>\n",
       "    <tr>\n",
       "      <th>LR</th>\n",
       "      <td>clf__C = 1, metric = euclid</td>\n",
       "      <td>0.4848</td>\n",
       "      <td>0.191940</td>\n",
       "    </tr>\n",
       "    <tr>\n",
       "      <th>KNN</th>\n",
       "      <td>metric = riemann, n_neighbors = 5</td>\n",
       "      <td>0.5584</td>\n",
       "      <td>0.177080</td>\n",
       "    </tr>\n",
       "    <tr>\n",
       "      <th>MDM</th>\n",
       "      <td>metric = riemann</td>\n",
       "      <td>0.4744</td>\n",
       "      <td>0.183305</td>\n",
       "    </tr>\n",
       "  </tbody>\n",
       "</table>\n",
       "</div>"
      ],
      "text/plain": [
       "                                              best parameters    mean  \\\n",
       "classifier                                                              \n",
       "SVC         clf__C = 0.0001, clf__gamma = 0.0001, clf__ker...  0.5440   \n",
       "LR                                clf__C = 1, metric = euclid  0.4848   \n",
       "KNN                         metric = riemann, n_neighbors = 5  0.5584   \n",
       "MDM                                          metric = riemann  0.4744   \n",
       "\n",
       "                 std  \n",
       "classifier            \n",
       "SVC         0.187275  \n",
       "LR          0.191940  \n",
       "KNN         0.177080  \n",
       "MDM         0.183305  "
      ]
     },
     "metadata": {},
     "output_type": "display_data"
    },
    {
     "data": {
      "image/png": "[encoded data removed]",
      "text/plain": [
       "<matplotlib.figure.Figure at 0x10d916be0>"
      ]
     },
     "metadata": {},
     "output_type": "display_data"
    },
    {
     "name": "stdout",
     "output_type": "stream",
     "text": [
      "Best model: \n",
      "KNN\n",
      "metric = riemann\n",
      "n_neighbors = 5\n"
     ]
    },
    {
     "ename": "NameError",
     "evalue": "name 'best_model_mri_D' is not defined",
     "output_type": "error",
     "traceback": [
      "\u001b[0;31m---------------------------------------------------------------------------\u001b[0m",
      "\u001b[0;31mNameError\u001b[0m                                 Traceback (most recent call last)",
      "\u001b[0;32m<ipython-input-33-bb830e9db4f4>\u001b[0m in \u001b[0;36m<module>\u001b[0;34m()\u001b[0m\n\u001b[1;32m     12\u001b[0m \u001b[0mcv\u001b[0m \u001b[0;34m=\u001b[0m \u001b[0mRepeatedStratifiedKFold\u001b[0m\u001b[0;34m(\u001b[0m\u001b[0mn_splits\u001b[0m\u001b[0;34m=\u001b[0m\u001b[0;36m50\u001b[0m\u001b[0;34m,\u001b[0m \u001b[0mn_repeats\u001b[0m\u001b[0;34m=\u001b[0m\u001b[0;36m10\u001b[0m\u001b[0;34m,\u001b[0m \u001b[0mrandom_state\u001b[0m\u001b[0;34m=\u001b[0m\u001b[0;36m42\u001b[0m\u001b[0;34m)\u001b[0m\u001b[0;34m\u001b[0m\u001b[0m\n\u001b[1;32m     13\u001b[0m \u001b[0;34m\u001b[0m\u001b[0m\n\u001b[0;32m---> 14\u001b[0;31m \u001b[0mlabels_mri_D\u001b[0m \u001b[0;34m=\u001b[0m \u001b[0mpipe\u001b[0m\u001b[0;34m.\u001b[0m\u001b[0mrepeated_cross_val_predict_proba\u001b[0m\u001b[0;34m(\u001b[0m\u001b[0mbest_model_mri_D\u001b[0m\u001b[0;34m,\u001b[0m \u001b[0mdata\u001b[0m\u001b[0;34m,\u001b[0m \u001b[0my\u001b[0m\u001b[0;34m,\u001b[0m \u001b[0mcv\u001b[0m\u001b[0;34m)\u001b[0m\u001b[0;34m\u001b[0m\u001b[0m\n\u001b[0m\u001b[1;32m     15\u001b[0m \u001b[0mX\u001b[0m \u001b[0;34m=\u001b[0m \u001b[0mpipe\u001b[0m\u001b[0;34m.\u001b[0m\u001b[0mget_spd_dataset\u001b[0m\u001b[0;34m(\u001b[0m\u001b[0mdata\u001b[0m\u001b[0;34m)\u001b[0m\u001b[0;34m\u001b[0m\u001b[0m\n\u001b[1;32m     16\u001b[0m \u001b[0mscores_E\u001b[0m \u001b[0;34m=\u001b[0m \u001b[0mcross_val_score\u001b[0m\u001b[0;34m(\u001b[0m\u001b[0mbest_model_E\u001b[0m\u001b[0;34m,\u001b[0m \u001b[0mX\u001b[0m\u001b[0;34m,\u001b[0m \u001b[0mnp\u001b[0m\u001b[0;34m.\u001b[0m\u001b[0marray\u001b[0m\u001b[0;34m(\u001b[0m\u001b[0my\u001b[0m \u001b[0;34m==\u001b[0m \u001b[0mpos_label\u001b[0m\u001b[0;34m)\u001b[0m\u001b[0;34m.\u001b[0m\u001b[0mastype\u001b[0m\u001b[0;34m(\u001b[0m\u001b[0mint\u001b[0m\u001b[0;34m)\u001b[0m\u001b[0;34m,\u001b[0m \u001b[0mcv\u001b[0m\u001b[0;34m=\u001b[0m\u001b[0mcv\u001b[0m\u001b[0;34m,\u001b[0m \u001b[0mscoring\u001b[0m\u001b[0;34m=\u001b[0m\u001b[0mscoring\u001b[0m\u001b[0;34m)\u001b[0m\u001b[0;34m\u001b[0m\u001b[0m\n",
      "\u001b[0;31mNameError\u001b[0m: name 'best_model_mri_D' is not defined"
     ]
    }
   ],
   "source": [
    "# n_splits = 2\n",
    "n_splits = 10\n",
    "y = labels[\"E/no E\"]\n",
    "pos_label = label_to_idx[\"E\"]\n",
    "pipe = SPD_pipeline(tr, 0.1)\n",
    "\n",
    "### Pipeline training\n",
    "best_model_E, grid_cv_svc_E, grid_cv_lr_E, grid_cv_mdm_E, grid_cv_knn_E = pipe.train_grid_cv(\n",
    "    data, y = y, n_splits=n_splits, n_repeats=5, scoring=scoring, random_state=42, n_jobs=1)"
   ]
  },
  {
   "cell_type": "code",
   "execution_count": 35,
   "metadata": {},
   "outputs": [
    {
     "name": "stdout",
     "output_type": "stream",
     "text": [
      "mean = 0.434\n",
      "std = 0.49562485813364937\n"
     ]
    },
    {
     "data": {
      "application/vnd.jupyter.widget-view+json": {
       "model_id": "00471eb32a354b1a93534b5b5bed5a0f",
       "version_major": 2,
       "version_minor": 0
      },
      "text/html": [
       "<p>Failed to display Jupyter Widget of type <code>HBox</code>.</p>\n",
       "<p>\n",
       "  If you're reading this message in the Jupyter Notebook or JupyterLab Notebook, it may mean\n",
       "  that the widgets JavaScript is still loading. If this message persists, it\n",
       "  likely means that the widgets JavaScript library is either not installed or\n",
       "  not enabled. See the <a href=\"https://ipywidgets.readthedocs.io/en/stable/user_install.html\">Jupyter\n",
       "  Widgets Documentation</a> for setup instructions.\n",
       "</p>\n",
       "<p>\n",
       "  If you're reading this message in another frontend (for example, a static\n",
       "  rendering on GitHub or <a href=\"https://nbviewer.jupyter.org/\">NBViewer</a>),\n",
       "  it may mean that your frontend doesn't currently support widgets.\n",
       "</p>\n"
      ],
      "text/plain": [
       "HBox(children=(IntProgress(value=1, bar_style='info', max=1), HTML(value='')))"
      ]
     },
     "metadata": {},
     "output_type": "display_data"
    },
    {
     "name": "stdout",
     "output_type": "stream",
     "text": [
      "\n"
     ]
    },
    {
     "name": "stderr",
     "output_type": "stream",
     "text": [
      "Exception in thread Thread-6:\n",
      "Traceback (most recent call last):\n",
      "  File \"/usr/local/Cellar/python/3.6.4_4/Frameworks/Python.framework/Versions/3.6/lib/python3.6/threading.py\", line 916, in _bootstrap_inner\n",
      "    self.run()\n",
      "  File \"/usr/local/lib/python3.6/site-packages/tqdm/_tqdm.py\", line 144, in run\n",
      "    for instance in self.tqdm_cls._instances:\n",
      "  File \"/usr/local/Cellar/python/3.6.4_4/Frameworks/Python.framework/Versions/3.6/lib/python3.6/_weakrefset.py\", line 60, in __iter__\n",
      "    for itemref in self.data:\n",
      "RuntimeError: Set changed size during iteration\n",
      "\n"
     ]
    },
    {
     "name": "stdout",
     "output_type": "stream",
     "text": [
      "\n"
     ]
    },
    {
     "data": {
      "image/png": "[encoded data removed]",
      "text/plain": [
       "<matplotlib.figure.Figure at 0x10eb2da20>"
      ]
     },
     "metadata": {},
     "output_type": "display_data"
    },
    {
     "name": "stdout",
     "output_type": "stream",
     "text": [
      "auc = 0.40800000000000003\n"
     ]
    },
    {
     "data": {
      "text/html": [
       "<div>\n",
       "<style scoped>\n",
       "    .dataframe tbody tr th:only-of-type {\n",
       "        vertical-align: middle;\n",
       "    }\n",
       "\n",
       "    .dataframe tbody tr th {\n",
       "        vertical-align: top;\n",
       "    }\n",
       "\n",
       "    .dataframe thead th {\n",
       "        text-align: right;\n",
       "    }\n",
       "</style>\n",
       "<table border=\"1\" class=\"dataframe\">\n",
       "  <thead>\n",
       "    <tr style=\"text-align: right;\">\n",
       "      <th></th>\n",
       "      <th>False Positive rate (fixed)</th>\n",
       "      <th>False Negative rate</th>\n",
       "    </tr>\n",
       "  </thead>\n",
       "  <tbody>\n",
       "    <tr>\n",
       "      <th>0</th>\n",
       "      <td>0.10</td>\n",
       "      <td>0.82</td>\n",
       "    </tr>\n",
       "    <tr>\n",
       "      <th>1</th>\n",
       "      <td>0.15</td>\n",
       "      <td>0.78</td>\n",
       "    </tr>\n",
       "    <tr>\n",
       "      <th>2</th>\n",
       "      <td>0.20</td>\n",
       "      <td>0.78</td>\n",
       "    </tr>\n",
       "    <tr>\n",
       "      <th>3</th>\n",
       "      <td>0.30</td>\n",
       "      <td>0.76</td>\n",
       "    </tr>\n",
       "  </tbody>\n",
       "</table>\n",
       "</div>"
      ],
      "text/plain": [
       "   False Positive rate (fixed)  False Negative rate\n",
       "0                         0.10                 0.82\n",
       "1                         0.15                 0.78\n",
       "2                         0.20                 0.78\n",
       "3                         0.30                 0.76"
      ]
     },
     "metadata": {},
     "output_type": "display_data"
    },
    {
     "data": {
      "image/png": "[encoded data removed]",
      "text/plain": [
       "<matplotlib.figure.Figure at 0x10eb2b588>"
      ]
     },
     "metadata": {},
     "output_type": "display_data"
    },
    {
     "name": "stdout",
     "output_type": "stream",
     "text": [
      "auc = 0.41904\n"
     ]
    },
    {
     "data": {
      "text/html": [
       "<div>\n",
       "<style scoped>\n",
       "    .dataframe tbody tr th:only-of-type {\n",
       "        vertical-align: middle;\n",
       "    }\n",
       "\n",
       "    .dataframe tbody tr th {\n",
       "        vertical-align: top;\n",
       "    }\n",
       "\n",
       "    .dataframe thead th {\n",
       "        text-align: right;\n",
       "    }\n",
       "</style>\n",
       "<table border=\"1\" class=\"dataframe\">\n",
       "  <thead>\n",
       "    <tr style=\"text-align: right;\">\n",
       "      <th></th>\n",
       "      <th>False Positive rate (fixed)</th>\n",
       "      <th>False Negative rate</th>\n",
       "    </tr>\n",
       "  </thead>\n",
       "  <tbody>\n",
       "    <tr>\n",
       "      <th>0</th>\n",
       "      <td>0.10</td>\n",
       "      <td>0.86</td>\n",
       "    </tr>\n",
       "    <tr>\n",
       "      <th>1</th>\n",
       "      <td>0.15</td>\n",
       "      <td>0.80</td>\n",
       "    </tr>\n",
       "    <tr>\n",
       "      <th>2</th>\n",
       "      <td>0.20</td>\n",
       "      <td>0.78</td>\n",
       "    </tr>\n",
       "    <tr>\n",
       "      <th>3</th>\n",
       "      <td>0.30</td>\n",
       "      <td>0.78</td>\n",
       "    </tr>\n",
       "  </tbody>\n",
       "</table>\n",
       "</div>"
      ],
      "text/plain": [
       "   False Positive rate (fixed)  False Negative rate\n",
       "0                         0.10                 0.86\n",
       "1                         0.15                 0.80\n",
       "2                         0.20                 0.78\n",
       "3                         0.30                 0.78"
      ]
     },
     "metadata": {},
     "output_type": "display_data"
    },
    {
     "data": {
      "text/html": [
       "<div>\n",
       "<style scoped>\n",
       "    .dataframe tbody tr th:only-of-type {\n",
       "        vertical-align: middle;\n",
       "    }\n",
       "\n",
       "    .dataframe tbody tr th {\n",
       "        vertical-align: top;\n",
       "    }\n",
       "\n",
       "    .dataframe thead th {\n",
       "        text-align: right;\n",
       "    }\n",
       "</style>\n",
       "<table border=\"1\" class=\"dataframe\">\n",
       "  <thead>\n",
       "    <tr style=\"text-align: right;\">\n",
       "      <th></th>\n",
       "      <th>False Positive rate (fixed)</th>\n",
       "      <th>False Negative rate</th>\n",
       "    </tr>\n",
       "  </thead>\n",
       "  <tbody>\n",
       "    <tr>\n",
       "      <th>0</th>\n",
       "      <td>0.10</td>\n",
       "      <td>0.86</td>\n",
       "    </tr>\n",
       "    <tr>\n",
       "      <th>1</th>\n",
       "      <td>0.15</td>\n",
       "      <td>0.80</td>\n",
       "    </tr>\n",
       "    <tr>\n",
       "      <th>2</th>\n",
       "      <td>0.20</td>\n",
       "      <td>0.78</td>\n",
       "    </tr>\n",
       "    <tr>\n",
       "      <th>3</th>\n",
       "      <td>0.30</td>\n",
       "      <td>0.78</td>\n",
       "    </tr>\n",
       "  </tbody>\n",
       "</table>\n",
       "</div>"
      ],
      "text/plain": [
       "   False Positive rate (fixed)  False Negative rate\n",
       "0                         0.10                 0.86\n",
       "1                         0.15                 0.80\n",
       "2                         0.20                 0.78\n",
       "3                         0.30                 0.78"
      ]
     },
     "execution_count": 35,
     "metadata": {},
     "output_type": "execute_result"
    }
   ],
   "source": [
    "### Validation\n",
    "cv = RepeatedStratifiedKFold(n_splits=10, n_repeats=10, random_state=42)\n",
    "X = pipe.get_spd_dataset(data)\n",
    "scores_E = cross_val_score(best_model_E, X, np.array(y == pos_label).astype(int), cv=cv, scoring=scoring)\n",
    "  \n",
    "print(\"mean =\", scores_E.mean())\n",
    "print(\"std =\", scores_E.std())\n",
    "\n",
    "### Save model and predictions\n",
    "pipe.save_model(best_model_E, \"models/fmri_rim_E.pkl\")\n",
    "probas_E = pipe.repeated_cross_val_predict_proba(best_model_E, data, y, cv=cv, pos_label=pos_label, file = 'models/rim_E_prediction.csv')\n",
    "\n",
    "### ROC-AUC\n",
    "# average probabilities between repetitions\n",
    "fpr, tpr, t = pipe.plot_roc_curve(y, probas_E, pos_label, E_idx, average_repeats=True)\n",
    "pipe.get_fpr_fnr(fpr, tpr)\n",
    "\n",
    "# without averaging\n",
    "fpr, tpr, t = pipe.plot_roc_curve(y, probas_E, pos_label, E_idx)\n",
    "pipe.get_fpr_fnr(fpr, tpr)"
   ]
  },
  {
   "cell_type": "markdown",
   "metadata": {},
   "source": [
    "### Depression  / No depression"
   ]
  },
  {
   "cell_type": "code",
   "execution_count": 7,
   "metadata": {},
   "outputs": [
    {
     "name": "stdout",
     "output_type": "stream",
     "text": [
      "Target distribution: \n",
      "5    50\n",
      "1    50\n",
      "Name: D/no D, dtype: int64 \n",
      "\n",
      "loading fitted SVC...\n",
      "\n",
      "loading fitted LR...\n",
      "\n",
      "Training KNN...\n",
      "Fitting 50 folds for each of 27 candidates, totalling 1350 fits\n"
     ]
    },
    {
     "name": "stderr",
     "output_type": "stream",
     "text": [
      "[Parallel(n_jobs=-1)]: Done  42 tasks      | elapsed:  2.3min\n",
      "[Parallel(n_jobs=-1)]: Done 192 tasks      | elapsed: 10.1min\n",
      "[Parallel(n_jobs=-1)]: Done 442 tasks      | elapsed: 24.7min\n",
      "[Parallel(n_jobs=-1)]: Done 792 tasks      | elapsed: 44.3min\n",
      "[Parallel(n_jobs=-1)]: Done 1242 tasks      | elapsed: 68.6min\n"
     ]
    },
    {
     "name": "stdout",
     "output_type": "stream",
     "text": [
      "(training took 4481.155650138855s)\n",
      "\n",
      "Training MDM...\n",
      "Fitting 50 folds for each of 3 candidates, totalling 150 fits\n"
     ]
    },
    {
     "name": "stderr",
     "output_type": "stream",
     "text": [
      "[Parallel(n_jobs=-1)]: Done 1350 out of 1350 | elapsed: 74.7min finished\n",
      "[Parallel(n_jobs=-1)]: Done  42 tasks      | elapsed:   42.3s\n",
      "[Parallel(n_jobs=-1)]: Done 150 out of 150 | elapsed:  2.1min finished\n"
     ]
    },
    {
     "name": "stdout",
     "output_type": "stream",
     "text": [
      "(training took 126.7762770652771s)\n",
      "\n",
      "Scoring: roc_auc\n"
     ]
    },
    {
     "data": {
      "text/html": [
       "<div>\n",
       "<style scoped>\n",
       "    .dataframe tbody tr th:only-of-type {\n",
       "        vertical-align: middle;\n",
       "    }\n",
       "\n",
       "    .dataframe tbody tr th {\n",
       "        vertical-align: top;\n",
       "    }\n",
       "\n",
       "    .dataframe thead th {\n",
       "        text-align: right;\n",
       "    }\n",
       "</style>\n",
       "<table border=\"1\" class=\"dataframe\">\n",
       "  <thead>\n",
       "    <tr style=\"text-align: right;\">\n",
       "      <th></th>\n",
       "      <th>best parameters</th>\n",
       "      <th>mean</th>\n",
       "      <th>std</th>\n",
       "    </tr>\n",
       "    <tr>\n",
       "      <th>classifier</th>\n",
       "      <th></th>\n",
       "      <th></th>\n",
       "      <th></th>\n",
       "    </tr>\n",
       "  </thead>\n",
       "  <tbody>\n",
       "    <tr>\n",
       "      <th>SVC</th>\n",
       "      <td>clf__C = 100, clf__gamma = 1, clf__kernel = rb...</td>\n",
       "      <td>0.6808</td>\n",
       "      <td>0.154348</td>\n",
       "    </tr>\n",
       "    <tr>\n",
       "      <th>LR</th>\n",
       "      <td>clf__C = 0.0001, metric = riemann</td>\n",
       "      <td>0.4720</td>\n",
       "      <td>0.184000</td>\n",
       "    </tr>\n",
       "    <tr>\n",
       "      <th>KNN</th>\n",
       "      <td>metric = riemann, n_neighbors = 5</td>\n",
       "      <td>0.5216</td>\n",
       "      <td>0.160591</td>\n",
       "    </tr>\n",
       "    <tr>\n",
       "      <th>MDM</th>\n",
       "      <td>metric = riemann</td>\n",
       "      <td>0.4504</td>\n",
       "      <td>0.184835</td>\n",
       "    </tr>\n",
       "  </tbody>\n",
       "</table>\n",
       "</div>"
      ],
      "text/plain": [
       "                                              best parameters    mean  \\\n",
       "classifier                                                              \n",
       "SVC         clf__C = 100, clf__gamma = 1, clf__kernel = rb...  0.6808   \n",
       "LR                          clf__C = 0.0001, metric = riemann  0.4720   \n",
       "KNN                         metric = riemann, n_neighbors = 5  0.5216   \n",
       "MDM                                          metric = riemann  0.4504   \n",
       "\n",
       "                 std  \n",
       "classifier            \n",
       "SVC         0.154348  \n",
       "LR          0.184000  \n",
       "KNN         0.160591  \n",
       "MDM         0.184835  "
      ]
     },
     "metadata": {},
     "output_type": "display_data"
    },
    {
     "data": {
      "image/png": "[encoded data removed]",
      "text/plain": [
       "<matplotlib.figure.Figure at 0x118b989e8>"
      ]
     },
     "metadata": {},
     "output_type": "display_data"
    },
    {
     "name": "stdout",
     "output_type": "stream",
     "text": [
      "Best model: \n",
      "SVC\n",
      "clf__C = 100\n",
      "clf__gamma = 1\n",
      "clf__kernel = rbf\n",
      "metric = riemann\n",
      "mean = 0.6687999999999998\n",
      "std = 0.1539433662097851\n"
     ]
    },
    {
     "data": {
      "application/vnd.jupyter.widget-view+json": {
       "model_id": "f8a151ef900b468c99f568fd29dfd288",
       "version_major": 2,
       "version_minor": 0
      },
      "text/html": [
       "<p>Failed to display Jupyter Widget of type <code>HBox</code>.</p>\n",
       "<p>\n",
       "  If you're reading this message in the Jupyter Notebook or JupyterLab Notebook, it may mean\n",
       "  that the widgets JavaScript is still loading. If this message persists, it\n",
       "  likely means that the widgets JavaScript library is either not installed or\n",
       "  not enabled. See the <a href=\"https://ipywidgets.readthedocs.io/en/stable/user_install.html\">Jupyter\n",
       "  Widgets Documentation</a> for setup instructions.\n",
       "</p>\n",
       "<p>\n",
       "  If you're reading this message in another frontend (for example, a static\n",
       "  rendering on GitHub or <a href=\"https://nbviewer.jupyter.org/\">NBViewer</a>),\n",
       "  it may mean that your frontend doesn't currently support widgets.\n",
       "</p>\n"
      ],
      "text/plain": [
       "HBox(children=(IntProgress(value=1, bar_style='info', max=1), HTML(value='')))"
      ]
     },
     "metadata": {},
     "output_type": "display_data"
    },
    {
     "name": "stdout",
     "output_type": "stream",
     "text": [
      "\n"
     ]
    },
    {
     "data": {
      "image/png": "[encoded data removed]",
      "text/plain": [
       "<matplotlib.figure.Figure at 0x11b32fb70>"
      ]
     },
     "metadata": {},
     "output_type": "display_data"
    },
    {
     "name": "stdout",
     "output_type": "stream",
     "text": [
      "auc = 0.6948\n"
     ]
    },
    {
     "data": {
      "text/html": [
       "<div>\n",
       "<style scoped>\n",
       "    .dataframe tbody tr th:only-of-type {\n",
       "        vertical-align: middle;\n",
       "    }\n",
       "\n",
       "    .dataframe tbody tr th {\n",
       "        vertical-align: top;\n",
       "    }\n",
       "\n",
       "    .dataframe thead th {\n",
       "        text-align: right;\n",
       "    }\n",
       "</style>\n",
       "<table border=\"1\" class=\"dataframe\">\n",
       "  <thead>\n",
       "    <tr style=\"text-align: right;\">\n",
       "      <th></th>\n",
       "      <th>False Positive rate (fixed)</th>\n",
       "      <th>False Negative rate</th>\n",
       "    </tr>\n",
       "  </thead>\n",
       "  <tbody>\n",
       "    <tr>\n",
       "      <th>0</th>\n",
       "      <td>0.10</td>\n",
       "      <td>0.58</td>\n",
       "    </tr>\n",
       "    <tr>\n",
       "      <th>1</th>\n",
       "      <td>0.15</td>\n",
       "      <td>0.56</td>\n",
       "    </tr>\n",
       "    <tr>\n",
       "      <th>2</th>\n",
       "      <td>0.20</td>\n",
       "      <td>0.54</td>\n",
       "    </tr>\n",
       "    <tr>\n",
       "      <th>3</th>\n",
       "      <td>0.30</td>\n",
       "      <td>0.36</td>\n",
       "    </tr>\n",
       "  </tbody>\n",
       "</table>\n",
       "</div>"
      ],
      "text/plain": [
       "   False Positive rate (fixed)  False Negative rate\n",
       "0                         0.10                 0.58\n",
       "1                         0.15                 0.56\n",
       "2                         0.20                 0.54\n",
       "3                         0.30                 0.36"
      ]
     },
     "metadata": {},
     "output_type": "display_data"
    },
    {
     "data": {
      "image/png": "[encoded data removed]",
      "text/plain": [
       "<matplotlib.figure.Figure at 0x118b4d240>"
      ]
     },
     "metadata": {},
     "output_type": "display_data"
    },
    {
     "name": "stdout",
     "output_type": "stream",
     "text": [
      "auc = 0.6714720000000001\n"
     ]
    },
    {
     "data": {
      "text/html": [
       "<div>\n",
       "<style scoped>\n",
       "    .dataframe tbody tr th:only-of-type {\n",
       "        vertical-align: middle;\n",
       "    }\n",
       "\n",
       "    .dataframe tbody tr th {\n",
       "        vertical-align: top;\n",
       "    }\n",
       "\n",
       "    .dataframe thead th {\n",
       "        text-align: right;\n",
       "    }\n",
       "</style>\n",
       "<table border=\"1\" class=\"dataframe\">\n",
       "  <thead>\n",
       "    <tr style=\"text-align: right;\">\n",
       "      <th></th>\n",
       "      <th>False Positive rate (fixed)</th>\n",
       "      <th>False Negative rate</th>\n",
       "    </tr>\n",
       "  </thead>\n",
       "  <tbody>\n",
       "    <tr>\n",
       "      <th>0</th>\n",
       "      <td>0.10</td>\n",
       "      <td>0.634</td>\n",
       "    </tr>\n",
       "    <tr>\n",
       "      <th>1</th>\n",
       "      <td>0.15</td>\n",
       "      <td>0.602</td>\n",
       "    </tr>\n",
       "    <tr>\n",
       "      <th>2</th>\n",
       "      <td>0.20</td>\n",
       "      <td>0.546</td>\n",
       "    </tr>\n",
       "    <tr>\n",
       "      <th>3</th>\n",
       "      <td>0.30</td>\n",
       "      <td>0.442</td>\n",
       "    </tr>\n",
       "  </tbody>\n",
       "</table>\n",
       "</div>"
      ],
      "text/plain": [
       "   False Positive rate (fixed)  False Negative rate\n",
       "0                         0.10                0.634\n",
       "1                         0.15                0.602\n",
       "2                         0.20                0.546\n",
       "3                         0.30                0.442"
      ]
     },
     "metadata": {},
     "output_type": "display_data"
    }
   ],
   "source": [
    "n_splits = 10\n",
    "y = labels[\"D/no D\"]\n",
    "pos_label = label_to_idx[\"D\"]\n",
    "pipe = SPD_pipeline(tr, 0.1)\n",
    "\n",
    "# Pipeline training\n",
    "best_model_D, grid_cv_svc_D, grid_cv_lr_D, grid_cv_mdm_D, grid_cv_knn_D = pipe.train_grid_cv(\n",
    "    data, y = y, n_splits=n_splits, n_repeats=5, scoring=scoring, random_state=42, n_jobs=-1, save_models_to = 'models/temp_model')\n",
    "\n",
    "\n",
    "cv = RepeatedStratifiedKFold(n_splits=n_splits, n_repeats=10, random_state=42)\n",
    "X = pipe.get_spd_dataset(data)\n",
    "scores_D = cross_val_score(best_model_D, X, np.array(y == pos_label).astype(int), cv=cv, scoring=scoring, n_jobs = -1)\n",
    "  \n",
    "print(\"mean =\", scores_D.mean())\n",
    "print(\"std =\", scores_D.std())\n",
    "\n",
    "\n",
    "pipe.save_model(best_model_D, \"models/fmri_rim_D.pkl\")\n",
    "probas_D = pipe.repeated_cross_val_predict_proba(best_model_D, data, y, cv=cv, pos_label=pos_label, file = 'models/rim_D_prediction.csv')\n",
    "\n",
    "# average probabilities between repetitions\n",
    "fpr, tpr, t = pipe.plot_roc_curve(y, probas_D, pos_label, D_idx, average_repeats=True)\n",
    "pipe.get_fpr_fnr(fpr, tpr)\n",
    "\n",
    "# without averaging\n",
    "fpr, tpr, t = pipe.plot_roc_curve(y, probas_D, pos_label, D_idx)\n",
    "pipe.get_fpr_fnr(fpr, tpr)\n",
    "\n",
    "## Delete temp models\n",
    "os.remove('models/temp_model_svc.pkl')\n",
    "os.remove('models/temp_model_lr.pkl')\n",
    "os.remove('models/temp_model_knn.pkl')\n",
    "os.remove('models/temp_model_mdm.pkl')"
   ]
  },
  {
   "cell_type": "markdown",
   "metadata": {},
   "source": [
    "### Epilepsy / Control"
   ]
  },
  {
   "cell_type": "code",
   "execution_count": 7,
   "metadata": {
    "scrolled": false
   },
   "outputs": [
    {
     "name": "stdout",
     "output_type": "stream",
     "text": [
      "Target distribution: \n",
      "0.0    25\n",
      "2.0    25\n",
      "Name: E/C, dtype: int64 \n",
      "\n",
      "loading fitted SVC...\n",
      "\n",
      "loading fitted LR...\n",
      "\n",
      "loading fitted KNN...\n",
      "\n",
      "loading fitted MDM...\n",
      "\n",
      "Scoring: roc_auc\n"
     ]
    },
    {
     "data": {
      "text/html": [
       "<div>\n",
       "<style scoped>\n",
       "    .dataframe tbody tr th:only-of-type {\n",
       "        vertical-align: middle;\n",
       "    }\n",
       "\n",
       "    .dataframe tbody tr th {\n",
       "        vertical-align: top;\n",
       "    }\n",
       "\n",
       "    .dataframe thead th {\n",
       "        text-align: right;\n",
       "    }\n",
       "</style>\n",
       "<table border=\"1\" class=\"dataframe\">\n",
       "  <thead>\n",
       "    <tr style=\"text-align: right;\">\n",
       "      <th></th>\n",
       "      <th>best parameters</th>\n",
       "      <th>mean</th>\n",
       "      <th>std</th>\n",
       "    </tr>\n",
       "    <tr>\n",
       "      <th>classifier</th>\n",
       "      <th></th>\n",
       "      <th></th>\n",
       "      <th></th>\n",
       "    </tr>\n",
       "  </thead>\n",
       "  <tbody>\n",
       "    <tr>\n",
       "      <th>SVC</th>\n",
       "      <td>clf__C = 100, clf__gamma = 0.0001, clf__kernel...</td>\n",
       "      <td>0.5872</td>\n",
       "      <td>0.131560</td>\n",
       "    </tr>\n",
       "    <tr>\n",
       "      <th>LR</th>\n",
       "      <td>clf__C = 1, metric = riemann</td>\n",
       "      <td>0.4432</td>\n",
       "      <td>0.150059</td>\n",
       "    </tr>\n",
       "    <tr>\n",
       "      <th>KNN</th>\n",
       "      <td>metric = riemann, n_neighbors = 5</td>\n",
       "      <td>0.5536</td>\n",
       "      <td>0.205424</td>\n",
       "    </tr>\n",
       "    <tr>\n",
       "      <th>MDM</th>\n",
       "      <td>metric = riemann</td>\n",
       "      <td>0.4224</td>\n",
       "      <td>0.142696</td>\n",
       "    </tr>\n",
       "  </tbody>\n",
       "</table>\n",
       "</div>"
      ],
      "text/plain": [
       "                                              best parameters    mean  \\\n",
       "classifier                                                              \n",
       "SVC         clf__C = 100, clf__gamma = 0.0001, clf__kernel...  0.5872   \n",
       "LR                               clf__C = 1, metric = riemann  0.4432   \n",
       "KNN                         metric = riemann, n_neighbors = 5  0.5536   \n",
       "MDM                                          metric = riemann  0.4224   \n",
       "\n",
       "                 std  \n",
       "classifier            \n",
       "SVC         0.131560  \n",
       "LR          0.150059  \n",
       "KNN         0.205424  \n",
       "MDM         0.142696  "
      ]
     },
     "metadata": {},
     "output_type": "display_data"
    },
    {
     "data": {
      "image/png": "[encoded data removed]",
      "text/plain": [
       "<matplotlib.figure.Figure at 0x1175bbf60>"
      ]
     },
     "metadata": {},
     "output_type": "display_data"
    },
    {
     "name": "stdout",
     "output_type": "stream",
     "text": [
      "Best model: \n",
      "SVC\n",
      "clf__C = 100\n",
      "clf__gamma = 0.0001\n",
      "clf__kernel = rbf\n",
      "metric = riemann\n",
      "mean = 0.5948\n",
      "std = 0.12424556330106923\n"
     ]
    },
    {
     "data": {
      "application/vnd.jupyter.widget-view+json": {
       "model_id": "565e3879cee04800a0b320f7330ff659",
       "version_major": 2,
       "version_minor": 0
      },
      "text/html": [
       "<p>Failed to display Jupyter Widget of type <code>HBox</code>.</p>\n",
       "<p>\n",
       "  If you're reading this message in the Jupyter Notebook or JupyterLab Notebook, it may mean\n",
       "  that the widgets JavaScript is still loading. If this message persists, it\n",
       "  likely means that the widgets JavaScript library is either not installed or\n",
       "  not enabled. See the <a href=\"https://ipywidgets.readthedocs.io/en/stable/user_install.html\">Jupyter\n",
       "  Widgets Documentation</a> for setup instructions.\n",
       "</p>\n",
       "<p>\n",
       "  If you're reading this message in another frontend (for example, a static\n",
       "  rendering on GitHub or <a href=\"https://nbviewer.jupyter.org/\">NBViewer</a>),\n",
       "  it may mean that your frontend doesn't currently support widgets.\n",
       "</p>\n"
      ],
      "text/plain": [
       "HBox(children=(IntProgress(value=1, bar_style='info', max=1), HTML(value='')))"
      ]
     },
     "metadata": {},
     "output_type": "display_data"
    },
    {
     "name": "stdout",
     "output_type": "stream",
     "text": [
      "\n"
     ]
    },
    {
     "data": {
      "image/png": "[encoded data removed]",
      "text/plain": [
       "<matplotlib.figure.Figure at 0x10ea203c8>"
      ]
     },
     "metadata": {},
     "output_type": "display_data"
    },
    {
     "name": "stdout",
     "output_type": "stream",
     "text": [
      "auc = 0.6943999999999999\n"
     ]
    },
    {
     "data": {
      "text/html": [
       "<div>\n",
       "<style scoped>\n",
       "    .dataframe tbody tr th:only-of-type {\n",
       "        vertical-align: middle;\n",
       "    }\n",
       "\n",
       "    .dataframe tbody tr th {\n",
       "        vertical-align: top;\n",
       "    }\n",
       "\n",
       "    .dataframe thead th {\n",
       "        text-align: right;\n",
       "    }\n",
       "</style>\n",
       "<table border=\"1\" class=\"dataframe\">\n",
       "  <thead>\n",
       "    <tr style=\"text-align: right;\">\n",
       "      <th></th>\n",
       "      <th>False Positive rate (fixed)</th>\n",
       "      <th>False Negative rate</th>\n",
       "    </tr>\n",
       "  </thead>\n",
       "  <tbody>\n",
       "    <tr>\n",
       "      <th>0</th>\n",
       "      <td>0.10</td>\n",
       "      <td>0.80</td>\n",
       "    </tr>\n",
       "    <tr>\n",
       "      <th>1</th>\n",
       "      <td>0.15</td>\n",
       "      <td>0.60</td>\n",
       "    </tr>\n",
       "    <tr>\n",
       "      <th>2</th>\n",
       "      <td>0.20</td>\n",
       "      <td>0.56</td>\n",
       "    </tr>\n",
       "    <tr>\n",
       "      <th>3</th>\n",
       "      <td>0.30</td>\n",
       "      <td>0.32</td>\n",
       "    </tr>\n",
       "  </tbody>\n",
       "</table>\n",
       "</div>"
      ],
      "text/plain": [
       "   False Positive rate (fixed)  False Negative rate\n",
       "0                         0.10                 0.80\n",
       "1                         0.15                 0.60\n",
       "2                         0.20                 0.56\n",
       "3                         0.30                 0.32"
      ]
     },
     "metadata": {},
     "output_type": "display_data"
    },
    {
     "data": {
      "image/png": "[encoded data removed]",
      "text/plain": [
       "<matplotlib.figure.Figure at 0x1183d66a0>"
      ]
     },
     "metadata": {},
     "output_type": "display_data"
    },
    {
     "name": "stdout",
     "output_type": "stream",
     "text": [
      "auc = 0.602608\n"
     ]
    },
    {
     "data": {
      "text/html": [
       "<div>\n",
       "<style scoped>\n",
       "    .dataframe tbody tr th:only-of-type {\n",
       "        vertical-align: middle;\n",
       "    }\n",
       "\n",
       "    .dataframe tbody tr th {\n",
       "        vertical-align: top;\n",
       "    }\n",
       "\n",
       "    .dataframe thead th {\n",
       "        text-align: right;\n",
       "    }\n",
       "</style>\n",
       "<table border=\"1\" class=\"dataframe\">\n",
       "  <thead>\n",
       "    <tr style=\"text-align: right;\">\n",
       "      <th></th>\n",
       "      <th>False Positive rate (fixed)</th>\n",
       "      <th>False Negative rate</th>\n",
       "    </tr>\n",
       "  </thead>\n",
       "  <tbody>\n",
       "    <tr>\n",
       "      <th>0</th>\n",
       "      <td>0.10</td>\n",
       "      <td>0.784</td>\n",
       "    </tr>\n",
       "    <tr>\n",
       "      <th>1</th>\n",
       "      <td>0.15</td>\n",
       "      <td>0.732</td>\n",
       "    </tr>\n",
       "    <tr>\n",
       "      <th>2</th>\n",
       "      <td>0.20</td>\n",
       "      <td>0.664</td>\n",
       "    </tr>\n",
       "    <tr>\n",
       "      <th>3</th>\n",
       "      <td>0.30</td>\n",
       "      <td>0.656</td>\n",
       "    </tr>\n",
       "  </tbody>\n",
       "</table>\n",
       "</div>"
      ],
      "text/plain": [
       "   False Positive rate (fixed)  False Negative rate\n",
       "0                         0.10                0.784\n",
       "1                         0.15                0.732\n",
       "2                         0.20                0.664\n",
       "3                         0.30                0.656"
      ]
     },
     "metadata": {},
     "output_type": "display_data"
    }
   ],
   "source": [
    "n_splits = 5\n",
    "\n",
    "y = labels[E_C_idx][\"E/C\"]\n",
    "data_EC = [data[i] for i in np.where(E_C_idx == True)[0]]\n",
    "pos_label = label_to_idx[\"E\"]\n",
    "pipe = SPD_pipeline(tr, 0.1)\n",
    "\n",
    "\n",
    "best_model_EC, grid_cv_svc_EC, grid_cv_lr_EC, grid_cv_mdm_EC, grid_cv_knn_EC = pipe.train_grid_cv(\n",
    "    data_EC, y = y, n_splits=n_splits, n_repeats=5, scoring=scoring, random_state=42, n_jobs=-1, save_models_to = 'models/temp_model')\n",
    "\n",
    "cv = RepeatedStratifiedKFold(n_splits=n_splits, n_repeats=10, random_state=42)\n",
    "X = pipe.get_spd_dataset(data_EC)\n",
    "scores_EC = cross_val_score(best_model_EC, X, np.array(y == pos_label).astype(int), cv=cv, scoring=scoring, n_jobs = -1)\n",
    "print(\"mean =\", scores_EC.mean())\n",
    "print(\"std =\", scores_EC.std())\n",
    "\n",
    "\n",
    "pipe.save_model(best_model_EC, \"models/fmri_rim_EC.pkl\")\n",
    "probas_EC = pipe.repeated_cross_val_predict_proba(best_model_EC, data_EC, y, cv=cv, pos_label=pos_label, file = 'models/rim_EC_prediction.csv')\n",
    "\n",
    "# # average probabilities between repetitions\n",
    "fpr, tpr, t = pipe.plot_roc_curve(y, probas_EC, pos_label, E_C_idx, average_repeats=True)\n",
    "pipe.get_fpr_fnr(fpr, tpr)\n",
    "\n",
    "# # without averaging\n",
    "fpr, tpr, t = pipe.plot_roc_curve(y, probas_EC, pos_label, E_C_idx)\n",
    "pipe.get_fpr_fnr(fpr, tpr)\n",
    "\n",
    "## Delete temp models\n",
    "os.remove('models/temp_model_svc.pkl')\n",
    "os.remove('models/temp_model_lr.pkl')\n",
    "os.remove('models/temp_model_knn.pkl')\n",
    "os.remove('models/temp_model_mdm.pkl')"
   ]
  },
  {
   "cell_type": "markdown",
   "metadata": {},
   "source": [
    "### Depression / Control"
   ]
  },
  {
   "cell_type": "code",
   "execution_count": 7,
   "metadata": {
    "scrolled": false
   },
   "outputs": [
    {
     "name": "stdout",
     "output_type": "stream",
     "text": [
      "Target distribution: \n",
      "0.0    25\n",
      "1.0    25\n",
      "Name: D/C, dtype: int64 \n",
      "\n",
      "loading fitted SVC...\n",
      "\n",
      "loading fitted LR...\n",
      "\n",
      "Training KNN...\n",
      "Fitting 25 folds for each of 12 candidates, totalling 300 fits\n"
     ]
    },
    {
     "name": "stderr",
     "output_type": "stream",
     "text": [
      "[Parallel(n_jobs=-1)]: Done  42 tasks      | elapsed:   34.1s\n",
      "[Parallel(n_jobs=-1)]: Done 192 tasks      | elapsed:  2.5min\n"
     ]
    },
    {
     "name": "stdout",
     "output_type": "stream",
     "text": [
      "(training took 229.3158299922943s)\n",
      "\n",
      "Training MDM...\n",
      "Fitting 25 folds for each of 3 candidates, totalling 75 fits\n"
     ]
    },
    {
     "name": "stderr",
     "output_type": "stream",
     "text": [
      "[Parallel(n_jobs=-1)]: Done 300 out of 300 | elapsed:  3.8min finished\n",
      "[Parallel(n_jobs=-1)]: Done  42 tasks      | elapsed:   16.8s\n",
      "[Parallel(n_jobs=-1)]: Done  75 out of  75 | elapsed:   28.8s finished\n"
     ]
    },
    {
     "name": "stdout",
     "output_type": "stream",
     "text": [
      "(training took 29.74688196182251s)\n",
      "\n",
      "Scoring: roc_auc\n"
     ]
    },
    {
     "data": {
      "text/html": [
       "<div>\n",
       "<style scoped>\n",
       "    .dataframe tbody tr th:only-of-type {\n",
       "        vertical-align: middle;\n",
       "    }\n",
       "\n",
       "    .dataframe tbody tr th {\n",
       "        vertical-align: top;\n",
       "    }\n",
       "\n",
       "    .dataframe thead th {\n",
       "        text-align: right;\n",
       "    }\n",
       "</style>\n",
       "<table border=\"1\" class=\"dataframe\">\n",
       "  <thead>\n",
       "    <tr style=\"text-align: right;\">\n",
       "      <th></th>\n",
       "      <th>best parameters</th>\n",
       "      <th>mean</th>\n",
       "      <th>std</th>\n",
       "    </tr>\n",
       "    <tr>\n",
       "      <th>classifier</th>\n",
       "      <th></th>\n",
       "      <th></th>\n",
       "      <th></th>\n",
       "    </tr>\n",
       "  </thead>\n",
       "  <tbody>\n",
       "    <tr>\n",
       "      <th>SVC</th>\n",
       "      <td>clf__C = 0.0001, clf__gamma = 0.0001, clf__ker...</td>\n",
       "      <td>0.5000</td>\n",
       "      <td>0.000000</td>\n",
       "    </tr>\n",
       "    <tr>\n",
       "      <th>LR</th>\n",
       "      <td>clf__C = 1, metric = riemann</td>\n",
       "      <td>0.5888</td>\n",
       "      <td>0.231729</td>\n",
       "    </tr>\n",
       "    <tr>\n",
       "      <th>KNN</th>\n",
       "      <td>metric = riemann, n_neighbors = 5</td>\n",
       "      <td>0.5280</td>\n",
       "      <td>0.181373</td>\n",
       "    </tr>\n",
       "    <tr>\n",
       "      <th>MDM</th>\n",
       "      <td>metric = riemann</td>\n",
       "      <td>0.5760</td>\n",
       "      <td>0.226839</td>\n",
       "    </tr>\n",
       "  </tbody>\n",
       "</table>\n",
       "</div>"
      ],
      "text/plain": [
       "                                              best parameters    mean  \\\n",
       "classifier                                                              \n",
       "SVC         clf__C = 0.0001, clf__gamma = 0.0001, clf__ker...  0.5000   \n",
       "LR                               clf__C = 1, metric = riemann  0.5888   \n",
       "KNN                         metric = riemann, n_neighbors = 5  0.5280   \n",
       "MDM                                          metric = riemann  0.5760   \n",
       "\n",
       "                 std  \n",
       "classifier            \n",
       "SVC         0.000000  \n",
       "LR          0.231729  \n",
       "KNN         0.181373  \n",
       "MDM         0.226839  "
      ]
     },
     "metadata": {},
     "output_type": "display_data"
    },
    {
     "data": {
      "image/png": "[encoded data removed]",
      "text/plain": [
       "<matplotlib.figure.Figure at 0x115e34cc0>"
      ]
     },
     "metadata": {},
     "output_type": "display_data"
    },
    {
     "name": "stdout",
     "output_type": "stream",
     "text": [
      "Best model: \n",
      "LR\n",
      "clf__C = 1\n",
      "metric = riemann\n",
      "mean = 0.5872\n",
      "std = 0.19975024405491976\n"
     ]
    },
    {
     "data": {
      "application/vnd.jupyter.widget-view+json": {
       "model_id": "a05d883d709e4a20bb228e4e358ad1c0",
       "version_major": 2,
       "version_minor": 0
      },
      "text/html": [
       "<p>Failed to display Jupyter Widget of type <code>HBox</code>.</p>\n",
       "<p>\n",
       "  If you're reading this message in the Jupyter Notebook or JupyterLab Notebook, it may mean\n",
       "  that the widgets JavaScript is still loading. If this message persists, it\n",
       "  likely means that the widgets JavaScript library is either not installed or\n",
       "  not enabled. See the <a href=\"https://ipywidgets.readthedocs.io/en/stable/user_install.html\">Jupyter\n",
       "  Widgets Documentation</a> for setup instructions.\n",
       "</p>\n",
       "<p>\n",
       "  If you're reading this message in another frontend (for example, a static\n",
       "  rendering on GitHub or <a href=\"https://nbviewer.jupyter.org/\">NBViewer</a>),\n",
       "  it may mean that your frontend doesn't currently support widgets.\n",
       "</p>\n"
      ],
      "text/plain": [
       "HBox(children=(IntProgress(value=1, bar_style='info', max=1), HTML(value='')))"
      ]
     },
     "metadata": {},
     "output_type": "display_data"
    },
    {
     "name": "stdout",
     "output_type": "stream",
     "text": [
      "\n"
     ]
    },
    {
     "data": {
      "image/png": "[encoded data removed]",
      "text/plain": [
       "<matplotlib.figure.Figure at 0x10ed71358>"
      ]
     },
     "metadata": {},
     "output_type": "display_data"
    },
    {
     "name": "stdout",
     "output_type": "stream",
     "text": [
      "auc = 0.5824\n"
     ]
    },
    {
     "data": {
      "text/html": [
       "<div>\n",
       "<style scoped>\n",
       "    .dataframe tbody tr th:only-of-type {\n",
       "        vertical-align: middle;\n",
       "    }\n",
       "\n",
       "    .dataframe tbody tr th {\n",
       "        vertical-align: top;\n",
       "    }\n",
       "\n",
       "    .dataframe thead th {\n",
       "        text-align: right;\n",
       "    }\n",
       "</style>\n",
       "<table border=\"1\" class=\"dataframe\">\n",
       "  <thead>\n",
       "    <tr style=\"text-align: right;\">\n",
       "      <th></th>\n",
       "      <th>False Positive rate (fixed)</th>\n",
       "      <th>False Negative rate</th>\n",
       "    </tr>\n",
       "  </thead>\n",
       "  <tbody>\n",
       "    <tr>\n",
       "      <th>0</th>\n",
       "      <td>0.10</td>\n",
       "      <td>0.96</td>\n",
       "    </tr>\n",
       "    <tr>\n",
       "      <th>1</th>\n",
       "      <td>0.15</td>\n",
       "      <td>0.88</td>\n",
       "    </tr>\n",
       "    <tr>\n",
       "      <th>2</th>\n",
       "      <td>0.20</td>\n",
       "      <td>0.80</td>\n",
       "    </tr>\n",
       "    <tr>\n",
       "      <th>3</th>\n",
       "      <td>0.30</td>\n",
       "      <td>0.72</td>\n",
       "    </tr>\n",
       "  </tbody>\n",
       "</table>\n",
       "</div>"
      ],
      "text/plain": [
       "   False Positive rate (fixed)  False Negative rate\n",
       "0                         0.10                 0.96\n",
       "1                         0.15                 0.88\n",
       "2                         0.20                 0.80\n",
       "3                         0.30                 0.72"
      ]
     },
     "metadata": {},
     "output_type": "display_data"
    },
    {
     "data": {
      "image/png": "[encoded data removed]",
      "text/plain": [
       "<matplotlib.figure.Figure at 0x115dce240>"
      ]
     },
     "metadata": {},
     "output_type": "display_data"
    },
    {
     "name": "stdout",
     "output_type": "stream",
     "text": [
      "auc = 0.578384\n"
     ]
    },
    {
     "data": {
      "text/html": [
       "<div>\n",
       "<style scoped>\n",
       "    .dataframe tbody tr th:only-of-type {\n",
       "        vertical-align: middle;\n",
       "    }\n",
       "\n",
       "    .dataframe tbody tr th {\n",
       "        vertical-align: top;\n",
       "    }\n",
       "\n",
       "    .dataframe thead th {\n",
       "        text-align: right;\n",
       "    }\n",
       "</style>\n",
       "<table border=\"1\" class=\"dataframe\">\n",
       "  <thead>\n",
       "    <tr style=\"text-align: right;\">\n",
       "      <th></th>\n",
       "      <th>False Positive rate (fixed)</th>\n",
       "      <th>False Negative rate</th>\n",
       "    </tr>\n",
       "  </thead>\n",
       "  <tbody>\n",
       "    <tr>\n",
       "      <th>0</th>\n",
       "      <td>0.10</td>\n",
       "      <td>0.928</td>\n",
       "    </tr>\n",
       "    <tr>\n",
       "      <th>1</th>\n",
       "      <td>0.15</td>\n",
       "      <td>0.868</td>\n",
       "    </tr>\n",
       "    <tr>\n",
       "      <th>2</th>\n",
       "      <td>0.20</td>\n",
       "      <td>0.796</td>\n",
       "    </tr>\n",
       "    <tr>\n",
       "      <th>3</th>\n",
       "      <td>0.30</td>\n",
       "      <td>0.676</td>\n",
       "    </tr>\n",
       "  </tbody>\n",
       "</table>\n",
       "</div>"
      ],
      "text/plain": [
       "   False Positive rate (fixed)  False Negative rate\n",
       "0                         0.10                0.928\n",
       "1                         0.15                0.868\n",
       "2                         0.20                0.796\n",
       "3                         0.30                0.676"
      ]
     },
     "metadata": {},
     "output_type": "display_data"
    }
   ],
   "source": [
    "# 0.57\n",
    "n_splits = 5\n",
    "\n",
    "y = labels[D_C_idx][\"D/C\"]\n",
    "data_DC = [data[i] for i in np.where(D_C_idx == True)[0]]\n",
    "pos_label = label_to_idx[\"D\"]\n",
    "pipe = SPD_pipeline(tr, 0.1)\n",
    "\n",
    "\n",
    "best_model_DC, grid_cv_svc_DC, grid_cv_lr_DC, grid_cv_mdm_DC, grid_cv_knn_DC = pipe.train_grid_cv(\n",
    "    data_DC, y = y, n_splits=n_splits, n_repeats=5, scoring=scoring, random_state=42, n_jobs=-1, save_models_to = 'models/temp_model')\n",
    "\n",
    "\n",
    "cv = RepeatedStratifiedKFold(n_splits=n_splits, n_repeats=10, random_state=42)\n",
    "X = pipe.get_spd_dataset(data_DC)\n",
    "scores_DC = cross_val_score(best_model_DC, X, np.array(y == pos_label).astype(int), cv=cv, scoring=scoring, n_jobs = -1)\n",
    "print(\"mean =\", scores_DC.mean())\n",
    "print(\"std =\", scores_DC.std())\n",
    "\n",
    "\n",
    "pipe.save_model(best_model_DC, \"models/fmri_rim_DC.pkl\")\n",
    "probas_DC = pipe.repeated_cross_val_predict_proba(best_model_DC, data_DC, y, cv=cv, pos_label=pos_label, file = 'models/rim_DC_prediction.csv')\n",
    "\n",
    "# # average probabilities between repetitions\n",
    "fpr, tpr, t = pipe.plot_roc_curve(y, probas_DC, pos_label, D_C_idx, average_repeats=True)\n",
    "pipe.get_fpr_fnr(fpr, tpr)\n",
    "\n",
    "# # without averaging\n",
    "fpr, tpr, t = pipe.plot_roc_curve(y, probas_DC, pos_label, D_C_idx)\n",
    "pipe.get_fpr_fnr(fpr, tpr)\n",
    "                           \n",
    "## Delete temp models\n",
    "os.remove('models/temp_model_svc.pkl')\n",
    "os.remove('models/temp_model_lr.pkl')\n",
    "os.remove('models/temp_model_knn.pkl')\n",
    "os.remove('models/temp_model_mdm.pkl')"
   ]
  },
  {
   "cell_type": "markdown",
   "metadata": {},
   "source": [
    "### TLE / no Epilepsy"
   ]
  },
  {
   "cell_type": "code",
   "execution_count": 7,
   "metadata": {},
   "outputs": [
    {
     "name": "stdout",
     "output_type": "stream",
     "text": [
      "Target distribution: \n",
      "4.0    50\n",
      "6.0    30\n",
      "Name: TLE/no E, dtype: int64 \n",
      "\n",
      "loading fitted SVC...\n",
      "\n",
      "loading fitted LR...\n",
      "\n",
      "Training KNN...\n",
      "Fitting 25 folds for each of 15 candidates, totalling 375 fits\n"
     ]
    },
    {
     "name": "stderr",
     "output_type": "stream",
     "text": [
      "[Parallel(n_jobs=-1)]: Done  42 tasks      | elapsed:  1.3min\n",
      "[Parallel(n_jobs=-1)]: Done 192 tasks      | elapsed:  5.8min\n"
     ]
    },
    {
     "name": "stdout",
     "output_type": "stream",
     "text": [
      "(training took 690.8119978904724s)\n",
      "\n",
      "Training MDM...\n",
      "Fitting 25 folds for each of 3 candidates, totalling 75 fits\n"
     ]
    },
    {
     "name": "stderr",
     "output_type": "stream",
     "text": [
      "[Parallel(n_jobs=-1)]: Done 375 out of 375 | elapsed: 11.5min finished\n",
      "[Parallel(n_jobs=-1)]: Done  42 tasks      | elapsed:   24.4s\n",
      "[Parallel(n_jobs=-1)]: Done  75 out of  75 | elapsed:   41.0s finished\n"
     ]
    },
    {
     "name": "stdout",
     "output_type": "stream",
     "text": [
      "(training took 42.39732122421265s)\n",
      "\n",
      "Scoring: roc_auc\n"
     ]
    },
    {
     "data": {
      "text/html": [
       "<div>\n",
       "<style scoped>\n",
       "    .dataframe tbody tr th:only-of-type {\n",
       "        vertical-align: middle;\n",
       "    }\n",
       "\n",
       "    .dataframe tbody tr th {\n",
       "        vertical-align: top;\n",
       "    }\n",
       "\n",
       "    .dataframe thead th {\n",
       "        text-align: right;\n",
       "    }\n",
       "</style>\n",
       "<table border=\"1\" class=\"dataframe\">\n",
       "  <thead>\n",
       "    <tr style=\"text-align: right;\">\n",
       "      <th></th>\n",
       "      <th>best parameters</th>\n",
       "      <th>mean</th>\n",
       "      <th>std</th>\n",
       "    </tr>\n",
       "    <tr>\n",
       "      <th>classifier</th>\n",
       "      <th></th>\n",
       "      <th></th>\n",
       "      <th></th>\n",
       "    </tr>\n",
       "  </thead>\n",
       "  <tbody>\n",
       "    <tr>\n",
       "      <th>SVC</th>\n",
       "      <td>clf__C = 100, clf__gamma = 1, clf__kernel = rb...</td>\n",
       "      <td>0.519333</td>\n",
       "      <td>0.160463</td>\n",
       "    </tr>\n",
       "    <tr>\n",
       "      <th>LR</th>\n",
       "      <td>clf__C = 1, metric = euclid</td>\n",
       "      <td>0.526000</td>\n",
       "      <td>0.129879</td>\n",
       "    </tr>\n",
       "    <tr>\n",
       "      <th>KNN</th>\n",
       "      <td>metric = riemann, n_neighbors = 5</td>\n",
       "      <td>0.529333</td>\n",
       "      <td>0.135342</td>\n",
       "    </tr>\n",
       "    <tr>\n",
       "      <th>MDM</th>\n",
       "      <td>metric = riemann</td>\n",
       "      <td>0.452667</td>\n",
       "      <td>0.154105</td>\n",
       "    </tr>\n",
       "  </tbody>\n",
       "</table>\n",
       "</div>"
      ],
      "text/plain": [
       "                                              best parameters      mean  \\\n",
       "classifier                                                                \n",
       "SVC         clf__C = 100, clf__gamma = 1, clf__kernel = rb...  0.519333   \n",
       "LR                                clf__C = 1, metric = euclid  0.526000   \n",
       "KNN                         metric = riemann, n_neighbors = 5  0.529333   \n",
       "MDM                                          metric = riemann  0.452667   \n",
       "\n",
       "                 std  \n",
       "classifier            \n",
       "SVC         0.160463  \n",
       "LR          0.129879  \n",
       "KNN         0.135342  \n",
       "MDM         0.154105  "
      ]
     },
     "metadata": {},
     "output_type": "display_data"
    },
    {
     "data": {
      "image/png": "[encoded data removed]",
      "text/plain": [
       "<matplotlib.figure.Figure at 0x1136dce48>"
      ]
     },
     "metadata": {},
     "output_type": "display_data"
    },
    {
     "name": "stdout",
     "output_type": "stream",
     "text": [
      "Best model: \n",
      "KNN\n",
      "metric = riemann\n",
      "n_neighbors = 5\n",
      "mean = 0.535\n",
      "std = 0.13246592853342412\n"
     ]
    },
    {
     "data": {
      "application/vnd.jupyter.widget-view+json": {
       "model_id": "02e07d28840e44938c42ca5b9cc966dd",
       "version_major": 2,
       "version_minor": 0
      },
      "text/html": [
       "<p>Failed to display Jupyter Widget of type <code>HBox</code>.</p>\n",
       "<p>\n",
       "  If you're reading this message in the Jupyter Notebook or JupyterLab Notebook, it may mean\n",
       "  that the widgets JavaScript is still loading. If this message persists, it\n",
       "  likely means that the widgets JavaScript library is either not installed or\n",
       "  not enabled. See the <a href=\"https://ipywidgets.readthedocs.io/en/stable/user_install.html\">Jupyter\n",
       "  Widgets Documentation</a> for setup instructions.\n",
       "</p>\n",
       "<p>\n",
       "  If you're reading this message in another frontend (for example, a static\n",
       "  rendering on GitHub or <a href=\"https://nbviewer.jupyter.org/\">NBViewer</a>),\n",
       "  it may mean that your frontend doesn't currently support widgets.\n",
       "</p>\n"
      ],
      "text/plain": [
       "HBox(children=(IntProgress(value=1, bar_style='info', max=1), HTML(value='')))"
      ]
     },
     "metadata": {},
     "output_type": "display_data"
    },
    {
     "name": "stdout",
     "output_type": "stream",
     "text": [
      "\n"
     ]
    },
    {
     "data": {
      "image/png": "[encoded data removed]",
      "text/plain": [
       "<matplotlib.figure.Figure at 0x11432aa20>"
      ]
     },
     "metadata": {},
     "output_type": "display_data"
    },
    {
     "name": "stdout",
     "output_type": "stream",
     "text": [
      "auc = 0.604\n"
     ]
    },
    {
     "data": {
      "text/html": [
       "<div>\n",
       "<style scoped>\n",
       "    .dataframe tbody tr th:only-of-type {\n",
       "        vertical-align: middle;\n",
       "    }\n",
       "\n",
       "    .dataframe tbody tr th {\n",
       "        vertical-align: top;\n",
       "    }\n",
       "\n",
       "    .dataframe thead th {\n",
       "        text-align: right;\n",
       "    }\n",
       "</style>\n",
       "<table border=\"1\" class=\"dataframe\">\n",
       "  <thead>\n",
       "    <tr style=\"text-align: right;\">\n",
       "      <th></th>\n",
       "      <th>False Positive rate (fixed)</th>\n",
       "      <th>False Negative rate</th>\n",
       "    </tr>\n",
       "  </thead>\n",
       "  <tbody>\n",
       "    <tr>\n",
       "      <th>0</th>\n",
       "      <td>0.10</td>\n",
       "      <td>0.800000</td>\n",
       "    </tr>\n",
       "    <tr>\n",
       "      <th>1</th>\n",
       "      <td>0.15</td>\n",
       "      <td>0.666667</td>\n",
       "    </tr>\n",
       "    <tr>\n",
       "      <th>2</th>\n",
       "      <td>0.20</td>\n",
       "      <td>0.633333</td>\n",
       "    </tr>\n",
       "    <tr>\n",
       "      <th>3</th>\n",
       "      <td>0.30</td>\n",
       "      <td>0.466667</td>\n",
       "    </tr>\n",
       "  </tbody>\n",
       "</table>\n",
       "</div>"
      ],
      "text/plain": [
       "   False Positive rate (fixed)  False Negative rate\n",
       "0                         0.10             0.800000\n",
       "1                         0.15             0.666667\n",
       "2                         0.20             0.633333\n",
       "3                         0.30             0.466667"
      ]
     },
     "metadata": {},
     "output_type": "display_data"
    },
    {
     "data": {
      "image/png": "[encoded data removed]",
      "text/plain": [
       "<matplotlib.figure.Figure at 0x113701550>"
      ]
     },
     "metadata": {},
     "output_type": "display_data"
    },
    {
     "name": "stdout",
     "output_type": "stream",
     "text": [
      "auc = 0.5444666666666667\n"
     ]
    },
    {
     "data": {
      "text/html": [
       "<div>\n",
       "<style scoped>\n",
       "    .dataframe tbody tr th:only-of-type {\n",
       "        vertical-align: middle;\n",
       "    }\n",
       "\n",
       "    .dataframe tbody tr th {\n",
       "        vertical-align: top;\n",
       "    }\n",
       "\n",
       "    .dataframe thead th {\n",
       "        text-align: right;\n",
       "    }\n",
       "</style>\n",
       "<table border=\"1\" class=\"dataframe\">\n",
       "  <thead>\n",
       "    <tr style=\"text-align: right;\">\n",
       "      <th></th>\n",
       "      <th>False Positive rate (fixed)</th>\n",
       "      <th>False Negative rate</th>\n",
       "    </tr>\n",
       "  </thead>\n",
       "  <tbody>\n",
       "    <tr>\n",
       "      <th>0</th>\n",
       "      <td>0.10</td>\n",
       "      <td>0.803333</td>\n",
       "    </tr>\n",
       "    <tr>\n",
       "      <th>1</th>\n",
       "      <td>0.15</td>\n",
       "      <td>0.713333</td>\n",
       "    </tr>\n",
       "    <tr>\n",
       "      <th>2</th>\n",
       "      <td>0.20</td>\n",
       "      <td>0.656667</td>\n",
       "    </tr>\n",
       "    <tr>\n",
       "      <th>3</th>\n",
       "      <td>0.30</td>\n",
       "      <td>0.600000</td>\n",
       "    </tr>\n",
       "  </tbody>\n",
       "</table>\n",
       "</div>"
      ],
      "text/plain": [
       "   False Positive rate (fixed)  False Negative rate\n",
       "0                         0.10             0.803333\n",
       "1                         0.15             0.713333\n",
       "2                         0.20             0.656667\n",
       "3                         0.30             0.600000"
      ]
     },
     "metadata": {},
     "output_type": "display_data"
    }
   ],
   "source": [
    "n_splits = 5\n",
    "\n",
    "y = labels[TLE_noE_idx][\"TLE/no E\"]\n",
    "data_TLE_noE = [data[i] for i in np.where(TLE_noE_idx == True)[0]]\n",
    "pos_label = label_to_idx[\"TLE\"]\n",
    "pipe = SPD_pipeline(tr, 0.1)\n",
    "\n",
    "\n",
    "best_model_TLE_noE, grid_cv_svc_TLE_noE, grid_cv_lr_TLE_noE, grid_cv_mdm_TLE_noE, grid_cv_knn_TLE_noE = pipe.train_grid_cv(\n",
    "    data_TLE_noE, y = y, n_splits=n_splits, n_repeats=5, scoring=scoring, random_state=42, n_jobs=-1, save_models_to = 'models/temp_model')\n",
    "\n",
    "\n",
    "cv = RepeatedStratifiedKFold(n_splits=n_splits, n_repeats=10, random_state=42)\n",
    "X = pipe.get_spd_dataset(data_TLE_noE)\n",
    "scores_TLE_noE = cross_val_score(best_model_TLE_noE, X, np.array(y == pos_label).astype(int), cv=cv, scoring=scoring, n_jobs = -1)\n",
    "print(\"mean =\", scores_TLE_noE.mean())\n",
    "print(\"std =\", scores_TLE_noE.std())\n",
    "\n",
    "\n",
    "pipe.save_model(best_model_TLE_noE, \"models/fmri_rim_TLE_noE.pkl\")\n",
    "probas_TLE_noE = pipe.repeated_cross_val_predict_proba(best_model_TLE_noE, data_TLE_noE, y, cv=cv, pos_label=pos_label, file = 'models/rim_TLE_noE_prediction.csv')\n",
    "\n",
    "# # average probabilities between repetitions\n",
    "fpr, tpr, t = pipe.plot_roc_curve(y, probas_TLE_noE, pos_label, TLE_noE_idx, average_repeats=True)\n",
    "pipe.get_fpr_fnr(fpr, tpr)\n",
    "\n",
    "# # without averaging\n",
    "fpr, tpr, t = pipe.plot_roc_curve(y, probas_TLE_noE, pos_label, TLE_noE_idx)\n",
    "pipe.get_fpr_fnr(fpr, tpr)\n",
    "                           \n",
    "## Delete temp models\n",
    "os.remove('models/temp_model_svc.pkl')\n",
    "os.remove('models/temp_model_lr.pkl')\n",
    "os.remove('models/temp_model_knn.pkl')\n",
    "os.remove('models/temp_model_mdm.pkl')"
   ]
  },
  {
   "cell_type": "markdown",
   "metadata": {},
   "source": [
    "### TLE / Control"
   ]
  },
  {
   "cell_type": "code",
   "execution_count": 7,
   "metadata": {},
   "outputs": [
    {
     "name": "stdout",
     "output_type": "stream",
     "text": [
      "Target distribution: \n",
      "6.0    30\n",
      "0.0    25\n",
      "Name: TLE/C, dtype: int64 \n",
      "\n",
      "loading fitted SVC...\n",
      "\n",
      "loading fitted LR...\n",
      "\n",
      "Training KNN...\n",
      "Fitting 25 folds for each of 12 candidates, totalling 300 fits\n"
     ]
    },
    {
     "name": "stderr",
     "output_type": "stream",
     "text": [
      "[Parallel(n_jobs=-1)]: Done  42 tasks      | elapsed:   43.0s\n",
      "[Parallel(n_jobs=-1)]: Done 192 tasks      | elapsed:  3.1min\n",
      "[Parallel(n_jobs=-1)]: Done 300 out of 300 | elapsed:  4.8min finished\n"
     ]
    },
    {
     "name": "stdout",
     "output_type": "stream",
     "text": [
      "(training took 289.2101819515228s)\n",
      "\n",
      "Training MDM...\n",
      "Fitting 25 folds for each of 3 candidates, totalling 75 fits\n"
     ]
    },
    {
     "name": "stderr",
     "output_type": "stream",
     "text": [
      "[Parallel(n_jobs=-1)]: Done  42 tasks      | elapsed:   19.9s\n",
      "[Parallel(n_jobs=-1)]: Done  75 out of  75 | elapsed:   33.5s finished\n"
     ]
    },
    {
     "name": "stdout",
     "output_type": "stream",
     "text": [
      "(training took 34.69174599647522s)\n",
      "\n",
      "Scoring: roc_auc\n"
     ]
    },
    {
     "data": {
      "text/html": [
       "<div>\n",
       "<style scoped>\n",
       "    .dataframe tbody tr th:only-of-type {\n",
       "        vertical-align: middle;\n",
       "    }\n",
       "\n",
       "    .dataframe tbody tr th {\n",
       "        vertical-align: top;\n",
       "    }\n",
       "\n",
       "    .dataframe thead th {\n",
       "        text-align: right;\n",
       "    }\n",
       "</style>\n",
       "<table border=\"1\" class=\"dataframe\">\n",
       "  <thead>\n",
       "    <tr style=\"text-align: right;\">\n",
       "      <th></th>\n",
       "      <th>best parameters</th>\n",
       "      <th>mean</th>\n",
       "      <th>std</th>\n",
       "    </tr>\n",
       "    <tr>\n",
       "      <th>classifier</th>\n",
       "      <th></th>\n",
       "      <th></th>\n",
       "      <th></th>\n",
       "    </tr>\n",
       "  </thead>\n",
       "  <tbody>\n",
       "    <tr>\n",
       "      <th>SVC</th>\n",
       "      <td>clf__C = 1, clf__gamma = 1, clf__kernel = rbf,...</td>\n",
       "      <td>0.566667</td>\n",
       "      <td>0.150481</td>\n",
       "    </tr>\n",
       "    <tr>\n",
       "      <th>LR</th>\n",
       "      <td>clf__C = 1, metric = euclid</td>\n",
       "      <td>0.496000</td>\n",
       "      <td>0.179461</td>\n",
       "    </tr>\n",
       "    <tr>\n",
       "      <th>KNN</th>\n",
       "      <td>metric = riemann, n_neighbors = 5</td>\n",
       "      <td>0.508000</td>\n",
       "      <td>0.140564</td>\n",
       "    </tr>\n",
       "    <tr>\n",
       "      <th>MDM</th>\n",
       "      <td>metric = riemann</td>\n",
       "      <td>0.446667</td>\n",
       "      <td>0.191137</td>\n",
       "    </tr>\n",
       "  </tbody>\n",
       "</table>\n",
       "</div>"
      ],
      "text/plain": [
       "                                              best parameters      mean  \\\n",
       "classifier                                                                \n",
       "SVC         clf__C = 1, clf__gamma = 1, clf__kernel = rbf,...  0.566667   \n",
       "LR                                clf__C = 1, metric = euclid  0.496000   \n",
       "KNN                         metric = riemann, n_neighbors = 5  0.508000   \n",
       "MDM                                          metric = riemann  0.446667   \n",
       "\n",
       "                 std  \n",
       "classifier            \n",
       "SVC         0.150481  \n",
       "LR          0.179461  \n",
       "KNN         0.140564  \n",
       "MDM         0.191137  "
      ]
     },
     "metadata": {},
     "output_type": "display_data"
    },
    {
     "data": {
      "image/png": "[encoded data removed]",
      "text/plain": [
       "<matplotlib.figure.Figure at 0x1106ee400>"
      ]
     },
     "metadata": {},
     "output_type": "display_data"
    },
    {
     "name": "stdout",
     "output_type": "stream",
     "text": [
      "Best model: \n",
      "SVC\n",
      "clf__C = 1\n",
      "clf__gamma = 1\n",
      "clf__kernel = rbf\n",
      "metric = riemann\n",
      "mean = 0.5523333333333333\n",
      "std = 0.13572889645662536\n"
     ]
    },
    {
     "data": {
      "application/vnd.jupyter.widget-view+json": {
       "model_id": "55216a1abdc84d5881d4ae77a0c34631",
       "version_major": 2,
       "version_minor": 0
      },
      "text/html": [
       "<p>Failed to display Jupyter Widget of type <code>HBox</code>.</p>\n",
       "<p>\n",
       "  If you're reading this message in the Jupyter Notebook or JupyterLab Notebook, it may mean\n",
       "  that the widgets JavaScript is still loading. If this message persists, it\n",
       "  likely means that the widgets JavaScript library is either not installed or\n",
       "  not enabled. See the <a href=\"https://ipywidgets.readthedocs.io/en/stable/user_install.html\">Jupyter\n",
       "  Widgets Documentation</a> for setup instructions.\n",
       "</p>\n",
       "<p>\n",
       "  If you're reading this message in another frontend (for example, a static\n",
       "  rendering on GitHub or <a href=\"https://nbviewer.jupyter.org/\">NBViewer</a>),\n",
       "  it may mean that your frontend doesn't currently support widgets.\n",
       "</p>\n"
      ],
      "text/plain": [
       "HBox(children=(IntProgress(value=1, bar_style='info', max=1), HTML(value='')))"
      ]
     },
     "metadata": {},
     "output_type": "display_data"
    },
    {
     "name": "stdout",
     "output_type": "stream",
     "text": [
      "\n"
     ]
    },
    {
     "data": {
      "image/png": "[encoded data removed]",
      "text/plain": [
       "<matplotlib.figure.Figure at 0x11928bb38>"
      ]
     },
     "metadata": {},
     "output_type": "display_data"
    },
    {
     "name": "stdout",
     "output_type": "stream",
     "text": [
      "auc = 0.5706666666666667\n"
     ]
    },
    {
     "data": {
      "text/html": [
       "<div>\n",
       "<style scoped>\n",
       "    .dataframe tbody tr th:only-of-type {\n",
       "        vertical-align: middle;\n",
       "    }\n",
       "\n",
       "    .dataframe tbody tr th {\n",
       "        vertical-align: top;\n",
       "    }\n",
       "\n",
       "    .dataframe thead th {\n",
       "        text-align: right;\n",
       "    }\n",
       "</style>\n",
       "<table border=\"1\" class=\"dataframe\">\n",
       "  <thead>\n",
       "    <tr style=\"text-align: right;\">\n",
       "      <th></th>\n",
       "      <th>False Positive rate (fixed)</th>\n",
       "      <th>False Negative rate</th>\n",
       "    </tr>\n",
       "  </thead>\n",
       "  <tbody>\n",
       "    <tr>\n",
       "      <th>0</th>\n",
       "      <td>0.10</td>\n",
       "      <td>0.600000</td>\n",
       "    </tr>\n",
       "    <tr>\n",
       "      <th>1</th>\n",
       "      <td>0.15</td>\n",
       "      <td>0.600000</td>\n",
       "    </tr>\n",
       "    <tr>\n",
       "      <th>2</th>\n",
       "      <td>0.20</td>\n",
       "      <td>0.566667</td>\n",
       "    </tr>\n",
       "    <tr>\n",
       "      <th>3</th>\n",
       "      <td>0.30</td>\n",
       "      <td>0.500000</td>\n",
       "    </tr>\n",
       "  </tbody>\n",
       "</table>\n",
       "</div>"
      ],
      "text/plain": [
       "   False Positive rate (fixed)  False Negative rate\n",
       "0                         0.10             0.600000\n",
       "1                         0.15             0.600000\n",
       "2                         0.20             0.566667\n",
       "3                         0.30             0.500000"
      ]
     },
     "metadata": {},
     "output_type": "display_data"
    },
    {
     "data": {
      "image/png": "[encoded data removed]",
      "text/plain": [
       "<matplotlib.figure.Figure at 0x110259400>"
      ]
     },
     "metadata": {},
     "output_type": "display_data"
    },
    {
     "name": "stdout",
     "output_type": "stream",
     "text": [
      "auc = 0.55504\n"
     ]
    },
    {
     "data": {
      "text/html": [
       "<div>\n",
       "<style scoped>\n",
       "    .dataframe tbody tr th:only-of-type {\n",
       "        vertical-align: middle;\n",
       "    }\n",
       "\n",
       "    .dataframe tbody tr th {\n",
       "        vertical-align: top;\n",
       "    }\n",
       "\n",
       "    .dataframe thead th {\n",
       "        text-align: right;\n",
       "    }\n",
       "</style>\n",
       "<table border=\"1\" class=\"dataframe\">\n",
       "  <thead>\n",
       "    <tr style=\"text-align: right;\">\n",
       "      <th></th>\n",
       "      <th>False Positive rate (fixed)</th>\n",
       "      <th>False Negative rate</th>\n",
       "    </tr>\n",
       "  </thead>\n",
       "  <tbody>\n",
       "    <tr>\n",
       "      <th>0</th>\n",
       "      <td>0.10</td>\n",
       "      <td>0.733333</td>\n",
       "    </tr>\n",
       "    <tr>\n",
       "      <th>1</th>\n",
       "      <td>0.15</td>\n",
       "      <td>0.690000</td>\n",
       "    </tr>\n",
       "    <tr>\n",
       "      <th>2</th>\n",
       "      <td>0.20</td>\n",
       "      <td>0.633333</td>\n",
       "    </tr>\n",
       "    <tr>\n",
       "      <th>3</th>\n",
       "      <td>0.30</td>\n",
       "      <td>0.533333</td>\n",
       "    </tr>\n",
       "  </tbody>\n",
       "</table>\n",
       "</div>"
      ],
      "text/plain": [
       "   False Positive rate (fixed)  False Negative rate\n",
       "0                         0.10             0.733333\n",
       "1                         0.15             0.690000\n",
       "2                         0.20             0.633333\n",
       "3                         0.30             0.533333"
      ]
     },
     "metadata": {},
     "output_type": "display_data"
    }
   ],
   "source": [
    "n_splits = 5\n",
    "\n",
    "y = labels[TLE_C_idx][\"TLE/C\"]\n",
    "data_TLE_C = [data[i] for i in np.where(TLE_C_idx == True)[0]]\n",
    "pos_label = label_to_idx[\"TLE\"]\n",
    "pipe = SPD_pipeline(tr, 0.1)\n",
    "\n",
    "\n",
    "best_model_TLE_C, grid_cv_svc_TLE_C, grid_cv_lr_TLE_C, grid_cv_mdm_TLE_C, grid_cv_knn_TLE_C = pipe.train_grid_cv(\n",
    "    data_TLE_C, y = y, n_splits=n_splits, n_repeats=5, scoring=scoring, random_state=42, n_jobs=-1, save_models_to = 'models/temp_model')\n",
    "\n",
    "\n",
    "cv = RepeatedStratifiedKFold(n_splits=n_splits, n_repeats=10, random_state=42)\n",
    "X = pipe.get_spd_dataset(data_TLE_C)\n",
    "scores_TLE_C = cross_val_score(best_model_TLE_C, X, np.array(y == pos_label).astype(int), cv=cv, scoring=scoring, n_jobs = -1)\n",
    "print(\"mean =\", scores_TLE_C.mean())\n",
    "print(\"std =\", scores_TLE_C.std())\n",
    "\n",
    "\n",
    "pipe.save_model(best_model_TLE_C, \"models/fmri_rim_TLE_C.pkl\")\n",
    "probas_TLE_C = pipe.repeated_cross_val_predict_proba(best_model_TLE_C, data_TLE_C, y, cv=cv, pos_label=pos_label, file = 'models/rim_TLE_C_prediction.csv')\n",
    "\n",
    "# # average probabilities between repetitions\n",
    "fpr, tpr, t = pipe.plot_roc_curve(y, probas_TLE_C, pos_label, TLE_C_idx, average_repeats=True)\n",
    "pipe.get_fpr_fnr(fpr, tpr)\n",
    "\n",
    "# # without averaging\n",
    "fpr, tpr, t = pipe.plot_roc_curve(y, probas_TLE_C, pos_label, TLE_C_idx)\n",
    "pipe.get_fpr_fnr(fpr, tpr)\n",
    "                           \n",
    "## Delete temp models\n",
    "os.remove('models/temp_model_svc.pkl')\n",
    "os.remove('models/temp_model_lr.pkl')\n",
    "os.remove('models/temp_model_knn.pkl')\n",
    "os.remove('models/temp_model_mdm.pkl')"
   ]
  },
  {
   "cell_type": "markdown",
   "metadata": {},
   "source": [
    "### Depression with epilepsy / Epilepsy"
   ]
  },
  {
   "cell_type": "code",
   "execution_count": 7,
   "metadata": {},
   "outputs": [
    {
     "name": "stdout",
     "output_type": "stream",
     "text": [
      "Target distribution: \n",
      "3.0    25\n",
      "2.0    25\n",
      "Name: DE/E, dtype: int64 \n",
      "\n",
      "loading fitted SVC...\n",
      "\n",
      "loading fitted LR...\n",
      "\n",
      "Training KNN...\n",
      "Fitting 25 folds for each of 12 candidates, totalling 300 fits\n"
     ]
    },
    {
     "name": "stderr",
     "output_type": "stream",
     "text": [
      "[Parallel(n_jobs=-1)]: Done  42 tasks      | elapsed:   35.3s\n",
      "[Parallel(n_jobs=-1)]: Done 192 tasks      | elapsed:  2.5min\n"
     ]
    },
    {
     "name": "stdout",
     "output_type": "stream",
     "text": [
      "(training took 236.34769296646118s)\n",
      "\n",
      "Training MDM...\n",
      "Fitting 25 folds for each of 3 candidates, totalling 75 fits\n"
     ]
    },
    {
     "name": "stderr",
     "output_type": "stream",
     "text": [
      "[Parallel(n_jobs=-1)]: Done 300 out of 300 | elapsed:  3.9min finished\n",
      "[Parallel(n_jobs=-1)]: Done  42 tasks      | elapsed:   17.2s\n",
      "[Parallel(n_jobs=-1)]: Done  75 out of  75 | elapsed:   28.9s finished\n"
     ]
    },
    {
     "name": "stdout",
     "output_type": "stream",
     "text": [
      "(training took 29.87334132194519s)\n",
      "\n",
      "Scoring: roc_auc\n"
     ]
    },
    {
     "data": {
      "text/html": [
       "<div>\n",
       "<style scoped>\n",
       "    .dataframe tbody tr th:only-of-type {\n",
       "        vertical-align: middle;\n",
       "    }\n",
       "\n",
       "    .dataframe tbody tr th {\n",
       "        vertical-align: top;\n",
       "    }\n",
       "\n",
       "    .dataframe thead th {\n",
       "        text-align: right;\n",
       "    }\n",
       "</style>\n",
       "<table border=\"1\" class=\"dataframe\">\n",
       "  <thead>\n",
       "    <tr style=\"text-align: right;\">\n",
       "      <th></th>\n",
       "      <th>best parameters</th>\n",
       "      <th>mean</th>\n",
       "      <th>std</th>\n",
       "    </tr>\n",
       "    <tr>\n",
       "      <th>classifier</th>\n",
       "      <th></th>\n",
       "      <th></th>\n",
       "      <th></th>\n",
       "    </tr>\n",
       "  </thead>\n",
       "  <tbody>\n",
       "    <tr>\n",
       "      <th>SVC</th>\n",
       "      <td>clf__C = 1, clf__gamma = 1, clf__kernel = rbf,...</td>\n",
       "      <td>0.6960</td>\n",
       "      <td>0.184781</td>\n",
       "    </tr>\n",
       "    <tr>\n",
       "      <th>LR</th>\n",
       "      <td>clf__C = 0.0001, metric = euclid</td>\n",
       "      <td>0.3712</td>\n",
       "      <td>0.156162</td>\n",
       "    </tr>\n",
       "    <tr>\n",
       "      <th>KNN</th>\n",
       "      <td>metric = riemann, n_neighbors = 5</td>\n",
       "      <td>0.4048</td>\n",
       "      <td>0.135915</td>\n",
       "    </tr>\n",
       "    <tr>\n",
       "      <th>MDM</th>\n",
       "      <td>metric = riemann</td>\n",
       "      <td>0.3568</td>\n",
       "      <td>0.146608</td>\n",
       "    </tr>\n",
       "  </tbody>\n",
       "</table>\n",
       "</div>"
      ],
      "text/plain": [
       "                                              best parameters    mean  \\\n",
       "classifier                                                              \n",
       "SVC         clf__C = 1, clf__gamma = 1, clf__kernel = rbf,...  0.6960   \n",
       "LR                           clf__C = 0.0001, metric = euclid  0.3712   \n",
       "KNN                         metric = riemann, n_neighbors = 5  0.4048   \n",
       "MDM                                          metric = riemann  0.3568   \n",
       "\n",
       "                 std  \n",
       "classifier            \n",
       "SVC         0.184781  \n",
       "LR          0.156162  \n",
       "KNN         0.135915  \n",
       "MDM         0.146608  "
      ]
     },
     "metadata": {},
     "output_type": "display_data"
    },
    {
     "data": {
      "image/png": "[encoded data removed]",
      "text/plain": [
       "<matplotlib.figure.Figure at 0x116f20ef0>"
      ]
     },
     "metadata": {},
     "output_type": "display_data"
    },
    {
     "name": "stdout",
     "output_type": "stream",
     "text": [
      "Best model: \n",
      "SVC\n",
      "clf__C = 1\n",
      "clf__gamma = 1\n",
      "clf__kernel = rbf\n",
      "metric = riemann\n",
      "mean = 0.6872000000000001\n",
      "std = 0.19265554754535358\n"
     ]
    },
    {
     "data": {
      "application/vnd.jupyter.widget-view+json": {
       "model_id": "1d0083223d614b8886c9b24db9fb850f",
       "version_major": 2,
       "version_minor": 0
      },
      "text/html": [
       "<p>Failed to display Jupyter Widget of type <code>HBox</code>.</p>\n",
       "<p>\n",
       "  If you're reading this message in the Jupyter Notebook or JupyterLab Notebook, it may mean\n",
       "  that the widgets JavaScript is still loading. If this message persists, it\n",
       "  likely means that the widgets JavaScript library is either not installed or\n",
       "  not enabled. See the <a href=\"https://ipywidgets.readthedocs.io/en/stable/user_install.html\">Jupyter\n",
       "  Widgets Documentation</a> for setup instructions.\n",
       "</p>\n",
       "<p>\n",
       "  If you're reading this message in another frontend (for example, a static\n",
       "  rendering on GitHub or <a href=\"https://nbviewer.jupyter.org/\">NBViewer</a>),\n",
       "  it may mean that your frontend doesn't currently support widgets.\n",
       "</p>\n"
      ],
      "text/plain": [
       "HBox(children=(IntProgress(value=1, bar_style='info', max=1), HTML(value='')))"
      ]
     },
     "metadata": {},
     "output_type": "display_data"
    },
    {
     "name": "stdout",
     "output_type": "stream",
     "text": [
      "\n"
     ]
    },
    {
     "data": {
      "image/png": "[encoded data removed]",
      "text/plain": [
       "<matplotlib.figure.Figure at 0x116f28550>"
      ]
     },
     "metadata": {},
     "output_type": "display_data"
    },
    {
     "name": "stdout",
     "output_type": "stream",
     "text": [
      "auc = 0.7696\n"
     ]
    },
    {
     "data": {
      "text/html": [
       "<div>\n",
       "<style scoped>\n",
       "    .dataframe tbody tr th:only-of-type {\n",
       "        vertical-align: middle;\n",
       "    }\n",
       "\n",
       "    .dataframe tbody tr th {\n",
       "        vertical-align: top;\n",
       "    }\n",
       "\n",
       "    .dataframe thead th {\n",
       "        text-align: right;\n",
       "    }\n",
       "</style>\n",
       "<table border=\"1\" class=\"dataframe\">\n",
       "  <thead>\n",
       "    <tr style=\"text-align: right;\">\n",
       "      <th></th>\n",
       "      <th>False Positive rate (fixed)</th>\n",
       "      <th>False Negative rate</th>\n",
       "    </tr>\n",
       "  </thead>\n",
       "  <tbody>\n",
       "    <tr>\n",
       "      <th>0</th>\n",
       "      <td>0.10</td>\n",
       "      <td>0.56</td>\n",
       "    </tr>\n",
       "    <tr>\n",
       "      <th>1</th>\n",
       "      <td>0.15</td>\n",
       "      <td>0.56</td>\n",
       "    </tr>\n",
       "    <tr>\n",
       "      <th>2</th>\n",
       "      <td>0.20</td>\n",
       "      <td>0.44</td>\n",
       "    </tr>\n",
       "    <tr>\n",
       "      <th>3</th>\n",
       "      <td>0.30</td>\n",
       "      <td>0.36</td>\n",
       "    </tr>\n",
       "  </tbody>\n",
       "</table>\n",
       "</div>"
      ],
      "text/plain": [
       "   False Positive rate (fixed)  False Negative rate\n",
       "0                         0.10                 0.56\n",
       "1                         0.15                 0.56\n",
       "2                         0.20                 0.44\n",
       "3                         0.30                 0.36"
      ]
     },
     "metadata": {},
     "output_type": "display_data"
    },
    {
     "data": {
      "image/png": "[encoded data removed]",
      "text/plain": [
       "<matplotlib.figure.Figure at 0x116f32f28>"
      ]
     },
     "metadata": {},
     "output_type": "display_data"
    },
    {
     "name": "stdout",
     "output_type": "stream",
     "text": [
      "auc = 0.697224\n"
     ]
    },
    {
     "data": {
      "text/html": [
       "<div>\n",
       "<style scoped>\n",
       "    .dataframe tbody tr th:only-of-type {\n",
       "        vertical-align: middle;\n",
       "    }\n",
       "\n",
       "    .dataframe tbody tr th {\n",
       "        vertical-align: top;\n",
       "    }\n",
       "\n",
       "    .dataframe thead th {\n",
       "        text-align: right;\n",
       "    }\n",
       "</style>\n",
       "<table border=\"1\" class=\"dataframe\">\n",
       "  <thead>\n",
       "    <tr style=\"text-align: right;\">\n",
       "      <th></th>\n",
       "      <th>False Positive rate (fixed)</th>\n",
       "      <th>False Negative rate</th>\n",
       "    </tr>\n",
       "  </thead>\n",
       "  <tbody>\n",
       "    <tr>\n",
       "      <th>0</th>\n",
       "      <td>0.10</td>\n",
       "      <td>0.676</td>\n",
       "    </tr>\n",
       "    <tr>\n",
       "      <th>1</th>\n",
       "      <td>0.15</td>\n",
       "      <td>0.616</td>\n",
       "    </tr>\n",
       "    <tr>\n",
       "      <th>2</th>\n",
       "      <td>0.20</td>\n",
       "      <td>0.568</td>\n",
       "    </tr>\n",
       "    <tr>\n",
       "      <th>3</th>\n",
       "      <td>0.30</td>\n",
       "      <td>0.568</td>\n",
       "    </tr>\n",
       "  </tbody>\n",
       "</table>\n",
       "</div>"
      ],
      "text/plain": [
       "   False Positive rate (fixed)  False Negative rate\n",
       "0                         0.10                0.676\n",
       "1                         0.15                0.616\n",
       "2                         0.20                0.568\n",
       "3                         0.30                0.568"
      ]
     },
     "metadata": {},
     "output_type": "display_data"
    }
   ],
   "source": [
    "n_splits = 5\n",
    "\n",
    "y = labels[DE_E_idx][\"DE/E\"]\n",
    "data_DE_E = [data[i] for i in np.where(DE_E_idx == True)[0]]\n",
    "pos_label = label_to_idx[\"DE\"]\n",
    "pipe = SPD_pipeline(tr, 0.1)\n",
    "\n",
    "\n",
    "best_model_DE_E, grid_cv_svc_DE_E, grid_cv_lr_DE_E, grid_cv_mdm_DE_E, grid_cv_knn_DE_E = pipe.train_grid_cv(\n",
    "    data_DE_E, y = y, n_splits=n_splits, n_repeats=5, scoring=scoring, random_state=42, n_jobs=-1, save_models_to = 'models/temp_model')\n",
    "\n",
    "\n",
    "cv = RepeatedStratifiedKFold(n_splits=n_splits, n_repeats=10, random_state=42)\n",
    "X = pipe.get_spd_dataset(data_DE_E)\n",
    "scores_DE_E = cross_val_score(best_model_DE_E, X, np.array(y == pos_label).astype(int), cv=cv, scoring=scoring, n_jobs = -1)\n",
    "print(\"mean =\", scores_DE_E.mean())\n",
    "print(\"std =\", scores_DE_E.std())\n",
    "\n",
    "\n",
    "pipe.save_model(best_model_DE_E, \"models/fmri_rim_DE_E.pkl\")\n",
    "probas_DE_E = pipe.repeated_cross_val_predict_proba(best_model_DE_E, data_DE_E, y, cv=cv, pos_label=pos_label, file = 'models/rim_DE_E_prediction.csv')\n",
    "\n",
    "# # average probabilities between repetitions\n",
    "fpr, tpr, t = pipe.plot_roc_curve(y, probas_DE_E, pos_label, DE_E_idx, average_repeats=True)\n",
    "pipe.get_fpr_fnr(fpr, tpr)\n",
    "\n",
    "# # without averaging\n",
    "fpr, tpr, t = pipe.plot_roc_curve(y, probas_DE_E, pos_label, DE_E_idx)\n",
    "pipe.get_fpr_fnr(fpr, tpr)\n",
    "\n",
    "                      \n",
    "## Delete temp models\n",
    "os.remove('models/temp_model_svc.pkl')\n",
    "os.remove('models/temp_model_lr.pkl')\n",
    "os.remove('models/temp_model_knn.pkl')\n",
    "os.remove('models/temp_model_mdm.pkl')"
   ]
  },
  {
   "cell_type": "markdown",
   "metadata": {},
   "source": [
    "### Depression with epilepsy / Depression"
   ]
  },
  {
   "cell_type": "code",
   "execution_count": 7,
   "metadata": {},
   "outputs": [
    {
     "name": "stdout",
     "output_type": "stream",
     "text": [
      "Target distribution: \n",
      "3    25\n",
      "1    25\n",
      "Name: target, dtype: int64 \n",
      "\n",
      "loading fitted SVC...\n",
      "\n",
      "loading fitted LR...\n",
      "\n",
      "Training KNN...\n",
      "Fitting 25 folds for each of 12 candidates, totalling 300 fits\n"
     ]
    },
    {
     "name": "stderr",
     "output_type": "stream",
     "text": [
      "[Parallel(n_jobs=-1)]: Done  42 tasks      | elapsed:   31.6s\n",
      "[Parallel(n_jobs=-1)]: Done 192 tasks      | elapsed:  2.3min\n"
     ]
    },
    {
     "name": "stdout",
     "output_type": "stream",
     "text": [
      "(training took 213.6709668636322s)\n",
      "\n",
      "Training MDM...\n",
      "Fitting 25 folds for each of 3 candidates, totalling 75 fits\n"
     ]
    },
    {
     "name": "stderr",
     "output_type": "stream",
     "text": [
      "[Parallel(n_jobs=-1)]: Done 300 out of 300 | elapsed:  3.6min finished\n",
      "[Parallel(n_jobs=-1)]: Done  42 tasks      | elapsed:   16.4s\n",
      "[Parallel(n_jobs=-1)]: Done  75 out of  75 | elapsed:   27.7s finished\n"
     ]
    },
    {
     "name": "stdout",
     "output_type": "stream",
     "text": [
      "(training took 28.610738039016724s)\n",
      "\n",
      "Scoring: roc_auc\n"
     ]
    },
    {
     "data": {
      "text/html": [
       "<div>\n",
       "<style scoped>\n",
       "    .dataframe tbody tr th:only-of-type {\n",
       "        vertical-align: middle;\n",
       "    }\n",
       "\n",
       "    .dataframe tbody tr th {\n",
       "        vertical-align: top;\n",
       "    }\n",
       "\n",
       "    .dataframe thead th {\n",
       "        text-align: right;\n",
       "    }\n",
       "</style>\n",
       "<table border=\"1\" class=\"dataframe\">\n",
       "  <thead>\n",
       "    <tr style=\"text-align: right;\">\n",
       "      <th></th>\n",
       "      <th>best parameters</th>\n",
       "      <th>mean</th>\n",
       "      <th>std</th>\n",
       "    </tr>\n",
       "    <tr>\n",
       "      <th>classifier</th>\n",
       "      <th></th>\n",
       "      <th></th>\n",
       "      <th></th>\n",
       "    </tr>\n",
       "  </thead>\n",
       "  <tbody>\n",
       "    <tr>\n",
       "      <th>SVC</th>\n",
       "      <td>clf__C = 100, clf__gamma = 0.01, clf__kernel =...</td>\n",
       "      <td>0.6928</td>\n",
       "      <td>0.155423</td>\n",
       "    </tr>\n",
       "    <tr>\n",
       "      <th>LR</th>\n",
       "      <td>clf__C = 1, metric = euclid</td>\n",
       "      <td>0.6304</td>\n",
       "      <td>0.188393</td>\n",
       "    </tr>\n",
       "    <tr>\n",
       "      <th>KNN</th>\n",
       "      <td>metric = riemann, n_neighbors = 5</td>\n",
       "      <td>0.4368</td>\n",
       "      <td>0.150910</td>\n",
       "    </tr>\n",
       "    <tr>\n",
       "      <th>MDM</th>\n",
       "      <td>metric = riemann</td>\n",
       "      <td>0.4848</td>\n",
       "      <td>0.200262</td>\n",
       "    </tr>\n",
       "  </tbody>\n",
       "</table>\n",
       "</div>"
      ],
      "text/plain": [
       "                                              best parameters    mean  \\\n",
       "classifier                                                              \n",
       "SVC         clf__C = 100, clf__gamma = 0.01, clf__kernel =...  0.6928   \n",
       "LR                                clf__C = 1, metric = euclid  0.6304   \n",
       "KNN                         metric = riemann, n_neighbors = 5  0.4368   \n",
       "MDM                                          metric = riemann  0.4848   \n",
       "\n",
       "                 std  \n",
       "classifier            \n",
       "SVC         0.155423  \n",
       "LR          0.188393  \n",
       "KNN         0.150910  \n",
       "MDM         0.200262  "
      ]
     },
     "metadata": {},
     "output_type": "display_data"
    },
    {
     "data": {
      "image/png": "[encoded data removed]",
      "text/plain": [
       "<matplotlib.figure.Figure at 0x109bb1c50>"
      ]
     },
     "metadata": {},
     "output_type": "display_data"
    },
    {
     "name": "stdout",
     "output_type": "stream",
     "text": [
      "Best model: \n",
      "SVC\n",
      "clf__C = 100\n",
      "clf__gamma = 0.01\n",
      "clf__kernel = rbf\n",
      "metric = riemann\n",
      "mean = 0.6828\n",
      "std = 0.16375640445490983\n"
     ]
    },
    {
     "data": {
      "application/vnd.jupyter.widget-view+json": {
       "model_id": "2347ebe3dbe449eebe07eaed6d8b0f88",
       "version_major": 2,
       "version_minor": 0
      },
      "text/html": [
       "<p>Failed to display Jupyter Widget of type <code>HBox</code>.</p>\n",
       "<p>\n",
       "  If you're reading this message in the Jupyter Notebook or JupyterLab Notebook, it may mean\n",
       "  that the widgets JavaScript is still loading. If this message persists, it\n",
       "  likely means that the widgets JavaScript library is either not installed or\n",
       "  not enabled. See the <a href=\"https://ipywidgets.readthedocs.io/en/stable/user_install.html\">Jupyter\n",
       "  Widgets Documentation</a> for setup instructions.\n",
       "</p>\n",
       "<p>\n",
       "  If you're reading this message in another frontend (for example, a static\n",
       "  rendering on GitHub or <a href=\"https://nbviewer.jupyter.org/\">NBViewer</a>),\n",
       "  it may mean that your frontend doesn't currently support widgets.\n",
       "</p>\n"
      ],
      "text/plain": [
       "HBox(children=(IntProgress(value=1, bar_style='info', max=1), HTML(value='')))"
      ]
     },
     "metadata": {},
     "output_type": "display_data"
    },
    {
     "name": "stdout",
     "output_type": "stream",
     "text": [
      "\n"
     ]
    },
    {
     "data": {
      "image/png": "[encoded data removed]",
      "text/plain": [
       "<matplotlib.figure.Figure at 0x109ba5f98>"
      ]
     },
     "metadata": {},
     "output_type": "display_data"
    },
    {
     "name": "stdout",
     "output_type": "stream",
     "text": [
      "auc = 0.6624\n"
     ]
    },
    {
     "data": {
      "text/html": [
       "<div>\n",
       "<style scoped>\n",
       "    .dataframe tbody tr th:only-of-type {\n",
       "        vertical-align: middle;\n",
       "    }\n",
       "\n",
       "    .dataframe tbody tr th {\n",
       "        vertical-align: top;\n",
       "    }\n",
       "\n",
       "    .dataframe thead th {\n",
       "        text-align: right;\n",
       "    }\n",
       "</style>\n",
       "<table border=\"1\" class=\"dataframe\">\n",
       "  <thead>\n",
       "    <tr style=\"text-align: right;\">\n",
       "      <th></th>\n",
       "      <th>False Positive rate (fixed)</th>\n",
       "      <th>False Negative rate</th>\n",
       "    </tr>\n",
       "  </thead>\n",
       "  <tbody>\n",
       "    <tr>\n",
       "      <th>0</th>\n",
       "      <td>0.10</td>\n",
       "      <td>0.72</td>\n",
       "    </tr>\n",
       "    <tr>\n",
       "      <th>1</th>\n",
       "      <td>0.15</td>\n",
       "      <td>0.72</td>\n",
       "    </tr>\n",
       "    <tr>\n",
       "      <th>2</th>\n",
       "      <td>0.20</td>\n",
       "      <td>0.48</td>\n",
       "    </tr>\n",
       "    <tr>\n",
       "      <th>3</th>\n",
       "      <td>0.30</td>\n",
       "      <td>0.40</td>\n",
       "    </tr>\n",
       "  </tbody>\n",
       "</table>\n",
       "</div>"
      ],
      "text/plain": [
       "   False Positive rate (fixed)  False Negative rate\n",
       "0                         0.10                 0.72\n",
       "1                         0.15                 0.72\n",
       "2                         0.20                 0.48\n",
       "3                         0.30                 0.40"
      ]
     },
     "metadata": {},
     "output_type": "display_data"
    },
    {
     "data": {
      "image/png": "[encoded data removed]",
      "text/plain": [
       "<matplotlib.figure.Figure at 0x109bc96d8>"
      ]
     },
     "metadata": {},
     "output_type": "display_data"
    },
    {
     "name": "stdout",
     "output_type": "stream",
     "text": [
      "auc = 0.643152\n"
     ]
    }
   ],
   "source": [
    "n_splits = 5\n",
    "\n",
    "y = labels[DE_D_idx][\"target\"]\n",
    "data_DE_D = [data[i] for i in np.where(DE_D_idx == True)[0]]\n",
    "pos_label = label_to_idx[\"DE\"]\n",
    "pipe = SPD_pipeline(tr, 0.1)\n",
    "\n",
    "\n",
    "best_model_DE_D, grid_cv_svc_DE_D, grid_cv_lr_DE_D, grid_cv_mdm_DE_D, grid_cv_knn_DE_D = pipe.train_grid_cv(\n",
    "    data_DE_D, y = y, n_splits=n_splits, n_repeats=5, scoring=scoring, random_state=42, n_jobs=-1, save_models_to = 'models/temp_model')\n",
    "\n",
    "\n",
    "cv = RepeatedStratifiedKFold(n_splits=n_splits, n_repeats=10, random_state=42)\n",
    "X = pipe.get_spd_dataset(data_DE_D)\n",
    "scores_DE_D = cross_val_score(best_model_DE_D, X, np.array(y == pos_label).astype(int), cv=cv, scoring=scoring, n_jobs = -1)\n",
    "print(\"mean =\", scores_DE_D.mean())\n",
    "print(\"std =\", scores_DE_D.std())\n",
    "\n",
    "\n",
    "pipe.save_model(best_model_DE_D, \"models/fmri_rim_DE_D.pkl\")\n",
    "probas_DE_D = pipe.repeated_cross_val_predict_proba(best_model_DE_D, data_DE_D, y, cv=cv, pos_label=pos_label, file = 'models/rim_DE_D_prediction.csv')\n",
    "\n",
    "# # average probabilities between repetitions\n",
    "fpr, tpr, t = pipe.plot_roc_curve(y, probas_DE_D, pos_label, DE_D_idx, average_repeats=True)\n",
    "pipe.get_fpr_fnr(fpr, tpr)\n",
    "\n",
    "# # without averaging\n",
    "fpr, tpr, t = pipe.plot_roc_curve(y, probas_DE_D, pos_label, DE_D_idx)\n",
    "\n",
    "                      \n",
    "## Delete temp models\n",
    "os.remove('models/temp_model_svc.pkl')\n",
    "os.remove('models/temp_model_lr.pkl')\n",
    "os.remove('models/temp_model_knn.pkl')\n",
    "os.remove('models/temp_model_mdm.pkl')"
   ]
  },
  {
   "cell_type": "code",
   "execution_count": 22,
   "metadata": {},
   "outputs": [
    {
     "data": {
      "text/plain": [
       "2.0"
      ]
     },
     "execution_count": 22,
     "metadata": {},
     "output_type": "execute_result"
    }
   ],
   "source": [
    "math.log10(10)+1"
   ]
  },
  {
   "cell_type": "code",
   "execution_count": null,
   "metadata": {},
   "outputs": [],
   "source": []
  }
 ],
 "metadata": {
  "kernelspec": {
   "display_name": "Python 3",
   "language": "python",
   "name": "python3"
  },
  "language_info": {
   "codemirror_mode": {
    "name": "ipython",
    "version": 3
   },
   "file_extension": ".py",
   "mimetype": "text/x-python",
   "name": "python",
   "nbconvert_exporter": "python",
   "pygments_lexer": "ipython3",
   "version": "3.6.4"
  }
 },
 "nbformat": 4,
 "nbformat_minor": 2
}
