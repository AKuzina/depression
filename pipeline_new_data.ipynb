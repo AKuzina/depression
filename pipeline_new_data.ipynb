{
 "cells": [
  {
   "cell_type": "code",
   "execution_count": 188,
   "metadata": {},
   "outputs": [],
   "source": [
    "import pandas as pd\n",
    "import numpy as np\n",
    "import sklearn as sklearn\n",
    "import fnmatch\n",
    "import os\n",
    "import math\n",
    "from scipy import ndimage\n",
    "#from reskit.core import Pipeliner\n",
    "\n",
    "from matplotlib import offsetbox\n",
    "from time import time\n",
    "import matplotlib.pyplot as plt\n",
    "%matplotlib inline"
   ]
  },
  {
   "cell_type": "code",
   "execution_count": 189,
   "metadata": {},
   "outputs": [],
   "source": [
    "import warnings\n",
    "warnings.simplefilter(\"ignore\")"
   ]
  },
  {
   "cell_type": "code",
   "execution_count": 272,
   "metadata": {},
   "outputs": [],
   "source": [
    "from sklearn.cross_validation import cross_val_score\n",
    "from sklearn.metrics import make_scorer\n",
    "from sklearn.model_selection import GridSearchCV\n",
    "from sklearn.metrics import accuracy_score\n",
    "\n",
    "from sklearn.utils import check_random_state\n",
    "from sklearn.neighbors import NearestNeighbors, KNeighborsClassifier\n",
    "from sklearn import (manifold, ensemble, discriminant_analysis, random_projection, preprocessing)\n",
    "from sklearn.linear_model import LogisticRegression\n",
    "from sklearn.model_selection import cross_val_score, GridSearchCV, StratifiedKFold, StratifiedShuffleSplit, RepeatedStratifiedKFold\n",
    "from sklearn.manifold import LocallyLinearEmbedding, SpectralEmbedding, MDS, TSNE\n",
    "from sklearn.ensemble import ExtraTreesClassifier, RandomForestClassifier\n",
    "from sklearn.feature_selection import SelectFromModel,SelectKBest,chi2, f_classif\n",
    "\n",
    "from sklearn.pipeline import Pipeline\n",
    "from sklearn.svm import LinearSVC, SVC\n",
    "from sklearn.decomposition import PCA, NMF"
   ]
  },
  {
   "cell_type": "markdown",
   "metadata": {},
   "source": [
    "# Данные:\n",
    "\n",
    "* thickness_mri_lh + thickness_mri_rh\n",
    "* volumes_mri_freesurfer\n",
    "* conn_data (RESULTS_C_D_E_DE_KONDRATEVA_10.12)\n",
    "* all datasets + clinical data\n"
   ]
  },
  {
   "cell_type": "code",
   "execution_count": 229,
   "metadata": {},
   "outputs": [],
   "source": [
    "#thickness\n",
    "thickness_mri_lh = pd.read_csv('data/mp_rage_data/th_lh_mp_rage.csv').sort_values(['Unnamed: 0']).set_index(['Unnamed: 0']).join(pd.read_csv('data/th_lh_last.csv').set_index(['index'])['target'])\n",
    "\n",
    "#.drop(labels=['Unnamed: 0'], axis=1, inplace=False)\n",
    "#.drop(labels=['index','target'], axis=1, inplace=False)\n",
    "thickness_mri_rh = pd.read_csv('data/mp_rage_data/th_rh_mp_rage.csv').sort_values(['Unnamed: 0']).set_index(['Unnamed: 0'])\n",
    "thickness_mri = pd.concat([thickness_mri_lh, thickness_mri_rh], axis = 1)\n",
    "\n",
    "#volumes\n",
    "volumes_mri_freesurfer = pd.read_csv('data/mp_rage_data/volumes_mri_mp_rage.csv').sort_values(['Unnamed: 0']).set_index(['Unnamed: 0'])\n",
    "\n",
    "#fMRI\n",
    "#conn_data = pd.read_csv('data/RESULTS_C_D_E_DE_KONDRATEVA_10.12.csv', sep = ';').drop(labels = ['index'], axis=1, inplace=False)\n",
    "#conn_data = conn_data.fillna(0)\n",
    "\n",
    "#Clinical data\n",
    "dem_data = pd.read_csv('data/table_10102017_new.csv', sep=';', encoding = 'UTF-8').sort_values(['patient']).set_index('patient')\n",
    "\n"
   ]
  },
  {
   "cell_type": "code",
   "execution_count": 260,
   "metadata": {
    "scrolled": false
   },
   "outputs": [],
   "source": [
    "BDI = dem_data.join(thickness_mri['target'], how = 'inner')['BDI']"
   ]
  },
  {
   "cell_type": "code",
   "execution_count": null,
   "metadata": {},
   "outputs": [],
   "source": []
  },
  {
   "cell_type": "code",
   "execution_count": 192,
   "metadata": {},
   "outputs": [],
   "source": []
  },
  {
   "cell_type": "code",
   "execution_count": null,
   "metadata": {},
   "outputs": [],
   "source": []
  },
  {
   "cell_type": "markdown",
   "metadata": {},
   "source": [
    "Data for 4 class classification"
   ]
  },
  {
   "cell_type": "code",
   "execution_count": 233,
   "metadata": {},
   "outputs": [],
   "source": [
    "target = thickness_mri['target']\n",
    "\n",
    "thickness = thickness_mri.drop(labels=['target'], axis=1)\n",
    "#.reset_index(drop = True)\n",
    "volumes = volumes_mri_freesurfer\n",
    "#.reset_index(drop = True)\n",
    "\n",
    "\n",
    "#conn = conn_data.drop(labels=['target'], axis=1)\n",
    "\n",
    "# Добавляем демографию (только то, что есть для всех 4 групп пациентов)\n",
    "common_dem = dem_data[dem_data.columns[[1,2,4,5]]]\n",
    "\n",
    "###### объединить два датасета, когда появятся данные ####\n",
    "#all_data_conn = pd.concat([conn, common_dem.reset_index()], axis = 1).drop(labels=['\\ufeffpatient'], axis=1)\n",
    "full_mri = pd.concat([thickness, volumes], axis = 1)\n",
    "mri_dem = full_mri.join(common_dem)\n",
    "#all_data_mri = \n",
    "#full_dataset = pd.concat([thickness.reset_index(), volumes.reset_index(), conn.reset_index()], axis = 1).drop(labels = ['index'], axis = 1)"
   ]
  },
  {
   "cell_type": "code",
   "execution_count": null,
   "metadata": {},
   "outputs": [],
   "source": []
  },
  {
   "cell_type": "code",
   "execution_count": 236,
   "metadata": {},
   "outputs": [
    {
     "data": {
      "text/plain": [
       "D     24\n",
       "С     23\n",
       "DE    22\n",
       "E     21\n",
       "Name: target, dtype: int64"
      ]
     },
     "execution_count": 236,
     "metadata": {},
     "output_type": "execute_result"
    }
   ],
   "source": [
    "target.value_counts()\n",
    "#conn_target.value_counts()"
   ]
  },
  {
   "cell_type": "code",
   "execution_count": 237,
   "metadata": {},
   "outputs": [],
   "source": [
    "data = [thickness, volumes, full_mri, mri_dem]\n",
    "        #, all_data_conn, all_data_mri]\n",
    "data_names = ['thickness_mri_freesurfer', 'volumes_mri_freesurfer', 'thickness+volumes','MRI + dem']\n",
    "\n"
   ]
  },
  {
   "cell_type": "code",
   "execution_count": 238,
   "metadata": {},
   "outputs": [],
   "source": [
    "le = preprocessing.LabelEncoder()\n",
    "le.fit(target)\n",
    "y = le.transform(target)\n",
    "\n",
    "#0 - D, 1 - DE, 2 - E, 3 - C"
   ]
  },
  {
   "cell_type": "code",
   "execution_count": null,
   "metadata": {},
   "outputs": [],
   "source": []
  },
  {
   "cell_type": "markdown",
   "metadata": {},
   "source": [
    "Epilepsy (50) vs no Epilepsy (50)"
   ]
  },
  {
   "cell_type": "code",
   "execution_count": 84,
   "metadata": {},
   "outputs": [],
   "source": [
    "# Datasets are the same, only target change"
   ]
  },
  {
   "cell_type": "code",
   "execution_count": 85,
   "metadata": {},
   "outputs": [],
   "source": [
    "### Try (additionaly) to add depression length"
   ]
  },
  {
   "cell_type": "code",
   "execution_count": 240,
   "metadata": {},
   "outputs": [],
   "source": [
    "y_e = list(map(lambda x: 1 if 'E' in x else 0, target))"
   ]
  },
  {
   "cell_type": "markdown",
   "metadata": {},
   "source": [
    "Depression (50) vs no Depression (50)"
   ]
  },
  {
   "cell_type": "code",
   "execution_count": 87,
   "metadata": {},
   "outputs": [],
   "source": [
    "# Datasets are the same, only target change\n",
    "### Try (additionaly) to add epilepsy stat\n",
    "\n",
    "\n",
    "# #Only demographics change\n",
    "# # Add epileptic data\n",
    "# dem_D = dem_data.drop(labels=['patient','target','length'], axis = 1).fillna(0)\n",
    "\n",
    "\n",
    "# all_data_D = pd.concat([dem_D, conn], axis=1)"
   ]
  },
  {
   "cell_type": "code",
   "execution_count": null,
   "metadata": {},
   "outputs": [],
   "source": []
  },
  {
   "cell_type": "code",
   "execution_count": 241,
   "metadata": {},
   "outputs": [],
   "source": [
    "y_d = list(map(lambda x: 1 if 'D' in x else 0, target))"
   ]
  },
  {
   "cell_type": "markdown",
   "metadata": {},
   "source": [
    "Epilepsy (25) vs Control (25)"
   ]
  },
  {
   "cell_type": "code",
   "execution_count": 242,
   "metadata": {},
   "outputs": [],
   "source": [
    "thickness_EC = thickness_mri.loc[(thickness_mri['target'] == 'С')| (thickness_mri['target'] == 'E'), :]\n",
    "volumes_EC = volumes_mri_freesurfer[volumes_mri_freesurfer.index.map(lambda x: x in thickness_EC.index)]\n",
    "#.reset_index(drop = True)\n",
    "conn_EC = conn_data.loc[(conn_data['target'] == 'С')|(conn_data['target'] == 'E'),:]\n",
    "\n",
    "target_EC = thickness_EC['target']\n",
    "\n",
    "thickness_EC = thickness_EC.drop(labels=['target'], axis=1).reset_index(drop = True)\n",
    "conn_EC = conn_EC.drop(labels=['target'], axis=1).reset_index(drop =True)\n",
    "\n",
    "# Добавляем демографию (только то, что есть для обеих групп)\n",
    "#dem_EC = dem_data.loc[(dem_data['key'] == 'С')| (dem_data['key'] == 'E'), :][dem_data.columns[[1,2,4,5]]]\n",
    "\n",
    "###### объединить два датасета, когда появятся данные ####\n",
    "\n",
    "#full_dataset_EC = pd.concat([thickness_EC, volumes_EC, conn_EC], axis = 1)\n",
    "\n",
    "\n",
    "full_mri = pd.concat([thickness_EC, volumes_EC], axis = 1)\n",
    "mri_dem = full_mri.join(common_dem)"
   ]
  },
  {
   "cell_type": "code",
   "execution_count": null,
   "metadata": {},
   "outputs": [],
   "source": []
  },
  {
   "cell_type": "code",
   "execution_count": 90,
   "metadata": {},
   "outputs": [],
   "source": [
    "data_EC = [thickness_EC, volumes_EC, conn_EC, full_dataset_EC]\n",
    "           #, all_data_conn_EC, all_data_mri_EC]"
   ]
  },
  {
   "cell_type": "code",
   "execution_count": 91,
   "metadata": {},
   "outputs": [],
   "source": [
    "le.fit(target_EC)\n",
    "y_EC = le.transform(target_EC)\n",
    "\n",
    "#0 - E, 1 - C"
   ]
  },
  {
   "cell_type": "code",
   "execution_count": null,
   "metadata": {},
   "outputs": [],
   "source": []
  },
  {
   "cell_type": "markdown",
   "metadata": {},
   "source": [
    "Depression (25) vs Control (25)"
   ]
  },
  {
   "cell_type": "code",
   "execution_count": 92,
   "metadata": {},
   "outputs": [],
   "source": [
    "thickness_DC = thickness_mri.loc[(thickness_mri['target'] == 'С')| (thickness_mri['target'] == 'D'), :]\n",
    "volumes_DC = volumes_mri_freesurfer[volumes_mri_freesurfer.index.map(lambda x: x in thickness_DC.index)].reset_index(drop = True)\n",
    "conn_DC = conn_data.loc[(conn_data['target'] == 'С')|(conn_data['target'] == 'D'),:]\n",
    "\n",
    "target_DC = thickness_DC['target']\n",
    "\n",
    "thickness_DC = thickness_DC.drop(labels=['target'], axis=1).reset_index(drop = True)\n",
    "conn_DC = conn_DC.drop(labels=['target'], axis=1).reset_index(drop = True)\n",
    "\n",
    "# Добавляем демографию (только то, что есть для обеих групп)\n",
    "#dem_DC = dem_data.loc[(dem_data['target'] == 'С')| (dem_data['target'] == 'D'), :][dem_data.columns[[1,2,4,5]]]\n",
    "\n",
    "\n",
    "###### объединить два датасета, когда появятся данные ####\n",
    "#all_data_conn_DC = pd.concat([conn_DC.reset_index(), dem_DC.reset_index()], axis = 1).drop(labels=['patient'], axis=1)\n",
    "#all_data_mri_DC = pd.concat([thickness_DC, volumes_DC], axis = 1)\n",
    "#all_data_mri_DC = all_data_mri_DC.join(dem_DC)\n",
    "full_dataset_DC = pd.concat([thickness_DC, volumes_DC, conn_DC], axis = 1)\n",
    "#.drop(labels=['index'], axis=1)"
   ]
  },
  {
   "cell_type": "code",
   "execution_count": null,
   "metadata": {},
   "outputs": [],
   "source": []
  },
  {
   "cell_type": "code",
   "execution_count": 93,
   "metadata": {},
   "outputs": [],
   "source": [
    "data_DC = [thickness_DC, volumes_DC, conn_DC, full_dataset_DC]\n",
    "#, all_data_conn_DC, all_data_mri_DC]"
   ]
  },
  {
   "cell_type": "code",
   "execution_count": 94,
   "metadata": {},
   "outputs": [],
   "source": [
    "le.fit(target_DC)\n",
    "y_DC = le.transform(target_DC)\n",
    "#0 - D, 1 - C"
   ]
  },
  {
   "cell_type": "code",
   "execution_count": 95,
   "metadata": {},
   "outputs": [
    {
     "data": {
      "text/plain": [
       "array([0, 1, 0, 1, 0, 0, 1, 0, 0, 0, 0, 0, 0, 0, 1, 0, 1, 1, 0, 0, 1, 1, 1,\n",
       "       1, 0, 0, 1, 0, 0, 1, 0, 0, 0, 0, 0, 0, 0, 1, 1, 1, 1, 1, 1, 1, 1, 1,\n",
       "       1, 1, 1, 1])"
      ]
     },
     "execution_count": 95,
     "metadata": {},
     "output_type": "execute_result"
    }
   ],
   "source": [
    "y_DC"
   ]
  },
  {
   "cell_type": "markdown",
   "metadata": {},
   "source": [
    "Depression with epilepsy (25) vs Epilepsy (25)"
   ]
  },
  {
   "cell_type": "code",
   "execution_count": null,
   "metadata": {},
   "outputs": [],
   "source": []
  },
  {
   "cell_type": "code",
   "execution_count": 96,
   "metadata": {},
   "outputs": [],
   "source": [
    "thickness_DEE = thickness_mri.loc[(thickness_mri['target'] == 'DE')| (thickness_mri['target'] == 'E'), :]\n",
    "volumes_DEE = volumes_mri_freesurfer[volumes_mri_freesurfer.index.map(lambda x: x in thickness_DEE.index)].reset_index(drop = True)\n",
    "conn_DEE = conn_data.loc[(conn_data['target'] == 'DE')|(conn_data['target'] == 'E'),:]\n",
    "\n",
    "target_DEE = thickness_DEE['target']\n",
    "conn_target_DEE = conn_DEE['target']\n",
    "\n",
    "thickness_DEE = thickness_DEE.drop(labels=['target'], axis=1).reset_index(drop = True)\n",
    "conn_DEE = conn_DEE.drop(labels=['target'], axis=1).reset_index(drop = True)\n",
    "\n",
    "# Добавляем демографию (только то, что есть для всех обеих групп пациентов)\n",
    "# тут добавляются данные по эпилепсии\n",
    "#dem_DEE = dem_data.loc[(dem_data['target'] == 'DE')| (dem_data['target'] == 'E'), :].drop(labels=['target','length'], axis = 1).fillna(0)\n",
    "\n",
    "###### объединить два датасета, когда появятся данные ####\n",
    "#all_data_conn_DEE = pd.concat([conn_DEE.reset_index(), dem_DEE.reset_index()], axis = 1).drop(labels=['patient','index'], axis=1)\n",
    "#all_data_mri_DEE = pd.concat([thickness_DEE, volumes_DEE], axis = 1)\n",
    "#all_data_mri_DEE = all_data_mri_DEE.join(dem_DEE)\n",
    "full_dataset_DEE = pd.concat([thickness_DEE, volumes_DEE, conn_DEE], axis = 1)"
   ]
  },
  {
   "cell_type": "code",
   "execution_count": 97,
   "metadata": {},
   "outputs": [],
   "source": [
    "data_DEE = [thickness_DEE, volumes_DEE, conn_DEE,full_dataset_DEE]\n",
    "#, all_data_conn_DEE, all_data_mri_DEE]"
   ]
  },
  {
   "cell_type": "code",
   "execution_count": 98,
   "metadata": {},
   "outputs": [],
   "source": [
    "le.fit(target_DEE)\n",
    "y_DEE = le.transform(target_DEE)\n",
    "\n",
    "#1 - E, 0 - DE"
   ]
  },
  {
   "cell_type": "code",
   "execution_count": 99,
   "metadata": {},
   "outputs": [
    {
     "data": {
      "text/plain": [
       "array([1, 0, 1, 1, 1, 1, 1, 0, 0, 0, 1, 0, 1, 0, 1, 1, 1, 0, 1, 0, 0, 1, 0,\n",
       "       0, 1, 0, 1, 0, 1, 0, 0, 1, 1, 0, 0, 0, 0, 1, 1, 1, 1, 1, 0, 0, 0, 1,\n",
       "       1, 0, 0, 0])"
      ]
     },
     "execution_count": 99,
     "metadata": {},
     "output_type": "execute_result"
    }
   ],
   "source": [
    "y_DEE"
   ]
  },
  {
   "cell_type": "markdown",
   "metadata": {},
   "source": [
    "#### отбор признаков на основе модели\n",
    "аналогично SelectFromModel, но на основе количества признаков, а не порога"
   ]
  },
  {
   "cell_type": "code",
   "execution_count": 243,
   "metadata": {},
   "outputs": [],
   "source": [
    "\n",
    "from sklearn.base import BaseEstimator, MetaEstimatorMixin, clone\n",
    "from sklearn.feature_selection.base import SelectorMixin\n",
    "from sklearn.feature_selection.from_model import _get_feature_importances\n",
    "from sklearn.utils.metaestimators import if_delegate_has_method\n",
    "\n",
    "class SelectNFeaturesFromModel(BaseEstimator, SelectorMixin, MetaEstimatorMixin):\n",
    "    def __init__(self, estimator, n_selected, prefit=False):\n",
    "        self.estimator = estimator\n",
    "        self.n_selected = n_selected\n",
    "        self.prefit = prefit\n",
    "\n",
    "    def _get_support_mask(self):\n",
    "        if self.prefit:\n",
    "            estimator = self.estimator\n",
    "        elif hasattr(self, 'estimator_'):\n",
    "            estimator = self.estimator_\n",
    "        else:\n",
    "            raise ValueError(\n",
    "                'Either fit SelectFromModel before transform or set \"prefit='\n",
    "                'True\" and pass a fitted estimator to the constructor.')\n",
    "        scores = _get_feature_importances(estimator)\n",
    "        threshold = np.sort(scores)[-self.n_selected]\n",
    "        return scores >= threshold\n",
    "\n",
    "    def fit(self, X, y=None, **fit_params):\n",
    "        if self.prefit:\n",
    "            raise NotFittedError(\n",
    "                \"Since 'prefit=True', call transform directly\")\n",
    "        self.estimator_ = clone(self.estimator)\n",
    "        self.estimator_.fit(X, y, **fit_params)\n",
    "        return self\n",
    "\n",
    "    @property\n",
    "    def threshold_(self):\n",
    "        scores = _get_feature_importances(self.estimator_, self.norm_order)\n",
    "        return np.sort(scores)[-n_selected]\n",
    "    \n",
    "    @if_delegate_has_method('estimator')\n",
    "    def partial_fit(self, X, y=None, **fit_params):\n",
    "        if self.prefit:\n",
    "            raise NotFittedError(\n",
    "                \"Since 'prefit=True', call transform directly\")\n",
    "        if not hasattr(self, \"estimator_\"):\n",
    "            self.estimator_ = clone(self.estimator)\n",
    "        self.estimator_.partial_fit(X, y, **fit_params)\n",
    "        return self"
   ]
  },
  {
   "cell_type": "code",
   "execution_count": null,
   "metadata": {},
   "outputs": [],
   "source": []
  },
  {
   "cell_type": "code",
   "execution_count": null,
   "metadata": {},
   "outputs": [],
   "source": []
  },
  {
   "cell_type": "markdown",
   "metadata": {},
   "source": [
    "### Pipieline for Logistic regression"
   ]
  },
  {
   "cell_type": "code",
   "execution_count": 280,
   "metadata": {},
   "outputs": [],
   "source": [
    "def find_best_lr(X, y, N_components = np.array([1, 2, 3, 5, 10, 15, 20]), N_features = np.array([5,10,20,50,100])):\n",
    "        \n",
    "    # Stratification\n",
    "    skf = RepeatedStratifiedKFold(n_splits=10, n_repeats=2,  random_state=42)\n",
    "   \n",
    "\n",
    "\n",
    "    # Feture selection + kNN pipline\n",
    "    pipe = Pipeline([\n",
    "        ('preprocessing', PCA()),\n",
    "        ('classify', LogisticRegression(solver = 'saga'))\n",
    "    ])\n",
    "    \n",
    "\n",
    "    # Parameters for grid search\n",
    "\n",
    "    # penalty\n",
    "    penalty = np.array(['l1', 'l2'])\n",
    "    \n",
    "    #regularization parameter\n",
    "    C_OPTIONS = np.array([0.1, 1.0]) \n",
    "\n",
    "    #‘ovr’ --- a binary problem is fit for each label\n",
    "    # ‘multinomial’ --- loss minimised is the multinomial loss fit across the entire probability distribution\n",
    "    multi_class = np.array(['multinomial', 'ovr'])\n",
    "    \n",
    "    \n",
    "    #SelectFromModel - default\n",
    "    param_grid = [\n",
    "        {\n",
    "            'preprocessing': [PCA( ), \n",
    "                               discriminant_analysis.LinearDiscriminantAnalysis( ),\n",
    "                               LocallyLinearEmbedding()],\n",
    "            'preprocessing__n_components': N_components,\n",
    "            'classify__penalty': penalty,\n",
    "            'classify__C': C_OPTIONS,\n",
    "            'classify__multi_class':multi_class\n",
    "        },{\n",
    "            'preprocessing': [SelectNFeaturesFromModel(ExtraTreesClassifier(), n_selected = 10)],\n",
    "            'preprocessing__estimator': [ExtraTreesClassifier(), LogisticRegression()],\n",
    "            'preprocessing__n_selected': N_features,\n",
    "            'classify__penalty': penalty,\n",
    "            'classify__C': C_OPTIONS,\n",
    "            'classify__multi_class':multi_class\n",
    "        }, {\n",
    "            'preprocessing': [SelectKBest(chi2), SelectKBest(f_classif)],\n",
    "            'preprocessing__k': N_features, \n",
    "            'classify__penalty': penalty,\n",
    "            'classify__C': C_OPTIONS,\n",
    "            'classify__multi_class':multi_class\n",
    "        },{\n",
    "            'preprocessing': [None],\n",
    "            'classify__penalty': penalty,\n",
    "            'classify__C': C_OPTIONS,\n",
    "            'classify__multi_class':multi_class\n",
    "        }\n",
    "    ]\n",
    "    \n",
    "\n",
    "    grid = GridSearchCV(pipe, cv=skf, n_jobs=1, param_grid=param_grid)\n",
    "    grid.fit(X, y)\n",
    "\n",
    "    \n",
    "    mean_scores = np.array(grid.cv_results_['mean_test_score'])\n",
    "    ind = grid.best_index_\n",
    "    \n",
    "\n",
    "    print()\n",
    "    print('Best score:', mean_scores[ind])\n",
    "    print('Std:', grid.cv_results_['std_test_score'][ind])\n",
    "    print('Penalty:', grid.cv_results_['params'][ind]['classify__penalty'])\n",
    "    print('C = ', grid.cv_results_['params'][ind]['classify__C'])\n",
    "    print('multi_class:', grid.cv_results_['params'][ind]['classify__multi_class'])\n",
    "    print()\n",
    "    print('Preprocessing:', grid.cv_results_['params'][ind]['preprocessing'])\n",
    "    print()\n",
    "    print()\n",
    "    return {\"best score\": grid.best_score_, \"std\":grid.cv_results_['std_test_score'][ind], \n",
    "            \"lr_param\":{'penaltys':grid.best_params_['classify__penalty'], \n",
    "                         'C':grid.best_params_['classify__C'],\n",
    "                         'multi_class':grid.best_params_['classify__multi_class']}, \n",
    "            'prep_method':grid.best_params_['preprocessing']}\n",
    "    "
   ]
  },
  {
   "cell_type": "code",
   "execution_count": null,
   "metadata": {},
   "outputs": [],
   "source": []
  },
  {
   "cell_type": "code",
   "execution_count": null,
   "metadata": {},
   "outputs": [],
   "source": []
  },
  {
   "cell_type": "markdown",
   "metadata": {},
   "source": [
    "### Pipeline for kNN"
   ]
  },
  {
   "cell_type": "code",
   "execution_count": 281,
   "metadata": {},
   "outputs": [],
   "source": [
    "def find_best_knn(X, y, N_components = np.array([1, 2, 3, 5, 10, 15, 20]), N_features = np.array([5,10,20,50,100])):\n",
    "        \n",
    "    # Stratification\n",
    "    skf = RepeatedStratifiedKFold(n_splits=10, n_repeats=2,  random_state=42)\n",
    "   \n",
    "\n",
    "\n",
    "    # Feture selection + kNN pipline\n",
    "    pipe = Pipeline([\n",
    "         ('preprocessing', PCA( )),\n",
    "        ('classify', KNeighborsClassifier())\n",
    "    ])\n",
    "\n",
    "    # Parameters for grid search\n",
    "    \n",
    "    # 1 to k neighbours (with step 5)\n",
    "    C_OPTIONS = np.array([1, 2, 3, 5, 10, 15, 20])\n",
    "    \n",
    "    #'uniform' --- all neighbours have the same weight \n",
    "    #'distance' --- weights are proportional to the inverse of the distance from the query point\n",
    "    W_OPTIONS = np.array(['uniform', 'distance']) \n",
    "\n",
    "    # Parameter for the Minkowski metric\n",
    "    # p = 1 --- manhattan_distance (L1) \n",
    "    # p = 2 --- euclidean_distance (L2) \n",
    "    p_OPTIONS = np.array([1, 2, 4])\n",
    "    \n",
    "    #SelectFromModel - default\n",
    "    param_grid = [\n",
    "        {\n",
    "            'preprocessing': [PCA( ), \n",
    "                               discriminant_analysis.LinearDiscriminantAnalysis( ),\n",
    "                               LocallyLinearEmbedding()],\n",
    "            'preprocessing__n_components': N_components,\n",
    "            'classify__n_neighbors': C_OPTIONS,\n",
    "            'classify__weights': W_OPTIONS,\n",
    "            'classify__p':p_OPTIONS\n",
    "        },{\n",
    "            'preprocessing': [SelectNFeaturesFromModel(estimator = ExtraTreesClassifier(), n_selected = 10)],\n",
    "            'preprocessing__estimator': [ExtraTreesClassifier(), LogisticRegression()],\n",
    "            'preprocessing__n_selected': N_features,\n",
    "            'classify__n_neighbors': C_OPTIONS,\n",
    "            'classify__weights': W_OPTIONS,\n",
    "            'classify__p':p_OPTIONS\n",
    "        }, {\n",
    "            'preprocessing': [SelectKBest(chi2), SelectKBest(f_classif)],\n",
    "            'preprocessing__k': N_features, \n",
    "            'classify__n_neighbors': C_OPTIONS,\n",
    "            'classify__weights': W_OPTIONS,\n",
    "            'classify__p':p_OPTIONS\n",
    "        },{\n",
    "            'preprocessing': [None],\n",
    "            'classify__n_neighbors': C_OPTIONS,\n",
    "            'classify__weights': W_OPTIONS,\n",
    "            'classify__p':p_OPTIONS\n",
    "        }\n",
    "    ]\n",
    "    \n",
    "\n",
    "    grid = GridSearchCV(pipe, cv=skf, n_jobs=1, param_grid=param_grid)\n",
    "    grid.fit(X, y)\n",
    "\n",
    "    \n",
    "    mean_scores = np.array(grid.cv_results_['mean_test_score'])\n",
    "    ind = grid.best_index_\n",
    "    \n",
    "\n",
    "    print()\n",
    "    print('Best score:', mean_scores[ind])\n",
    "    print('Std:', grid.cv_results_['std_test_score'][ind])\n",
    "    print('Number of neighbours:', grid.cv_results_['params'][ind]['classify__n_neighbors'])\n",
    "    print('Weightning scheme:', grid.cv_results_['params'][ind]['classify__weights'])\n",
    "    print('p = ', grid.cv_results_['params'][ind]['classify__p'])\n",
    "    print()\n",
    "    print('Preprocessing:', grid.cv_results_['params'][ind]['preprocessing'])\n",
    "    print()\n",
    "    print()\n",
    "    return {\"best score\": grid.best_score_, \"std\":grid.cv_results_['std_test_score'][ind], \n",
    "            \"knn_param\":{'n_neighbors':grid.best_params_['classify__n_neighbors'], \n",
    "                         'p':grid.best_params_['classify__p'],\n",
    "                         'weights':grid.best_params_['classify__weights']}, \n",
    "            'prep_method':grid.best_params_['preprocessing']}\n",
    "    "
   ]
  },
  {
   "cell_type": "markdown",
   "metadata": {},
   "source": [
    "### Pipeline for Random forest"
   ]
  },
  {
   "cell_type": "code",
   "execution_count": 282,
   "metadata": {},
   "outputs": [],
   "source": [
    "def find_best_rfc(X, y, N_components = np.array([1, 2, 3, 5, 10, 15, 20]), N_features = np.array([5,10,20,50,100])):\n",
    "        \n",
    "    # Stratification\n",
    "    skf = RepeatedStratifiedKFold(n_splits=10, n_repeats=2,  random_state=42)\n",
    "   \n",
    "\n",
    "\n",
    "    # Feture selection + kNN pipline\n",
    "    pipe = Pipeline([\n",
    "        ('preprocessing', PCA( )),\n",
    "        ('classify', RandomForestClassifier())\n",
    "        ])\n",
    "\n",
    "    # Parameters grid search\n",
    "\n",
    "    \n",
    "    # number of trees\n",
    "    C_OPTIONS = np.array([1, 10, 50, 100])\n",
    "        \n",
    "    #criterion for splitting\n",
    "    criterion = np.array(['gini', 'entropy']) \n",
    "\n",
    "    min_samples_leaf = np.array([1, 2, 4])\n",
    "    \n",
    "    #SelectFromModel - default\n",
    "    param_grid = [\n",
    "        {\n",
    "            'preprocessing': [PCA( ), \n",
    "                               discriminant_analysis.LinearDiscriminantAnalysis( ),\n",
    "                               LocallyLinearEmbedding()],\n",
    "            'preprocessing__n_components': N_components,\n",
    "            'classify__n_estimators': C_OPTIONS,\n",
    "            'classify__criterion': criterion,\n",
    "            'classify__min_samples_leaf':min_samples_leaf\n",
    "        },{\n",
    "            'preprocessing': [SelectNFeaturesFromModel(estimator = ExtraTreesClassifier(), n_selected = 10)],\n",
    "            'preprocessing__estimator': [ExtraTreesClassifier(), LogisticRegression()],\n",
    "            'preprocessing__n_selected': N_features,\n",
    "            'classify__n_estimators': C_OPTIONS,\n",
    "            'classify__criterion': criterion,\n",
    "            'classify__min_samples_leaf':min_samples_leaf\n",
    "        }, {\n",
    "            'preprocessing': [SelectKBest(chi2), SelectKBest(f_classif)],\n",
    "            'preprocessing__k': N_features,\n",
    "            'classify__n_estimators': C_OPTIONS,\n",
    "            'classify__criterion': criterion,\n",
    "            'classify__min_samples_leaf':min_samples_leaf\n",
    "        },{\n",
    "             'preprocessing': [None],\n",
    "             'classify__n_estimators': C_OPTIONS,\n",
    "             'classify__criterion': criterion,\n",
    "             'classify__min_samples_leaf':min_samples_leaf\n",
    "         }\n",
    "    ]\n",
    "    \n",
    "\n",
    "    grid = GridSearchCV(pipe, cv=skf, n_jobs=1, param_grid=param_grid)\n",
    "    grid.fit(X, y)\n",
    "\n",
    "    \n",
    "    mean_scores = np.array(grid.cv_results_['mean_test_score'])\n",
    "    ind = grid.best_index_\n",
    "    \n",
    "\n",
    "    print()\n",
    "    print('Best score:', mean_scores[ind])\n",
    "    print('Std:', grid.cv_results_['std_test_score'][ind])\n",
    "    print('Number of trees:', grid.cv_results_['params'][ind]['classify__n_estimators'])\n",
    "    print('Splitting criterion:', grid.cv_results_['params'][ind]['classify__criterion'])\n",
    "    print('Min number of samples in the leaf:', grid.cv_results_['params'][ind]['classify__min_samples_leaf'])\n",
    "    print()\n",
    "    print('Preprocessing:', grid.cv_results_['params'][ind]['preprocessing'])\n",
    "    print()\n",
    "    print()\n",
    "    return {\"best score\": grid.best_score_, \"std\":grid.cv_results_['std_test_score'][ind], \n",
    "            \"rfc_param\":{'n_estimators':grid.best_params_['classify__n_estimators'], \n",
    "                         'criterion':grid.best_params_['classify__criterion'],\n",
    "                         'min_samples_leaf':grid.best_params_['classify__min_samples_leaf']}, \n",
    "            'prep_method':grid.best_params_['preprocessing']}\n",
    "    "
   ]
  },
  {
   "cell_type": "markdown",
   "metadata": {},
   "source": [
    "### Pipeline for SVD"
   ]
  },
  {
   "cell_type": "code",
   "execution_count": 289,
   "metadata": {},
   "outputs": [],
   "source": [
    "def find_best_svc(X, y, N_components = np.array([1, 2, 3, 5, 10, 15, 20]), N_features = np.array([5,10,20,50,100])):\n",
    "        \n",
    "    # Stratification\n",
    "    skf = RepeatedStratifiedKFold(n_splits=10, n_repeats=2,  random_state=42)\n",
    "   \n",
    "\n",
    "\n",
    "    # Feture selection + kNN pipline\n",
    "    pipe = Pipeline([\n",
    "        ('preprocessing', PCA( )),\n",
    "        ('classify', LinearSVC(dual=False))\n",
    "        ])\n",
    "\n",
    "    # Parameters for grid search\n",
    "    \n",
    "    # penalty parameter\n",
    "    C_OPTIONS = np.array([0.001, 0.1, 1, 10])\n",
    "    penalty = ['l1', 'l2']\n",
    "        \n",
    "    # kernel\n",
    "    #kernel = ['rbf', 'linear', 'poly', 'sigmoid']\n",
    "    # gamma parameter\n",
    "    #gamma = np.array([0.001, 1, 2, 4])\n",
    "    #gamma = np.array([1])\n",
    "    # degree\n",
    "    #degree = np.array([1,2,3,4])\n",
    "    #degree = np.array([1])\n",
    "    \n",
    "    #SelectFromModel - default\n",
    "    param_grid = [\n",
    "        {\n",
    "            'preprocessing': [PCA( ), \n",
    "                               discriminant_analysis.LinearDiscriminantAnalysis( ),\n",
    "                               LocallyLinearEmbedding()],\n",
    "            'preprocessing__n_components': N_components,\n",
    "            'classify__C': C_OPTIONS,\n",
    "            'classify__penalty':penalty\n",
    "           # 'classify__kernel': kernel,\n",
    "           # 'classify__gamma':gamma,\n",
    "           # 'classify__degree': degree\n",
    "        },{\n",
    "            'preprocessing': [SelectNFeaturesFromModel(estimator = ExtraTreesClassifier(), n_selected = 10)],\n",
    "            'preprocessing__estimator': [ExtraTreesClassifier(), LogisticRegression()],\n",
    "            'preprocessing__n_selected': N_features,\n",
    "            'classify__C': C_OPTIONS,\n",
    "            'classify__penalty':penalty\n",
    "           # 'classify__kernel': kernel,\n",
    "           # 'classify__gamma':gamma,\n",
    "           # 'classify__degree': degree\n",
    "        }, {\n",
    "            'preprocessing': [SelectKBest(chi2), SelectKBest(f_classif)],\n",
    "            'preprocessing__k': N_features,\n",
    "            'classify__C': C_OPTIONS,\n",
    "            'classify__penalty':penalty\n",
    "           # 'classify__kernel': kernel,\n",
    "           # 'classify__gamma':gamma,\n",
    "           # 'classify__degree': degree\n",
    "        },{\n",
    "             'preprocessing': [None],\n",
    "             'classify__C': C_OPTIONS,\n",
    "            'classify__penalty':penalty\n",
    "          #   'classify__kernel': kernel,\n",
    "          #   'classify__gamma':gamma,\n",
    "          #   'classify__degree': degree\n",
    "         }\n",
    "    ]\n",
    "    \n",
    "\n",
    "    grid = GridSearchCV(pipe, cv=skf, n_jobs=1, param_grid=param_grid)\n",
    "    grid.fit(X, y)\n",
    "\n",
    "    \n",
    "    mean_scores = np.array(grid.cv_results_['mean_test_score'])\n",
    "    ind = grid.best_index_\n",
    "    \n",
    "\n",
    "    print()\n",
    "    print('Best score:', mean_scores[ind])\n",
    "    print('Std:', grid.cv_results_['std_test_score'][ind])\n",
    "    print('Regulsrization parameter:', grid.cv_results_['params'][ind]['classify__C'])\n",
    "    print('Penalty:', grid.cv_results_['params'][ind]['classify__penalty'])\n",
    "    #print('Kernel:', grid.cv_results_['params'][ind]['classify__kernel'])\n",
    "    #print('Gamma:', grid.cv_results_['params'][ind]['classify__gamma'])\n",
    "    #print('Degree:', grid.cv_results_['params'][ind]['classify__degree'])\n",
    "    print()\n",
    "    print('Preprocessing:', grid.cv_results_['params'][ind]['preprocessing'])\n",
    "    print()\n",
    "    print()\n",
    "    return {\"best score\": grid.best_score_, \"std\":grid.cv_results_['std_test_score'][ind], \n",
    "            \"svc_param\":{'C':grid.best_params_['classify__C'], \n",
    "                         'penalty':grid.best_params_['classify__penalty'],\n",
    "                        # 'gamma':grid.best_params_['classify__gamma'],\n",
    "                        #'degree':grid.best_params_['classify__degree']\n",
    "                        }, \n",
    "            'prep_method':grid.best_params_['preprocessing']}\n",
    "    "
   ]
  },
  {
   "cell_type": "code",
   "execution_count": null,
   "metadata": {},
   "outputs": [],
   "source": []
  },
  {
   "cell_type": "code",
   "execution_count": 247,
   "metadata": {},
   "outputs": [],
   "source": [
    "def draw_mean_std(results, data, y):\n",
    "    \n",
    "    '''\n",
    "    results - dictionary, contaning best model for each dataset:\n",
    "            best score\n",
    "            std\n",
    "            knn_param - dictionary with parameters, passed to kNN\n",
    "            prep_method - method for data preprocessing (if applicable)\n",
    "    \n",
    "    data - list of dataset\n",
    "    y - target variable\n",
    "    '''\n",
    "    names = ['Volumes','Thicknesses', 'fMRI', 'Full dataset']\n",
    "    perf =  [[] for _ in range(len(data))]\n",
    "    best_features =  [[] for _ in range(len(data))]\n",
    "\n",
    "\n",
    "    for iter in [42,0,60,72,76,82,7,9,765,654,1,54,634,8,35,85,43,2345,87,99]:\n",
    "    \n",
    "        sss = StratifiedShuffleSplit(n_splits=10, test_size=20,  random_state=iter)\n",
    "        #sss.get_n_splits(X, y_t)\n",
    "\n",
    "        for dataset in range(len(data)):\n",
    "            scores = np.array([results[0][dataset]['best score'], \n",
    "                          results[1][dataset]['best score'], \n",
    "                          results[2][dataset]['best score']])\n",
    "\n",
    "            model_index = np.where(scores == max(scores))[0][0]\n",
    "            best_knn_args = results[model_index][dataset]['knn_param']\n",
    "            model =  KNeighborsClassifier(**best_knn_args)\n",
    "\n",
    "            for train_index, test_index in sss.split(data[0], y):\n",
    "            \n",
    "                if (results[model_index][dataset]['prep_method'] == ''):\n",
    "                    # fit\n",
    "                    model.fit(data[dataset].iloc[train_index],y[train_index])\n",
    "                        \n",
    "                    # test\n",
    "                    model_s = model.score(data[dataset].iloc[test_index],y[test_index])\n",
    "                    perf[dataset].append(model_s)\n",
    "                \n",
    "                elif (str(results[model_index][dataset]['prep_method']).find('Select') >= 0):\n",
    "                    # transform\n",
    "                    transformer = results[model_index][dataset]['prep_method']       \n",
    "                    transformed_data = transformer.fit_transform(data[dataset].iloc[train_index], y[train_index])\n",
    "                    mask = transformer.fit(data[dataset].iloc[train_index], y[train_index]).get_support(indices = True)\n",
    "                    best_features[dataset].append(data[dataset].columns[mask])\n",
    "                \n",
    "                    # fit\n",
    "                    model.fit(transformed_data,y[train_index])\n",
    "                \n",
    "                    # test\n",
    "                    model_s = model.score(data[dataset].iloc[:, mask].iloc[test_index],y[test_index])\n",
    "                    perf[dataset].append(model_s)\n",
    "            \n",
    "                else:\n",
    "                    # transform\n",
    "                    transformer = results[model_index][dataset]['prep_method']       \n",
    "                    transformed_data = transformer.fit_transform(data[dataset].iloc[train_index], y[train_index])\n",
    "                \n",
    "                \n",
    "                    # fit\n",
    "                    model.fit(transformed_data,y[train_index])\n",
    "                \n",
    "                    # test\n",
    "                    transformed_test_data = transformer.fit_transform(data[dataset].iloc[test_index])\n",
    "                    model_s = model.score(transformed_test_data, y[test_index])\n",
    "                    perf[dataset].append(model_s)\n",
    "\n",
    "\n",
    "    data_perf={'Thicknesses':perf[0],'Volumes':perf[1],'fMRI':perf[2], 'Full dataset':perf[3]}\n",
    "    #, 'fMRI with clinical data':perf3, 'MRI with clinical data':perf4}\n",
    "    perf=pd.DataFrame(data_perf, columns=('Thicknesses','Volumes','fMRI', 'Full dataset'))\n",
    "    #, 'fMRI with clinical data', 'MRI with clinical data'))\n",
    "\n",
    "\n",
    "    print(np.mean(perf['Thicknesses']), np.mean(perf['Volumes']),np.mean(perf['fMRI']), np.mean(perf['Full dataset']))\n",
    "      #,np.mean(perf['fMRI with clinical data']),np.mean(perf['MRI with clinical data']))\n",
    "    print(np.std(perf['Thicknesses']), np.std(perf['Volumes']),np.std(perf['fMRI']), np.std(perf['Full dataset']))\n",
    "      #,np.std(perf['fMRI with clinical data']),np.std(perf['MRI with clinical data']))\n",
    "    perf=np.array(perf)\n",
    "\n",
    "    plt.figure(figsize=[10,5])\n",
    "    plt.violinplot(perf,positions=range(len(data)))\n",
    "    plt.xticks(range(len(data)), names, fontsize=8)\n",
    "    \n",
    "    plt.axis(xmin = -0.5, xmax = dataset + 0.5, ymin=0, ymax=1.05)\n",
    "    plt.ylabel('Accuracy',fontsize=8)\n",
    "#    plt.title('4 classes, best models')\n",
    "    plt.show()\n",
    "    "
   ]
  },
  {
   "cell_type": "code",
   "execution_count": null,
   "metadata": {},
   "outputs": [],
   "source": []
  },
  {
   "cell_type": "markdown",
   "metadata": {},
   "source": [
    "# 4 types classification\n",
    "\n",
    "* No dimensionality reduction or feature selection\n",
    "* With dimensionality reduction:\n",
    "    + PCA\n",
    "    + LDA\n",
    "    + LLE\n",
    "* With feture selection\n",
    "    + ExtraTreesClassifier\n",
    "    + LogisticRegression\n",
    "    + SelectKBest(chi2)\n",
    "    + SelectKBest(f_classif)"
   ]
  },
  {
   "cell_type": "markdown",
   "metadata": {},
   "source": [
    "#### Random forest on BDI only"
   ]
  },
  {
   "cell_type": "code",
   "execution_count": 261,
   "metadata": {},
   "outputs": [
    {
     "name": "stdout",
     "output_type": "stream",
     "text": [
      "\n",
      "Best score: 0.466666666667\n",
      "Std: 0.15304247043\n",
      "Number of trees: 10\n",
      "Splitting criterion: entropy\n",
      "Min number of samples in the leaf: 4\n"
     ]
    }
   ],
   "source": [
    "clf = RandomForestClassifier()\n",
    "ss = RepeatedStratifiedKFold(n_splits=10, n_repeats=10,  random_state=42)\n",
    "    \n",
    "    \n",
    "    # number of trees\n",
    "C_OPTIONS = np.array([1, 10, 50, 100])\n",
    "    \n",
    "    #criterion for splitting\n",
    "criterion = np.array(['gini', 'entropy']) \n",
    "\n",
    "min_samples_leaf = np.array([1, 2, 4])\n",
    "    \n",
    "    #SelectFromModel - default\n",
    "param_grid = [\n",
    "        {   'n_estimators': C_OPTIONS,\n",
    "            'criterion': criterion,\n",
    "            'min_samples_leaf':min_samples_leaf}]\n",
    "\n",
    "grid = GridSearchCV(clf, param_grid = param_grid, cv=ss)\n",
    "grid.fit(BDI.reshape(-1, 1), y)\n",
    "\n",
    "ind = grid.best_index_\n",
    "print()\n",
    "print('Best score:', np.array(grid.cv_results_['mean_test_score'])[ind])\n",
    "print('Std:', grid.cv_results_['std_test_score'][ind])\n",
    "print('Number of trees:', grid.cv_results_['params'][ind]['n_estimators'])\n",
    "print('Splitting criterion:', grid.cv_results_['params'][ind]['criterion'])\n",
    "print('Min number of samples in the leaf:', grid.cv_results_['params'][ind]['min_samples_leaf'])"
   ]
  },
  {
   "cell_type": "code",
   "execution_count": null,
   "metadata": {},
   "outputs": [],
   "source": []
  },
  {
   "cell_type": "markdown",
   "metadata": {},
   "source": [
    "#### Random forest on datasets"
   ]
  },
  {
   "cell_type": "code",
   "execution_count": null,
   "metadata": {
    "scrolled": false
   },
   "outputs": [],
   "source": [
    "\n",
    "for i in range(len(data)):\n",
    "\n",
    "    print(data_names[i])\n",
    "    print(' ')\n",
    "    #find_best_rfc(data[i], y)\n",
    "    #find_best_knn(data[i], y, N_components=[1], N_features=[10])\n",
    "    #find_best_lr(data[i], y, N_components=[1], N_features=[10])\n",
    "    #find_best_svc(data[i], y, N_components=[1], N_features=[10])\n",
    "    print('------------------------------------')"
   ]
  },
  {
   "cell_type": "code",
   "execution_count": null,
   "metadata": {},
   "outputs": [],
   "source": []
  },
  {
   "cell_type": "code",
   "execution_count": null,
   "metadata": {},
   "outputs": [],
   "source": []
  },
  {
   "cell_type": "markdown",
   "metadata": {},
   "source": [
    "### 4 classes"
   ]
  },
  {
   "cell_type": "code",
   "execution_count": 290,
   "metadata": {
    "scrolled": false
   },
   "outputs": [
    {
     "name": "stdout",
     "output_type": "stream",
     "text": [
      "thickness_mri_freesurfer\n",
      " \n",
      "\n",
      "Best score: 0.35\n",
      "Std: 0.121381405358\n",
      "Number of neighbours: 5\n",
      "Weightning scheme: uniform\n",
      "p =  4\n",
      "\n",
      "Preprocessing: SelectNFeaturesFromModel(estimator=ExtraTreesClassifier(bootstrap=False, class_weight=None, criterion='gini',\n",
      "           max_depth=None, max_features='auto', max_leaf_nodes=None,\n",
      "           min_impurity_decrease=0.0, min_impurity_split=None,\n",
      "           min_samples_leaf=1, min_samples_split=2,\n",
      "           min_weight_fraction_leaf=0.0, n_estimators=10, n_jobs=1,\n",
      "           oob_score=False, random_state=None, verbose=0, warm_start=False),\n",
      "             n_selected=10, prefit=False)\n",
      "\n",
      "\n",
      " \n",
      "\n",
      "Best score: 0.405555555556\n",
      "Std: 0.116978899169\n",
      "Penalty: l2\n",
      "C =  0.1\n",
      "multi_class: ovr\n",
      "\n",
      "Preprocessing: None\n",
      "\n",
      "\n",
      " \n",
      "\n",
      "Best score: 0.394444444444\n",
      "Std: 0.14544621539\n",
      "Number of trees: 50\n",
      "Splitting criterion: gini\n",
      "Min number of samples in the leaf: 1\n",
      "\n",
      "Preprocessing: PCA(copy=True, iterated_power='auto', n_components=20, random_state=None,\n",
      "  svd_solver='auto', tol=0.0, whiten=False)\n",
      "\n",
      "\n",
      " \n",
      "\n",
      "Best score: 0.355555555556\n",
      "Std: 0.132700518497\n",
      "Regulsrization parameter: 0.1\n",
      "Penalty: l1\n",
      "\n",
      "Preprocessing: SelectKBest(k=20, score_func=<function chi2 at 0x108aeac80>)\n",
      "\n",
      "\n",
      "------------------------------------\n",
      "volumes_mri_freesurfer\n",
      " \n",
      "\n",
      "Best score: 0.455555555556\n",
      "Std: 0.144298683254\n",
      "Number of neighbours: 10\n",
      "Weightning scheme: uniform\n",
      "p =  1\n",
      "\n",
      "Preprocessing: PCA(copy=True, iterated_power='auto', n_components=1, random_state=None,\n",
      "  svd_solver='auto', tol=0.0, whiten=False)\n",
      "\n",
      "\n",
      " \n",
      "\n",
      "Best score: 0.416666666667\n",
      "Std: 0.112653436954\n",
      "Penalty: l2\n",
      "C =  0.1\n",
      "multi_class: multinomial\n",
      "\n",
      "Preprocessing: LinearDiscriminantAnalysis(n_components=3, priors=None, shrinkage=None,\n",
      "              solver='svd', store_covariance=False, tol=0.0001)\n",
      "\n",
      "\n",
      " \n",
      "\n",
      "Best score: 0.461111111111\n",
      "Std: 0.151136732825\n",
      "Number of trees: 50\n",
      "Splitting criterion: gini\n",
      "Min number of samples in the leaf: 4\n",
      "\n",
      "Preprocessing: PCA(copy=True, iterated_power='auto', n_components=1, random_state=None,\n",
      "  svd_solver='auto', tol=0.0, whiten=False)\n",
      "\n",
      "\n",
      " \n",
      "\n",
      "Best score: 0.433333333333\n",
      "Std: 0.159443652551\n",
      "Regulsrization parameter: 0.1\n",
      "Penalty: l1\n",
      "\n",
      "Preprocessing: None\n",
      "\n",
      "\n",
      "------------------------------------\n",
      "thickness+volumes\n",
      " \n",
      "\n",
      "Best score: 0.394444444444\n",
      "Std: 0.206949952472\n",
      "Number of neighbours: 3\n",
      "Weightning scheme: distance\n",
      "p =  1\n",
      "\n",
      "Preprocessing: SelectKBest(k=10, score_func=<function chi2 at 0x108aeac80>)\n",
      "\n",
      "\n",
      " \n",
      "\n",
      "Best score: 0.361111111111\n",
      "Std: 0.147305579603\n",
      "Penalty: l2\n",
      "C =  0.1\n",
      "multi_class: multinomial\n",
      "\n",
      "Preprocessing: PCA(copy=True, iterated_power='auto', n_components=3, random_state=None,\n",
      "  svd_solver='auto', tol=0.0, whiten=False)\n",
      "\n",
      "\n",
      " \n",
      "\n",
      "Best score: 0.405555555556\n",
      "Std: 0.190305885265\n",
      "Number of trees: 50\n",
      "Splitting criterion: entropy\n",
      "Min number of samples in the leaf: 2\n",
      "\n",
      "Preprocessing: SelectKBest(k=5, score_func=<function chi2 at 0x108aeac80>)\n",
      "\n",
      "\n",
      " \n",
      "\n",
      "Best score: 0.383333333333\n",
      "Std: 0.1541968075\n",
      "Regulsrization parameter: 0.1\n",
      "Penalty: l1\n",
      "\n",
      "Preprocessing: None\n",
      "\n",
      "\n",
      "------------------------------------\n",
      "MRI + dem\n",
      " \n",
      "\n",
      "Best score: 0.505555555556\n",
      "Std: 0.180739999033\n",
      "Number of neighbours: 15\n",
      "Weightning scheme: uniform\n",
      "p =  1\n",
      "\n",
      "Preprocessing: SelectKBest(k=5, score_func=<function f_classif at 0x108aeab70>)\n",
      "\n",
      "\n",
      " \n",
      "\n",
      "Best score: 0.494444444444\n",
      "Std: 0.152232728385\n",
      "Penalty: l1\n",
      "C =  1.0\n",
      "multi_class: multinomial\n",
      "\n",
      "Preprocessing: SelectKBest(k=5, score_func=<function f_classif at 0x108aeab70>)\n",
      "\n",
      "\n",
      " \n",
      "\n",
      "Best score: 0.522222222222\n",
      "Std: 0.147186483179\n",
      "Number of trees: 100\n",
      "Splitting criterion: gini\n",
      "Min number of samples in the leaf: 1\n",
      "\n",
      "Preprocessing: SelectKBest(k=50, score_func=<function f_classif at 0x108aeab70>)\n",
      "\n",
      "\n",
      " \n",
      "\n",
      "Best score: 0.494444444444\n",
      "Std: 0.143626276479\n",
      "Regulsrization parameter: 10.0\n",
      "Penalty: l1\n",
      "\n",
      "Preprocessing: SelectKBest(k=5, score_func=<function f_classif at 0x108aeab70>)\n",
      "\n",
      "\n",
      "------------------------------------\n"
     ]
    }
   ],
   "source": [
    "result_4classes = [[] for _ in range(4)]\n",
    "N_components = [1, 2, 3, 5, 10, 15, 20]\n",
    "N_features = [5,10,20,50,100]\n",
    "\n",
    "for i in range(len(data)):\n",
    "\n",
    "    print(data_names[i])\n",
    "    print(' ')\n",
    "    result_4classes[0].append(find_best_knn(data[i], y, N_components = N_components, N_features = N_features))\n",
    "    print(' ')\n",
    "    result_4classes[1].append(find_best_lr(data[i], y, N_components = N_components, N_features = N_features))\n",
    "    print(' ')\n",
    "    result_4classes[2].append(find_best_rfc(data[i], y, N_components = N_components, N_features = N_features))\n",
    "    print(' ')\n",
    "    result_4classes[3].append(find_best_svc(data[i], y, N_components = N_components, N_features = N_features))\n",
    "    print('------------------------------------')"
   ]
  },
  {
   "cell_type": "code",
   "execution_count": null,
   "metadata": {},
   "outputs": [],
   "source": []
  },
  {
   "cell_type": "code",
   "execution_count": null,
   "metadata": {},
   "outputs": [],
   "source": []
  },
  {
   "cell_type": "code",
   "execution_count": null,
   "metadata": {},
   "outputs": [],
   "source": [
    "# result_4classes =  [[] for _ in range(3)]\n",
    "\n",
    "# for i in range(len(data)):\n",
    "\n",
    "#     print(data_names[i])\n",
    "#     print(' ')\n",
    "#     print('Classification on Raw Data')\n",
    "#     result_4classes[0].append(grid_search_knn(data[i], y))\n",
    "#     print('Classification with dimesionality reduction')\n",
    "#     result_4classes[1].append(comparing_dim_reduction(data[i], y))\n",
    "#     print('Classification with feature selection')\n",
    "#     result_4classes[2].append(comparing_feature_selection(data[i], y))\n",
    "#     print('------------------------------------')"
   ]
  },
  {
   "cell_type": "code",
   "execution_count": null,
   "metadata": {
    "scrolled": true
   },
   "outputs": [],
   "source": [
    "\n",
    "    "
   ]
  },
  {
   "cell_type": "markdown",
   "metadata": {},
   "source": [
    "#### Нарисуем среднее и стандартное отклонение по 10 кросс валидациям для лучшей модели каждого датасета\n"
   ]
  },
  {
   "cell_type": "code",
   "execution_count": null,
   "metadata": {},
   "outputs": [],
   "source": [
    "draw_mean_std(result_4classes, data, y)"
   ]
  },
  {
   "cell_type": "code",
   "execution_count": null,
   "metadata": {
    "scrolled": false
   },
   "outputs": [],
   "source": []
  },
  {
   "cell_type": "code",
   "execution_count": null,
   "metadata": {},
   "outputs": [],
   "source": []
  },
  {
   "cell_type": "markdown",
   "metadata": {},
   "source": [
    "* Take best parameters for raw data\n",
    "* Add feature selection \\[1,10, 20, 30, 40\\] \n",
    "* посмотреть, кто хуже всех предсазывается"
   ]
  },
  {
   "cell_type": "code",
   "execution_count": null,
   "metadata": {
    "collapsed": true
   },
   "outputs": [],
   "source": []
  },
  {
   "cell_type": "markdown",
   "metadata": {},
   "source": [
    "# 2 classes"
   ]
  },
  {
   "cell_type": "markdown",
   "metadata": {},
   "source": [
    "## Epilepsy (50) vs No epilepsy (50)"
   ]
  },
  {
   "cell_type": "code",
   "execution_count": 291,
   "metadata": {
    "scrolled": false
   },
   "outputs": [
    {
     "name": "stdout",
     "output_type": "stream",
     "text": [
      "thickness_mri_freesurfer\n",
      " \n",
      "\n",
      "Best score: 0.644444444444\n",
      "Std: 0.14016084235\n",
      "Number of neighbours: 15\n",
      "Weightning scheme: distance\n",
      "p =  1\n",
      "\n",
      "Preprocessing: SelectKBest(k=5, score_func=<function chi2 at 0x108aeac80>)\n",
      "\n",
      "\n",
      " \n",
      "\n",
      "Best score: 0.661111111111\n",
      "Std: 0.150359651141\n",
      "Penalty: l1\n",
      "C =  0.1\n",
      "multi_class: multinomial\n",
      "\n",
      "Preprocessing: None\n",
      "\n",
      "\n",
      " \n",
      "\n",
      "Best score: 0.661111111111\n",
      "Std: 0.114395890455\n",
      "Number of trees: 50\n",
      "Splitting criterion: gini\n",
      "Min number of samples in the leaf: 1\n",
      "\n",
      "Preprocessing: SelectKBest(k=5, score_func=<function chi2 at 0x108aeac80>)\n",
      "\n",
      "\n",
      " \n",
      "\n",
      "Best score: 0.677777777778\n",
      "Std: 0.170375402502\n",
      "Regulsrization parameter: 0.001\n",
      "Penalty: l2\n",
      "\n",
      "Preprocessing: SelectKBest(k=100, score_func=<function chi2 at 0x108aeac80>)\n",
      "\n",
      "\n",
      "------------------------------------\n",
      "volumes_mri_freesurfer\n",
      " \n",
      "\n",
      "Best score: 0.744444444444\n",
      "Std: 0.117260393996\n",
      "Number of neighbours: 15\n",
      "Weightning scheme: uniform\n",
      "p =  1\n",
      "\n",
      "Preprocessing: LinearDiscriminantAnalysis(n_components=1, priors=None, shrinkage=None,\n",
      "              solver='svd', store_covariance=False, tol=0.0001)\n",
      "\n",
      "\n",
      " \n",
      "\n",
      "Best score: 0.744444444444\n",
      "Std: 0.121906156986\n",
      "Penalty: l1\n",
      "C =  0.1\n",
      "multi_class: multinomial\n",
      "\n",
      "Preprocessing: LinearDiscriminantAnalysis(n_components=1, priors=None, shrinkage=None,\n",
      "              solver='svd', store_covariance=False, tol=0.0001)\n",
      "\n",
      "\n",
      " \n",
      "\n",
      "Best score: 0.744444444444\n",
      "Std: 0.120953005873\n",
      "Number of trees: 10\n",
      "Splitting criterion: gini\n",
      "Min number of samples in the leaf: 2\n",
      "\n",
      "Preprocessing: LinearDiscriminantAnalysis(n_components=20, priors=None, shrinkage=None,\n",
      "              solver='svd', store_covariance=False, tol=0.0001)\n",
      "\n",
      "\n",
      " \n",
      "\n",
      "Best score: 0.755555555556\n",
      "Std: 0.134370962472\n",
      "Regulsrization parameter: 1.0\n",
      "Penalty: l2\n",
      "\n",
      "Preprocessing: LinearDiscriminantAnalysis(n_components=1, priors=None, shrinkage=None,\n",
      "              solver='svd', store_covariance=False, tol=0.0001)\n",
      "\n",
      "\n",
      "------------------------------------\n",
      "thickness+volumes\n",
      " \n",
      "\n",
      "Best score: 0.683333333333\n",
      "Std: 0.115803686587\n",
      "Number of neighbours: 3\n",
      "Weightning scheme: distance\n",
      "p =  1\n",
      "\n",
      "Preprocessing: SelectKBest(k=5, score_func=<function chi2 at 0x108aeac80>)\n",
      "\n",
      "\n",
      " \n",
      "\n",
      "Best score: 0.672222222222\n",
      "Std: 0.147353191221\n",
      "Penalty: l1\n",
      "C =  0.1\n",
      "multi_class: multinomial\n",
      "\n",
      "Preprocessing: SelectNFeaturesFromModel(estimator=ExtraTreesClassifier(bootstrap=False, class_weight=None, criterion='gini',\n",
      "           max_depth=None, max_features='auto', max_leaf_nodes=None,\n",
      "           min_impurity_decrease=0.0, min_impurity_split=None,\n",
      "           min_samples_leaf=1, min_samples_split=2,\n",
      "           min_weight_fraction_leaf=0.0, n_estimators=10, n_jobs=1,\n",
      "           oob_score=False, random_state=None, verbose=0, warm_start=False),\n",
      "             n_selected=100, prefit=False)\n",
      "\n",
      "\n",
      " \n",
      "\n",
      "Best score: 0.683333333333\n",
      "Std: 0.127898493702\n",
      "Number of trees: 100\n",
      "Splitting criterion: entropy\n",
      "Min number of samples in the leaf: 2\n",
      "\n",
      "Preprocessing: SelectNFeaturesFromModel(estimator=ExtraTreesClassifier(bootstrap=False, class_weight=None, criterion='gini',\n",
      "           max_depth=None, max_features='auto', max_leaf_nodes=None,\n",
      "           min_impurity_decrease=0.0, min_impurity_split=None,\n",
      "           min_samples_leaf=1, min_samples_split=2,\n",
      "           min_weight_fraction_leaf=0.0, n_estimators=10, n_jobs=1,\n",
      "           oob_score=False, random_state=None, verbose=0, warm_start=False),\n",
      "             n_selected=50, prefit=False)\n",
      "\n",
      "\n",
      " \n",
      "\n",
      "Best score: 0.738888888889\n",
      "Std: 0.140105780144\n",
      "Regulsrization parameter: 0.1\n",
      "Penalty: l1\n",
      "\n",
      "Preprocessing: None\n",
      "\n",
      "\n",
      "------------------------------------\n",
      "MRI + dem\n",
      " \n",
      "\n",
      "Best score: 0.683333333333\n",
      "Std: 0.115803686587\n",
      "Number of neighbours: 3\n",
      "Weightning scheme: distance\n",
      "p =  1\n",
      "\n",
      "Preprocessing: SelectKBest(k=5, score_func=<function chi2 at 0x108aeac80>)\n",
      "\n",
      "\n",
      " \n",
      "\n",
      "Best score: 0.672222222222\n",
      "Std: 0.14709113661\n",
      "Penalty: l2\n",
      "C =  0.1\n",
      "multi_class: ovr\n",
      "\n",
      "Preprocessing: None\n",
      "\n",
      "\n",
      " \n",
      "\n",
      "Best score: 0.677777777778\n",
      "Std: 0.151789734359\n",
      "Number of trees: 100\n",
      "Splitting criterion: gini\n",
      "Min number of samples in the leaf: 2\n",
      "\n",
      "Preprocessing: None\n",
      "\n",
      "\n",
      " \n",
      "\n",
      "Best score: 0.722222222222\n",
      "Std: 0.147771511981\n",
      "Regulsrization parameter: 0.1\n",
      "Penalty: l1\n",
      "\n",
      "Preprocessing: None\n",
      "\n",
      "\n",
      "------------------------------------\n"
     ]
    }
   ],
   "source": [
    "result_E =  [[] for _ in range(4)]\n",
    "\n",
    "\n",
    "for i in range(len(data)):\n",
    "\n",
    "    print(data_names[i])\n",
    "    print(' ')\n",
    "    result_E[0].append(find_best_knn(data[i], y_e, N_components = N_components, N_features = N_features))\n",
    "    print(' ')\n",
    "    result_E[1].append(find_best_lr(data[i], y_e, N_components = N_components, N_features = N_features))\n",
    "    print(' ')\n",
    "    result_E[2].append(find_best_rfc(data[i], y_e, N_components = N_components, N_features = N_features))\n",
    "    print(' ')\n",
    "    result_E[3].append(find_best_svc(data[i], y_e, N_components = N_components, N_features = N_features))\n",
    "    print('------------------------------------')"
   ]
  },
  {
   "cell_type": "code",
   "execution_count": null,
   "metadata": {
    "scrolled": true
   },
   "outputs": [],
   "source": [
    "draw_mean_std(result_E, data, y_E)"
   ]
  },
  {
   "cell_type": "code",
   "execution_count": null,
   "metadata": {
    "scrolled": true
   },
   "outputs": [],
   "source": []
  },
  {
   "cell_type": "code",
   "execution_count": null,
   "metadata": {},
   "outputs": [],
   "source": []
  },
  {
   "cell_type": "code",
   "execution_count": null,
   "metadata": {},
   "outputs": [],
   "source": []
  },
  {
   "cell_type": "markdown",
   "metadata": {},
   "source": [
    "## Depression (50) vs No Depression (50)"
   ]
  },
  {
   "cell_type": "code",
   "execution_count": 166,
   "metadata": {
    "collapsed": true
   },
   "outputs": [],
   "source": []
  },
  {
   "cell_type": "code",
   "execution_count": 292,
   "metadata": {
    "scrolled": false
   },
   "outputs": [
    {
     "name": "stdout",
     "output_type": "stream",
     "text": [
      "thickness_mri_freesurfer\n",
      " \n",
      "\n",
      "Best score: 0.616666666667\n",
      "Std: 0.188561808316\n",
      "Number of neighbours: 10\n",
      "Weightning scheme: uniform\n",
      "p =  1\n",
      "\n",
      "Preprocessing: PCA(copy=True, iterated_power='auto', n_components=15, random_state=None,\n",
      "  svd_solver='auto', tol=0.0, whiten=False)\n",
      "\n",
      "\n",
      " \n",
      "\n",
      "Best score: 0.616666666667\n",
      "Std: 0.186007433809\n",
      "Penalty: l1\n",
      "C =  0.1\n",
      "multi_class: ovr\n",
      "\n",
      "Preprocessing: SelectKBest(k=20, score_func=<function chi2 at 0x108aeac80>)\n",
      "\n",
      "\n",
      " \n",
      "\n",
      "Best score: 0.633333333333\n",
      "Std: 0.18530088978\n",
      "Number of trees: 50\n",
      "Splitting criterion: entropy\n",
      "Min number of samples in the leaf: 2\n",
      "\n",
      "Preprocessing: SelectNFeaturesFromModel(estimator=ExtraTreesClassifier(bootstrap=False, class_weight=None, criterion='gini',\n",
      "           max_depth=None, max_features='auto', max_leaf_nodes=None,\n",
      "           min_impurity_decrease=0.0, min_impurity_split=None,\n",
      "           min_samples_leaf=1, min_samples_split=2,\n",
      "           min_weight_fraction_leaf=0.0, n_estimators=10, n_jobs=1,\n",
      "           oob_score=False, random_state=None, verbose=0, warm_start=False),\n",
      "             n_selected=10, prefit=False)\n",
      "\n",
      "\n",
      " \n",
      "\n",
      "Best score: 0.633333333333\n",
      "Std: 0.170918000699\n",
      "Regulsrization parameter: 0.1\n",
      "Penalty: l2\n",
      "\n",
      "Preprocessing: SelectKBest(k=5, score_func=<function f_classif at 0x108aeab70>)\n",
      "\n",
      "\n",
      "------------------------------------\n",
      "volumes_mri_freesurfer\n",
      " \n",
      "\n",
      "Best score: 0.688888888889\n",
      "Std: 0.152550335753\n",
      "Number of neighbours: 15\n",
      "Weightning scheme: distance\n",
      "p =  4\n",
      "\n",
      "Preprocessing: SelectKBest(k=100, score_func=<function f_classif at 0x108aeab70>)\n",
      "\n",
      "\n",
      " \n",
      "\n",
      "Best score: 0.611111111111\n",
      "Std: 0.132404169865\n",
      "Penalty: l1\n",
      "C =  0.1\n",
      "multi_class: multinomial\n",
      "\n",
      "Preprocessing: PCA(copy=True, iterated_power='auto', n_components=1, random_state=None,\n",
      "  svd_solver='auto', tol=0.0, whiten=False)\n",
      "\n",
      "\n",
      " \n",
      "\n",
      "Best score: 0.644444444444\n",
      "Std: 0.119992283703\n",
      "Number of trees: 100\n",
      "Splitting criterion: gini\n",
      "Min number of samples in the leaf: 4\n",
      "\n",
      "Preprocessing: PCA(copy=True, iterated_power='auto', n_components=1, random_state=None,\n",
      "  svd_solver='auto', tol=0.0, whiten=False)\n",
      "\n",
      "\n",
      " \n",
      "\n",
      "Best score: 0.633333333333\n",
      "Std: 0.129695750333\n",
      "Regulsrization parameter: 10.0\n",
      "Penalty: l1\n",
      "\n",
      "Preprocessing: PCA(copy=True, iterated_power='auto', n_components=1, random_state=None,\n",
      "  svd_solver='auto', tol=0.0, whiten=False)\n",
      "\n",
      "\n",
      "------------------------------------\n",
      "thickness+volumes\n",
      " \n",
      "\n",
      "Best score: 0.677777777778\n",
      "Std: 0.140490762404\n",
      "Number of neighbours: 5\n",
      "Weightning scheme: distance\n",
      "p =  4\n",
      "\n",
      "Preprocessing: SelectKBest(k=20, score_func=<function chi2 at 0x108aeac80>)\n",
      "\n",
      "\n",
      " \n",
      "\n",
      "Best score: 0.633333333333\n",
      "Std: 0.14487116456\n",
      "Penalty: l1\n",
      "C =  0.1\n",
      "multi_class: multinomial\n",
      "\n",
      "Preprocessing: PCA(copy=True, iterated_power='auto', n_components=3, random_state=None,\n",
      "  svd_solver='auto', tol=0.0, whiten=False)\n",
      "\n",
      "\n",
      " \n",
      "\n",
      "Best score: 0.627777777778\n",
      "Std: 0.128920015399\n",
      "Number of trees: 50\n",
      "Splitting criterion: gini\n",
      "Min number of samples in the leaf: 4\n",
      "\n",
      "Preprocessing: PCA(copy=True, iterated_power='auto', n_components=20, random_state=None,\n",
      "  svd_solver='auto', tol=0.0, whiten=False)\n",
      "\n",
      "\n",
      " \n",
      "\n",
      "Best score: 0.633333333333\n",
      "Std: 0.158211454066\n",
      "Regulsrization parameter: 1.0\n",
      "Penalty: l1\n",
      "\n",
      "Preprocessing: PCA(copy=True, iterated_power='auto', n_components=3, random_state=None,\n",
      "  svd_solver='auto', tol=0.0, whiten=False)\n",
      "\n",
      "\n",
      "------------------------------------\n",
      "MRI + dem\n",
      " \n",
      "\n",
      "Best score: 0.75\n",
      "Std: 0.160005786932\n",
      "Number of neighbours: 3\n",
      "Weightning scheme: uniform\n",
      "p =  4\n",
      "\n",
      "Preprocessing: SelectKBest(k=5, score_func=<function f_classif at 0x108aeab70>)\n",
      "\n",
      "\n",
      " \n",
      "\n",
      "Best score: 0.783333333333\n",
      "Std: 0.16841673768\n",
      "Penalty: l1\n",
      "C =  0.1\n",
      "multi_class: multinomial\n",
      "\n",
      "Preprocessing: SelectKBest(k=5, score_func=<function f_classif at 0x108aeab70>)\n",
      "\n",
      "\n",
      " \n",
      "\n",
      "Best score: 0.833333333333\n",
      "Std: 0.130880210993\n",
      "Number of trees: 100\n",
      "Splitting criterion: gini\n",
      "Min number of samples in the leaf: 2\n",
      "\n",
      "Preprocessing: SelectKBest(k=5, score_func=<function f_classif at 0x108aeab70>)\n",
      "\n",
      "\n",
      " \n",
      "\n",
      "Best score: 0.85\n",
      "Std: 0.101683362321\n",
      "Regulsrization parameter: 0.001\n",
      "Penalty: l2\n",
      "\n",
      "Preprocessing: SelectKBest(k=5, score_func=<function f_classif at 0x108aeab70>)\n",
      "\n",
      "\n",
      "------------------------------------\n"
     ]
    }
   ],
   "source": [
    "result_D =  [[] for _ in range(4)]\n",
    "\n",
    "\n",
    "for i in range(len(data)):\n",
    "\n",
    "    print(data_names[i])\n",
    "    print(' ')\n",
    "    result_D[0].append(find_best_knn(data[i], y_d, N_components = N_components, N_features = N_features))\n",
    "    print(' ')\n",
    "    result_D[1].append(find_best_lr(data[i], y_d, N_components = N_components, N_features = N_features))\n",
    "    print(' ')\n",
    "    result_D[2].append(find_best_rfc(data[i], y_d, N_components = N_components, N_features = N_features))\n",
    "    print(' ')\n",
    "    result_D[3].append(find_best_svc(data[i], y_d, N_components = N_components, N_features = N_features))\n",
    "    print('------------------------------------')"
   ]
  },
  {
   "cell_type": "code",
   "execution_count": null,
   "metadata": {},
   "outputs": [],
   "source": [
    "draw_mean_std(result_D, data, y_D)"
   ]
  },
  {
   "cell_type": "code",
   "execution_count": null,
   "metadata": {},
   "outputs": [],
   "source": []
  },
  {
   "cell_type": "markdown",
   "metadata": {},
   "source": [
    "## Epilepsy (25) vs Control (25)"
   ]
  },
  {
   "cell_type": "code",
   "execution_count": 134,
   "metadata": {},
   "outputs": [],
   "source": [
    "EC_results = [[] for _ in range(3)]\n",
    "\n",
    "for i in range(len(data_EC)):\n",
    "    print(data_names[i])\n",
    "    print(' ')\n",
    "    print('Classification on Raw Data')\n",
    "    EC_results[0].append(grid_search_knn(data_EC[i], y_EC))\n",
    "    print('Classification with dimesionality  reduction')\n",
    "    EC_results[1].append(comparing_feature_reduction(data_EC[i], y_EC))\n",
    "    print('Classification with feature selection')\n",
    "    EC_results[2].append(comparing_feature_selection(data_EC[i], y_EC))\n",
    "    print('------------------------------------')\n",
    "    "
   ]
  },
  {
   "cell_type": "code",
   "execution_count": null,
   "metadata": {
    "scrolled": true
   },
   "outputs": [],
   "source": [
    "draw_mean_std(EC_results, data_EC, y_EC)"
   ]
  },
  {
   "cell_type": "code",
   "execution_count": null,
   "metadata": {
    "scrolled": true
   },
   "outputs": [],
   "source": []
  },
  {
   "cell_type": "code",
   "execution_count": null,
   "metadata": {},
   "outputs": [],
   "source": []
  },
  {
   "cell_type": "code",
   "execution_count": null,
   "metadata": {},
   "outputs": [],
   "source": []
  },
  {
   "cell_type": "markdown",
   "metadata": {},
   "source": [
    "## Depression (25) vs Control (25)"
   ]
  },
  {
   "cell_type": "code",
   "execution_count": 164,
   "metadata": {},
   "outputs": [],
   "source": [
    "DC_results = [[] for _ in range(3)]\n",
    "for i in range(len(data_DC)):\n",
    "    print(data_names[i])\n",
    "    print(' ')\n",
    "    print('Classification on Raw Data')\n",
    "    DC_results[0].append(grid_search_knn(data_DC[i], y_DC, 25))\n",
    "    print('Classification with dimesionality  reduction')\n",
    "    DC_results[1].append(comparing_feature_reduction(data_DC[i], y_DC, 25))\n",
    "    print('Classification with feature selection')\n",
    "    DC_results[2].append(comparing_feature_selection(data_DC[i], y_DC, 25))\n",
    "    print('------------------------------------')\n",
    "    "
   ]
  },
  {
   "cell_type": "code",
   "execution_count": null,
   "metadata": {
    "scrolled": false
   },
   "outputs": [],
   "source": []
  },
  {
   "cell_type": "code",
   "execution_count": 174,
   "metadata": {
    "scrolled": false
   },
   "outputs": [
    {
     "name": "stdout",
     "output_type": "stream",
     "text": [
      "0.64625 0.5655 0.50725 0.56075\n",
      "0.0916429893663 0.0984111274196 0.107517149795 0.0935250634857\n"
     ]
    },
    {
     "data": {
      "image/png": "[encoded data removed]",
      "text/plain": [
       "<matplotlib.figure.Figure at 0x10fb632b0>"
      ]
     },
     "metadata": {},
     "output_type": "display_data"
    }
   ],
   "source": [
    "draw_mean_std(DC_results, data_DC, y_DC)"
   ]
  },
  {
   "cell_type": "code",
   "execution_count": null,
   "metadata": {},
   "outputs": [],
   "source": []
  },
  {
   "cell_type": "code",
   "execution_count": null,
   "metadata": {},
   "outputs": [],
   "source": []
  },
  {
   "cell_type": "code",
   "execution_count": null,
   "metadata": {},
   "outputs": [],
   "source": []
  },
  {
   "cell_type": "code",
   "execution_count": null,
   "metadata": {},
   "outputs": [],
   "source": []
  },
  {
   "cell_type": "markdown",
   "metadata": {},
   "source": [
    "## Depression with epilepsy (25) vs Epilepsy (25)"
   ]
  },
  {
   "cell_type": "code",
   "execution_count": null,
   "metadata": {
    "collapsed": true
   },
   "outputs": [],
   "source": [
    "DEE_results = [[] for _ in range(3)]\n",
    "for i in range(len(data_DEE)):\n",
    "    print(data_names[i])\n",
    "    print(' ')\n",
    "    print('Classification on Raw Data')\n",
    "    DEE_results[0].append(grid_search_knn(data_DEE[i], y_DEE))\n",
    "    print('Classification with dimesionality reduction')\n",
    "    DEE_results[1].append(comparing_feature_reduction(data_DEE[i], y_DEE))\n",
    "    print('Classification with feature selection')\n",
    "    DEE_results[2].append(comparing_feature_selection(data_DEE[i], y_DEE))\n",
    "    print('------------------------------------')\n",
    "    "
   ]
  },
  {
   "cell_type": "code",
   "execution_count": null,
   "metadata": {
    "scrolled": true
   },
   "outputs": [],
   "source": [
    "draw_mean_std(DC_results, data_DC, y_DC)"
   ]
  },
  {
   "cell_type": "code",
   "execution_count": null,
   "metadata": {
    "scrolled": true
   },
   "outputs": [],
   "source": []
  },
  {
   "cell_type": "code",
   "execution_count": null,
   "metadata": {},
   "outputs": [],
   "source": []
  },
  {
   "cell_type": "code",
   "execution_count": null,
   "metadata": {},
   "outputs": [],
   "source": []
  },
  {
   "cell_type": "markdown",
   "metadata": {},
   "source": []
  },
  {
   "cell_type": "markdown",
   "metadata": {
    "collapsed": true
   },
   "source": [
    "### Some Pictures :)"
   ]
  },
  {
   "cell_type": "code",
   "execution_count": 23,
   "metadata": {
    "collapsed": true
   },
   "outputs": [],
   "source": [
    "def calc_accuracy_for_data(data, methods, names_methods, par_grid, target):\n",
    "    accuracy = []\n",
    "    \n",
    "    for i, method in enumerate(methods):\n",
    "        accuracy.append([])\n",
    "        for n_comp in par_grid:\n",
    "            data_transformed = method.set_params(n_components=n_comp).fit_transform(data)\n",
    "\n",
    "            knn_clf = KNeighborsClassifier()\n",
    "            gs = GridSearchCV(estimator=knn_clf, cv=skf, scoring=make_scorer(accuracy_score), param_grid=param_grid)\n",
    "            gs.fit(data_transformed, target)\n",
    "            accuracy[-1].append(gs.best_score_)\n",
    "            #print(\"method = \" + names_methods[i] + \" n_comp =  \"+str(n_comp)+ \"  score = \", str(gs.best_score_), \"  std = \", gs.cv_results_['std_test_score'][gs.best_index_])\n",
    "    \n",
    "    return accuracy"
   ]
  },
  {
   "cell_type": "code",
   "execution_count": 24,
   "metadata": {
    "collapsed": true
   },
   "outputs": [],
   "source": [
    "def plot_accuracy(accuracy, title, names, par_grid):    \n",
    "    N = len(n_comp_grid)\n",
    "\n",
    "    ind = np.arange(N)  # the x locations for the groups\n",
    "    width = 0.15       # the width of the bars\n",
    "    fig, ax = plt.subplots(figsize=(8, 6))\n",
    "    rects = []\n",
    "    for i in range(len(methods)):\n",
    "        rects.append(ax.bar(ind + width*i, accuracy[i], width, label=names[i]))\n",
    "    ax.set_ylabel('Accuracy score')\n",
    "    ax.set_xlabel(\"num components\")\n",
    "\n",
    "    ax.set_xticks(ind + width * 2)\n",
    "    ax.set_xticklabels(par_grid)\n",
    "    ax.set_ylim(0, 0.7)\n",
    "    \n",
    "    ax.set_title(title)\n",
    "\n",
    "    ax.legend(loc=4)"
   ]
  },
  {
   "cell_type": "markdown",
   "metadata": {},
   "source": [
    "### Бинарная классификация: есть депрессия/нет:"
   ]
  },
  {
   "cell_type": "code",
   "execution_count": 20,
   "metadata": {},
   "outputs": [
    {
     "name": "stdout",
     "output_type": "stream",
     "text": [
      "0\n",
      "Best score: 0.636363636364\n",
      "Std: 0.0832950631438\n",
      "Number of neighbours: 14\n",
      "Dimentioanlity reduction: PCA(copy=True, iterated_power='auto', n_components=17, random_state=None,\n",
      "  svd_solver='auto', tol=0.0, whiten=False)\n",
      "1\n",
      "Best score: 0.616161616162\n",
      "Std: 0.0949172522088\n",
      "Number of neighbours: 10\n",
      "Dimentioanlity reduction: PCA(copy=True, iterated_power='auto', n_components=7, random_state=None,\n",
      "  svd_solver='auto', tol=0.0, whiten=False)\n",
      "2\n",
      "Best score: 0.616161616162\n",
      "Std: 0.1593592414\n",
      "Number of neighbours: 58\n",
      "Dimentioanlity reduction: PCA(copy=True, iterated_power='auto', n_components=1, random_state=None,\n",
      "  svd_solver='auto', tol=0.0, whiten=False)\n",
      "3\n",
      "Best score: 0.616161616162\n",
      "Std: 0.1593592414\n",
      "Number of neighbours: 58\n",
      "Dimentioanlity reduction: PCA(copy=True, iterated_power='auto', n_components=1, random_state=None,\n",
      "  svd_solver='auto', tol=0.0, whiten=False)\n",
      "4\n",
      "Best score: 0.636363636364\n",
      "Std: 0.17272431919\n",
      "Number of neighbours: 30\n",
      "Dimentioanlity reduction: PCA(copy=True, iterated_power='auto', n_components=1, random_state=None,\n",
      "  svd_solver='auto', tol=0.0, whiten=False)\n"
     ]
    },
    {
     "data": {
      "image/png": "[encoded data removed]",
      "text/plain": [
       "<matplotlib.figure.Figure at 0x18fe1666dd8>"
      ]
     },
     "metadata": {},
     "output_type": "display_data"
    },
    {
     "data": {
      "image/png": "[encoded data removed]",
      "text/plain": [
       "<matplotlib.figure.Figure at 0x18fe112af28>"
      ]
     },
     "metadata": {},
     "output_type": "display_data"
    },
    {
     "data": {
      "image/png": "[encoded data removed]",
      "text/plain": [
       "<matplotlib.figure.Figure at 0x18fe492e518>"
      ]
     },
     "metadata": {},
     "output_type": "display_data"
    },
    {
     "data": {
      "image/png": "[encoded data removed]",
      "text/plain": [
       "<matplotlib.figure.Figure at 0x18fe4a6cd68>"
      ]
     },
     "metadata": {},
     "output_type": "display_data"
    },
    {
     "data": {
      "image/png": "[encoded data removed]",
      "text/plain": [
       "<matplotlib.figure.Figure at 0x18fe2a97d30>"
      ]
     },
     "metadata": {},
     "output_type": "display_data"
    }
   ],
   "source": [
    "for i in range(len(data)):\n",
    "    comparing_feature_reduction(data[i], data_names[i], target_depression)\n",
    "        print()"
   ]
  },
  {
   "cell_type": "code",
   "execution_count": 26,
   "metadata": {
    "scrolled": false
   },
   "outputs": [
    {
     "data": {
      "image/png": "[encoded data removed]",
      "text/plain": [
       "<matplotlib.figure.Figure at 0x18fe495df28>"
      ]
     },
     "metadata": {},
     "output_type": "display_data"
    },
    {
     "data": {
      "image/png": "[encoded data removed]",
      "text/plain": [
       "<matplotlib.figure.Figure at 0x18fd94697f0>"
      ]
     },
     "metadata": {},
     "output_type": "display_data"
    },
    {
     "data": {
      "image/png": "[encoded data removed]",
      "text/plain": [
       "<matplotlib.figure.Figure at 0x18fe15f6470>"
      ]
     },
     "metadata": {},
     "output_type": "display_data"
    },
    {
     "data": {
      "image/png": "[encoded data removed]",
      "text/plain": [
       "<matplotlib.figure.Figure at 0x18fe4942a20>"
      ]
     },
     "metadata": {},
     "output_type": "display_data"
    },
    {
     "data": {
      "image/png": "[encoded data removed]",
      "text/plain": [
       "<matplotlib.figure.Figure at 0x18fe4a6cbe0>"
      ]
     },
     "metadata": {},
     "output_type": "display_data"
    }
   ],
   "source": [
    "for i, d in enumerate(data):\n",
    "    accuracy = calc_accuracy_for_data(d, methods, names_methods, n_comp_grid, target_depression)\n",
    "\n",
    "    plot_accuracy(accuracy, data_names[i] + \" comparing feature reduction methods\", names_methods, n_comp_grid)"
   ]
  },
  {
   "cell_type": "markdown",
   "metadata": {},
   "source": [
    "### Бинарная классификация: есть эпилепсия/нет:"
   ]
  },
  {
   "cell_type": "code",
   "execution_count": 21,
   "metadata": {},
   "outputs": [
    {
     "name": "stdout",
     "output_type": "stream",
     "text": [
      "0\n",
      "Best score: 0.59595959596\n",
      "Std: 0.11530204586\n",
      "Number of neighbours: 10\n",
      "Dimentioanlity reduction: PCA(copy=True, iterated_power='auto', n_components=7, random_state=None,\n",
      "  svd_solver='auto', tol=0.0, whiten=False)\n",
      "1\n",
      "Best score: 0.646464646465\n",
      "Std: 0.162873893905\n",
      "Number of neighbours: 18\n",
      "Dimentioanlity reduction: LocallyLinearEmbedding(eigen_solver='auto', hessian_tol=0.0001, max_iter=100,\n",
      "            method='standard', modified_tol=1e-12, n_components=1,\n",
      "            n_jobs=1, n_neighbors=50, neighbors_algorithm='auto',\n",
      "            random_state=None, reg=0.001, tol=1e-06)\n",
      "2\n",
      "Best score: 0.666666666667\n",
      "Std: 0.0898933149951\n",
      "Number of neighbours: 54\n",
      "Dimentioanlity reduction: LinearDiscriminantAnalysis(n_components=1, priors=None, shrinkage=None,\n",
      "              solver='svd', store_covariance=False, tol=0.0001)\n",
      "3\n",
      "Best score: 0.626262626263\n",
      "Std: 0.11530204586\n",
      "Number of neighbours: 34\n",
      "Dimentioanlity reduction: PCA(copy=True, iterated_power='auto', n_components=3, random_state=None,\n",
      "  svd_solver='auto', tol=0.0, whiten=False)\n",
      "4\n",
      "Best score: 0.666666666667\n",
      "Std: 0.155699788832\n",
      "Number of neighbours: 30\n",
      "Dimentioanlity reduction: LinearDiscriminantAnalysis(n_components=1, priors=None, shrinkage=None,\n",
      "              solver='svd', store_covariance=False, tol=0.0001)\n"
     ]
    },
    {
     "data": {
      "image/png": "[encoded data removed]",
      "text/plain": [
       "<matplotlib.figure.Figure at 0x18fe1730a20>"
      ]
     },
     "metadata": {},
     "output_type": "display_data"
    },
    {
     "data": {
      "image/png": "[encoded data removed]",
      "text/plain": [
       "<matplotlib.figure.Figure at 0x18fe16f5cf8>"
      ]
     },
     "metadata": {},
     "output_type": "display_data"
    },
    {
     "data": {
      "image/png": "[encoded data removed]",
      "text/plain": [
       "<matplotlib.figure.Figure at 0x18fe0fffc50>"
      ]
     },
     "metadata": {},
     "output_type": "display_data"
    },
    {
     "data": {
      "image/png": "[encoded data removed]",
      "text/plain": [
       "<matplotlib.figure.Figure at 0x18fe4a54550>"
      ]
     },
     "metadata": {},
     "output_type": "display_data"
    },
    {
     "data": {
      "image/png": "[encoded data removed]",
      "text/plain": [
       "<matplotlib.figure.Figure at 0x18fe17b07b8>"
      ]
     },
     "metadata": {},
     "output_type": "display_data"
    }
   ],
   "source": [
    "for i in range(len(data)):\n",
    "    print(i)\n",
    "    plot_comparing_feature_reduction(data[i], data_names[i], target_epilepsion)"
   ]
  },
  {
   "cell_type": "code",
   "execution_count": 100,
   "metadata": {
    "scrolled": false
   },
   "outputs": [
    {
     "data": {
      "image/png": "[encoded data removed]",
      "text/plain": [
       "<matplotlib.figure.Figure at 0x128c1e7f0>"
      ]
     },
     "metadata": {},
     "output_type": "display_data"
    },
    {
     "data": {
      "image/png": "[encoded data removed]",
      "text/plain": [
       "<matplotlib.figure.Figure at 0x124176358>"
      ]
     },
     "metadata": {},
     "output_type": "display_data"
    },
    {
     "data": {
      "image/png": "[encoded data removed]",
      "text/plain": [
       "<matplotlib.figure.Figure at 0x11e86e550>"
      ]
     },
     "metadata": {},
     "output_type": "display_data"
    },
    {
     "data": {
      "image/png": "[encoded data removed]",
      "text/plain": [
       "<matplotlib.figure.Figure at 0x125adff28>"
      ]
     },
     "metadata": {},
     "output_type": "display_data"
    },
    {
     "data": {
      "image/png": "[encoded data removed]",
      "text/plain": [
       "<matplotlib.figure.Figure at 0x12413a320>"
      ]
     },
     "metadata": {},
     "output_type": "display_data"
    }
   ],
   "source": [
    "for i, d in enumerate(data):\n",
    "    accuracy = calc_accuracy_for_data(d, methods, names_methods, n_comp_grid, target_epilepsion)\n",
    "    \n",
    "    plot_accuracy(accuracy, data_names[i] + \" comparing feature reduction methods\", names_methods, n_comp_grid)"
   ]
  },
  {
   "cell_type": "markdown",
   "metadata": {},
   "source": [
    "Видим, что удалось улучшить качество.\n",
    "\n",
    "Но оно все еще остается на довольно низком уровне."
   ]
  },
  {
   "cell_type": "code",
   "execution_count": null,
   "metadata": {
    "collapsed": true
   },
   "outputs": [],
   "source": []
  }
 ],
 "metadata": {
  "kernelspec": {
   "display_name": "Python 3",
   "language": "python",
   "name": "python3"
  },
  "language_info": {
   "codemirror_mode": {
    "name": "ipython",
    "version": 3
   },
   "file_extension": ".py",
   "mimetype": "text/x-python",
   "name": "python",
   "nbconvert_exporter": "python",
   "pygments_lexer": "ipython3",
   "version": "3.6.4"
  }
 },
 "nbformat": 4,
 "nbformat_minor": 2
}
